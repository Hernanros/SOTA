{
  "nbformat": 4,
  "nbformat_minor": 0,
  "metadata": {
    "colab": {
      "name": "SOTA group meetings.ipynb",
      "provenance": [],
      "collapsed_sections": []
    },
    "kernelspec": {
      "name": "python3",
      "display_name": "Python 3"
    }
  },
  "cells": [
    {
      "cell_type": "markdown",
      "metadata": {
        "id": "X-VqT9cmtDt0",
        "colab_type": "text"
      },
      "source": [
        "# NLP group meeting 07.06.2020\n",
        "Hernan, Shaul, Lee, Adam, Hezi\n",
        "\n",
        "### exploring non linearities between different components of the term semantics\n",
        "  - Theoretical frame work:\n",
        "  trying to break down the term semantics to sub-components based on existing research\n",
        "  - learning non-linear relations \n",
        "\n",
        "1. get different similarities scores between the sentences in the datasets\n",
        "2. try to use NN's with the different similarities scores as features and the Human similarities scores as labels\n",
        "3. exploring linguistic research to break down Sematics into different sub-terms \n",
        "\n",
        "**Notes**\n",
        "- should we take all simlaritiy metrics?\n",
        "- We're all starting with the same dataset: paraphrase.csv"
      ]
    },
    {
      "cell_type": "markdown",
      "metadata": {
        "id": "6L7aGzd1v9IC",
        "colab_type": "text"
      },
      "source": [
        "# Work division\n",
        "## Similarities calculation\n",
        "- implementation pipeline for each similarity metric might be a bit complicated\n",
        "we will want to split the coding implemintation to groups based on the mutual feature of each metric: <br>\n",
        " - group 1 (embedding based similarity scores):<br>\n",
        "POS distance (Lee), cosine similarities(Glove, fast-text) (Hezi) , L2 (elmo based)(Adam), WMD (Hernanm), BERT(Shaul)\n",
        "\n",
        " - group 2 (n-gram based scores):<br>\n",
        "word-overlap (Hernan), chr-f(Shaul), BLEU(Hezi), ROUGE(Lee) \n",
        "\n",
        "## Tehoretical background research\n",
        "\n",
        "## NN Implemintation"
      ]
    },
    {
      "cell_type": "markdown",
      "metadata": {
        "id": "3DeJOnFctDv9",
        "colab_type": "text"
      },
      "source": [
        "# Useful links\n",
        "https://pypi.org/project/bert-score/\n"
      ]
    },
    {
      "cell_type": "markdown",
      "metadata": {
        "id": "VvXoQsiZtDyn",
        "colab_type": "text"
      },
      "source": [
        ""
      ]
    }
  ]
}