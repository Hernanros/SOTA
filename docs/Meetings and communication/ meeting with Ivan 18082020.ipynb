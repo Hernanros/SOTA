{
  "nbformat": 4,
  "nbformat_minor": 0,
  "metadata": {
    "colab": {
      "name": "Untitled27.ipynb",
      "provenance": [],
      "authorship_tag": "ABX9TyPu/tTWVUQUCItfTxISuDHD",
      "include_colab_link": true
    },
    "kernelspec": {
      "name": "python3",
      "display_name": "Python 3"
    }
  },
  "cells": [
    {
      "cell_type": "markdown",
      "metadata": {
        "id": "view-in-github",
        "colab_type": "text"
      },
      "source": [
        "<a href=\"https://colab.research.google.com/github/Hernanros/SOTA/blob/master/docs/Meetings%20and%20communication/%20meeting%20with%20Ivan%2018082020.ipynb\" target=\"_parent\"><img src=\"https://colab.research.google.com/assets/colab-badge.svg\" alt=\"Open In Colab\"/></a>"
      ]
    },
    {
      "cell_type": "markdown",
      "metadata": {
        "id": "MykvfxUCjh3R",
        "colab_type": "text"
      },
      "source": [
        "## Meeting with Ivan 18.08.2020\n",
        "\n",
        "\n",
        "option 1:<br>\n",
        "adding our work to another paper that is currently an autherization process\n",
        "\n",
        "option 2: <br>\n",
        "Working on an original papers\n",
        "\n",
        "## Semantic Similarity\n",
        "\n",
        "### Where do you think the potential for our work?\n",
        "1. aspect 1: different sentences get different sematic similarity score based on the proporties of the text\n",
        "2. aspect 2: different people make different estimates of similarity\n",
        "\n",
        "### data collection\n",
        "- controlling for the ID of the raters to get a normalized similarity scores\n",
        "\n",
        "### Ideas to explore (Ivan):\n",
        "upload data with Id so we can control for individual users\n",
        "- use negative examples to create a user segmentation based on a base-dissimilarity \n",
        "- look into varience of human ratings on given phrases\n",
        "- length of the sentence\n",
        "\n",
        "- Purpose our similarity metric and evaluate on existing metrics\n",
        "\n",
        "\n",
        "### Next steps:\n",
        "1. use the existing metric we developed on an unseen data to try predict human labels. according to these results \n",
        "\n",
        "2. normalize human labels according to negative pairs (random sentences) as a baseline for sentences of un similar sentences.\n",
        "Also calculate normalized scores per labeler\n",
        "\n",
        "3. cluster labelers based on scoring patterns in the negative samples\n",
        "\n",
        "4. measure sub-components of similarity (will involve collection of new data) and check the correlations of different metrics with those scores."
      ]
    },
    {
      "cell_type": "markdown",
      "metadata": {
        "id": "8DRj1c07vI9S",
        "colab_type": "text"
      },
      "source": [
        "# Missions\n",
        "- Re-read Ivan's paper that we based on (EVERYONE)\n",
        "- Explopre the new data (especially the labels and the difference between \"real\" and \"negative\" pairs (Hernan & ....)\n",
        "- Run the existing MLP Model on the ppq data set (Shaul)\n",
        "- refactor the git (Hezi)\n",
        "- translate notebooks into py files for a project pipeline. (Hezi & Adam)\n"
      ]
    },
    {
      "cell_type": "markdown",
      "metadata": {
        "id": "F4O6M8hqmbs2",
        "colab_type": "text"
      },
      "source": [
        "# Meeting with Ivan 25/08/2020\n",
        "\n",
        "## EDA\n",
        "To check:\n",
        "- correlation between the length of the sentences and the duration of the task\n",
        "- the relation between the tendency of labelers to label more extremly on both dataset (as labelers give lower rating on the random pairs, they should trend to 5 on non-random pairs)\n",
        "- explore the user ratings values\n",
        "- filter out labelers with higher mean than 2 on random pairs\n",
        "- calculate the correlation between the scores and labels on the filtered data\n",
        "\n",
        "\n",
        "### For next week:\n",
        "- baseline on length and difference between random and non-random\n",
        "- exploration of the difference between extremety of labelers\n",
        "- one click pipeline automation\n",
        "- list of hypothesis that we want to check wrt the dataset.\n",
        "\n",
        "## Dates and Deadlines:\n",
        "- 28.09.2020 - deadline for submission for [ICLR](https://www.iclr.cc/Conferences/2021/Dates)\n",
        "until the 20.09 we need to decide if we are planning to publish on ICLR and calculate our next steps."
      ]
    },
    {
      "cell_type": "code",
      "metadata": {
        "id": "2Ohnus1zs8PR",
        "colab_type": "code",
        "colab": {}
      },
      "source": [
        ""
      ],
      "execution_count": null,
      "outputs": []
    }
  ]
}