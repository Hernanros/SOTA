{
 "cells": [
  {
   "cell_type": "markdown",
   "metadata": {},
   "source": [
    "# BERT SCORE\n",
    "\n",
    "BERTSCORE computes the similarity\n",
    "of two sentences as a sum of cosine similarities between their tokens’ embeddings.\n",
    "\n",
    "https://arxiv.org/pdf/1904.09675.pdf\n",
    "\n",
    "Given a reference sentence x = <x1, . . . , xk> and a candidate sentence xˆ = <xˆ1, . . . , xˆl>, we use\n",
    "contextual embeddings to represent the tokens, and compute matching using cosine similarity, optionally \n",
    "weighted with inverse document frequency scores. \n",
    "\n",
    "The complete score matches each token in x to a token in xˆ to compute recall,\n",
    "and each token in xˆ to a token in x to compute precision. We use greedy matching to maximize\n",
    "the matching similarity score,2 where each token is matched to the most similar token in the other\n",
    "sentence"
   ]
  },
  {
   "cell_type": "code",
   "execution_count": 1,
   "metadata": {},
   "outputs": [
    {
     "name": "stdout",
     "output_type": "stream",
     "text": [
      "Collecting bert_score==0.2.2\n",
      "  Downloading bert_score-0.2.2-py3-none-any.whl (14 kB)\n",
      "Requirement already satisfied: numpy in ./anaconda3/lib/python3.7/site-packages (from bert_score==0.2.2) (1.18.1)\n",
      "Collecting transformers>=2.2.0\n",
      "  Downloading transformers-2.11.0-py3-none-any.whl (674 kB)\n",
      "\u001b[K     |████████████████████████████████| 674 kB 19.1 MB/s eta 0:00:01\n",
      "\u001b[?25hRequirement already satisfied: tqdm>=4.31.1 in ./anaconda3/lib/python3.7/site-packages (from bert_score==0.2.2) (4.44.1)\n",
      "Collecting torch>=1.0.0\n",
      "  Downloading torch-1.5.0-cp37-cp37m-manylinux1_x86_64.whl (752.0 MB)\n",
      "\u001b[K     |████████████████████████████████| 752.0 MB 3.8 kB/s s eta 0:00:01\n",
      "\u001b[?25hRequirement already satisfied: matplotlib in ./anaconda3/lib/python3.7/site-packages (from bert_score==0.2.2) (3.1.3)\n",
      "Requirement already satisfied: requests in ./anaconda3/lib/python3.7/site-packages (from bert_score==0.2.2) (2.23.0)\n",
      "Collecting regex!=2019.12.17\n",
      "  Downloading regex-2020.6.8-cp37-cp37m-manylinux2010_x86_64.whl (661 kB)\n",
      "\u001b[K     |████████████████████████████████| 661 kB 102.2 MB/s eta 0:00:01\n",
      "\u001b[?25hCollecting tokenizers==0.7.0\n",
      "  Downloading tokenizers-0.7.0-cp37-cp37m-manylinux1_x86_64.whl (5.6 MB)\n",
      "\u001b[K     |████████████████████████████████| 5.6 MB 105.5 MB/s eta 0:00:01\n",
      "\u001b[?25hCollecting sentencepiece\n",
      "  Downloading sentencepiece-0.1.91-cp37-cp37m-manylinux1_x86_64.whl (1.1 MB)\n",
      "\u001b[K     |████████████████████████████████| 1.1 MB 109.4 MB/s eta 0:00:01\n",
      "\u001b[?25hCollecting sacremoses\n",
      "  Downloading sacremoses-0.0.43.tar.gz (883 kB)\n",
      "\u001b[K     |████████████████████████████████| 883 kB 111.6 MB/s eta 0:00:01\n",
      "\u001b[?25hRequirement already satisfied: packaging in ./anaconda3/lib/python3.7/site-packages (from transformers>=2.2.0->bert_score==0.2.2) (20.3)\n",
      "Requirement already satisfied: filelock in ./anaconda3/lib/python3.7/site-packages (from transformers>=2.2.0->bert_score==0.2.2) (3.0.12)\n",
      "Requirement already satisfied: future in ./anaconda3/lib/python3.7/site-packages (from torch>=1.0.0->bert_score==0.2.2) (0.18.2)\n",
      "Requirement already satisfied: cycler>=0.10 in ./anaconda3/lib/python3.7/site-packages (from matplotlib->bert_score==0.2.2) (0.10.0)\n",
      "Requirement already satisfied: kiwisolver>=1.0.1 in ./anaconda3/lib/python3.7/site-packages (from matplotlib->bert_score==0.2.2) (1.1.0)\n",
      "Requirement already satisfied: python-dateutil>=2.1 in ./anaconda3/lib/python3.7/site-packages (from matplotlib->bert_score==0.2.2) (2.8.1)\n",
      "Requirement already satisfied: pyparsing!=2.0.4,!=2.1.2,!=2.1.6,>=2.0.1 in ./anaconda3/lib/python3.7/site-packages (from matplotlib->bert_score==0.2.2) (2.4.6)\n",
      "Requirement already satisfied: certifi>=2017.4.17 in ./anaconda3/lib/python3.7/site-packages (from requests->bert_score==0.2.2) (2020.4.5.1)\n",
      "Requirement already satisfied: idna<3,>=2.5 in ./anaconda3/lib/python3.7/site-packages (from requests->bert_score==0.2.2) (2.9)\n",
      "Requirement already satisfied: urllib3!=1.25.0,!=1.25.1,<1.26,>=1.21.1 in ./anaconda3/lib/python3.7/site-packages (from requests->bert_score==0.2.2) (1.25.8)\n",
      "Requirement already satisfied: chardet<4,>=3.0.2 in ./anaconda3/lib/python3.7/site-packages (from requests->bert_score==0.2.2) (3.0.4)\n",
      "Requirement already satisfied: six in ./anaconda3/lib/python3.7/site-packages (from sacremoses->transformers>=2.2.0->bert_score==0.2.2) (1.14.0)\n",
      "Requirement already satisfied: click in ./anaconda3/lib/python3.7/site-packages (from sacremoses->transformers>=2.2.0->bert_score==0.2.2) (7.1.1)\n",
      "Requirement already satisfied: joblib in ./anaconda3/lib/python3.7/site-packages (from sacremoses->transformers>=2.2.0->bert_score==0.2.2) (0.14.1)\n",
      "Requirement already satisfied: setuptools in ./anaconda3/lib/python3.7/site-packages (from kiwisolver>=1.0.1->matplotlib->bert_score==0.2.2) (46.1.3.post20200330)\n",
      "Building wheels for collected packages: sacremoses\n",
      "  Building wheel for sacremoses (setup.py) ... \u001b[?25ldone\n",
      "\u001b[?25h  Created wheel for sacremoses: filename=sacremoses-0.0.43-py3-none-any.whl size=893259 sha256=a73df23421127ac0f837ff7402a2edcaab80af2e0a9085e890312adefe2bfdd6\n",
      "  Stored in directory: /home/ubuntu/.cache/pip/wheels/69/09/d1/bf058f7d6fa0ecba2ce7c66be3b8d012beb4bf61a6e0c101c0\n",
      "Successfully built sacremoses\n",
      "Installing collected packages: regex, tokenizers, sentencepiece, sacremoses, transformers, torch, bert-score\n",
      "Successfully installed bert-score-0.2.2 regex-2020.6.8 sacremoses-0.0.43 sentencepiece-0.1.91 tokenizers-0.7.0 torch-1.5.0 transformers-2.11.0\n",
      "Requirement already satisfied: torch in ./anaconda3/lib/python3.7/site-packages (1.5.0)\n",
      "Requirement already satisfied: future in ./anaconda3/lib/python3.7/site-packages (from torch) (0.18.2)\n",
      "Requirement already satisfied: numpy in ./anaconda3/lib/python3.7/site-packages (from torch) (1.18.1)\n"
     ]
    }
   ],
   "source": [
    "!pip install bert_score==0.2.2\n",
    "!pip install torch"
   ]
  },
  {
   "cell_type": "code",
   "execution_count": 2,
   "metadata": {},
   "outputs": [
    {
     "name": "stdout",
     "output_type": "stream",
     "text": [
      "Collecting git+https://github.com/Tiiiger/bert_score\n",
      "  Cloning https://github.com/Tiiiger/bert_score to /tmp/pip-req-build-o5wpazio\n",
      "  Running command git clone -q https://github.com/Tiiiger/bert_score /tmp/pip-req-build-o5wpazio\n",
      "Requirement already satisfied: torch>=1.0.0 in ./anaconda3/lib/python3.7/site-packages (from bert-score==0.3.3) (1.5.0)\n",
      "Requirement already satisfied: numpy in ./anaconda3/lib/python3.7/site-packages (from bert-score==0.3.3) (1.18.1)\n",
      "Requirement already satisfied: pandas>=1.0.1 in ./anaconda3/lib/python3.7/site-packages (from bert-score==0.3.3) (1.0.3)\n",
      "Requirement already satisfied: requests in ./anaconda3/lib/python3.7/site-packages (from bert-score==0.3.3) (2.23.0)\n",
      "Requirement already satisfied: tqdm>=4.31.1 in ./anaconda3/lib/python3.7/site-packages (from bert-score==0.3.3) (4.44.1)\n",
      "Requirement already satisfied: matplotlib in ./anaconda3/lib/python3.7/site-packages (from bert-score==0.3.3) (3.1.3)\n",
      "Requirement already satisfied: transformers>=2.2.0 in ./anaconda3/lib/python3.7/site-packages (from bert-score==0.3.3) (2.11.0)\n",
      "Requirement already satisfied: future in ./anaconda3/lib/python3.7/site-packages (from torch>=1.0.0->bert-score==0.3.3) (0.18.2)\n",
      "Requirement already satisfied: python-dateutil>=2.6.1 in ./anaconda3/lib/python3.7/site-packages (from pandas>=1.0.1->bert-score==0.3.3) (2.8.1)\n",
      "Requirement already satisfied: pytz>=2017.2 in ./anaconda3/lib/python3.7/site-packages (from pandas>=1.0.1->bert-score==0.3.3) (2019.3)\n",
      "Requirement already satisfied: idna<3,>=2.5 in ./anaconda3/lib/python3.7/site-packages (from requests->bert-score==0.3.3) (2.9)\n",
      "Requirement already satisfied: chardet<4,>=3.0.2 in ./anaconda3/lib/python3.7/site-packages (from requests->bert-score==0.3.3) (3.0.4)\n",
      "Requirement already satisfied: certifi>=2017.4.17 in ./anaconda3/lib/python3.7/site-packages (from requests->bert-score==0.3.3) (2020.4.5.1)\n",
      "Requirement already satisfied: urllib3!=1.25.0,!=1.25.1,<1.26,>=1.21.1 in ./anaconda3/lib/python3.7/site-packages (from requests->bert-score==0.3.3) (1.25.8)\n",
      "Requirement already satisfied: pyparsing!=2.0.4,!=2.1.2,!=2.1.6,>=2.0.1 in ./anaconda3/lib/python3.7/site-packages (from matplotlib->bert-score==0.3.3) (2.4.6)\n",
      "Requirement already satisfied: kiwisolver>=1.0.1 in ./anaconda3/lib/python3.7/site-packages (from matplotlib->bert-score==0.3.3) (1.1.0)\n",
      "Requirement already satisfied: cycler>=0.10 in ./anaconda3/lib/python3.7/site-packages (from matplotlib->bert-score==0.3.3) (0.10.0)\n",
      "Requirement already satisfied: sacremoses in ./anaconda3/lib/python3.7/site-packages (from transformers>=2.2.0->bert-score==0.3.3) (0.0.43)\n",
      "Requirement already satisfied: packaging in ./anaconda3/lib/python3.7/site-packages (from transformers>=2.2.0->bert-score==0.3.3) (20.3)\n",
      "Requirement already satisfied: filelock in ./anaconda3/lib/python3.7/site-packages (from transformers>=2.2.0->bert-score==0.3.3) (3.0.12)\n",
      "Requirement already satisfied: sentencepiece in ./anaconda3/lib/python3.7/site-packages (from transformers>=2.2.0->bert-score==0.3.3) (0.1.91)\n",
      "Requirement already satisfied: tokenizers==0.7.0 in ./anaconda3/lib/python3.7/site-packages (from transformers>=2.2.0->bert-score==0.3.3) (0.7.0)\n",
      "Requirement already satisfied: regex!=2019.12.17 in ./anaconda3/lib/python3.7/site-packages (from transformers>=2.2.0->bert-score==0.3.3) (2020.6.8)\n",
      "Requirement already satisfied: six>=1.5 in ./anaconda3/lib/python3.7/site-packages (from python-dateutil>=2.6.1->pandas>=1.0.1->bert-score==0.3.3) (1.14.0)\n",
      "Requirement already satisfied: setuptools in ./anaconda3/lib/python3.7/site-packages (from kiwisolver>=1.0.1->matplotlib->bert-score==0.3.3) (46.1.3.post20200330)\n",
      "Requirement already satisfied: click in ./anaconda3/lib/python3.7/site-packages (from sacremoses->transformers>=2.2.0->bert-score==0.3.3) (7.1.1)\n",
      "Requirement already satisfied: joblib in ./anaconda3/lib/python3.7/site-packages (from sacremoses->transformers>=2.2.0->bert-score==0.3.3) (0.14.1)\n",
      "Building wheels for collected packages: bert-score\n",
      "  Building wheel for bert-score (setup.py) ... \u001b[?25ldone\n",
      "\u001b[?25h  Created wheel for bert-score: filename=bert_score-0.3.3-py3-none-any.whl size=52503 sha256=1d02ac4291724e13064e89ef3113118cce5b6b3bb2e0580bb100f2e9a3a86b52\n",
      "  Stored in directory: /tmp/pip-ephem-wheel-cache-k0vv27gg/wheels/14/b1/f2/908224271508d2ab483b7537445f2b05e7076c144fc25e0fb1\n",
      "Successfully built bert-score\n",
      "Installing collected packages: bert-score\n",
      "  Attempting uninstall: bert-score\n",
      "    Found existing installation: bert-score 0.2.2\n",
      "    Uninstalling bert-score-0.2.2:\n",
      "      Successfully uninstalled bert-score-0.2.2\n",
      "Successfully installed bert-score-0.3.3\n",
      "Cloning into 'bert_score'...\n",
      "remote: Enumerating objects: 164, done.\u001b[K\n",
      "remote: Counting objects: 100% (164/164), done.\u001b[K\n",
      "remote: Compressing objects: 100% (125/125), done.\u001b[K\n",
      "remote: Total 628 (delta 87), reused 92 (delta 38), pack-reused 464\u001b[K\n",
      "Receiving objects: 100% (628/628), 1.45 MiB | 41.11 MiB/s, done.\n",
      "Resolving deltas: 100% (295/295), done.\n",
      "/home/ubuntu/bert_score\n",
      "Processing /home/ubuntu/bert_score\n",
      "Requirement already satisfied: torch>=1.0.0 in /home/ubuntu/anaconda3/lib/python3.7/site-packages (from bert-score==0.3.3) (1.5.0)\n",
      "Requirement already satisfied: numpy in /home/ubuntu/anaconda3/lib/python3.7/site-packages (from bert-score==0.3.3) (1.18.1)\n",
      "Requirement already satisfied: pandas>=1.0.1 in /home/ubuntu/anaconda3/lib/python3.7/site-packages (from bert-score==0.3.3) (1.0.3)\n",
      "Requirement already satisfied: requests in /home/ubuntu/anaconda3/lib/python3.7/site-packages (from bert-score==0.3.3) (2.23.0)\n",
      "Requirement already satisfied: tqdm>=4.31.1 in /home/ubuntu/anaconda3/lib/python3.7/site-packages (from bert-score==0.3.3) (4.44.1)\n",
      "Requirement already satisfied: matplotlib in /home/ubuntu/anaconda3/lib/python3.7/site-packages (from bert-score==0.3.3) (3.1.3)\n",
      "Requirement already satisfied: transformers>=2.2.0 in /home/ubuntu/anaconda3/lib/python3.7/site-packages (from bert-score==0.3.3) (2.11.0)\n",
      "Requirement already satisfied: future in /home/ubuntu/anaconda3/lib/python3.7/site-packages (from torch>=1.0.0->bert-score==0.3.3) (0.18.2)\n",
      "Requirement already satisfied: python-dateutil>=2.6.1 in /home/ubuntu/anaconda3/lib/python3.7/site-packages (from pandas>=1.0.1->bert-score==0.3.3) (2.8.1)\n",
      "Requirement already satisfied: pytz>=2017.2 in /home/ubuntu/anaconda3/lib/python3.7/site-packages (from pandas>=1.0.1->bert-score==0.3.3) (2019.3)\n",
      "Requirement already satisfied: chardet<4,>=3.0.2 in /home/ubuntu/anaconda3/lib/python3.7/site-packages (from requests->bert-score==0.3.3) (3.0.4)\n",
      "Requirement already satisfied: urllib3!=1.25.0,!=1.25.1,<1.26,>=1.21.1 in /home/ubuntu/anaconda3/lib/python3.7/site-packages (from requests->bert-score==0.3.3) (1.25.8)\n",
      "Requirement already satisfied: idna<3,>=2.5 in /home/ubuntu/anaconda3/lib/python3.7/site-packages (from requests->bert-score==0.3.3) (2.9)\n",
      "Requirement already satisfied: certifi>=2017.4.17 in /home/ubuntu/anaconda3/lib/python3.7/site-packages (from requests->bert-score==0.3.3) (2020.4.5.1)\n",
      "Requirement already satisfied: pyparsing!=2.0.4,!=2.1.2,!=2.1.6,>=2.0.1 in /home/ubuntu/anaconda3/lib/python3.7/site-packages (from matplotlib->bert-score==0.3.3) (2.4.6)\n",
      "Requirement already satisfied: kiwisolver>=1.0.1 in /home/ubuntu/anaconda3/lib/python3.7/site-packages (from matplotlib->bert-score==0.3.3) (1.1.0)\n",
      "Requirement already satisfied: cycler>=0.10 in /home/ubuntu/anaconda3/lib/python3.7/site-packages (from matplotlib->bert-score==0.3.3) (0.10.0)\n",
      "Requirement already satisfied: sentencepiece in /home/ubuntu/anaconda3/lib/python3.7/site-packages (from transformers>=2.2.0->bert-score==0.3.3) (0.1.91)\n",
      "Requirement already satisfied: sacremoses in /home/ubuntu/anaconda3/lib/python3.7/site-packages (from transformers>=2.2.0->bert-score==0.3.3) (0.0.43)\n",
      "Requirement already satisfied: tokenizers==0.7.0 in /home/ubuntu/anaconda3/lib/python3.7/site-packages (from transformers>=2.2.0->bert-score==0.3.3) (0.7.0)\n",
      "Requirement already satisfied: packaging in /home/ubuntu/anaconda3/lib/python3.7/site-packages (from transformers>=2.2.0->bert-score==0.3.3) (20.3)\n",
      "Requirement already satisfied: regex!=2019.12.17 in /home/ubuntu/anaconda3/lib/python3.7/site-packages (from transformers>=2.2.0->bert-score==0.3.3) (2020.6.8)\n",
      "Requirement already satisfied: filelock in /home/ubuntu/anaconda3/lib/python3.7/site-packages (from transformers>=2.2.0->bert-score==0.3.3) (3.0.12)\n",
      "Requirement already satisfied: six>=1.5 in /home/ubuntu/anaconda3/lib/python3.7/site-packages (from python-dateutil>=2.6.1->pandas>=1.0.1->bert-score==0.3.3) (1.14.0)\n",
      "Requirement already satisfied: setuptools in /home/ubuntu/anaconda3/lib/python3.7/site-packages (from kiwisolver>=1.0.1->matplotlib->bert-score==0.3.3) (46.1.3.post20200330)\n",
      "Requirement already satisfied: click in /home/ubuntu/anaconda3/lib/python3.7/site-packages (from sacremoses->transformers>=2.2.0->bert-score==0.3.3) (7.1.1)\n",
      "Requirement already satisfied: joblib in /home/ubuntu/anaconda3/lib/python3.7/site-packages (from sacremoses->transformers>=2.2.0->bert-score==0.3.3) (0.14.1)\n",
      "Building wheels for collected packages: bert-score\n",
      "  Building wheel for bert-score (setup.py) ... \u001b[?25ldone\n",
      "\u001b[?25h  Created wheel for bert-score: filename=bert_score-0.3.3-py3-none-any.whl size=52503 sha256=c8faf0bf64687aca86f882caa8932b05dfd4041970debfc3b3dba0f88f6dcc5b\n",
      "  Stored in directory: /tmp/pip-ephem-wheel-cache-x1afaa1m/wheels/45/97/f0/f2b33f6356250d9fb1c05e506ba6d2aadd9348c768f8fe684c\n",
      "Successfully built bert-score\n",
      "Installing collected packages: bert-score\n",
      "  Attempting uninstall: bert-score\n",
      "    Found existing installation: bert-score 0.3.3\n",
      "    Uninstalling bert-score-0.3.3:\n",
      "      Successfully uninstalled bert-score-0.3.3\n",
      "Successfully installed bert-score-0.3.3\n"
     ]
    }
   ],
   "source": [
    "!pip install git+https://github.com/Tiiiger/bert_score\n",
    "!git clone https://github.com/Tiiiger/bert_score\n",
    "%cd bert_score\n",
    "!pip install ."
   ]
  },
  {
   "cell_type": "code",
   "execution_count": 3,
   "metadata": {},
   "outputs": [
    {
     "name": "stdout",
     "output_type": "stream",
     "text": [
      "Downloading: 100%|██████████████████████████████| 482/482 [00:00<00:00, 756kB/s]\n",
      "Downloading: 100%|███████████████████████████| 899k/899k [00:00<00:00, 53.6MB/s]\n",
      "Downloading: 100%|███████████████████████████| 456k/456k [00:00<00:00, 25.3MB/s]\n",
      "Downloading: 100%|█████████████████████████| 1.43G/1.43G [00:20<00:00, 70.7MB/s]\n",
      "...Warning: Empty candidate sentence; Setting recall to be 0.\n",
      "Warning: Empty candidate sentence; Setting precision to be 0.\n",
      "......Warning: Empty candidate sentence; Setting precision to be 0.\n",
      "Warning: Empty candidate sentence; Setting recall to be 0.\n",
      "...\n",
      "----------------------------------------------------------------------\n",
      "Ran 12 tests in 159.204s\n",
      "\n",
      "OK\n"
     ]
    }
   ],
   "source": [
    "!python -m unittest discover"
   ]
  },
  {
   "cell_type": "code",
   "execution_count": 4,
   "metadata": {},
   "outputs": [],
   "source": [
    "import pandas as pd\n",
    "import numpy as np\n",
    "from bert_score import score"
   ]
  },
  {
   "cell_type": "code",
   "execution_count": 5,
   "metadata": {},
   "outputs": [
    {
     "name": "stdout",
     "output_type": "stream",
     "text": [
      "--2020-06-09 12:32:12--  https://sota-ydata.s3.amazonaws.com/Paraphrase.csv\n",
      "Resolving sota-ydata.s3.amazonaws.com (sota-ydata.s3.amazonaws.com)... 52.216.98.179\n",
      "Connecting to sota-ydata.s3.amazonaws.com (sota-ydata.s3.amazonaws.com)|52.216.98.179|:443... connected.\n",
      "HTTP request sent, awaiting response... 200 OK\n",
      "Length: 44220 (43K) [text/csv]\n",
      "Saving to: ‘Paraphrase.csv’\n",
      "\n",
      "Paraphrase.csv      100%[===================>]  43.18K  --.-KB/s    in 0.001s  \n",
      "\n",
      "2020-06-09 12:32:12 (38.2 MB/s) - ‘Paraphrase.csv’ saved [44220/44220]\n",
      "\n"
     ]
    }
   ],
   "source": [
    "!wget https://sota-ydata.s3.amazonaws.com/Paraphrase.csv"
   ]
  },
  {
   "cell_type": "code",
   "execution_count": 6,
   "metadata": {},
   "outputs": [],
   "source": [
    "df = pd.read_csv(\"Paraphrase.csv\")"
   ]
  },
  {
   "cell_type": "code",
   "execution_count": 7,
   "metadata": {},
   "outputs": [
    {
     "data": {
      "text/plain": [
       "['take additional measures to']"
      ]
     },
     "execution_count": 7,
     "metadata": {},
     "output_type": "execute_result"
    }
   ],
   "source": [
    "[df['text_2'][0]]"
   ]
  },
  {
   "cell_type": "code",
   "execution_count": 8,
   "metadata": {},
   "outputs": [
    {
     "name": "stdout",
     "output_type": "stream",
     "text": [
      "calculating scores...\n",
      "computing bert embedding.\n"
     ]
    },
    {
     "data": {
      "application/vnd.jupyter.widget-view+json": {
       "model_id": "eeb290b6975b4e5d8cde4bb7ff85aa58",
       "version_major": 2,
       "version_minor": 0
      },
      "text/plain": [
       "HBox(children=(FloatProgress(value=0.0, max=1.0), HTML(value='')))"
      ]
     },
     "metadata": {},
     "output_type": "display_data"
    },
    {
     "name": "stdout",
     "output_type": "stream",
     "text": [
      "\n",
      "computing greedy matching.\n"
     ]
    },
    {
     "data": {
      "application/vnd.jupyter.widget-view+json": {
       "model_id": "180da30ad81543eca6509d95e617e7c5",
       "version_major": 2,
       "version_minor": 0
      },
      "text/plain": [
       "HBox(children=(FloatProgress(value=0.0, max=1.0), HTML(value='')))"
      ]
     },
     "metadata": {},
     "output_type": "display_data"
    },
    {
     "name": "stdout",
     "output_type": "stream",
     "text": [
      "\n",
      "done in 0.07 seconds, 14.72 sentences/sec\n",
      "calculating scores...\n",
      "computing bert embedding.\n"
     ]
    },
    {
     "data": {
      "application/vnd.jupyter.widget-view+json": {
       "model_id": "2722172b5cef46eba1c47b773cf68bd8",
       "version_major": 2,
       "version_minor": 0
      },
      "text/plain": [
       "HBox(children=(FloatProgress(value=0.0, max=1.0), HTML(value='')))"
      ]
     },
     "metadata": {},
     "output_type": "display_data"
    },
    {
     "name": "stdout",
     "output_type": "stream",
     "text": [
      "\n",
      "computing greedy matching.\n"
     ]
    },
    {
     "data": {
      "application/vnd.jupyter.widget-view+json": {
       "model_id": "969e090587d64608984cef6741876846",
       "version_major": 2,
       "version_minor": 0
      },
      "text/plain": [
       "HBox(children=(FloatProgress(value=0.0, max=1.0), HTML(value='')))"
      ]
     },
     "metadata": {},
     "output_type": "display_data"
    },
    {
     "name": "stdout",
     "output_type": "stream",
     "text": [
      "\n",
      "done in 0.07 seconds, 14.71 sentences/sec\n",
      "calculating scores...\n",
      "computing bert embedding.\n"
     ]
    },
    {
     "data": {
      "application/vnd.jupyter.widget-view+json": {
       "model_id": "7c41e332fe364e1c9e795c54b0b679bb",
       "version_major": 2,
       "version_minor": 0
      },
      "text/plain": [
       "HBox(children=(FloatProgress(value=0.0, max=1.0), HTML(value='')))"
      ]
     },
     "metadata": {},
     "output_type": "display_data"
    },
    {
     "name": "stdout",
     "output_type": "stream",
     "text": [
      "\n",
      "computing greedy matching.\n"
     ]
    },
    {
     "data": {
      "application/vnd.jupyter.widget-view+json": {
       "model_id": "25fd21a497d64bbb83347a1f2f1b346b",
       "version_major": 2,
       "version_minor": 0
      },
      "text/plain": [
       "HBox(children=(FloatProgress(value=0.0, max=1.0), HTML(value='')))"
      ]
     },
     "metadata": {},
     "output_type": "display_data"
    },
    {
     "name": "stdout",
     "output_type": "stream",
     "text": [
      "\n",
      "done in 0.07 seconds, 14.91 sentences/sec\n",
      "calculating scores...\n",
      "computing bert embedding.\n"
     ]
    },
    {
     "data": {
      "application/vnd.jupyter.widget-view+json": {
       "model_id": "c12617ead4204563a51a94ec94462423",
       "version_major": 2,
       "version_minor": 0
      },
      "text/plain": [
       "HBox(children=(FloatProgress(value=0.0, max=1.0), HTML(value='')))"
      ]
     },
     "metadata": {},
     "output_type": "display_data"
    },
    {
     "name": "stdout",
     "output_type": "stream",
     "text": [
      "\n",
      "computing greedy matching.\n"
     ]
    },
    {
     "data": {
      "application/vnd.jupyter.widget-view+json": {
       "model_id": "4a95ec55d387493cbf2e551e7e2ac8fd",
       "version_major": 2,
       "version_minor": 0
      },
      "text/plain": [
       "HBox(children=(FloatProgress(value=0.0, max=1.0), HTML(value='')))"
      ]
     },
     "metadata": {},
     "output_type": "display_data"
    },
    {
     "name": "stdout",
     "output_type": "stream",
     "text": [
      "\n",
      "done in 0.07 seconds, 14.44 sentences/sec\n",
      "calculating scores...\n",
      "computing bert embedding.\n"
     ]
    },
    {
     "data": {
      "application/vnd.jupyter.widget-view+json": {
       "model_id": "393ded1a868c4278853fb1f1e423024f",
       "version_major": 2,
       "version_minor": 0
      },
      "text/plain": [
       "HBox(children=(FloatProgress(value=0.0, max=1.0), HTML(value='')))"
      ]
     },
     "metadata": {},
     "output_type": "display_data"
    },
    {
     "name": "stdout",
     "output_type": "stream",
     "text": [
      "\n",
      "computing greedy matching.\n"
     ]
    },
    {
     "data": {
      "application/vnd.jupyter.widget-view+json": {
       "model_id": "7a373c7b37014f3fb4593310e53302ea",
       "version_major": 2,
       "version_minor": 0
      },
      "text/plain": [
       "HBox(children=(FloatProgress(value=0.0, max=1.0), HTML(value='')))"
      ]
     },
     "metadata": {},
     "output_type": "display_data"
    },
    {
     "name": "stdout",
     "output_type": "stream",
     "text": [
      "\n",
      "done in 0.07 seconds, 13.99 sentences/sec\n",
      "calculating scores...\n",
      "computing bert embedding.\n"
     ]
    },
    {
     "data": {
      "application/vnd.jupyter.widget-view+json": {
       "model_id": "cc9286c718c34fab9bd14d5ec864df48",
       "version_major": 2,
       "version_minor": 0
      },
      "text/plain": [
       "HBox(children=(FloatProgress(value=0.0, max=1.0), HTML(value='')))"
      ]
     },
     "metadata": {},
     "output_type": "display_data"
    },
    {
     "name": "stdout",
     "output_type": "stream",
     "text": [
      "\n",
      "computing greedy matching.\n"
     ]
    },
    {
     "data": {
      "application/vnd.jupyter.widget-view+json": {
       "model_id": "88e8b2691a09468e8064633e5ffc713f",
       "version_major": 2,
       "version_minor": 0
      },
      "text/plain": [
       "HBox(children=(FloatProgress(value=0.0, max=1.0), HTML(value='')))"
      ]
     },
     "metadata": {},
     "output_type": "display_data"
    },
    {
     "name": "stdout",
     "output_type": "stream",
     "text": [
      "\n",
      "done in 0.07 seconds, 14.41 sentences/sec\n",
      "calculating scores...\n",
      "computing bert embedding.\n"
     ]
    },
    {
     "data": {
      "application/vnd.jupyter.widget-view+json": {
       "model_id": "92f6bd444861479084ed9635a41d4ce0",
       "version_major": 2,
       "version_minor": 0
      },
      "text/plain": [
       "HBox(children=(FloatProgress(value=0.0, max=1.0), HTML(value='')))"
      ]
     },
     "metadata": {},
     "output_type": "display_data"
    },
    {
     "name": "stdout",
     "output_type": "stream",
     "text": [
      "\n",
      "computing greedy matching.\n"
     ]
    },
    {
     "data": {
      "application/vnd.jupyter.widget-view+json": {
       "model_id": "df5d1cd7c2a5443390c2e4ce2f47827d",
       "version_major": 2,
       "version_minor": 0
      },
      "text/plain": [
       "HBox(children=(FloatProgress(value=0.0, max=1.0), HTML(value='')))"
      ]
     },
     "metadata": {},
     "output_type": "display_data"
    },
    {
     "name": "stdout",
     "output_type": "stream",
     "text": [
      "\n",
      "done in 0.07 seconds, 14.51 sentences/sec\n",
      "calculating scores...\n",
      "computing bert embedding.\n"
     ]
    },
    {
     "data": {
      "application/vnd.jupyter.widget-view+json": {
       "model_id": "0486d1ef153043e8a8c39baead0b6727",
       "version_major": 2,
       "version_minor": 0
      },
      "text/plain": [
       "HBox(children=(FloatProgress(value=0.0, max=1.0), HTML(value='')))"
      ]
     },
     "metadata": {},
     "output_type": "display_data"
    },
    {
     "name": "stdout",
     "output_type": "stream",
     "text": [
      "\n",
      "computing greedy matching.\n"
     ]
    },
    {
     "data": {
      "application/vnd.jupyter.widget-view+json": {
       "model_id": "c3dbff9a9c4b44aab91e7b837285adb6",
       "version_major": 2,
       "version_minor": 0
      },
      "text/plain": [
       "HBox(children=(FloatProgress(value=0.0, max=1.0), HTML(value='')))"
      ]
     },
     "metadata": {},
     "output_type": "display_data"
    },
    {
     "name": "stdout",
     "output_type": "stream",
     "text": [
      "\n",
      "done in 0.07 seconds, 14.46 sentences/sec\n",
      "calculating scores...\n",
      "computing bert embedding.\n"
     ]
    },
    {
     "data": {
      "application/vnd.jupyter.widget-view+json": {
       "model_id": "1639a933f0954fd8ac989ab01d86fb19",
       "version_major": 2,
       "version_minor": 0
      },
      "text/plain": [
       "HBox(children=(FloatProgress(value=0.0, max=1.0), HTML(value='')))"
      ]
     },
     "metadata": {},
     "output_type": "display_data"
    },
    {
     "name": "stdout",
     "output_type": "stream",
     "text": [
      "\n",
      "computing greedy matching.\n"
     ]
    },
    {
     "data": {
      "application/vnd.jupyter.widget-view+json": {
       "model_id": "c0b0ec51b36b41608e7c7694dccb5e77",
       "version_major": 2,
       "version_minor": 0
      },
      "text/plain": [
       "HBox(children=(FloatProgress(value=0.0, max=1.0), HTML(value='')))"
      ]
     },
     "metadata": {},
     "output_type": "display_data"
    },
    {
     "name": "stdout",
     "output_type": "stream",
     "text": [
      "\n",
      "done in 0.07 seconds, 14.74 sentences/sec\n",
      "calculating scores...\n",
      "computing bert embedding.\n"
     ]
    },
    {
     "data": {
      "application/vnd.jupyter.widget-view+json": {
       "model_id": "64993c02be8348bca7d185628a4b7baa",
       "version_major": 2,
       "version_minor": 0
      },
      "text/plain": [
       "HBox(children=(FloatProgress(value=0.0, max=1.0), HTML(value='')))"
      ]
     },
     "metadata": {},
     "output_type": "display_data"
    },
    {
     "name": "stdout",
     "output_type": "stream",
     "text": [
      "\n",
      "computing greedy matching.\n"
     ]
    },
    {
     "data": {
      "application/vnd.jupyter.widget-view+json": {
       "model_id": "166053f6099540c3bcb05e160bd09da4",
       "version_major": 2,
       "version_minor": 0
      },
      "text/plain": [
       "HBox(children=(FloatProgress(value=0.0, max=1.0), HTML(value='')))"
      ]
     },
     "metadata": {},
     "output_type": "display_data"
    },
    {
     "name": "stdout",
     "output_type": "stream",
     "text": [
      "\n",
      "done in 0.07 seconds, 14.57 sentences/sec\n"
     ]
    }
   ],
   "source": [
    "scores = []\n",
    "for i in range(df.shape[0]):\n",
    "  _, _, F1 = score([df['text_1'][i]], [df['text_2'][i]], lang=\"en\", verbose=True)\n",
    "  scores.append(F1.mean())"
   ]
  },
  {
   "cell_type": "code",
   "execution_count": 9,
   "metadata": {},
   "outputs": [
    {
     "data": {
      "text/plain": [
       "998"
      ]
     },
     "execution_count": 9,
     "metadata": {},
     "output_type": "execute_result"
    }
   ],
   "source": [
    "len(scores)"
   ]
  },
  {
   "cell_type": "code",
   "execution_count": 11,
   "metadata": {},
   "outputs": [],
   "source": [
    "OldMin = 0.0\n",
    "OldMax = 1.0\n",
    "NewMin = 0.0\n",
    "NewMax = 5.0\n",
    "\n",
    "new_scores = []\n",
    "for score in scores:\n",
    "    new_scores.append(((score - OldMin) * (NewMax - NewMin)) / (OldMax - OldMin) + NewMin)"
   ]
  },
  {
   "cell_type": "code",
   "execution_count": 20,
   "metadata": {},
   "outputs": [
    {
     "name": "stdout",
     "output_type": "stream",
     "text": [
      "/home/ubuntu/bert_score\n"
     ]
    }
   ],
   "source": [
    "!pwd"
   ]
  },
  {
   "cell_type": "code",
   "execution_count": 21,
   "metadata": {},
   "outputs": [],
   "source": [
    "pd.Series(scores).to_csv(\"BERTscore_vanilla.csv\")"
   ]
  },
  {
   "cell_type": "code",
   "execution_count": 22,
   "metadata": {},
   "outputs": [],
   "source": [
    "pd.Series(new_scores).to_csv(\"BERTscore_updatedrange.csv\")"
   ]
  },
  {
   "cell_type": "code",
   "execution_count": null,
   "metadata": {},
   "outputs": [],
   "source": []
  }
 ],
 "metadata": {
  "kernelspec": {
   "display_name": "Python 3",
   "language": "python",
   "name": "python3"
  },
  "language_info": {
   "codemirror_mode": {
    "name": "ipython",
    "version": 3
   },
   "file_extension": ".py",
   "mimetype": "text/x-python",
   "name": "python",
   "nbconvert_exporter": "python",
   "pygments_lexer": "ipython3",
   "version": "3.7.7"
  }
 },
 "nbformat": 4,
 "nbformat_minor": 4
}
