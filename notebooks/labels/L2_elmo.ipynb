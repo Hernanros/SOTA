{
 "cells": [
  {
   "cell_type": "code",
   "execution_count": 1,
   "metadata": {},
   "outputs": [],
   "source": [
    "from flair.embeddings import ELMoEmbeddings\n",
    "from flair.data import Sentence\n",
    "from scipy.spatial.distance import euclidean\n",
    "import torch\n",
    "import pandas as pd\n",
    "import os"
   ]
  },
  {
   "cell_type": "code",
   "execution_count": 2,
   "metadata": {},
   "outputs": [],
   "source": [
    "# init embedding\n",
    "embedding = ELMoEmbeddings()"
   ]
  },
  {
   "cell_type": "code",
   "execution_count": 18,
   "metadata": {},
   "outputs": [
    {
     "output_type": "stream",
     "name": "stdout",
     "text": "/Users/Adam/workspace/yandex/Y-Data/2nd Semester/SOTA\n"
    }
   ],
   "source": [
    "basepath = os.path.dirname(os.path.dirname(os.getcwd()))\n",
    "print(basepath)"
   ]
  },
  {
   "cell_type": "code",
   "execution_count": 19,
   "metadata": {},
   "outputs": [
    {
     "output_type": "execute_result",
     "data": {
      "text/plain": "                      text_1                       text_2  label\n0  take measures in order to  take additional measures to  4.000\n1             was seeking to               will strive to  3.000\n2             canada aims to              canada works to  2.333\n3               refugees and           refugee population  2.667\n4               measures and            instruments , and  3.000",
      "text/html": "<div>\n<style scoped>\n    .dataframe tbody tr th:only-of-type {\n        vertical-align: middle;\n    }\n\n    .dataframe tbody tr th {\n        vertical-align: top;\n    }\n\n    .dataframe thead th {\n        text-align: right;\n    }\n</style>\n<table border=\"1\" class=\"dataframe\">\n  <thead>\n    <tr style=\"text-align: right;\">\n      <th></th>\n      <th>text_1</th>\n      <th>text_2</th>\n      <th>label</th>\n    </tr>\n  </thead>\n  <tbody>\n    <tr>\n      <th>0</th>\n      <td>take measures in order to</td>\n      <td>take additional measures to</td>\n      <td>4.000</td>\n    </tr>\n    <tr>\n      <th>1</th>\n      <td>was seeking to</td>\n      <td>will strive to</td>\n      <td>3.000</td>\n    </tr>\n    <tr>\n      <th>2</th>\n      <td>canada aims to</td>\n      <td>canada works to</td>\n      <td>2.333</td>\n    </tr>\n    <tr>\n      <th>3</th>\n      <td>refugees and</td>\n      <td>refugee population</td>\n      <td>2.667</td>\n    </tr>\n    <tr>\n      <th>4</th>\n      <td>measures and</td>\n      <td>instruments , and</td>\n      <td>3.000</td>\n    </tr>\n  </tbody>\n</table>\n</div>"
     },
     "metadata": {},
     "execution_count": 19
    }
   ],
   "source": [
    "# load data\n",
    "df = pd.read_csv(os.path.join(basepath, \"data/Paraphrase.csv\"))\n",
    "df.head()"
   ]
  },
  {
   "cell_type": "code",
   "execution_count": 20,
   "metadata": {},
   "outputs": [],
   "source": [
    "def create_embedding(sentence):\n",
    "    # embed words in sentence\n",
    "    sent = Sentence(sentence)\n",
    "    embedding.embed(sent)\n",
    "    # return average embedding of words in sentence\n",
    "    return torch.stack([token.embedding for token in sent]).mean(axis=0)"
   ]
  },
  {
   "cell_type": "code",
   "execution_count": 21,
   "metadata": {},
   "outputs": [
    {
     "output_type": "execute_result",
     "data": {
      "text/plain": "                      text_1                       text_2  label   L2_score\n0  take measures in order to  take additional measures to  4.000  14.486097\n1             was seeking to               will strive to  3.000  17.370440\n2             canada aims to              canada works to  2.333  14.985575\n3               refugees and           refugee population  2.667  25.314369\n4               measures and            instruments , and  3.000  19.087221",
      "text/html": "<div>\n<style scoped>\n    .dataframe tbody tr th:only-of-type {\n        vertical-align: middle;\n    }\n\n    .dataframe tbody tr th {\n        vertical-align: top;\n    }\n\n    .dataframe thead th {\n        text-align: right;\n    }\n</style>\n<table border=\"1\" class=\"dataframe\">\n  <thead>\n    <tr style=\"text-align: right;\">\n      <th></th>\n      <th>text_1</th>\n      <th>text_2</th>\n      <th>label</th>\n      <th>L2_score</th>\n    </tr>\n  </thead>\n  <tbody>\n    <tr>\n      <th>0</th>\n      <td>take measures in order to</td>\n      <td>take additional measures to</td>\n      <td>4.000</td>\n      <td>14.486097</td>\n    </tr>\n    <tr>\n      <th>1</th>\n      <td>was seeking to</td>\n      <td>will strive to</td>\n      <td>3.000</td>\n      <td>17.370440</td>\n    </tr>\n    <tr>\n      <th>2</th>\n      <td>canada aims to</td>\n      <td>canada works to</td>\n      <td>2.333</td>\n      <td>14.985575</td>\n    </tr>\n    <tr>\n      <th>3</th>\n      <td>refugees and</td>\n      <td>refugee population</td>\n      <td>2.667</td>\n      <td>25.314369</td>\n    </tr>\n    <tr>\n      <th>4</th>\n      <td>measures and</td>\n      <td>instruments , and</td>\n      <td>3.000</td>\n      <td>19.087221</td>\n    </tr>\n  </tbody>\n</table>\n</div>"
     },
     "metadata": {},
     "execution_count": 21
    }
   ],
   "source": [
    "# apply function to all word pairs in dataset\n",
    "df['L2_score'] = df.apply(lambda x: euclidean(create_embedding(x.text_1), create_embedding(x.text_2)), axis=1)\n",
    "df.head()"
   ]
  },
  {
   "cell_type": "code",
   "execution_count": 29,
   "metadata": {},
   "outputs": [
    {
     "output_type": "execute_result",
     "data": {
      "text/plain": "14.858757019042969"
     },
     "metadata": {},
     "execution_count": 29
    }
   ],
   "source": [
    "df.to_csv(os.path.join(basepath, 'data/Paraphrase_with_ELMo_L2.csv'))"
   ]
  },
  {
   "cell_type": "code",
   "execution_count": null,
   "metadata": {},
   "outputs": [],
   "source": []
  }
 ],
 "metadata": {
  "language_info": {
   "codemirror_mode": {
    "name": "ipython",
    "version": 3
   },
   "file_extension": ".py",
   "mimetype": "text/x-python",
   "name": "python",
   "nbconvert_exporter": "python",
   "pygments_lexer": "ipython3",
   "version": "3.7.5-final"
  },
  "orig_nbformat": 2,
  "kernelspec": {
   "name": "python37564bityandexvirtualenv005add28e08e42ddb94988cf771fa745",
   "display_name": "Python 3.7.5 64-bit ('yandex': virtualenv)"
  }
 },
 "nbformat": 4,
 "nbformat_minor": 2
}