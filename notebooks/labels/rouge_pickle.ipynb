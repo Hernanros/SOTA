{
  "nbformat": 4,
  "nbformat_minor": 0,
  "metadata": {
    "colab": {
      "name": "paraphrase WMD calculation.ipynb",
      "provenance": [],
      "collapsed_sections": [],
      "mount_file_id": "1mj4sn8LNvOEdHOEUhISI5YD3oYwAhYON",
      "authorship_tag": "ABX9TyOYl9rz41Nx+6C/hem3ELPS",
      "include_colab_link": true
    },
    "kernelspec": {
      "name": "python3",
      "display_name": "Python 3"
    }
  },
  "cells": [
    {
      "cell_type": "markdown",
      "metadata": {
        "id": "view-in-github",
        "colab_type": "text"
      },
      "source": [
        "<a href=\"https://colab.research.google.com/github/Hernanros/SOTA/blob/master/notebooks/labels/rouge_pickle.ipynb\" target=\"_parent\"><img src=\"https://colab.research.google.com/assets/colab-badge.svg\" alt=\"Open In Colab\"/></a>"
      ]
    },
    {
      "cell_type": "code",
      "metadata": {
        "id": "FjWmQEeOC24O",
        "colab_type": "code",
        "colab": {
          "base_uri": "https://localhost:8080/",
          "height": 121
        },
        "outputId": "33fdf260-1b78-4631-d8b2-f9cd2cae99de"
      },
      "source": [
        "from google.colab import drive\n",
        "drive.mount('/content/drive')"
      ],
      "execution_count": 1,
      "outputs": [
        {
          "output_type": "stream",
          "text": [
            "Go to this URL in a browser: https://accounts.google.com/o/oauth2/auth?client_id=947318989803-6bn6qk8qdgf4n4g3pfee6491hc0brc4i.apps.googleusercontent.com&redirect_uri=urn%3aietf%3awg%3aoauth%3a2.0%3aoob&response_type=code&scope=email%20https%3a%2f%2fwww.googleapis.com%2fauth%2fdocs.test%20https%3a%2f%2fwww.googleapis.com%2fauth%2fdrive%20https%3a%2f%2fwww.googleapis.com%2fauth%2fdrive.photos.readonly%20https%3a%2f%2fwww.googleapis.com%2fauth%2fpeopleapi.readonly\n",
            "\n",
            "Enter your authorization code:\n",
            "··········\n",
            "Mounted at /content/drive\n"
          ],
          "name": "stdout"
        }
      ]
    },
    {
      "cell_type": "code",
      "metadata": {
        "id": "_bPoDcIlUosY",
        "colab_type": "code",
        "colab": {
          "base_uri": "https://localhost:8080/",
          "height": 202
        },
        "outputId": "8abf4c0a-65fc-43ae-9037-1bedf773a6f9"
      },
      "source": [
        "!pip install wmd"
      ],
      "execution_count": 3,
      "outputs": [
        {
          "output_type": "stream",
          "text": [
            "Collecting wmd\n",
            "\u001b[?25l  Downloading https://files.pythonhosted.org/packages/e5/14/e1d122e56607ae49999041f372fa14166eb1e3b838122118d706f9bf1620/wmd-1.3.2.tar.gz (104kB)\n",
            "\r\u001b[K     |███▏                            | 10kB 14.7MB/s eta 0:00:01\r\u001b[K     |██████▎                         | 20kB 1.7MB/s eta 0:00:01\r\u001b[K     |█████████▍                      | 30kB 2.3MB/s eta 0:00:01\r\u001b[K     |████████████▌                   | 40kB 2.5MB/s eta 0:00:01\r\u001b[K     |███████████████▊                | 51kB 2.0MB/s eta 0:00:01\r\u001b[K     |██████████████████▉             | 61kB 2.2MB/s eta 0:00:01\r\u001b[K     |██████████████████████          | 71kB 2.5MB/s eta 0:00:01\r\u001b[K     |█████████████████████████       | 81kB 2.7MB/s eta 0:00:01\r\u001b[K     |████████████████████████████▏   | 92kB 2.9MB/s eta 0:00:01\r\u001b[K     |███████████████████████████████▍| 102kB 2.7MB/s eta 0:00:01\r\u001b[K     |████████████████████████████████| 112kB 2.7MB/s \n",
            "\u001b[?25hRequirement already satisfied: numpy in /usr/local/lib/python3.6/dist-packages (from wmd) (1.18.5)\n",
            "Building wheels for collected packages: wmd\n",
            "  Building wheel for wmd (setup.py) ... \u001b[?25l\u001b[?25hdone\n",
            "  Created wheel for wmd: filename=wmd-1.3.2-cp36-cp36m-linux_x86_64.whl size=629397 sha256=e7f52dec50a1e6425db2700d50bc5a30adc1d4847d8dc0303e34ce83d18503d7\n",
            "  Stored in directory: /root/.cache/pip/wheels/a6/4d/7a/fc3fdbc12e33c0551301543e4441fb4783c809a30451387ffd\n",
            "Successfully built wmd\n",
            "Installing collected packages: wmd\n",
            "Successfully installed wmd-1.3.2\n"
          ],
          "name": "stdout"
        }
      ]
    },
    {
      "cell_type": "code",
      "metadata": {
        "id": "B7OBsh0oMNMf",
        "colab_type": "code",
        "colab": {
          "base_uri": "https://localhost:8080/",
          "height": 521
        },
        "outputId": "ee86563b-49ef-4021-ec52-fe9a1316ce8a"
      },
      "source": [
        "!pip install wordfreq\n",
        "!git clone https://github.com/brmson/dataset-sts\n",
        "# !wget  http://nlp.stanford.edu/data/glove.840B.300d.zip"
      ],
      "execution_count": 4,
      "outputs": [
        {
          "output_type": "stream",
          "text": [
            "Collecting wordfreq\n",
            "\u001b[?25l  Downloading https://files.pythonhosted.org/packages/8f/24/a4c3d79335c2c35d84d1728614ff9115999f7218f30f73f29c81778accc7/wordfreq-2.3.2.tar.gz (32.8MB)\n",
            "\u001b[K     |████████████████████████████████| 32.8MB 120kB/s \n",
            "\u001b[?25hRequirement already satisfied: msgpack>=1.0 in /usr/local/lib/python3.6/dist-packages (from wordfreq) (1.0.0)\n",
            "Collecting langcodes>=2\n",
            "\u001b[?25l  Downloading https://files.pythonhosted.org/packages/52/1d/9b5ad179234206ad52f863c314851db7a00f69770c51d40c12c7513e628f/langcodes-2.0.0.tar.gz (4.9MB)\n",
            "\u001b[K     |████████████████████████████████| 4.9MB 41.5MB/s \n",
            "\u001b[?25hRequirement already satisfied: regex in /usr/local/lib/python3.6/dist-packages (from wordfreq) (2019.12.20)\n",
            "Collecting marisa-trie\n",
            "\u001b[?25l  Downloading https://files.pythonhosted.org/packages/20/95/d23071d0992dabcb61c948fb118a90683193befc88c23e745b050a29e7db/marisa-trie-0.7.5.tar.gz (270kB)\n",
            "\u001b[K     |████████████████████████████████| 276kB 41.9MB/s \n",
            "\u001b[?25hBuilding wheels for collected packages: wordfreq, langcodes, marisa-trie\n",
            "  Building wheel for wordfreq (setup.py) ... \u001b[?25l\u001b[?25hdone\n",
            "  Created wheel for wordfreq: filename=wordfreq-2.3.2-cp36-none-any.whl size=32817238 sha256=952504f69ffa3a22b406cae47ed4b25da31c75af1f836bb21acffbdf84311d63\n",
            "  Stored in directory: /root/.cache/pip/wheels/8d/ba/84/ba6be76208bd2c2124b6586f7967fb87e9f9fb4b4827e5e2c9\n",
            "  Building wheel for langcodes (setup.py) ... \u001b[?25l\u001b[?25hdone\n",
            "  Created wheel for langcodes: filename=langcodes-2.0.0-cp36-none-any.whl size=5044047 sha256=7416de6f8f2b25e6b7d3c53b2974de25785b666f437834c5603fb75caa42bb94\n",
            "  Stored in directory: /root/.cache/pip/wheels/c9/11/90/c7bba8118f3674d75e1457537635266a12538cf622a4684bb2\n",
            "  Building wheel for marisa-trie (setup.py) ... \u001b[?25l\u001b[?25hdone\n",
            "  Created wheel for marisa-trie: filename=marisa_trie-0.7.5-cp36-cp36m-linux_x86_64.whl size=862305 sha256=c5cdf6df07c72e286e81fda74bfda0cf282a9ae902bc9d6ef6f2aa12a38abbf7\n",
            "  Stored in directory: /root/.cache/pip/wheels/45/24/79/022624fc914f0e559fe8a1141aaff1f9df810905a13fc75d57\n",
            "Successfully built wordfreq langcodes marisa-trie\n",
            "Installing collected packages: marisa-trie, langcodes, wordfreq\n",
            "Successfully installed langcodes-2.0.0 marisa-trie-0.7.5 wordfreq-2.3.2\n",
            "Cloning into 'dataset-sts'...\n",
            "remote: Enumerating objects: 3477, done.\u001b[K\n",
            "remote: Total 3477 (delta 0), reused 0 (delta 0), pack-reused 3477\u001b[K\n",
            "Receiving objects: 100% (3477/3477), 110.86 MiB | 11.36 MiB/s, done.\n",
            "Resolving deltas: 100% (2297/2297), done.\n",
            "Checking out files: 100% (212/212), done.\n"
          ],
          "name": "stdout"
        }
      ]
    },
    {
      "cell_type": "code",
      "metadata": {
        "id": "kTypfqSvSSbu",
        "colab_type": "code",
        "colab": {
          "base_uri": "https://localhost:8080/",
          "height": 34
        },
        "outputId": "b21754ad-24d1-4f73-be5c-806d165f2328"
      },
      "source": [
        "% cd /content/drive/My Drive/NLP_Project"
      ],
      "execution_count": 5,
      "outputs": [
        {
          "output_type": "stream",
          "text": [
            "/content/drive/My Drive/NLP_Project\n"
          ],
          "name": "stdout"
        }
      ]
    },
    {
      "cell_type": "code",
      "metadata": {
        "id": "AhwXtmLnTJof",
        "colab_type": "code",
        "colab": {}
      },
      "source": [
        "%matplotlib inline\n",
        "import pandas as pd\n",
        "import numpy as np\n",
        "import matplotlib.pyplot as plt\n",
        "import zipfile\n",
        "from nltk.tokenize import word_tokenize\n",
        "from nltk.tokenize import RegexpTokenizer\n",
        "from wmd import WMD\n",
        "import wordfreq\n",
        "import pickle"
      ],
      "execution_count": 12,
      "outputs": []
    },
    {
      "cell_type": "code",
      "metadata": {
        "id": "-lEvkIPeIXGT",
        "colab_type": "code",
        "colab": {}
      },
      "source": [
        "zip_ref = zipfile.ZipFile(\"./glove.840B.300d.zip\")\n",
        "zip_ref.extractall(\"/tmp\")\n",
        "zip_ref.close()"
      ],
      "execution_count": 7,
      "outputs": []
    },
    {
      "cell_type": "code",
      "metadata": {
        "id": "6wbOBTQCTJvY",
        "colab_type": "code",
        "colab": {}
      },
      "source": [
        "glove_pd = pd.read_csv('glove_pd.csv',index_col=0)\n",
        "#glove_pd = pd.read_csv(open('glove.840B.300d.txt'), sep=\" \", quoting=3, header=None, index_col=0)\n",
        "glove = {key: val.values for key, val in glove_pd.T.items()}\n",
        "#glove_pd.to_csv('/content/drive/My Drive/NLP_Project/glove_pd.csv')\n",
        "# np.savetxt(r'/content/drive/My Drive/NLP_Project/glove.txt', glove_pd.values, fmt='%d', delimiter=' ')"
      ],
      "execution_count": 9,
      "outputs": []
    },
    {
      "cell_type": "code",
      "metadata": {
        "id": "Jpui9t3QTe7E",
        "colab_type": "code",
        "colab": {}
      },
      "source": [
        "with open('combined_data.pickle', 'rb') as handle:\n",
        "    df = pickle.load(handle)\n"
      ],
      "execution_count": 17,
      "outputs": []
    },
    {
      "cell_type": "code",
      "metadata": {
        "id": "P5wMFSDrTKvM",
        "colab_type": "code",
        "colab": {}
      },
      "source": [
        "tokenizer = RegexpTokenizer(r'\\w+')\n",
        "tokenizer.tokenize(df.iloc[9,0])\n",
        "df['text_1_tokens'] =df.text_1.apply(lambda x:tokenizer.tokenize(x)) \n",
        "df['text_2_tokens'] =df.text_2.apply(lambda x:tokenizer.tokenize(x)) \n",
        "\n",
        "def embed (sent):\n",
        "  toklist = tokenizer.tokenize(sent)\n",
        "  embs = []\n",
        "  freqs = []\n",
        "  for word in toklist:\n",
        "    try: \n",
        "      embs.append(glove[word.lower()])\n",
        "      freqs.append(wordfreq.word_frequency(word, 'en', wordlist='large'))\n",
        "    except:\n",
        "      try:\n",
        "        embs.append(glove[word.strip(\"'\")])\n",
        "        freqs.append(wordfreq.word_frequency(word, 'en', wordlist='large'))\n",
        "\n",
        "      except:\n",
        "        continue\n",
        "  return embs, freqs\n",
        "\n",
        "embed(df.iloc[9,0])\n",
        "text_1_embeddings = df.text_1.apply(lambda x: embed(x) )\n",
        "text_2_embeddings = df.text_2.apply(lambda x: embed(x) )"
      ],
      "execution_count": 21,
      "outputs": []
    },
    {
      "cell_type": "markdown",
      "metadata": {
        "id": "0_DI4HM1VP9z",
        "colab_type": "text"
      },
      "source": [
        "# ROUGE similarities"
      ]
    },
    {
      "cell_type": "code",
      "metadata": {
        "id": "d75zbwJCUckk",
        "colab_type": "code",
        "colab": {
          "base_uri": "https://localhost:8080/",
          "height": 84
        },
        "outputId": "009feeff-2993-4b7a-e8a5-6213f18d3c27"
      },
      "source": [
        "!pip install easy-rouge"
      ],
      "execution_count": 36,
      "outputs": [
        {
          "output_type": "stream",
          "text": [
            "Collecting easy-rouge\n",
            "  Downloading https://files.pythonhosted.org/packages/0c/0a/b7ebb887dac3ece27fffc65bbc7dc0abcf991f2ccce8073126329ce4be8f/easy_rouge-0.2.2-py3-none-any.whl\n",
            "Installing collected packages: easy-rouge\n",
            "Successfully installed easy-rouge-0.2.2\n"
          ],
          "name": "stdout"
        }
      ]
    },
    {
      "cell_type": "code",
      "metadata": {
        "id": "hrpQNy1kVe9v",
        "colab_type": "code",
        "colab": {}
      },
      "source": [
        "from rouge.rouge import rouge_n_sentence_level\n",
        "from rouge.rouge import rouge_l_sentence_level"
      ],
      "execution_count": 37,
      "outputs": []
    },
    {
      "cell_type": "code",
      "metadata": {
        "id": "vLSCOhlkVhR1",
        "colab_type": "code",
        "colab": {
          "base_uri": "https://localhost:8080/",
          "height": 118
        },
        "outputId": "b93a5b97-4ce1-4c12-d01f-d8cbb269276c"
      },
      "source": [
        "#sample\n",
        "summary_sentence = 'the capital of China is Beijing'.split()\n",
        "reference_sentence = 'Beijing is the capital of China'.split()\n",
        "\n",
        "# Calculate ROUGE-2.\n",
        "recall, precision, rouge = rouge_n_sentence_level(summary_sentence, reference_sentence, 2)\n",
        "print('ROUGE-2-R', recall)\n",
        "print('ROUGE-2-P', precision)\n",
        "print('ROUGE-2-F', rouge)\n",
        "\n",
        "recall, precision, rouge = rouge_l_sentence_level(summary_sentence, reference_sentence)\n",
        "print('ROUGE-l-R', recall)\n",
        "print('ROUGE-l-P', precision)\n",
        "print('ROUGE-l-F', rouge)"
      ],
      "execution_count": 38,
      "outputs": [
        {
          "output_type": "stream",
          "text": [
            "ROUGE-2-R 0.6\n",
            "ROUGE-2-P 0.6\n",
            "ROUGE-2-F 0.6\n",
            "ROUGE-l-R 0.6666666666666666\n",
            "ROUGE-l-P 0.6666666666666666\n",
            "ROUGE-l-F 0.6666666666666666\n"
          ],
          "name": "stdout"
        }
      ]
    },
    {
      "cell_type": "code",
      "metadata": {
        "id": "4lExtIh3Vm8b",
        "colab_type": "code",
        "colab": {}
      },
      "source": [
        "\n",
        "recall_1_list = []\n",
        "recall_2_list = []\n",
        "precision_1_list = []\n",
        "precision_2_list = []\n",
        "F_1_list = []\n",
        "F_2_list = []\n",
        "\n",
        "recall_l_list = []\n",
        "precision_l_list = []\n",
        "F_l_list = []\n",
        "\n",
        "i = 0\n",
        "while i < len(df):\n",
        "    sentence_ori = df.iloc[i]['text_1']\n",
        "    sentence_gen = df.iloc[i]['text_2']\n",
        "\n",
        "    sentence_ori = sentence_ori.split()\n",
        "    sentence_gen = sentence_gen.split()\n",
        "\n",
        "    # Calculate ROUGE-1\n",
        "    recall_1, precision_1, rouge_1 = rouge_n_sentence_level(sentence_gen, sentence_ori, 1)\n",
        "    # Calculate ROUGE-2\n",
        "    recall_2, precision_2, rouge_2 = rouge_n_sentence_level(sentence_gen, sentence_ori, 2)\n",
        "    # Calculate ROUGE-l\n",
        "    recall_l, precision_l, rouge_l = rouge_l_sentence_level(sentence_gen, sentence_ori)\n",
        "\n",
        "    recall_1_list.append(recall_1)\n",
        "    recall_2_list.append(recall_2)\n",
        "    recall_l_list.append(recall_l)\n",
        "    precision_1_list.append(precision_1)\n",
        "    precision_2_list.append(precision_2)\n",
        "    precision_l_list.append(precision_l)\n",
        "    F_1_list.append(rouge_1)\n",
        "    F_2_list.append(rouge_2)\n",
        "    F_l_list.append(rouge_l)\n",
        "    i+=1"
      ],
      "execution_count": 39,
      "outputs": []
    },
    {
      "cell_type": "code",
      "metadata": {
        "id": "URkrrrdgV13M",
        "colab_type": "code",
        "colab": {}
      },
      "source": [
        "df['ROUGE-1 recall'] = recall_1_list\n",
        "df['ROUGE-1 precision'] = precision_1_list\n",
        "df['ROUGE-1 F'] = F_1_list\n",
        "df['ROUGE-2 recall'] = recall_2_list\n",
        "df['ROUGE-2 precision'] = precision_2_list\n",
        "df['ROUGE-2 F'] = F_2_list\n",
        "df['ROUGE-L recall'] = recall_l_list\n",
        "df['ROUGE-L precision'] = precision_l_list\n",
        "df['ROUGE-L F'] = F_l_list"
      ],
      "execution_count": 40,
      "outputs": []
    },
    {
      "cell_type": "code",
      "metadata": {
        "id": "FnaeF7anV_s9",
        "colab_type": "code",
        "colab": {}
      },
      "source": [
        "with open('combined_data.pickle', 'wb') as handle:\n",
        "    pickle.dump(df, handle, protocol=pickle.HIGHEST_PROTOCOL)"
      ],
      "execution_count": 42,
      "outputs": []
    }
  ]
}