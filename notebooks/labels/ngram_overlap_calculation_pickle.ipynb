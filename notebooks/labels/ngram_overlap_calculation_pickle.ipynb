{
  "nbformat": 4,
  "nbformat_minor": 0,
  "metadata": {
    "colab": {
      "name": "paraphrase WMD calculation.ipynb",
      "provenance": [],
      "collapsed_sections": [],
      "toc_visible": true,
      "mount_file_id": "1mj4sn8LNvOEdHOEUhISI5YD3oYwAhYON",
      "authorship_tag": "ABX9TyMZAHi0TchIH1Q3C88CjWyR",
      "include_colab_link": true
    },
    "kernelspec": {
      "name": "python3",
      "display_name": "Python 3"
    }
  },
  "cells": [
    {
      "cell_type": "markdown",
      "metadata": {
        "id": "view-in-github",
        "colab_type": "text"
      },
      "source": [
        "<a href=\"https://colab.research.google.com/github/Hernanros/SOTA/blob/master/notebooks/labels/ngram_overlap_calculation_pickle.ipynb\" target=\"_parent\"><img src=\"https://colab.research.google.com/assets/colab-badge.svg\" alt=\"Open In Colab\"/></a>"
      ]
    },
    {
      "cell_type": "code",
      "metadata": {
        "id": "FjWmQEeOC24O",
        "colab_type": "code",
        "colab": {
          "base_uri": "https://localhost:8080/",
          "height": 121
        },
        "outputId": "33fdf260-1b78-4631-d8b2-f9cd2cae99de"
      },
      "source": [
        "from google.colab import drive\n",
        "drive.mount('/content/drive')"
      ],
      "execution_count": 1,
      "outputs": [
        {
          "output_type": "stream",
          "text": [
            "Go to this URL in a browser: https://accounts.google.com/o/oauth2/auth?client_id=947318989803-6bn6qk8qdgf4n4g3pfee6491hc0brc4i.apps.googleusercontent.com&redirect_uri=urn%3aietf%3awg%3aoauth%3a2.0%3aoob&response_type=code&scope=email%20https%3a%2f%2fwww.googleapis.com%2fauth%2fdocs.test%20https%3a%2f%2fwww.googleapis.com%2fauth%2fdrive%20https%3a%2f%2fwww.googleapis.com%2fauth%2fdrive.photos.readonly%20https%3a%2f%2fwww.googleapis.com%2fauth%2fpeopleapi.readonly\n",
            "\n",
            "Enter your authorization code:\n",
            "··········\n",
            "Mounted at /content/drive\n"
          ],
          "name": "stdout"
        }
      ]
    },
    {
      "cell_type": "code",
      "metadata": {
        "id": "_bPoDcIlUosY",
        "colab_type": "code",
        "colab": {
          "base_uri": "https://localhost:8080/",
          "height": 222
        },
        "outputId": "8abf4c0a-65fc-43ae-9037-1bedf773a6f9"
      },
      "source": [
        "!pip install wmd"
      ],
      "execution_count": 3,
      "outputs": [
        {
          "output_type": "stream",
          "text": [
            "Collecting wmd\n",
            "\u001b[?25l  Downloading https://files.pythonhosted.org/packages/e5/14/e1d122e56607ae49999041f372fa14166eb1e3b838122118d706f9bf1620/wmd-1.3.2.tar.gz (104kB)\n",
            "\r\u001b[K     |███▏                            | 10kB 14.7MB/s eta 0:00:01\r\u001b[K     |██████▎                         | 20kB 1.7MB/s eta 0:00:01\r\u001b[K     |█████████▍                      | 30kB 2.3MB/s eta 0:00:01\r\u001b[K     |████████████▌                   | 40kB 2.5MB/s eta 0:00:01\r\u001b[K     |███████████████▊                | 51kB 2.0MB/s eta 0:00:01\r\u001b[K     |██████████████████▉             | 61kB 2.2MB/s eta 0:00:01\r\u001b[K     |██████████████████████          | 71kB 2.5MB/s eta 0:00:01\r\u001b[K     |█████████████████████████       | 81kB 2.7MB/s eta 0:00:01\r\u001b[K     |████████████████████████████▏   | 92kB 2.9MB/s eta 0:00:01\r\u001b[K     |███████████████████████████████▍| 102kB 2.7MB/s eta 0:00:01\r\u001b[K     |████████████████████████████████| 112kB 2.7MB/s \n",
            "\u001b[?25hRequirement already satisfied: numpy in /usr/local/lib/python3.6/dist-packages (from wmd) (1.18.5)\n",
            "Building wheels for collected packages: wmd\n",
            "  Building wheel for wmd (setup.py) ... \u001b[?25l\u001b[?25hdone\n",
            "  Created wheel for wmd: filename=wmd-1.3.2-cp36-cp36m-linux_x86_64.whl size=629397 sha256=e7f52dec50a1e6425db2700d50bc5a30adc1d4847d8dc0303e34ce83d18503d7\n",
            "  Stored in directory: /root/.cache/pip/wheels/a6/4d/7a/fc3fdbc12e33c0551301543e4441fb4783c809a30451387ffd\n",
            "Successfully built wmd\n",
            "Installing collected packages: wmd\n",
            "Successfully installed wmd-1.3.2\n"
          ],
          "name": "stdout"
        }
      ]
    },
    {
      "cell_type": "code",
      "metadata": {
        "id": "B7OBsh0oMNMf",
        "colab_type": "code",
        "colab": {
          "base_uri": "https://localhost:8080/",
          "height": 541
        },
        "outputId": "ee86563b-49ef-4021-ec52-fe9a1316ce8a"
      },
      "source": [
        "!pip install wordfreq\n",
        "!git clone https://github.com/brmson/dataset-sts\n",
        "# !wget  http://nlp.stanford.edu/data/glove.840B.300d.zip"
      ],
      "execution_count": 4,
      "outputs": [
        {
          "output_type": "stream",
          "text": [
            "Collecting wordfreq\n",
            "\u001b[?25l  Downloading https://files.pythonhosted.org/packages/8f/24/a4c3d79335c2c35d84d1728614ff9115999f7218f30f73f29c81778accc7/wordfreq-2.3.2.tar.gz (32.8MB)\n",
            "\u001b[K     |████████████████████████████████| 32.8MB 120kB/s \n",
            "\u001b[?25hRequirement already satisfied: msgpack>=1.0 in /usr/local/lib/python3.6/dist-packages (from wordfreq) (1.0.0)\n",
            "Collecting langcodes>=2\n",
            "\u001b[?25l  Downloading https://files.pythonhosted.org/packages/52/1d/9b5ad179234206ad52f863c314851db7a00f69770c51d40c12c7513e628f/langcodes-2.0.0.tar.gz (4.9MB)\n",
            "\u001b[K     |████████████████████████████████| 4.9MB 41.5MB/s \n",
            "\u001b[?25hRequirement already satisfied: regex in /usr/local/lib/python3.6/dist-packages (from wordfreq) (2019.12.20)\n",
            "Collecting marisa-trie\n",
            "\u001b[?25l  Downloading https://files.pythonhosted.org/packages/20/95/d23071d0992dabcb61c948fb118a90683193befc88c23e745b050a29e7db/marisa-trie-0.7.5.tar.gz (270kB)\n",
            "\u001b[K     |████████████████████████████████| 276kB 41.9MB/s \n",
            "\u001b[?25hBuilding wheels for collected packages: wordfreq, langcodes, marisa-trie\n",
            "  Building wheel for wordfreq (setup.py) ... \u001b[?25l\u001b[?25hdone\n",
            "  Created wheel for wordfreq: filename=wordfreq-2.3.2-cp36-none-any.whl size=32817238 sha256=952504f69ffa3a22b406cae47ed4b25da31c75af1f836bb21acffbdf84311d63\n",
            "  Stored in directory: /root/.cache/pip/wheels/8d/ba/84/ba6be76208bd2c2124b6586f7967fb87e9f9fb4b4827e5e2c9\n",
            "  Building wheel for langcodes (setup.py) ... \u001b[?25l\u001b[?25hdone\n",
            "  Created wheel for langcodes: filename=langcodes-2.0.0-cp36-none-any.whl size=5044047 sha256=7416de6f8f2b25e6b7d3c53b2974de25785b666f437834c5603fb75caa42bb94\n",
            "  Stored in directory: /root/.cache/pip/wheels/c9/11/90/c7bba8118f3674d75e1457537635266a12538cf622a4684bb2\n",
            "  Building wheel for marisa-trie (setup.py) ... \u001b[?25l\u001b[?25hdone\n",
            "  Created wheel for marisa-trie: filename=marisa_trie-0.7.5-cp36-cp36m-linux_x86_64.whl size=862305 sha256=c5cdf6df07c72e286e81fda74bfda0cf282a9ae902bc9d6ef6f2aa12a38abbf7\n",
            "  Stored in directory: /root/.cache/pip/wheels/45/24/79/022624fc914f0e559fe8a1141aaff1f9df810905a13fc75d57\n",
            "Successfully built wordfreq langcodes marisa-trie\n",
            "Installing collected packages: marisa-trie, langcodes, wordfreq\n",
            "Successfully installed langcodes-2.0.0 marisa-trie-0.7.5 wordfreq-2.3.2\n",
            "Cloning into 'dataset-sts'...\n",
            "remote: Enumerating objects: 3477, done.\u001b[K\n",
            "remote: Total 3477 (delta 0), reused 0 (delta 0), pack-reused 3477\u001b[K\n",
            "Receiving objects: 100% (3477/3477), 110.86 MiB | 11.36 MiB/s, done.\n",
            "Resolving deltas: 100% (2297/2297), done.\n",
            "Checking out files: 100% (212/212), done.\n"
          ],
          "name": "stdout"
        }
      ]
    },
    {
      "cell_type": "code",
      "metadata": {
        "id": "kTypfqSvSSbu",
        "colab_type": "code",
        "colab": {
          "base_uri": "https://localhost:8080/",
          "height": 34
        },
        "outputId": "b21754ad-24d1-4f73-be5c-806d165f2328"
      },
      "source": [
        "% cd /content/drive/My Drive/NLP_Project"
      ],
      "execution_count": 5,
      "outputs": [
        {
          "output_type": "stream",
          "text": [
            "/content/drive/My Drive/NLP_Project\n"
          ],
          "name": "stdout"
        }
      ]
    },
    {
      "cell_type": "code",
      "metadata": {
        "id": "AhwXtmLnTJof",
        "colab_type": "code",
        "colab": {}
      },
      "source": [
        "%matplotlib inline\n",
        "import pandas as pd\n",
        "import numpy as np\n",
        "import matplotlib.pyplot as plt\n",
        "import zipfile\n",
        "from nltk.tokenize import word_tokenize\n",
        "from nltk.tokenize import RegexpTokenizer\n",
        "from wmd import WMD\n",
        "import wordfreq\n",
        "import pickle"
      ],
      "execution_count": 12,
      "outputs": []
    },
    {
      "cell_type": "code",
      "metadata": {
        "id": "-lEvkIPeIXGT",
        "colab_type": "code",
        "colab": {}
      },
      "source": [
        "zip_ref = zipfile.ZipFile(\"./glove.840B.300d.zip\")\n",
        "zip_ref.extractall(\"/tmp\")\n",
        "zip_ref.close()"
      ],
      "execution_count": 7,
      "outputs": []
    },
    {
      "cell_type": "code",
      "metadata": {
        "id": "6wbOBTQCTJvY",
        "colab_type": "code",
        "colab": {}
      },
      "source": [
        "glove_pd = pd.read_csv('glove_pd.csv',index_col=0)\n",
        "#glove_pd = pd.read_csv(open('glove.840B.300d.txt'), sep=\" \", quoting=3, header=None, index_col=0)\n",
        "glove = {key: val.values for key, val in glove_pd.T.items()}\n",
        "#glove_pd.to_csv('/content/drive/My Drive/NLP_Project/glove_pd.csv')\n",
        "# np.savetxt(r'/content/drive/My Drive/NLP_Project/glove.txt', glove_pd.values, fmt='%d', delimiter=' ')"
      ],
      "execution_count": 9,
      "outputs": []
    },
    {
      "cell_type": "code",
      "metadata": {
        "id": "Jpui9t3QTe7E",
        "colab_type": "code",
        "colab": {}
      },
      "source": [
        "with open('combined_data.pickle', 'rb') as handle:\n",
        "    df = pickle.load(handle)\n"
      ],
      "execution_count": 17,
      "outputs": []
    },
    {
      "cell_type": "code",
      "metadata": {
        "id": "P5wMFSDrTKvM",
        "colab_type": "code",
        "colab": {}
      },
      "source": [
        "tokenizer = RegexpTokenizer(r'\\w+')\n",
        "tokenizer.tokenize(df.iloc[9,0])\n",
        "df['text_1_tokens'] =df.text_1.apply(lambda x:tokenizer.tokenize(x)) \n",
        "df['text_2_tokens'] =df.text_2.apply(lambda x:tokenizer.tokenize(x)) \n",
        "\n",
        "def embed (sent):\n",
        "  toklist = tokenizer.tokenize(sent)\n",
        "  embs = []\n",
        "  freqs = []\n",
        "  for word in toklist:\n",
        "    try: \n",
        "      embs.append(glove[word.lower()])\n",
        "      freqs.append(wordfreq.word_frequency(word, 'en', wordlist='large'))\n",
        "    except:\n",
        "      try:\n",
        "        embs.append(glove[word.strip(\"'\")])\n",
        "        freqs.append(wordfreq.word_frequency(word, 'en', wordlist='large'))\n",
        "\n",
        "      except:\n",
        "        continue\n",
        "  return embs, freqs\n",
        "\n",
        "embed(df.iloc[9,0])\n",
        "text_1_embeddings = df.text_1.apply(lambda x: embed(x) )\n",
        "text_2_embeddings = df.text_2.apply(lambda x: embed(x) )"
      ],
      "execution_count": 21,
      "outputs": []
    },
    {
      "cell_type": "markdown",
      "metadata": {
        "id": "1XGlNDhUh7rC",
        "colab_type": "text"
      },
      "source": [
        "# Word movers distance"
      ]
    },
    {
      "cell_type": "code",
      "metadata": {
        "id": "28YxhM_yGnCA",
        "colab_type": "code",
        "colab": {
          "base_uri": "https://localhost:8080/",
          "height": 70
        },
        "outputId": "d53929e3-bef3-4955-f351-2c63a35f0fac"
      },
      "source": [
        "from gensim.test.utils import datapath, get_tmpfile\n",
        "from gensim.models import KeyedVectors\n",
        "from gensim.scripts.glove2word2vec import glove2word2vec\n",
        "\n",
        "glove_file = datapath('/content/glove.840B.300d.txt')\n",
        "tmp_file = get_tmpfile('/content/drive/My Drive/NLP_Project/W2V.txt')\n",
        "\n",
        "_ = glove2word2vec(glove_file, tmp_file)\n",
        "\n",
        "model = KeyedVectors.load_word2vec_format(tmp_file)"
      ],
      "execution_count": null,
      "outputs": [
        {
          "output_type": "stream",
          "text": [
            "/usr/local/lib/python3.6/dist-packages/smart_open/smart_open_lib.py:253: UserWarning: This function is deprecated, use smart_open.open instead. See the migration notes for details: https://github.com/RaRe-Technologies/smart_open/blob/master/README.rst#migrating-to-the-new-open-function\n",
            "  'See the migration notes for details: %s' % _MIGRATION_NOTES_URL\n"
          ],
          "name": "stderr"
        }
      ]
    },
    {
      "cell_type": "code",
      "metadata": {
        "id": "PpVi4NkNQ-xU",
        "colab_type": "code",
        "colab": {}
      },
      "source": [
        "paraphrase['WMD'] = 0\n",
        "for i in range(len(paraphrase)):\n",
        " paraphrase.iloc[i,-1] =  model.wmdistance(paraphrase.iloc[i,0], paraphrase.iloc[i,1])"
      ],
      "execution_count": null,
      "outputs": []
    },
    {
      "cell_type": "code",
      "metadata": {
        "id": "XIYsHVb9O1Vo",
        "colab_type": "code",
        "colab": {}
      },
      "source": [
        "#paraphrase = paraphrase.drop(['text_1_tokens','text_2_tokens'],axis = 1)\n",
        "paraphrase.to_csv('/content/drive/My Drive/NLP_Project/paraphrase.csv')"
      ],
      "execution_count": null,
      "outputs": []
    },
    {
      "cell_type": "code",
      "metadata": {
        "id": "1t-0lw3yRxZX",
        "colab_type": "code",
        "colab": {
          "base_uri": "https://localhost:8080/",
          "height": 218
        },
        "outputId": "6f334504-9d46-4cdd-c8c0-67bf7dcde7f3"
      },
      "source": [
        "paraphrase['WMD']"
      ],
      "execution_count": null,
      "outputs": [
        {
          "output_type": "execute_result",
          "data": {
            "text/plain": [
              "0      1.382194\n",
              "1      3.197893\n",
              "2      2.067205\n",
              "3      2.630209\n",
              "4      2.365262\n",
              "         ...   \n",
              "993    1.340887\n",
              "994    2.013165\n",
              "995    2.395964\n",
              "996    1.125559\n",
              "997    2.560768\n",
              "Name: WMD, Length: 998, dtype: float64"
            ]
          },
          "metadata": {
            "tags": []
          },
          "execution_count": 42
        }
      ]
    },
    {
      "cell_type": "markdown",
      "metadata": {
        "id": "k0HpMJSaeDqN",
        "colab_type": "text"
      },
      "source": [
        "# Word overlap caluculation:\n",
        "$$ \\frac{2 * (S_A \\cap S_B)}{S_A + S_B}$$"
      ]
    },
    {
      "cell_type": "code",
      "metadata": {
        "id": "lQqx7yJFSzoA",
        "colab_type": "code",
        "colab": {}
      },
      "source": [
        "sent_a = df.iloc[27,0]\n",
        "sent_b = df.iloc[27,1]"
      ],
      "execution_count": 23,
      "outputs": []
    },
    {
      "cell_type": "code",
      "metadata": {
        "id": "5w_V92TKbXdJ",
        "colab_type": "code",
        "colab": {}
      },
      "source": [
        "gram = 2\n",
        "\n",
        "def ngrammer (sent, gram):\n",
        "  grams = []\n",
        "  tokenized = tokenizer.tokenize(sent)\n",
        "  if len(tokenized)>= gram:\n",
        "    for i in range(len(tokenized)- gram+1):\n",
        "      grams.append(' '.join(tokenized[i:i+gram]))\n",
        "  return grams"
      ],
      "execution_count": 24,
      "outputs": []
    },
    {
      "cell_type": "code",
      "metadata": {
        "id": "YtSyN4HqdCnY",
        "colab_type": "code",
        "colab": {}
      },
      "source": [
        "def gram_overlap (sent_a, sent_b, gram):\n",
        "  grams_a = set(ngrammer(sent_a,gram))\n",
        "  grams_b = set(ngrammer(sent_b,gram))\n",
        "  intersection = np.sum([gram in grams_b for gram in grams_a])\n",
        "  return 2*intersection/(len(grams_a)+ len(grams_b))\n",
        "\n",
        "\n"
      ],
      "execution_count": 25,
      "outputs": []
    },
    {
      "cell_type": "code",
      "metadata": {
        "id": "4JWjai_BUHEN",
        "colab_type": "code",
        "colab": {
          "base_uri": "https://localhost:8080/",
          "height": 652
        },
        "outputId": "8226a2df-e7dd-4529-9173-8e8483d535bd"
      },
      "source": [
        "df.head()"
      ],
      "execution_count": 27,
      "outputs": [
        {
          "output_type": "execute_result",
          "data": {
            "text/html": [
              "<div>\n",
              "<style scoped>\n",
              "    .dataframe tbody tr th:only-of-type {\n",
              "        vertical-align: middle;\n",
              "    }\n",
              "\n",
              "    .dataframe tbody tr th {\n",
              "        vertical-align: top;\n",
              "    }\n",
              "\n",
              "    .dataframe thead th {\n",
              "        text-align: right;\n",
              "    }\n",
              "</style>\n",
              "<table border=\"1\" class=\"dataframe\">\n",
              "  <thead>\n",
              "    <tr style=\"text-align: right;\">\n",
              "      <th></th>\n",
              "      <th>dataset</th>\n",
              "      <th>label</th>\n",
              "      <th>text_1</th>\n",
              "      <th>text_2</th>\n",
              "      <th>bleu_allwords</th>\n",
              "      <th>bleu_withoutstop</th>\n",
              "      <th>glove_allwords</th>\n",
              "      <th>glove_withoutstop</th>\n",
              "      <th>ftext_allwords</th>\n",
              "      <th>ftext_withoutstop</th>\n",
              "      <th>WMD</th>\n",
              "      <th>text_1_tokens</th>\n",
              "      <th>text_2_tokens</th>\n",
              "      <th>1-gram_overlap</th>\n",
              "    </tr>\n",
              "  </thead>\n",
              "  <tbody>\n",
              "    <tr>\n",
              "      <th>0</th>\n",
              "      <td>2012.MSRpar.test.tsv</td>\n",
              "      <td>4.4</td>\n",
              "      <td>The problem likely will mean corrective change...</td>\n",
              "      <td>He said the problem needs to be corrected befo...</td>\n",
              "      <td>0.375739</td>\n",
              "      <td>0.333333</td>\n",
              "      <td>96.20</td>\n",
              "      <td>90.82</td>\n",
              "      <td>77.23</td>\n",
              "      <td>77.39</td>\n",
              "      <td>3</td>\n",
              "      <td>[The, problem, likely, will, mean, corrective,...</td>\n",
              "      <td>[He, said, the, problem, needs, to, be, correc...</td>\n",
              "      <td>0</td>\n",
              "    </tr>\n",
              "    <tr>\n",
              "      <th>1</th>\n",
              "      <td>2012.MSRpar.test.tsv</td>\n",
              "      <td>0.8</td>\n",
              "      <td>The technology-laced Nasdaq Composite Index .I...</td>\n",
              "      <td>The broad Standard &amp; Poor 's 500 Index .SPX in...</td>\n",
              "      <td>0.461538</td>\n",
              "      <td>0.333333</td>\n",
              "      <td>95.66</td>\n",
              "      <td>88.96</td>\n",
              "      <td>87.95</td>\n",
              "      <td>72.39</td>\n",
              "      <td>3</td>\n",
              "      <td>[The, technology, laced, Nasdaq, Composite, In...</td>\n",
              "      <td>[The, broad, Standard, Poor, s, 500, Index, SP...</td>\n",
              "      <td>0</td>\n",
              "    </tr>\n",
              "    <tr>\n",
              "      <th>2</th>\n",
              "      <td>2012.MSRpar.test.tsv</td>\n",
              "      <td>3.6</td>\n",
              "      <td>`` It 's a huge black eye , '' said publisher ...</td>\n",
              "      <td>`` It 's a huge black eye , '' Arthur Sulzberg...</td>\n",
              "      <td>0.578947</td>\n",
              "      <td>0.500000</td>\n",
              "      <td>97.75</td>\n",
              "      <td>94.94</td>\n",
              "      <td>88.39</td>\n",
              "      <td>72.44</td>\n",
              "      <td>2</td>\n",
              "      <td>[It, s, a, huge, black, eye, said, publisher, ...</td>\n",
              "      <td>[It, s, a, huge, black, eye, Arthur, Sulzberge...</td>\n",
              "      <td>0</td>\n",
              "    </tr>\n",
              "    <tr>\n",
              "      <th>3</th>\n",
              "      <td>2012.MSRpar.test.tsv</td>\n",
              "      <td>3.4</td>\n",
              "      <td>SEC Chairman William Donaldson said there is a...</td>\n",
              "      <td>`` I think there 's a building confidence that...</td>\n",
              "      <td>0.578947</td>\n",
              "      <td>0.444444</td>\n",
              "      <td>98.17</td>\n",
              "      <td>90.51</td>\n",
              "      <td>94.16</td>\n",
              "      <td>75.97</td>\n",
              "      <td>2</td>\n",
              "      <td>[SEC, Chairman, William, Donaldson, said, ther...</td>\n",
              "      <td>[I, think, there, s, a, building, confidence, ...</td>\n",
              "      <td>0</td>\n",
              "    </tr>\n",
              "    <tr>\n",
              "      <th>4</th>\n",
              "      <td>2012.MSRpar.test.tsv</td>\n",
              "      <td>1.4</td>\n",
              "      <td>Vivendi shares closed 1.9 percent at 15.80 eur...</td>\n",
              "      <td>In New York , Vivendi shares were 1.4 percent ...</td>\n",
              "      <td>0.384615</td>\n",
              "      <td>0.375000</td>\n",
              "      <td>95.77</td>\n",
              "      <td>87.00</td>\n",
              "      <td>90.74</td>\n",
              "      <td>67.48</td>\n",
              "      <td>3</td>\n",
              "      <td>[Vivendi, shares, closed, 1, 9, percent, at, 1...</td>\n",
              "      <td>[In, New, York, Vivendi, shares, were, 1, 4, p...</td>\n",
              "      <td>0</td>\n",
              "    </tr>\n",
              "  </tbody>\n",
              "</table>\n",
              "</div>"
            ],
            "text/plain": [
              "                dataset  ...  1-gram_overlap\n",
              "0  2012.MSRpar.test.tsv  ...               0\n",
              "1  2012.MSRpar.test.tsv  ...               0\n",
              "2  2012.MSRpar.test.tsv  ...               0\n",
              "3  2012.MSRpar.test.tsv  ...               0\n",
              "4  2012.MSRpar.test.tsv  ...               0\n",
              "\n",
              "[5 rows x 14 columns]"
            ]
          },
          "metadata": {
            "tags": []
          },
          "execution_count": 27
        }
      ]
    },
    {
      "cell_type": "code",
      "metadata": {
        "id": "02d_6cjmdxrq",
        "colab_type": "code",
        "colab": {
          "base_uri": "https://localhost:8080/",
          "height": 50
        },
        "outputId": "2f6972e1-fc57-4e82-bfd3-572f73225c7d"
      },
      "source": [
        "for n in range(4):\n",
        "  df[f'{n+1}-gram_overlap'] = 0 \n",
        "  for i in range(len(df)):\n",
        "    df.iloc[i,-1] = gram_overlap(df.iloc[i,2],df.iloc[i,3],n+1)\n",
        "\n"
      ],
      "execution_count": 28,
      "outputs": [
        {
          "output_type": "stream",
          "text": [
            "/usr/local/lib/python3.6/dist-packages/ipykernel_launcher.py:5: RuntimeWarning: invalid value encountered in double_scalars\n",
            "  \"\"\"\n"
          ],
          "name": "stderr"
        }
      ]
    },
    {
      "cell_type": "code",
      "metadata": {
        "id": "iBdBLTIuhtLY",
        "colab_type": "code",
        "colab": {}
      },
      "source": [
        "df = df.drop(['text_1_tokens','text_2_tokens'],axis = 1)"
      ],
      "execution_count": 34,
      "outputs": []
    },
    {
      "cell_type": "code",
      "metadata": {
        "id": "jRcLwxkBUW-q",
        "colab_type": "code",
        "colab": {}
      },
      "source": [
        "with open('combined_data.pickle', 'wb') as handle:\n",
        "    pickle.dump(df, handle, protocol=pickle.HIGHEST_PROTOCOL)"
      ],
      "execution_count": 35,
      "outputs": []
    },
    {
      "cell_type": "code",
      "metadata": {
        "id": "d75zbwJCUckk",
        "colab_type": "code",
        "colab": {}
      },
      "source": [
        ""
      ],
      "execution_count": null,
      "outputs": []
    }
  ]
}