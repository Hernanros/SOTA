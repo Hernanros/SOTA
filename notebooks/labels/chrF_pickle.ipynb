{
  "nbformat": 4,
  "nbformat_minor": 0,
  "metadata": {
    "colab": {
      "name": "paraphrase WMD calculation.ipynb",
      "provenance": [],
      "collapsed_sections": [],
      "mount_file_id": "1mj4sn8LNvOEdHOEUhISI5YD3oYwAhYON",
      "authorship_tag": "ABX9TyMOQR0DiMhf2Yr/tyUElzGw",
      "include_colab_link": true
    },
    "kernelspec": {
      "name": "python3",
      "display_name": "Python 3"
    }
  },
  "cells": [
    {
      "cell_type": "markdown",
      "metadata": {
        "id": "view-in-github",
        "colab_type": "text"
      },
      "source": [
        "<a href=\"https://colab.research.google.com/github/Hernanros/SOTA/blob/master/notebooks/labels/chrF_pickle.ipynb\" target=\"_parent\"><img src=\"https://colab.research.google.com/assets/colab-badge.svg\" alt=\"Open In Colab\"/></a>"
      ]
    },
    {
      "cell_type": "code",
      "metadata": {
        "id": "FjWmQEeOC24O",
        "colab_type": "code",
        "colab": {
          "base_uri": "https://localhost:8080/",
          "height": 121
        },
        "outputId": "33fdf260-1b78-4631-d8b2-f9cd2cae99de"
      },
      "source": [
        "from google.colab import drive\n",
        "drive.mount('/content/drive')"
      ],
      "execution_count": 1,
      "outputs": [
        {
          "output_type": "stream",
          "text": [
            "Go to this URL in a browser: https://accounts.google.com/o/oauth2/auth?client_id=947318989803-6bn6qk8qdgf4n4g3pfee6491hc0brc4i.apps.googleusercontent.com&redirect_uri=urn%3aietf%3awg%3aoauth%3a2.0%3aoob&response_type=code&scope=email%20https%3a%2f%2fwww.googleapis.com%2fauth%2fdocs.test%20https%3a%2f%2fwww.googleapis.com%2fauth%2fdrive%20https%3a%2f%2fwww.googleapis.com%2fauth%2fdrive.photos.readonly%20https%3a%2f%2fwww.googleapis.com%2fauth%2fpeopleapi.readonly\n",
            "\n",
            "Enter your authorization code:\n",
            "··········\n",
            "Mounted at /content/drive\n"
          ],
          "name": "stdout"
        }
      ]
    },
    {
      "cell_type": "code",
      "metadata": {
        "id": "_bPoDcIlUosY",
        "colab_type": "code",
        "colab": {
          "base_uri": "https://localhost:8080/",
          "height": 202
        },
        "outputId": "8abf4c0a-65fc-43ae-9037-1bedf773a6f9"
      },
      "source": [
        "!pip install wmd"
      ],
      "execution_count": 3,
      "outputs": [
        {
          "output_type": "stream",
          "text": [
            "Collecting wmd\n",
            "\u001b[?25l  Downloading https://files.pythonhosted.org/packages/e5/14/e1d122e56607ae49999041f372fa14166eb1e3b838122118d706f9bf1620/wmd-1.3.2.tar.gz (104kB)\n",
            "\r\u001b[K     |███▏                            | 10kB 14.7MB/s eta 0:00:01\r\u001b[K     |██████▎                         | 20kB 1.7MB/s eta 0:00:01\r\u001b[K     |█████████▍                      | 30kB 2.3MB/s eta 0:00:01\r\u001b[K     |████████████▌                   | 40kB 2.5MB/s eta 0:00:01\r\u001b[K     |███████████████▊                | 51kB 2.0MB/s eta 0:00:01\r\u001b[K     |██████████████████▉             | 61kB 2.2MB/s eta 0:00:01\r\u001b[K     |██████████████████████          | 71kB 2.5MB/s eta 0:00:01\r\u001b[K     |█████████████████████████       | 81kB 2.7MB/s eta 0:00:01\r\u001b[K     |████████████████████████████▏   | 92kB 2.9MB/s eta 0:00:01\r\u001b[K     |███████████████████████████████▍| 102kB 2.7MB/s eta 0:00:01\r\u001b[K     |████████████████████████████████| 112kB 2.7MB/s \n",
            "\u001b[?25hRequirement already satisfied: numpy in /usr/local/lib/python3.6/dist-packages (from wmd) (1.18.5)\n",
            "Building wheels for collected packages: wmd\n",
            "  Building wheel for wmd (setup.py) ... \u001b[?25l\u001b[?25hdone\n",
            "  Created wheel for wmd: filename=wmd-1.3.2-cp36-cp36m-linux_x86_64.whl size=629397 sha256=e7f52dec50a1e6425db2700d50bc5a30adc1d4847d8dc0303e34ce83d18503d7\n",
            "  Stored in directory: /root/.cache/pip/wheels/a6/4d/7a/fc3fdbc12e33c0551301543e4441fb4783c809a30451387ffd\n",
            "Successfully built wmd\n",
            "Installing collected packages: wmd\n",
            "Successfully installed wmd-1.3.2\n"
          ],
          "name": "stdout"
        }
      ]
    },
    {
      "cell_type": "code",
      "metadata": {
        "id": "B7OBsh0oMNMf",
        "colab_type": "code",
        "colab": {
          "base_uri": "https://localhost:8080/",
          "height": 521
        },
        "outputId": "ee86563b-49ef-4021-ec52-fe9a1316ce8a"
      },
      "source": [
        "!pip install wordfreq\n",
        "!git clone https://github.com/brmson/dataset-sts\n",
        "# !wget  http://nlp.stanford.edu/data/glove.840B.300d.zip"
      ],
      "execution_count": 4,
      "outputs": [
        {
          "output_type": "stream",
          "text": [
            "Collecting wordfreq\n",
            "\u001b[?25l  Downloading https://files.pythonhosted.org/packages/8f/24/a4c3d79335c2c35d84d1728614ff9115999f7218f30f73f29c81778accc7/wordfreq-2.3.2.tar.gz (32.8MB)\n",
            "\u001b[K     |████████████████████████████████| 32.8MB 120kB/s \n",
            "\u001b[?25hRequirement already satisfied: msgpack>=1.0 in /usr/local/lib/python3.6/dist-packages (from wordfreq) (1.0.0)\n",
            "Collecting langcodes>=2\n",
            "\u001b[?25l  Downloading https://files.pythonhosted.org/packages/52/1d/9b5ad179234206ad52f863c314851db7a00f69770c51d40c12c7513e628f/langcodes-2.0.0.tar.gz (4.9MB)\n",
            "\u001b[K     |████████████████████████████████| 4.9MB 41.5MB/s \n",
            "\u001b[?25hRequirement already satisfied: regex in /usr/local/lib/python3.6/dist-packages (from wordfreq) (2019.12.20)\n",
            "Collecting marisa-trie\n",
            "\u001b[?25l  Downloading https://files.pythonhosted.org/packages/20/95/d23071d0992dabcb61c948fb118a90683193befc88c23e745b050a29e7db/marisa-trie-0.7.5.tar.gz (270kB)\n",
            "\u001b[K     |████████████████████████████████| 276kB 41.9MB/s \n",
            "\u001b[?25hBuilding wheels for collected packages: wordfreq, langcodes, marisa-trie\n",
            "  Building wheel for wordfreq (setup.py) ... \u001b[?25l\u001b[?25hdone\n",
            "  Created wheel for wordfreq: filename=wordfreq-2.3.2-cp36-none-any.whl size=32817238 sha256=952504f69ffa3a22b406cae47ed4b25da31c75af1f836bb21acffbdf84311d63\n",
            "  Stored in directory: /root/.cache/pip/wheels/8d/ba/84/ba6be76208bd2c2124b6586f7967fb87e9f9fb4b4827e5e2c9\n",
            "  Building wheel for langcodes (setup.py) ... \u001b[?25l\u001b[?25hdone\n",
            "  Created wheel for langcodes: filename=langcodes-2.0.0-cp36-none-any.whl size=5044047 sha256=7416de6f8f2b25e6b7d3c53b2974de25785b666f437834c5603fb75caa42bb94\n",
            "  Stored in directory: /root/.cache/pip/wheels/c9/11/90/c7bba8118f3674d75e1457537635266a12538cf622a4684bb2\n",
            "  Building wheel for marisa-trie (setup.py) ... \u001b[?25l\u001b[?25hdone\n",
            "  Created wheel for marisa-trie: filename=marisa_trie-0.7.5-cp36-cp36m-linux_x86_64.whl size=862305 sha256=c5cdf6df07c72e286e81fda74bfda0cf282a9ae902bc9d6ef6f2aa12a38abbf7\n",
            "  Stored in directory: /root/.cache/pip/wheels/45/24/79/022624fc914f0e559fe8a1141aaff1f9df810905a13fc75d57\n",
            "Successfully built wordfreq langcodes marisa-trie\n",
            "Installing collected packages: marisa-trie, langcodes, wordfreq\n",
            "Successfully installed langcodes-2.0.0 marisa-trie-0.7.5 wordfreq-2.3.2\n",
            "Cloning into 'dataset-sts'...\n",
            "remote: Enumerating objects: 3477, done.\u001b[K\n",
            "remote: Total 3477 (delta 0), reused 0 (delta 0), pack-reused 3477\u001b[K\n",
            "Receiving objects: 100% (3477/3477), 110.86 MiB | 11.36 MiB/s, done.\n",
            "Resolving deltas: 100% (2297/2297), done.\n",
            "Checking out files: 100% (212/212), done.\n"
          ],
          "name": "stdout"
        }
      ]
    },
    {
      "cell_type": "code",
      "metadata": {
        "id": "kTypfqSvSSbu",
        "colab_type": "code",
        "colab": {
          "base_uri": "https://localhost:8080/",
          "height": 34
        },
        "outputId": "b21754ad-24d1-4f73-be5c-806d165f2328"
      },
      "source": [
        "% cd /content/drive/My Drive/NLP_Project"
      ],
      "execution_count": 5,
      "outputs": [
        {
          "output_type": "stream",
          "text": [
            "/content/drive/My Drive/NLP_Project\n"
          ],
          "name": "stdout"
        }
      ]
    },
    {
      "cell_type": "code",
      "metadata": {
        "id": "AhwXtmLnTJof",
        "colab_type": "code",
        "colab": {}
      },
      "source": [
        "%matplotlib inline\n",
        "import pandas as pd\n",
        "import numpy as np\n",
        "import matplotlib.pyplot as plt\n",
        "import zipfile\n",
        "from nltk.tokenize import word_tokenize\n",
        "from nltk.tokenize import RegexpTokenizer\n",
        "from wmd import WMD\n",
        "import wordfreq\n",
        "import pickle"
      ],
      "execution_count": 12,
      "outputs": []
    },
    {
      "cell_type": "code",
      "metadata": {
        "id": "-lEvkIPeIXGT",
        "colab_type": "code",
        "colab": {}
      },
      "source": [
        "zip_ref = zipfile.ZipFile(\"./glove.840B.300d.zip\")\n",
        "zip_ref.extractall(\"/tmp\")\n",
        "zip_ref.close()"
      ],
      "execution_count": 7,
      "outputs": []
    },
    {
      "cell_type": "code",
      "metadata": {
        "id": "6wbOBTQCTJvY",
        "colab_type": "code",
        "colab": {}
      },
      "source": [
        "glove_pd = pd.read_csv('glove_pd.csv',index_col=0)\n",
        "#glove_pd = pd.read_csv(open('glove.840B.300d.txt'), sep=\" \", quoting=3, header=None, index_col=0)\n",
        "glove = {key: val.values for key, val in glove_pd.T.items()}\n",
        "#glove_pd.to_csv('/content/drive/My Drive/NLP_Project/glove_pd.csv')\n",
        "# np.savetxt(r'/content/drive/My Drive/NLP_Project/glove.txt', glove_pd.values, fmt='%d', delimiter=' ')"
      ],
      "execution_count": 9,
      "outputs": []
    },
    {
      "cell_type": "code",
      "metadata": {
        "id": "Jpui9t3QTe7E",
        "colab_type": "code",
        "colab": {}
      },
      "source": [
        "with open('combined_data.pickle', 'rb') as handle:\n",
        "    df = pickle.load(handle)\n"
      ],
      "execution_count": 17,
      "outputs": []
    },
    {
      "cell_type": "code",
      "metadata": {
        "id": "P5wMFSDrTKvM",
        "colab_type": "code",
        "colab": {}
      },
      "source": [
        "tokenizer = RegexpTokenizer(r'\\w+')\n",
        "tokenizer.tokenize(df.iloc[9,0])\n",
        "df['text_1_tokens'] =df.text_1.apply(lambda x:tokenizer.tokenize(x)) \n",
        "df['text_2_tokens'] =df.text_2.apply(lambda x:tokenizer.tokenize(x)) \n",
        "\n",
        "def embed (sent):\n",
        "  toklist = tokenizer.tokenize(sent)\n",
        "  embs = []\n",
        "  freqs = []\n",
        "  for word in toklist:\n",
        "    try: \n",
        "      embs.append(glove[word.lower()])\n",
        "      freqs.append(wordfreq.word_frequency(word, 'en', wordlist='large'))\n",
        "    except:\n",
        "      try:\n",
        "        embs.append(glove[word.strip(\"'\")])\n",
        "        freqs.append(wordfreq.word_frequency(word, 'en', wordlist='large'))\n",
        "\n",
        "      except:\n",
        "        continue\n",
        "  return embs, freqs\n",
        "\n",
        "embed(df.iloc[9,0])\n",
        "text_1_embeddings = df.text_1.apply(lambda x: embed(x) )\n",
        "text_2_embeddings = df.text_2.apply(lambda x: embed(x) )"
      ],
      "execution_count": 21,
      "outputs": []
    },
    {
      "cell_type": "markdown",
      "metadata": {
        "id": "ZO2F6CuaWaFr",
        "colab_type": "text"
      },
      "source": [
        "# ChrFScore"
      ]
    },
    {
      "cell_type": "code",
      "metadata": {
        "id": "GWyMLeHaWeGZ",
        "colab_type": "code",
        "colab": {
          "base_uri": "https://localhost:8080/",
          "height": 34
        },
        "outputId": "af3b5ffb-e2be-4c17-f582-9bcbe786a2b0"
      },
      "source": [
        "from nltk.translate import chrf_score\n",
        "scores = []\n",
        "err=0\n",
        "for i in range(df.shape[0]):\n",
        "  try:\n",
        "    scores.append(chrf_score.sentence_chrf(df['text_1'][i],df['text_2'][i]))\n",
        "  except:\n",
        "    scores.append(0)\n",
        "    err+=1\n",
        "print( f\"Num erros: {err}\")"
      ],
      "execution_count": 51,
      "outputs": [
        {
          "output_type": "stream",
          "text": [
            "Num erros: 1\n"
          ],
          "name": "stdout"
        }
      ]
    },
    {
      "cell_type": "code",
      "metadata": {
        "id": "BVkpRIxgWliZ",
        "colab_type": "code",
        "colab": {}
      },
      "source": [
        "df['chrf_score'] = scores"
      ],
      "execution_count": 52,
      "outputs": []
    },
    {
      "cell_type": "code",
      "metadata": {
        "id": "S0i2_DGsWvWV",
        "colab_type": "code",
        "colab": {}
      },
      "source": [
        "OldMin = 0.0\n",
        "OldMax = 1.0\n",
        "NewMin = 0.0\n",
        "NewMax = 5.0\n",
        "\n",
        "new_scores = []\n",
        "for score in scores:\n",
        "    new_scores.append(((score - OldMin) * (NewMax - NewMin)) / (OldMax - OldMin) + NewMin)\n",
        "\n",
        "\n",
        "df['chrf_score_norm'] = new_scores"
      ],
      "execution_count": 54,
      "outputs": []
    },
    {
      "cell_type": "code",
      "metadata": {
        "id": "GzXL7oJQXYR9",
        "colab_type": "code",
        "colab": {}
      },
      "source": [
        "with open('combined_data.pickle', 'wb') as handle:\n",
        "    pickle.dump(df, handle, protocol=pickle.HIGHEST_PROTOCOL)"
      ],
      "execution_count": 55,
      "outputs": []
    }
  ]
}