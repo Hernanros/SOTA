{
 "metadata": {
  "language_info": {
   "codemirror_mode": {
    "name": "ipython",
    "version": 3
   },
   "file_extension": ".py",
   "mimetype": "text/x-python",
   "name": "python",
   "nbconvert_exporter": "python",
   "pygments_lexer": "ipython3",
   "version": "3.6.9-final"
  },
  "orig_nbformat": 2,
  "kernelspec": {
   "name": "python36964bitea4ac4decffd43fbb15ec47e3f649e63",
   "display_name": "Python 3.6.9 64-bit"
  }
 },
 "nbformat": 4,
 "nbformat_minor": 2,
 "cells": [
  {
   "cell_type": "code",
   "execution_count": 1,
   "metadata": {},
   "outputs": [],
   "source": [
    "import numpy as np\n",
    "import pandas as pd\n",
    "import matplotlib.pyplot as plt\n",
    "import seaborn as sns\n",
    "import os\n",
    "import glob\n",
    "import tqdm\n",
    "from scipy.stats import pearsonr as pcorr\n",
    "import itertools"
   ]
  },
  {
   "cell_type": "code",
   "execution_count": 2,
   "metadata": {},
   "outputs": [],
   "source": [
    "PATH_ROOT = \"/home/shaul/workspace/GitHub/SOTA/\""
   ]
  },
  {
   "cell_type": "code",
   "execution_count": 3,
   "metadata": {
    "tags": []
   },
   "outputs": [
    {
     "output_type": "stream",
     "name": "stdout",
     "text": "/home/shaul/workspace/GitHub/SOTA\n"
    }
   ],
   "source": [
    "cd {PATH_ROOT}"
   ]
  },
  {
   "cell_type": "code",
   "execution_count": 4,
   "metadata": {},
   "outputs": [],
   "source": [
    "df = pd.read_csv('/home/shaul/workspace/GitHub/SOTA/data/combined/with_annotators/combined_dataset.csv', index_col= 0)"
   ]
  },
  {
   "cell_type": "code",
   "execution_count": 5,
   "metadata": {
    "tags": []
   },
   "outputs": [],
   "source": [
    "if \"annotator\" not in df.columns:\n",
    "    # Older version of the combined dataset with the annotator\n",
    "    df2 = pd.read_csv('/home/shaul/workspace/GitHub/SOTA/data/combined_dataset.csv.1', index_col = 0)\n",
    "    df['annotator'] = df2.annotator"
   ]
  },
  {
   "cell_type": "code",
   "execution_count": 6,
   "metadata": {},
   "outputs": [],
   "source": [
    "non_metric_columns = ['text1','text2','label','dataset','random','duration','total_seconds','pair_id','reduced_label','annotator']"
   ]
  },
  {
   "cell_type": "code",
   "execution_count": 76,
   "metadata": {},
   "outputs": [],
   "source": [
    "def get_corr(df: pd.DataFrame, bad_annotator: list) -> dict:\n",
    "    '''\n",
    "    Get the correlation between the various metrics and the human labeling filtering out particular \"bad annotators\"\n",
    "\n",
    "    parameters:\n",
    "        df -- {pd.DataFrame} -- combined dataset\n",
    "        bad_annotator -- {list} -- list of all the annotator ID's we want to filter out\n",
    "\n",
    "    return:\n",
    "        {pd.DataFrame} - correlations by each dataset of metric and human label\n",
    "        {pd.DataFrame} - correlations by each dataset of metric and reduced human label (-1,0,1)\n",
    "        {pd.Series} - correlations of all datasets of metric and human label\n",
    "        {pd.Series} - correlations of all datasets of metris and reduced human label\n",
    "    '''\n",
    "\n",
    "    if bad_annotator is not None:\n",
    "        df = df[~df.annotator.isin(bad_annotator)]\n",
    "        #Remove all pairs if there is only one annotator\n",
    "        df = df.groupby('pair_id').filter(lambda x: x.annotator.count() >= 2)\n",
    "\n",
    "    metrics = [x for x in df.columns if x not in non_metric_columns]\n",
    "    all_labels = metrics + ['label'] + ['reduced_label']\n",
    "    df = df.groupby(['pair_id','dataset','random'])[all_labels].mean().reset_index()\n",
    "\n",
    "    label_corr = dict()\n",
    "    reduced_label_corr = dict()\n",
    "\n",
    "    #Iterate through the datasets and get the correlation of each metric with label & reduced label (separately)\n",
    "    for name,group in df.groupby('dataset'):\n",
    "        label_corr[name] = group[metrics].corrwith(group['label'])\n",
    "        reduced_label_corr[name] = group[metrics].corrwith(group['reduced_label'])\n",
    "\n",
    "    combined_datasets_label_corr = df[metrics].corrwith(df['label'])\n",
    "    combined_datasets_reduced_label_corr = df[metrics].corrwith(df['reduced_label'])\n",
    "\n",
    "    random_label_corr = dict()\n",
    "    random_reduced_label_corr = dict()\n",
    "\n",
    "    for name,group in df.groupby('random'):\n",
    "        random_label_corr[name] = group[metrics].corrwith(group['label'])\n",
    "        random_reduced_label_corr[name] = group[metrics].corrwith(group['reduced_label'])\n",
    "\n",
    "    correlations_dict = dict()\n",
    "    correlations_dict['label_by_dataset'] = pd.DataFrame.from_dict(label_corr).T\n",
    "    correlations_dict['reduced_label_by_dataset'] = pd.DataFrame.from_dict(reduced_label_corr).T\n",
    "    correlations_dict['label_by_random'] = pd.DataFrame.from_dict(random_label_corr).T \n",
    "    correlations_dict['reduced_label_by_random'] = pd.DataFrame.from_dict(random_reduced_label_corr).T\n",
    "    correlations_dict['label_by_combined'] = pd.Series(combined_datasets_label_corr)\n",
    "    correlations_dict['reduced_label_by_combined'] = pd.Series(combined_datasets_reduced_label_corr)\n",
    "    return correlations_dict"
   ]
  },
  {
   "cell_type": "code",
   "execution_count": 77,
   "metadata": {
    "tags": []
   },
   "outputs": [],
   "source": [
    "test = get_corr(df,None)"
   ]
  },
  {
   "cell_type": "code",
   "execution_count": 126,
   "metadata": {},
   "outputs": [],
   "source": [
    "with open('/home/shaul/workspace/GitHub/SOTA/data/other/ba_all.txt','r+') as f:\n",
    "    list_ba = f.read().splitlines() "
   ]
  },
  {
   "cell_type": "code",
   "execution_count": 127,
   "metadata": {},
   "outputs": [],
   "source": [
    "dict_baseline = get_corr(df,None)\n",
    "dict_filtered = get_corr(df,list_ba)"
   ]
  },
  {
   "cell_type": "code",
   "execution_count": 128,
   "metadata": {},
   "outputs": [],
   "source": [
    "def compare_correlations(dict_baseline, dict_filtered):\n",
    "\n",
    "    ab_dict = dict()\n",
    "\n",
    "    for key in dict_baseline.keys():\n",
    "        ab_dict[key] = dict_filtered[key] - dict_baseline[key]\n",
    "\n",
    "    return ab_dict"
   ]
  },
  {
   "cell_type": "code",
   "execution_count": 129,
   "metadata": {},
   "outputs": [],
   "source": [
    "ab_dict = compare_correlations(dict_baseline,dict_filtered)"
   ]
  },
  {
   "cell_type": "code",
   "execution_count": 132,
   "metadata": {},
   "outputs": [
    {
     "output_type": "execute_result",
     "data": {
      "text/plain": "       bleu     bleu1  glove_cosine  fasttext_cosine  BertScore  chrfScore  \\\n0 -0.008881  0.007736     -0.018534        -0.037464  -0.003839   0.000465   \n1 -0.051604 -0.043984      0.034127         0.045167   0.006353  -0.050304   \n\n   POS Dist score  1-gram_overlap   ROUGE-1   ROUGE-2   ROUGE-l  \n0        0.030275       -0.004488  0.003180  0.007254  0.007926  \n1        0.005076       -0.048799 -0.038395 -0.049176 -0.030126  ",
      "text/html": "<div>\n<style scoped>\n    .dataframe tbody tr th:only-of-type {\n        vertical-align: middle;\n    }\n\n    .dataframe tbody tr th {\n        vertical-align: top;\n    }\n\n    .dataframe thead th {\n        text-align: right;\n    }\n</style>\n<table border=\"1\" class=\"dataframe\">\n  <thead>\n    <tr style=\"text-align: right;\">\n      <th></th>\n      <th>bleu</th>\n      <th>bleu1</th>\n      <th>glove_cosine</th>\n      <th>fasttext_cosine</th>\n      <th>BertScore</th>\n      <th>chrfScore</th>\n      <th>POS Dist score</th>\n      <th>1-gram_overlap</th>\n      <th>ROUGE-1</th>\n      <th>ROUGE-2</th>\n      <th>ROUGE-l</th>\n    </tr>\n  </thead>\n  <tbody>\n    <tr>\n      <th>0</th>\n      <td>-0.008881</td>\n      <td>0.007736</td>\n      <td>-0.018534</td>\n      <td>-0.037464</td>\n      <td>-0.003839</td>\n      <td>0.000465</td>\n      <td>0.030275</td>\n      <td>-0.004488</td>\n      <td>0.003180</td>\n      <td>0.007254</td>\n      <td>0.007926</td>\n    </tr>\n    <tr>\n      <th>1</th>\n      <td>-0.051604</td>\n      <td>-0.043984</td>\n      <td>0.034127</td>\n      <td>0.045167</td>\n      <td>0.006353</td>\n      <td>-0.050304</td>\n      <td>0.005076</td>\n      <td>-0.048799</td>\n      <td>-0.038395</td>\n      <td>-0.049176</td>\n      <td>-0.030126</td>\n    </tr>\n  </tbody>\n</table>\n</div>"
     },
     "metadata": {},
     "execution_count": 132
    }
   ],
   "source": [
    "ab_dict['reduced_label_by_random']"
   ]
  },
  {
   "cell_type": "code",
   "execution_count": null,
   "metadata": {},
   "outputs": [],
   "source": []
  }
 ]
}