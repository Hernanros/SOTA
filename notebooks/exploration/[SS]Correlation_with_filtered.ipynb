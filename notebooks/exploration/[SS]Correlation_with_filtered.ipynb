{
 "metadata": {
  "language_info": {
   "codemirror_mode": {
    "name": "ipython",
    "version": 3
   },
   "file_extension": ".py",
   "mimetype": "text/x-python",
   "name": "python",
   "nbconvert_exporter": "python",
   "pygments_lexer": "ipython3",
   "version": "3.6.9-final"
  },
  "orig_nbformat": 2,
  "kernelspec": {
   "name": "python36964bitvenvsota2a52fafe8a1b4755b5f4443267bc72b3",
   "display_name": "Python 3.6.9 64-bit ('venv_sota')"
  }
 },
 "nbformat": 4,
 "nbformat_minor": 2,
 "cells": [
  {
   "cell_type": "code",
   "execution_count": 100,
   "metadata": {},
   "outputs": [
    {
     "output_type": "stream",
     "name": "stdout",
     "text": [
      "The autoreload extension is already loaded. To reload it, use:\n  %reload_ext autoreload\n"
     ]
    }
   ],
   "source": [
    "%load_ext autoreload\n",
    "%autoreload 2"
   ]
  },
  {
   "cell_type": "code",
   "execution_count": 3,
   "metadata": {},
   "outputs": [],
   "source": [
    "PATH_ROOT = \"/home/shaul/workspace/GitHub/SOTA/\""
   ]
  },
  {
   "cell_type": "code",
   "execution_count": 4,
   "metadata": {
    "tags": []
   },
   "outputs": [
    {
     "output_type": "stream",
     "name": "stdout",
     "text": [
      "/home/shaul/workspace/GitHub/SOTA\n"
     ]
    }
   ],
   "source": [
    "cd {PATH_ROOT}"
   ]
  },
  {
   "cell_type": "code",
   "execution_count": 5,
   "metadata": {},
   "outputs": [
    {
     "output_type": "stream",
     "name": "stderr",
     "text": [
      "INFO:gensim.corpora.dictionary:adding document #0 to Dictionary(0 unique tokens: [])\n",
      "INFO:gensim.corpora.dictionary:built Dictionary(12 unique tokens: ['computer', 'human', 'interface', 'response', 'survey']...) from 9 documents (total 29 corpus positions)\n",
      "[nltk_data] Downloading package stopwords to /home/shaul/nltk_data...\n",
      "[nltk_data]   Package stopwords is already up-to-date!\n"
     ]
    }
   ],
   "source": [
    "import numpy as np\n",
    "import pandas as pd\n",
    "import matplotlib.pyplot as plt\n",
    "import seaborn as sns\n",
    "import os\n",
    "import math\n",
    "import glob\n",
    "import tqdm\n",
    "from scipy.stats import pearsonr as pcorr\n",
    "import itertools\n",
    "import re\n",
    "from sklearn.model_selection import train_test_split \n",
    "from sklearn.tree import DecisionTreeClassifier\n",
    "from sklearn.ensemble import RandomForestRegressor\n",
    "from sklearn.metrics import mean_squared_error\n",
    "from sklearn import preprocessing\n",
    "from ipywidgets import interact\n",
    "from src import metric_exploration"
   ]
  },
  {
   "cell_type": "code",
   "execution_count": 6,
   "metadata": {},
   "outputs": [],
   "source": [
    "df = pd.read_csv('/home/shaul/workspace/GitHub/SOTA/data/full_DS/full_metrics.csv', index_col= 0)\n",
    "\n",
    "df.dropna(inplace=True)\n",
    "\n",
    "with open('/home/shaul/workspace/GitHub/SOTA/data/other/ba_all.txt','r+') as f:\n",
    "    list_ba = f.read().splitlines() \n",
    "df_filtered = df[~df.annotator.isin(list_ba)]"
   ]
  },
  {
   "cell_type": "code",
   "execution_count": 114,
   "metadata": {},
   "outputs": [],
   "source": [
    "non_metric_columns = ['text1','text2','label','dataset','random','duration','total_seconds','pair_id','reduced_label','annotator','radical','radical_random','radical_non_random','radical_or_centralist','num_labels','bad_annotator']\n",
    "categories = ['dataset', 'random'] #['radical_or_centralist']\n",
    "\n",
    "metrics = [x for x in df.columns if x not in non_metric_columns]\n",
    "all_labels = metrics + ['label'] + ['reduced_label']"
   ]
  },
  {
   "cell_type": "code",
   "execution_count": 115,
   "metadata": {},
   "outputs": [],
   "source": [
    "datasets_not_ivan = ['bible_random_human','paralex_random_human','paraphrase_random_human']\n",
    "datasets_with_ivan = [column for column in df.dataset.unique() if column not in datasets_not_ivan]"
   ]
  },
  {
   "cell_type": "code",
   "execution_count": 116,
   "metadata": {},
   "outputs": [],
   "source": [
    "non_random_columns = [column for column in df.dataset.unique() if (\"random\" not in column)]"
   ]
  },
  {
   "cell_type": "code",
   "execution_count": 117,
   "metadata": {},
   "outputs": [],
   "source": [
    "df_ivan = df[df['dataset'].isin(datasets_with_ivan)]"
   ]
  },
  {
   "source": [
    "## Rank-induced Orders"
   ],
   "cell_type": "markdown",
   "metadata": {}
  },
  {
   "cell_type": "code",
   "execution_count": 42,
   "metadata": {},
   "outputs": [],
   "source": [
    "rank_induced_base = df.groupby('dataset')[all_labels].mean().rank(ascending=False).T\n",
    "rank_induced_filt = df_filtered.groupby('dataset')[all_labels].mean().rank(ascending=False).T"
   ]
  },
  {
   "cell_type": "code",
   "execution_count": 77,
   "metadata": {},
   "outputs": [
    {
     "output_type": "execute_result",
     "data": {
      "text/plain": [
       "dataset          bible_human  bible_random_human  gyafc_formal_human  \\\n",
       "bleu                     1.0                10.0                 2.0   \n",
       "bleu1                    1.0                 9.0                 2.0   \n",
       "glove_cosine            14.0                 8.0                13.0   \n",
       "fasttext_cosine         14.0                 8.0                13.0   \n",
       "BertScore                2.0                13.0                 1.0   \n",
       "chrfScore                1.0                 8.0                 3.0   \n",
       "POS Dist score          10.0                 1.0                12.0   \n",
       "1-gram_overlap           2.0                 9.0                 1.0   \n",
       "ROUGE-1                  1.0                 9.0                 2.0   \n",
       "ROUGE-2                  3.0                 9.0                 1.0   \n",
       "ROUGE-l                  2.0                 9.0                 1.0   \n",
       "L2_score                14.0                 7.0                13.0   \n",
       "WMD                     12.0                 6.0                14.0   \n",
       "label                    4.0                 8.0                 2.0   \n",
       "reduced_label            4.0                 8.0                 3.0   \n",
       "\n",
       "dataset          gyafc_formal_random_human  gyafc_informal_human  \\\n",
       "bleu                                   9.0                   5.0   \n",
       "bleu1                                 10.0                   7.0   \n",
       "glove_cosine                           7.0                   9.0   \n",
       "fasttext_cosine                        7.0                   9.0   \n",
       "BertScore                             10.0                   7.0   \n",
       "chrfScore                             10.0                   7.0   \n",
       "POS Dist score                         5.0                   7.0   \n",
       "1-gram_overlap                        10.0                   6.0   \n",
       "ROUGE-1                               10.0                   6.0   \n",
       "ROUGE-2                               11.0                   6.0   \n",
       "ROUGE-l                               10.0                   7.0   \n",
       "L2_score                               6.0                  10.0   \n",
       "WMD                                    7.0                   8.0   \n",
       "label                                 11.0                   5.0   \n",
       "reduced_label                         11.0                   5.0   \n",
       "\n",
       "dataset          gyafc_informal_random_human  gyafc_rewrites_human  \\\n",
       "bleu                                     8.0                   3.0   \n",
       "bleu1                                   13.0                   3.0   \n",
       "glove_cosine                             5.0                  12.0   \n",
       "fasttext_cosine                          5.0                  12.0   \n",
       "BertScore                               14.0                   4.0   \n",
       "chrfScore                               13.0                   2.0   \n",
       "POS Dist score                           4.0                  11.0   \n",
       "1-gram_overlap                          13.0                   3.0   \n",
       "ROUGE-1                                 12.0                   3.0   \n",
       "ROUGE-2                                 10.0                   2.0   \n",
       "ROUGE-l                                 12.0                   3.0   \n",
       "L2_score                                 5.0                  12.0   \n",
       "WMD                                      3.0                  11.0   \n",
       "label                                   10.0                   1.0   \n",
       "reduced_label                           10.0                   1.0   \n",
       "\n",
       "dataset          gyafc_rewrites_random_human  paralex_human  \\\n",
       "bleu                                    12.0            6.0   \n",
       "bleu1                                   12.0            5.0   \n",
       "glove_cosine                             6.0           10.0   \n",
       "fasttext_cosine                          6.0           11.0   \n",
       "BertScore                               12.0            6.0   \n",
       "chrfScore                               12.0            5.0   \n",
       "POS Dist score                           3.0            8.0   \n",
       "1-gram_overlap                          12.0            5.0   \n",
       "ROUGE-1                                 13.0            5.0   \n",
       "ROUGE-2                                 12.0            5.0   \n",
       "ROUGE-l                                 13.0            5.0   \n",
       "L2_score                                 4.0            9.0   \n",
       "WMD                                      5.0           13.0   \n",
       "label                                   12.0            6.0   \n",
       "reduced_label                           12.0            6.0   \n",
       "\n",
       "dataset          paralex_random_human  paraphrase_human  \\\n",
       "bleu                             11.0               7.0   \n",
       "bleu1                             8.0               6.0   \n",
       "glove_cosine                      3.0               2.0   \n",
       "fasttext_cosine                   3.0               2.0   \n",
       "BertScore                         8.0               5.0   \n",
       "chrfScore                         9.0               6.0   \n",
       "POS Dist score                    2.0              13.0   \n",
       "1-gram_overlap                    8.0               7.0   \n",
       "ROUGE-1                           8.0               7.0   \n",
       "ROUGE-2                           8.0               7.0   \n",
       "ROUGE-l                           8.0               6.0   \n",
       "L2_score                          3.0               8.0   \n",
       "WMD                               2.0               9.0   \n",
       "label                            14.0               3.0   \n",
       "reduced_label                    13.0               2.0   \n",
       "\n",
       "dataset          paraphrase_random_human  yelp_human  yelp_random_human  \n",
       "bleu                                14.0         4.0               13.0  \n",
       "bleu1                               14.0         4.0               11.0  \n",
       "glove_cosine                         1.0        11.0                4.0  \n",
       "fasttext_cosine                      1.0        10.0                4.0  \n",
       "BertScore                           11.0         3.0                9.0  \n",
       "chrfScore                           14.0         4.0               11.0  \n",
       "POS Dist score                       9.0        14.0                6.0  \n",
       "1-gram_overlap                      14.0         4.0               11.0  \n",
       "ROUGE-1                             14.0         4.0               11.0  \n",
       "ROUGE-2                             14.0         4.0               13.0  \n",
       "ROUGE-l                             14.0         4.0               11.0  \n",
       "L2_score                             1.0        11.0                2.0  \n",
       "WMD                                  1.0        10.0                4.0  \n",
       "label                               13.0         7.0                9.0  \n",
       "reduced_label                       14.0         7.0                9.0  "
      ],
      "text/html": "<div>\n<style scoped>\n    .dataframe tbody tr th:only-of-type {\n        vertical-align: middle;\n    }\n\n    .dataframe tbody tr th {\n        vertical-align: top;\n    }\n\n    .dataframe thead th {\n        text-align: right;\n    }\n</style>\n<table border=\"1\" class=\"dataframe\">\n  <thead>\n    <tr style=\"text-align: right;\">\n      <th>dataset</th>\n      <th>bible_human</th>\n      <th>bible_random_human</th>\n      <th>gyafc_formal_human</th>\n      <th>gyafc_formal_random_human</th>\n      <th>gyafc_informal_human</th>\n      <th>gyafc_informal_random_human</th>\n      <th>gyafc_rewrites_human</th>\n      <th>gyafc_rewrites_random_human</th>\n      <th>paralex_human</th>\n      <th>paralex_random_human</th>\n      <th>paraphrase_human</th>\n      <th>paraphrase_random_human</th>\n      <th>yelp_human</th>\n      <th>yelp_random_human</th>\n    </tr>\n  </thead>\n  <tbody>\n    <tr>\n      <th>bleu</th>\n      <td>1.0</td>\n      <td>10.0</td>\n      <td>2.0</td>\n      <td>9.0</td>\n      <td>5.0</td>\n      <td>8.0</td>\n      <td>3.0</td>\n      <td>12.0</td>\n      <td>6.0</td>\n      <td>11.0</td>\n      <td>7.0</td>\n      <td>14.0</td>\n      <td>4.0</td>\n      <td>13.0</td>\n    </tr>\n    <tr>\n      <th>bleu1</th>\n      <td>1.0</td>\n      <td>9.0</td>\n      <td>2.0</td>\n      <td>10.0</td>\n      <td>7.0</td>\n      <td>13.0</td>\n      <td>3.0</td>\n      <td>12.0</td>\n      <td>5.0</td>\n      <td>8.0</td>\n      <td>6.0</td>\n      <td>14.0</td>\n      <td>4.0</td>\n      <td>11.0</td>\n    </tr>\n    <tr>\n      <th>glove_cosine</th>\n      <td>14.0</td>\n      <td>8.0</td>\n      <td>13.0</td>\n      <td>7.0</td>\n      <td>9.0</td>\n      <td>5.0</td>\n      <td>12.0</td>\n      <td>6.0</td>\n      <td>10.0</td>\n      <td>3.0</td>\n      <td>2.0</td>\n      <td>1.0</td>\n      <td>11.0</td>\n      <td>4.0</td>\n    </tr>\n    <tr>\n      <th>fasttext_cosine</th>\n      <td>14.0</td>\n      <td>8.0</td>\n      <td>13.0</td>\n      <td>7.0</td>\n      <td>9.0</td>\n      <td>5.0</td>\n      <td>12.0</td>\n      <td>6.0</td>\n      <td>11.0</td>\n      <td>3.0</td>\n      <td>2.0</td>\n      <td>1.0</td>\n      <td>10.0</td>\n      <td>4.0</td>\n    </tr>\n    <tr>\n      <th>BertScore</th>\n      <td>2.0</td>\n      <td>13.0</td>\n      <td>1.0</td>\n      <td>10.0</td>\n      <td>7.0</td>\n      <td>14.0</td>\n      <td>4.0</td>\n      <td>12.0</td>\n      <td>6.0</td>\n      <td>8.0</td>\n      <td>5.0</td>\n      <td>11.0</td>\n      <td>3.0</td>\n      <td>9.0</td>\n    </tr>\n    <tr>\n      <th>chrfScore</th>\n      <td>1.0</td>\n      <td>8.0</td>\n      <td>3.0</td>\n      <td>10.0</td>\n      <td>7.0</td>\n      <td>13.0</td>\n      <td>2.0</td>\n      <td>12.0</td>\n      <td>5.0</td>\n      <td>9.0</td>\n      <td>6.0</td>\n      <td>14.0</td>\n      <td>4.0</td>\n      <td>11.0</td>\n    </tr>\n    <tr>\n      <th>POS Dist score</th>\n      <td>10.0</td>\n      <td>1.0</td>\n      <td>12.0</td>\n      <td>5.0</td>\n      <td>7.0</td>\n      <td>4.0</td>\n      <td>11.0</td>\n      <td>3.0</td>\n      <td>8.0</td>\n      <td>2.0</td>\n      <td>13.0</td>\n      <td>9.0</td>\n      <td>14.0</td>\n      <td>6.0</td>\n    </tr>\n    <tr>\n      <th>1-gram_overlap</th>\n      <td>2.0</td>\n      <td>9.0</td>\n      <td>1.0</td>\n      <td>10.0</td>\n      <td>6.0</td>\n      <td>13.0</td>\n      <td>3.0</td>\n      <td>12.0</td>\n      <td>5.0</td>\n      <td>8.0</td>\n      <td>7.0</td>\n      <td>14.0</td>\n      <td>4.0</td>\n      <td>11.0</td>\n    </tr>\n    <tr>\n      <th>ROUGE-1</th>\n      <td>1.0</td>\n      <td>9.0</td>\n      <td>2.0</td>\n      <td>10.0</td>\n      <td>6.0</td>\n      <td>12.0</td>\n      <td>3.0</td>\n      <td>13.0</td>\n      <td>5.0</td>\n      <td>8.0</td>\n      <td>7.0</td>\n      <td>14.0</td>\n      <td>4.0</td>\n      <td>11.0</td>\n    </tr>\n    <tr>\n      <th>ROUGE-2</th>\n      <td>3.0</td>\n      <td>9.0</td>\n      <td>1.0</td>\n      <td>11.0</td>\n      <td>6.0</td>\n      <td>10.0</td>\n      <td>2.0</td>\n      <td>12.0</td>\n      <td>5.0</td>\n      <td>8.0</td>\n      <td>7.0</td>\n      <td>14.0</td>\n      <td>4.0</td>\n      <td>13.0</td>\n    </tr>\n    <tr>\n      <th>ROUGE-l</th>\n      <td>2.0</td>\n      <td>9.0</td>\n      <td>1.0</td>\n      <td>10.0</td>\n      <td>7.0</td>\n      <td>12.0</td>\n      <td>3.0</td>\n      <td>13.0</td>\n      <td>5.0</td>\n      <td>8.0</td>\n      <td>6.0</td>\n      <td>14.0</td>\n      <td>4.0</td>\n      <td>11.0</td>\n    </tr>\n    <tr>\n      <th>L2_score</th>\n      <td>14.0</td>\n      <td>7.0</td>\n      <td>13.0</td>\n      <td>6.0</td>\n      <td>10.0</td>\n      <td>5.0</td>\n      <td>12.0</td>\n      <td>4.0</td>\n      <td>9.0</td>\n      <td>3.0</td>\n      <td>8.0</td>\n      <td>1.0</td>\n      <td>11.0</td>\n      <td>2.0</td>\n    </tr>\n    <tr>\n      <th>WMD</th>\n      <td>12.0</td>\n      <td>6.0</td>\n      <td>14.0</td>\n      <td>7.0</td>\n      <td>8.0</td>\n      <td>3.0</td>\n      <td>11.0</td>\n      <td>5.0</td>\n      <td>13.0</td>\n      <td>2.0</td>\n      <td>9.0</td>\n      <td>1.0</td>\n      <td>10.0</td>\n      <td>4.0</td>\n    </tr>\n    <tr>\n      <th>label</th>\n      <td>4.0</td>\n      <td>8.0</td>\n      <td>2.0</td>\n      <td>11.0</td>\n      <td>5.0</td>\n      <td>10.0</td>\n      <td>1.0</td>\n      <td>12.0</td>\n      <td>6.0</td>\n      <td>14.0</td>\n      <td>3.0</td>\n      <td>13.0</td>\n      <td>7.0</td>\n      <td>9.0</td>\n    </tr>\n    <tr>\n      <th>reduced_label</th>\n      <td>4.0</td>\n      <td>8.0</td>\n      <td>3.0</td>\n      <td>11.0</td>\n      <td>5.0</td>\n      <td>10.0</td>\n      <td>1.0</td>\n      <td>12.0</td>\n      <td>6.0</td>\n      <td>13.0</td>\n      <td>2.0</td>\n      <td>14.0</td>\n      <td>7.0</td>\n      <td>9.0</td>\n    </tr>\n  </tbody>\n</table>\n</div>"
     },
     "metadata": {},
     "execution_count": 77
    }
   ],
   "source": [
    "rank_induced_base"
   ]
  },
  {
   "cell_type": "code",
   "execution_count": 78,
   "metadata": {},
   "outputs": [
    {
     "output_type": "execute_result",
     "data": {
      "text/plain": [
       "dataset          bible_human  bible_random_human  gyafc_formal_human  \\\n",
       "bleu                     2.0                10.0                 1.0   \n",
       "bleu1                    1.0                 9.0                 2.0   \n",
       "glove_cosine            14.0                 8.0                13.0   \n",
       "fasttext_cosine         14.0                 8.0                13.0   \n",
       "BertScore                2.0                13.0                 1.0   \n",
       "chrfScore                1.0                 8.0                 3.0   \n",
       "POS Dist score          10.0                 1.0                12.0   \n",
       "1-gram_overlap           3.0                 9.0                 1.0   \n",
       "ROUGE-1                  2.0                 9.0                 1.0   \n",
       "ROUGE-2                  3.0                 9.0                 1.0   \n",
       "ROUGE-l                  3.0                 9.0                 1.0   \n",
       "L2_score                14.0                 7.0                13.0   \n",
       "WMD                     11.0                 6.0                14.0   \n",
       "label                    5.0                 9.0                 2.0   \n",
       "reduced_label            4.0                11.0                 2.0   \n",
       "\n",
       "dataset          gyafc_formal_random_human  gyafc_informal_human  \\\n",
       "bleu                                   9.0                   5.0   \n",
       "bleu1                                 10.0                   7.0   \n",
       "glove_cosine                           7.0                   9.0   \n",
       "fasttext_cosine                        7.0                   9.0   \n",
       "BertScore                             10.0                   7.0   \n",
       "chrfScore                             10.0                   7.0   \n",
       "POS Dist score                         5.0                   7.0   \n",
       "1-gram_overlap                        10.0                   6.0   \n",
       "ROUGE-1                               10.0                   7.0   \n",
       "ROUGE-2                               10.0                   6.0   \n",
       "ROUGE-l                               10.0                   7.0   \n",
       "L2_score                               6.0                  10.0   \n",
       "WMD                                    7.0                   8.0   \n",
       "label                                 14.0                   4.0   \n",
       "reduced_label                         13.0                   5.0   \n",
       "\n",
       "dataset          gyafc_informal_random_human  gyafc_rewrites_human  \\\n",
       "bleu                                     8.0                   3.0   \n",
       "bleu1                                   13.0                   3.0   \n",
       "glove_cosine                             5.0                  12.0   \n",
       "fasttext_cosine                          5.0                  12.0   \n",
       "BertScore                               14.0                   4.0   \n",
       "chrfScore                               13.0                   2.0   \n",
       "POS Dist score                           4.0                  11.0   \n",
       "1-gram_overlap                          13.0                   2.0   \n",
       "ROUGE-1                                 11.0                   3.0   \n",
       "ROUGE-2                                 11.0                   2.0   \n",
       "ROUGE-l                                 11.0                   2.0   \n",
       "L2_score                                 5.0                  12.0   \n",
       "WMD                                      3.0                  12.0   \n",
       "label                                    8.0                   1.0   \n",
       "reduced_label                            8.0                   1.0   \n",
       "\n",
       "dataset          gyafc_rewrites_random_human  paralex_human  \\\n",
       "bleu                                    12.0            6.0   \n",
       "bleu1                                   12.0            5.0   \n",
       "glove_cosine                             6.0           10.0   \n",
       "fasttext_cosine                          6.0           11.0   \n",
       "BertScore                               12.0            5.0   \n",
       "chrfScore                               12.0            5.0   \n",
       "POS Dist score                           3.0            8.0   \n",
       "1-gram_overlap                          12.0            5.0   \n",
       "ROUGE-1                                 13.0            4.0   \n",
       "ROUGE-2                                 12.0            5.0   \n",
       "ROUGE-l                                 13.0            5.0   \n",
       "L2_score                                 4.0            9.0   \n",
       "WMD                                      5.0           13.0   \n",
       "label                                   10.0            6.0   \n",
       "reduced_label                           10.0            6.0   \n",
       "\n",
       "dataset          paralex_random_human  paraphrase_human  \\\n",
       "bleu                             11.0               7.0   \n",
       "bleu1                             8.0               6.0   \n",
       "glove_cosine                      3.0               2.0   \n",
       "fasttext_cosine                   3.0               2.0   \n",
       "BertScore                         8.0               6.0   \n",
       "chrfScore                         9.0               6.0   \n",
       "POS Dist score                    2.0              14.0   \n",
       "1-gram_overlap                    8.0               7.0   \n",
       "ROUGE-1                           8.0               6.0   \n",
       "ROUGE-2                           8.0               7.0   \n",
       "ROUGE-l                           8.0               6.0   \n",
       "L2_score                          3.0               8.0   \n",
       "WMD                               2.0               9.0   \n",
       "label                            13.0               3.0   \n",
       "reduced_label                    12.0               3.0   \n",
       "\n",
       "dataset          paraphrase_random_human  yelp_human  yelp_random_human  \n",
       "bleu                                14.0         4.0               13.0  \n",
       "bleu1                               14.0         4.0               11.0  \n",
       "glove_cosine                         1.0        11.0                4.0  \n",
       "fasttext_cosine                      1.0        10.0                4.0  \n",
       "BertScore                           11.0         3.0                9.0  \n",
       "chrfScore                           14.0         4.0               11.0  \n",
       "POS Dist score                       9.0        13.0                6.0  \n",
       "1-gram_overlap                      14.0         4.0               11.0  \n",
       "ROUGE-1                             14.0         5.0               12.0  \n",
       "ROUGE-2                             14.0         4.0               13.0  \n",
       "ROUGE-l                             14.0         4.0               12.0  \n",
       "L2_score                             1.0        11.0                2.0  \n",
       "WMD                                  1.0        10.0                4.0  \n",
       "label                               12.0         7.0               11.0  \n",
       "reduced_label                       14.0         7.0                9.0  "
      ],
      "text/html": "<div>\n<style scoped>\n    .dataframe tbody tr th:only-of-type {\n        vertical-align: middle;\n    }\n\n    .dataframe tbody tr th {\n        vertical-align: top;\n    }\n\n    .dataframe thead th {\n        text-align: right;\n    }\n</style>\n<table border=\"1\" class=\"dataframe\">\n  <thead>\n    <tr style=\"text-align: right;\">\n      <th>dataset</th>\n      <th>bible_human</th>\n      <th>bible_random_human</th>\n      <th>gyafc_formal_human</th>\n      <th>gyafc_formal_random_human</th>\n      <th>gyafc_informal_human</th>\n      <th>gyafc_informal_random_human</th>\n      <th>gyafc_rewrites_human</th>\n      <th>gyafc_rewrites_random_human</th>\n      <th>paralex_human</th>\n      <th>paralex_random_human</th>\n      <th>paraphrase_human</th>\n      <th>paraphrase_random_human</th>\n      <th>yelp_human</th>\n      <th>yelp_random_human</th>\n    </tr>\n  </thead>\n  <tbody>\n    <tr>\n      <th>bleu</th>\n      <td>2.0</td>\n      <td>10.0</td>\n      <td>1.0</td>\n      <td>9.0</td>\n      <td>5.0</td>\n      <td>8.0</td>\n      <td>3.0</td>\n      <td>12.0</td>\n      <td>6.0</td>\n      <td>11.0</td>\n      <td>7.0</td>\n      <td>14.0</td>\n      <td>4.0</td>\n      <td>13.0</td>\n    </tr>\n    <tr>\n      <th>bleu1</th>\n      <td>1.0</td>\n      <td>9.0</td>\n      <td>2.0</td>\n      <td>10.0</td>\n      <td>7.0</td>\n      <td>13.0</td>\n      <td>3.0</td>\n      <td>12.0</td>\n      <td>5.0</td>\n      <td>8.0</td>\n      <td>6.0</td>\n      <td>14.0</td>\n      <td>4.0</td>\n      <td>11.0</td>\n    </tr>\n    <tr>\n      <th>glove_cosine</th>\n      <td>14.0</td>\n      <td>8.0</td>\n      <td>13.0</td>\n      <td>7.0</td>\n      <td>9.0</td>\n      <td>5.0</td>\n      <td>12.0</td>\n      <td>6.0</td>\n      <td>10.0</td>\n      <td>3.0</td>\n      <td>2.0</td>\n      <td>1.0</td>\n      <td>11.0</td>\n      <td>4.0</td>\n    </tr>\n    <tr>\n      <th>fasttext_cosine</th>\n      <td>14.0</td>\n      <td>8.0</td>\n      <td>13.0</td>\n      <td>7.0</td>\n      <td>9.0</td>\n      <td>5.0</td>\n      <td>12.0</td>\n      <td>6.0</td>\n      <td>11.0</td>\n      <td>3.0</td>\n      <td>2.0</td>\n      <td>1.0</td>\n      <td>10.0</td>\n      <td>4.0</td>\n    </tr>\n    <tr>\n      <th>BertScore</th>\n      <td>2.0</td>\n      <td>13.0</td>\n      <td>1.0</td>\n      <td>10.0</td>\n      <td>7.0</td>\n      <td>14.0</td>\n      <td>4.0</td>\n      <td>12.0</td>\n      <td>5.0</td>\n      <td>8.0</td>\n      <td>6.0</td>\n      <td>11.0</td>\n      <td>3.0</td>\n      <td>9.0</td>\n    </tr>\n    <tr>\n      <th>chrfScore</th>\n      <td>1.0</td>\n      <td>8.0</td>\n      <td>3.0</td>\n      <td>10.0</td>\n      <td>7.0</td>\n      <td>13.0</td>\n      <td>2.0</td>\n      <td>12.0</td>\n      <td>5.0</td>\n      <td>9.0</td>\n      <td>6.0</td>\n      <td>14.0</td>\n      <td>4.0</td>\n      <td>11.0</td>\n    </tr>\n    <tr>\n      <th>POS Dist score</th>\n      <td>10.0</td>\n      <td>1.0</td>\n      <td>12.0</td>\n      <td>5.0</td>\n      <td>7.0</td>\n      <td>4.0</td>\n      <td>11.0</td>\n      <td>3.0</td>\n      <td>8.0</td>\n      <td>2.0</td>\n      <td>14.0</td>\n      <td>9.0</td>\n      <td>13.0</td>\n      <td>6.0</td>\n    </tr>\n    <tr>\n      <th>1-gram_overlap</th>\n      <td>3.0</td>\n      <td>9.0</td>\n      <td>1.0</td>\n      <td>10.0</td>\n      <td>6.0</td>\n      <td>13.0</td>\n      <td>2.0</td>\n      <td>12.0</td>\n      <td>5.0</td>\n      <td>8.0</td>\n      <td>7.0</td>\n      <td>14.0</td>\n      <td>4.0</td>\n      <td>11.0</td>\n    </tr>\n    <tr>\n      <th>ROUGE-1</th>\n      <td>2.0</td>\n      <td>9.0</td>\n      <td>1.0</td>\n      <td>10.0</td>\n      <td>7.0</td>\n      <td>11.0</td>\n      <td>3.0</td>\n      <td>13.0</td>\n      <td>4.0</td>\n      <td>8.0</td>\n      <td>6.0</td>\n      <td>14.0</td>\n      <td>5.0</td>\n      <td>12.0</td>\n    </tr>\n    <tr>\n      <th>ROUGE-2</th>\n      <td>3.0</td>\n      <td>9.0</td>\n      <td>1.0</td>\n      <td>10.0</td>\n      <td>6.0</td>\n      <td>11.0</td>\n      <td>2.0</td>\n      <td>12.0</td>\n      <td>5.0</td>\n      <td>8.0</td>\n      <td>7.0</td>\n      <td>14.0</td>\n      <td>4.0</td>\n      <td>13.0</td>\n    </tr>\n    <tr>\n      <th>ROUGE-l</th>\n      <td>3.0</td>\n      <td>9.0</td>\n      <td>1.0</td>\n      <td>10.0</td>\n      <td>7.0</td>\n      <td>11.0</td>\n      <td>2.0</td>\n      <td>13.0</td>\n      <td>5.0</td>\n      <td>8.0</td>\n      <td>6.0</td>\n      <td>14.0</td>\n      <td>4.0</td>\n      <td>12.0</td>\n    </tr>\n    <tr>\n      <th>L2_score</th>\n      <td>14.0</td>\n      <td>7.0</td>\n      <td>13.0</td>\n      <td>6.0</td>\n      <td>10.0</td>\n      <td>5.0</td>\n      <td>12.0</td>\n      <td>4.0</td>\n      <td>9.0</td>\n      <td>3.0</td>\n      <td>8.0</td>\n      <td>1.0</td>\n      <td>11.0</td>\n      <td>2.0</td>\n    </tr>\n    <tr>\n      <th>WMD</th>\n      <td>11.0</td>\n      <td>6.0</td>\n      <td>14.0</td>\n      <td>7.0</td>\n      <td>8.0</td>\n      <td>3.0</td>\n      <td>12.0</td>\n      <td>5.0</td>\n      <td>13.0</td>\n      <td>2.0</td>\n      <td>9.0</td>\n      <td>1.0</td>\n      <td>10.0</td>\n      <td>4.0</td>\n    </tr>\n    <tr>\n      <th>label</th>\n      <td>5.0</td>\n      <td>9.0</td>\n      <td>2.0</td>\n      <td>14.0</td>\n      <td>4.0</td>\n      <td>8.0</td>\n      <td>1.0</td>\n      <td>10.0</td>\n      <td>6.0</td>\n      <td>13.0</td>\n      <td>3.0</td>\n      <td>12.0</td>\n      <td>7.0</td>\n      <td>11.0</td>\n    </tr>\n    <tr>\n      <th>reduced_label</th>\n      <td>4.0</td>\n      <td>11.0</td>\n      <td>2.0</td>\n      <td>13.0</td>\n      <td>5.0</td>\n      <td>8.0</td>\n      <td>1.0</td>\n      <td>10.0</td>\n      <td>6.0</td>\n      <td>12.0</td>\n      <td>3.0</td>\n      <td>14.0</td>\n      <td>7.0</td>\n      <td>9.0</td>\n    </tr>\n  </tbody>\n</table>\n</div>"
     },
     "metadata": {},
     "execution_count": 78
    }
   ],
   "source": [
    "rank_induced_filt"
   ]
  },
  {
   "cell_type": "code",
   "execution_count": 67,
   "metadata": {},
   "outputs": [
    {
     "output_type": "execute_result",
     "data": {
      "text/plain": [
       "chrfScore          0.837363\n",
       "bleu               0.832967\n",
       "ROUGE-l            0.824176\n",
       "ROUGE-2            0.815385\n",
       "ROUGE-1            0.806593\n",
       "1-gram_overlap     0.806593\n",
       "bleu1              0.806593\n",
       "BertScore          0.736264\n",
       "glove_cosine      -0.665934\n",
       "fasttext_cosine   -0.670330\n",
       "POS Dist score    -0.679121\n",
       "WMD               -0.850549\n",
       "L2_score          -0.859341\n",
       "dtype: float64"
      ]
     },
     "metadata": {},
     "execution_count": 67
    }
   ],
   "source": [
    "rank_induced_base.T[metrics].corrwith(rank_induced_base.T['label']).sort_values(ascending=False)"
   ]
  },
  {
   "cell_type": "code",
   "execution_count": 66,
   "metadata": {},
   "outputs": [
    {
     "output_type": "execute_result",
     "data": {
      "text/plain": [
       "bleu               0.819780\n",
       "ROUGE-l            0.784615\n",
       "ROUGE-2            0.784615\n",
       "ROUGE-1            0.771429\n",
       "1-gram_overlap     0.758242\n",
       "chrfScore          0.753846\n",
       "bleu1              0.731868\n",
       "BertScore          0.657143\n",
       "glove_cosine      -0.595604\n",
       "fasttext_cosine   -0.600000\n",
       "POS Dist score    -0.670330\n",
       "WMD               -0.780220\n",
       "L2_score          -0.810989\n",
       "dtype: float64"
      ]
     },
     "metadata": {},
     "execution_count": 66
    }
   ],
   "source": [
    "rank_induced_filt.T[metrics].corrwith(rank_induced_filt.T['label']).sort_values(ascending=False)"
   ]
  },
  {
   "source": [
    "## Correlation Metrics"
   ],
   "cell_type": "markdown",
   "metadata": {}
  },
  {
   "cell_type": "code",
   "execution_count": 118,
   "metadata": {
    "tags": []
   },
   "outputs": [],
   "source": [
    "mc = metric_exploration.Metrics_Corr(df_ivan,non_metric_columns,categories)\n",
    "base_results = mc.get_corr(None)\n",
    "filtered_results = mc.get_corr(list_ba)"
   ]
  },
  {
   "cell_type": "code",
   "execution_count": 119,
   "metadata": {},
   "outputs": [
    {
     "output_type": "display_data",
     "data": {
      "text/plain": "interactive(children=(Dropdown(description='key_v', options=('label_by_dataset', 'reduced_label_by_dataset', '…",
      "application/vnd.jupyter.widget-view+json": {
       "version_major": 2,
       "version_minor": 0,
       "model_id": "09ab9ddd542c40bca06d64a132cd3bc0"
      }
     },
     "metadata": {}
    }
   ],
   "source": [
    "@interact\n",
    "def display_corr(key_v = result.keys()):\n",
    "     if type(base_results[key_v]) ==  pd.Series:\n",
    "          display(base_results[key_v].sort_values(ascending=False))\n",
    "     else:\n",
    "          display(base_results[key_v])"
   ]
  },
  {
   "cell_type": "code",
   "execution_count": 113,
   "metadata": {},
   "outputs": [
    {
     "output_type": "display_data",
     "data": {
      "text/plain": "interactive(children=(Dropdown(description='key_v', options=('label_by_dataset', 'reduced_label_by_dataset', '…",
      "application/vnd.jupyter.widget-view+json": {
       "version_major": 2,
       "version_minor": 0,
       "model_id": "a9611d5430d74b248122a53ea8214a13"
      }
     },
     "metadata": {}
    }
   ],
   "source": [
    "@interact\n",
    "def display_corr(key_v = result.keys()):\n",
    "     if type(filtered_results[key_v]) ==  pd.Series:\n",
    "          display(filtered_results[key_v].sort_values(ascending=False))\n",
    "     else:\n",
    "          display(filtered_results[key_v])"
   ]
  },
  {
   "cell_type": "code",
   "execution_count": 93,
   "metadata": {},
   "outputs": [],
   "source": [
    "result = mc.compare_correlations(list_ba)"
   ]
  },
  {
   "cell_type": "code",
   "execution_count": 94,
   "metadata": {},
   "outputs": [
    {
     "output_type": "display_data",
     "data": {
      "text/plain": "interactive(children=(Dropdown(description='key_v', options=('label_by_dataset', 'reduced_label_by_dataset', '…",
      "application/vnd.jupyter.widget-view+json": {
       "version_major": 2,
       "version_minor": 0,
       "model_id": "cfead26b8e174f81a9a317dfb76ab167"
      }
     },
     "metadata": {}
    }
   ],
   "source": [
    "@interact\n",
    "def display_corr(key_v = result.keys()):\n",
    "     if type(result[key_v]) ==  pd.Series:\n",
    "          display(result[key_v].sort_values(ascending=False))\n",
    "     else:\n",
    "          display(result[key_v])"
   ]
  },
  {
   "source": [
    "## Look at the Non-Linear and Linear Models"
   ],
   "cell_type": "markdown",
   "metadata": {}
  },
  {
   "cell_type": "code",
   "execution_count": 11,
   "metadata": {
    "tags": []
   },
   "outputs": [],
   "source": [
    "mm = metric_exploration.Metrics_Models(df,non_metric_columns,categories)\n",
    "scores, fi_values = mm.run_model(model_type = \"RF\")"
   ]
  },
  {
   "cell_type": "code",
   "execution_count": 12,
   "metadata": {},
   "outputs": [
    {
     "output_type": "display_data",
     "data": {
      "text/plain": "interactive(children=(Dropdown(description='key_v', options=('fi_label_by_dataset_bible_human', 'fi_reduced_la…",
      "application/vnd.jupyter.widget-view+json": {
       "version_major": 2,
       "version_minor": 0,
       "model_id": "07f658c3a3134b3987a6a4d807114766"
      }
     },
     "metadata": {}
    },
    {
     "output_type": "display_data",
     "data": {
      "text/plain": "interactive(children=(Dropdown(description='key_v', options=('fi_label_by_random_0', 'fi_reduced_label_by_rand…",
      "application/vnd.jupyter.widget-view+json": {
       "version_major": 2,
       "version_minor": 0,
       "model_id": "8a7fab5c742947449147e72a22d9e08f"
      }
     },
     "metadata": {}
    },
    {
     "output_type": "display_data",
     "data": {
      "text/plain": "interactive(children=(Dropdown(description='key_v', options=('fi_label_by_radical_or_centralist_centralist', '…",
      "application/vnd.jupyter.widget-view+json": {
       "version_major": 2,
       "version_minor": 0,
       "model_id": "bb0a1b1e24904c7dbbce46bfa8b540b0"
      }
     },
     "metadata": {}
    },
    {
     "output_type": "display_data",
     "data": {
      "text/plain": "interactive(children=(Dropdown(description='key_v', options=('fi_label_combined', 'fi_reduced_label_combined')…",
      "application/vnd.jupyter.widget-view+json": {
       "version_major": 2,
       "version_minor": 0,
       "model_id": "c2ba2316a9974aca8109c36754b44967"
      }
     },
     "metadata": {}
    }
   ],
   "source": [
    "metric_exploration.visualize_fi(fi_values, categories)"
   ]
  },
  {
   "cell_type": "code",
   "execution_count": 253,
   "metadata": {},
   "outputs": [
    {
     "output_type": "display_data",
     "data": {
      "application/vnd.plotly.v1+json": {
       "config": {
        "plotlyServerURL": "https://plot.ly"
       },
       "data": [
        {
         "customdata": [
          [
           0
          ]
         ],
         "hovertemplate": "category=RF_label_by_dataset_bible_human<br>MSE_Loss=%{y}<extra></extra>",
         "legendgroup": "RF_label_by_dataset_bible_human",
         "line": {
          "color": "#636efa",
          "dash": "solid"
         },
         "mode": "markers",
         "name": "RF_label_by_dataset_bible_human",
         "orientation": "v",
         "showlegend": true,
         "type": "scatter",
         "x": [
          0
         ],
         "xaxis": "x",
         "y": [
          0.9234837959635359
         ],
         "yaxis": "y"
        },
        {
         "customdata": [
          [
           1
          ]
         ],
         "hovertemplate": "category=RF_label_reduced_by_dataset_bible_human<br>MSE_Loss=%{y}<extra></extra>",
         "legendgroup": "RF_label_reduced_by_dataset_bible_human",
         "line": {
          "color": "#EF553B",
          "dash": "solid"
         },
         "mode": "markers",
         "name": "RF_label_reduced_by_dataset_bible_human",
         "orientation": "v",
         "showlegend": true,
         "type": "scatter",
         "x": [
          1
         ],
         "xaxis": "x",
         "y": [
          0.4495545208075793
         ],
         "yaxis": "y"
        },
        {
         "customdata": [
          [
           2
          ]
         ],
         "hovertemplate": "category=RF_label_by_dataset_bible_random_human<br>MSE_Loss=%{y}<extra></extra>",
         "legendgroup": "RF_label_by_dataset_bible_random_human",
         "line": {
          "color": "#00cc96",
          "dash": "solid"
         },
         "mode": "markers",
         "name": "RF_label_by_dataset_bible_random_human",
         "orientation": "v",
         "showlegend": true,
         "type": "scatter",
         "x": [
          2
         ],
         "xaxis": "x",
         "y": [
          0.992029620055417
         ],
         "yaxis": "y"
        },
        {
         "customdata": [
          [
           3
          ]
         ],
         "hovertemplate": "category=RF_label_reduced_by_dataset_bible_random_human<br>MSE_Loss=%{y}<extra></extra>",
         "legendgroup": "RF_label_reduced_by_dataset_bible_random_human",
         "line": {
          "color": "#ab63fa",
          "dash": "solid"
         },
         "mode": "markers",
         "name": "RF_label_reduced_by_dataset_bible_random_human",
         "orientation": "v",
         "showlegend": true,
         "type": "scatter",
         "x": [
          3
         ],
         "xaxis": "x",
         "y": [
          0.4168411348632197
         ],
         "yaxis": "y"
        },
        {
         "customdata": [
          [
           4
          ]
         ],
         "hovertemplate": "category=RF_label_by_dataset_gyafc_formal_human<br>MSE_Loss=%{y}<extra></extra>",
         "legendgroup": "RF_label_by_dataset_gyafc_formal_human",
         "line": {
          "color": "#FFA15A",
          "dash": "solid"
         },
         "mode": "markers",
         "name": "RF_label_by_dataset_gyafc_formal_human",
         "orientation": "v",
         "showlegend": true,
         "type": "scatter",
         "x": [
          4
         ],
         "xaxis": "x",
         "y": [
          0.9396889248789047
         ],
         "yaxis": "y"
        },
        {
         "customdata": [
          [
           5
          ]
         ],
         "hovertemplate": "category=RF_label_reduced_by_dataset_gyafc_formal_human<br>MSE_Loss=%{y}<extra></extra>",
         "legendgroup": "RF_label_reduced_by_dataset_gyafc_formal_human",
         "line": {
          "color": "#19d3f3",
          "dash": "solid"
         },
         "mode": "markers",
         "name": "RF_label_reduced_by_dataset_gyafc_formal_human",
         "orientation": "v",
         "showlegend": true,
         "type": "scatter",
         "x": [
          5
         ],
         "xaxis": "x",
         "y": [
          0.3992487867870706
         ],
         "yaxis": "y"
        },
        {
         "customdata": [
          [
           6
          ]
         ],
         "hovertemplate": "category=RF_label_by_dataset_gyafc_formal_random_human<br>MSE_Loss=%{y}<extra></extra>",
         "legendgroup": "RF_label_by_dataset_gyafc_formal_random_human",
         "line": {
          "color": "#FF6692",
          "dash": "solid"
         },
         "mode": "markers",
         "name": "RF_label_by_dataset_gyafc_formal_random_human",
         "orientation": "v",
         "showlegend": true,
         "type": "scatter",
         "x": [
          6
         ],
         "xaxis": "x",
         "y": [
          1.0589034656804786
         ],
         "yaxis": "y"
        },
        {
         "customdata": [
          [
           7
          ]
         ],
         "hovertemplate": "category=RF_label_reduced_by_dataset_gyafc_formal_random_human<br>MSE_Loss=%{y}<extra></extra>",
         "legendgroup": "RF_label_reduced_by_dataset_gyafc_formal_random_human",
         "line": {
          "color": "#B6E880",
          "dash": "solid"
         },
         "mode": "markers",
         "name": "RF_label_reduced_by_dataset_gyafc_formal_random_human",
         "orientation": "v",
         "showlegend": true,
         "type": "scatter",
         "x": [
          7
         ],
         "xaxis": "x",
         "y": [
          0.43864847431009923
         ],
         "yaxis": "y"
        },
        {
         "customdata": [
          [
           8
          ]
         ],
         "hovertemplate": "category=RF_label_by_dataset_gyafc_informal_human<br>MSE_Loss=%{y}<extra></extra>",
         "legendgroup": "RF_label_by_dataset_gyafc_informal_human",
         "line": {
          "color": "#FF97FF",
          "dash": "solid"
         },
         "mode": "markers",
         "name": "RF_label_by_dataset_gyafc_informal_human",
         "orientation": "v",
         "showlegend": true,
         "type": "scatter",
         "x": [
          8
         ],
         "xaxis": "x",
         "y": [
          1.0985125547495451
         ],
         "yaxis": "y"
        },
        {
         "customdata": [
          [
           9
          ]
         ],
         "hovertemplate": "category=RF_label_reduced_by_dataset_gyafc_informal_human<br>MSE_Loss=%{y}<extra></extra>",
         "legendgroup": "RF_label_reduced_by_dataset_gyafc_informal_human",
         "line": {
          "color": "#FECB52",
          "dash": "solid"
         },
         "mode": "markers",
         "name": "RF_label_reduced_by_dataset_gyafc_informal_human",
         "orientation": "v",
         "showlegend": true,
         "type": "scatter",
         "x": [
          9
         ],
         "xaxis": "x",
         "y": [
          0.47331886726599215
         ],
         "yaxis": "y"
        },
        {
         "customdata": [
          [
           10
          ]
         ],
         "hovertemplate": "category=RF_label_by_dataset_gyafc_informal_random_human<br>MSE_Loss=%{y}<extra></extra>",
         "legendgroup": "RF_label_by_dataset_gyafc_informal_random_human",
         "line": {
          "color": "#636efa",
          "dash": "solid"
         },
         "mode": "markers",
         "name": "RF_label_by_dataset_gyafc_informal_random_human",
         "orientation": "v",
         "showlegend": true,
         "type": "scatter",
         "x": [
          10
         ],
         "xaxis": "x",
         "y": [
          1.1484187648247473
         ],
         "yaxis": "y"
        },
        {
         "customdata": [
          [
           11
          ]
         ],
         "hovertemplate": "category=RF_label_reduced_by_dataset_gyafc_informal_random_human<br>MSE_Loss=%{y}<extra></extra>",
         "legendgroup": "RF_label_reduced_by_dataset_gyafc_informal_random_human",
         "line": {
          "color": "#EF553B",
          "dash": "solid"
         },
         "mode": "markers",
         "name": "RF_label_reduced_by_dataset_gyafc_informal_random_human",
         "orientation": "v",
         "showlegend": true,
         "type": "scatter",
         "x": [
          11
         ],
         "xaxis": "x",
         "y": [
          0.4336347871617892
         ],
         "yaxis": "y"
        },
        {
         "customdata": [
          [
           12
          ]
         ],
         "hovertemplate": "category=RF_label_by_dataset_gyafc_rewrites_human<br>MSE_Loss=%{y}<extra></extra>",
         "legendgroup": "RF_label_by_dataset_gyafc_rewrites_human",
         "line": {
          "color": "#00cc96",
          "dash": "solid"
         },
         "mode": "markers",
         "name": "RF_label_by_dataset_gyafc_rewrites_human",
         "orientation": "v",
         "showlegend": true,
         "type": "scatter",
         "x": [
          12
         ],
         "xaxis": "x",
         "y": [
          0.9822271962441517
         ],
         "yaxis": "y"
        },
        {
         "customdata": [
          [
           13
          ]
         ],
         "hovertemplate": "category=RF_label_reduced_by_dataset_gyafc_rewrites_human<br>MSE_Loss=%{y}<extra></extra>",
         "legendgroup": "RF_label_reduced_by_dataset_gyafc_rewrites_human",
         "line": {
          "color": "#ab63fa",
          "dash": "solid"
         },
         "mode": "markers",
         "name": "RF_label_reduced_by_dataset_gyafc_rewrites_human",
         "orientation": "v",
         "showlegend": true,
         "type": "scatter",
         "x": [
          13
         ],
         "xaxis": "x",
         "y": [
          0.4592469474412313
         ],
         "yaxis": "y"
        },
        {
         "customdata": [
          [
           14
          ]
         ],
         "hovertemplate": "category=RF_label_by_dataset_gyafc_rewrites_random_human<br>MSE_Loss=%{y}<extra></extra>",
         "legendgroup": "RF_label_by_dataset_gyafc_rewrites_random_human",
         "line": {
          "color": "#FFA15A",
          "dash": "solid"
         },
         "mode": "markers",
         "name": "RF_label_by_dataset_gyafc_rewrites_random_human",
         "orientation": "v",
         "showlegend": true,
         "type": "scatter",
         "x": [
          14
         ],
         "xaxis": "x",
         "y": [
          0.986190410796662
         ],
         "yaxis": "y"
        },
        {
         "customdata": [
          [
           15
          ]
         ],
         "hovertemplate": "category=RF_label_reduced_by_dataset_gyafc_rewrites_random_human<br>MSE_Loss=%{y}<extra></extra>",
         "legendgroup": "RF_label_reduced_by_dataset_gyafc_rewrites_random_human",
         "line": {
          "color": "#19d3f3",
          "dash": "solid"
         },
         "mode": "markers",
         "name": "RF_label_reduced_by_dataset_gyafc_rewrites_random_human",
         "orientation": "v",
         "showlegend": true,
         "type": "scatter",
         "x": [
          15
         ],
         "xaxis": "x",
         "y": [
          0.42391276271937867
         ],
         "yaxis": "y"
        },
        {
         "customdata": [
          [
           16
          ]
         ],
         "hovertemplate": "category=RF_label_by_dataset_paralex_human<br>MSE_Loss=%{y}<extra></extra>",
         "legendgroup": "RF_label_by_dataset_paralex_human",
         "line": {
          "color": "#FF6692",
          "dash": "solid"
         },
         "mode": "markers",
         "name": "RF_label_by_dataset_paralex_human",
         "orientation": "v",
         "showlegend": true,
         "type": "scatter",
         "x": [
          16
         ],
         "xaxis": "x",
         "y": [
          0.86412101112202
         ],
         "yaxis": "y"
        },
        {
         "customdata": [
          [
           17
          ]
         ],
         "hovertemplate": "category=RF_label_reduced_by_dataset_paralex_human<br>MSE_Loss=%{y}<extra></extra>",
         "legendgroup": "RF_label_reduced_by_dataset_paralex_human",
         "line": {
          "color": "#B6E880",
          "dash": "solid"
         },
         "mode": "markers",
         "name": "RF_label_reduced_by_dataset_paralex_human",
         "orientation": "v",
         "showlegend": true,
         "type": "scatter",
         "x": [
          17
         ],
         "xaxis": "x",
         "y": [
          0.3774673373458621
         ],
         "yaxis": "y"
        },
        {
         "customdata": [
          [
           18
          ]
         ],
         "hovertemplate": "category=RF_label_by_dataset_paralex_random_human<br>MSE_Loss=%{y}<extra></extra>",
         "legendgroup": "RF_label_by_dataset_paralex_random_human",
         "line": {
          "color": "#FF97FF",
          "dash": "solid"
         },
         "mode": "markers",
         "name": "RF_label_by_dataset_paralex_random_human",
         "orientation": "v",
         "showlegend": true,
         "type": "scatter",
         "x": [
          18
         ],
         "xaxis": "x",
         "y": [
          1.1087442068011046
         ],
         "yaxis": "y"
        },
        {
         "customdata": [
          [
           19
          ]
         ],
         "hovertemplate": "category=RF_label_reduced_by_dataset_paralex_random_human<br>MSE_Loss=%{y}<extra></extra>",
         "legendgroup": "RF_label_reduced_by_dataset_paralex_random_human",
         "line": {
          "color": "#FECB52",
          "dash": "solid"
         },
         "mode": "markers",
         "name": "RF_label_reduced_by_dataset_paralex_random_human",
         "orientation": "v",
         "showlegend": true,
         "type": "scatter",
         "x": [
          19
         ],
         "xaxis": "x",
         "y": [
          0.40680426017523313
         ],
         "yaxis": "y"
        },
        {
         "customdata": [
          [
           20
          ]
         ],
         "hovertemplate": "category=RF_label_by_dataset_paraphrase_human<br>MSE_Loss=%{y}<extra></extra>",
         "legendgroup": "RF_label_by_dataset_paraphrase_human",
         "line": {
          "color": "#636efa",
          "dash": "solid"
         },
         "mode": "markers",
         "name": "RF_label_by_dataset_paraphrase_human",
         "orientation": "v",
         "showlegend": true,
         "type": "scatter",
         "x": [
          20
         ],
         "xaxis": "x",
         "y": [
          0.9722446715950541
         ],
         "yaxis": "y"
        },
        {
         "customdata": [
          [
           21
          ]
         ],
         "hovertemplate": "category=RF_label_reduced_by_dataset_paraphrase_human<br>MSE_Loss=%{y}<extra></extra>",
         "legendgroup": "RF_label_reduced_by_dataset_paraphrase_human",
         "line": {
          "color": "#EF553B",
          "dash": "solid"
         },
         "mode": "markers",
         "name": "RF_label_reduced_by_dataset_paraphrase_human",
         "orientation": "v",
         "showlegend": true,
         "type": "scatter",
         "x": [
          21
         ],
         "xaxis": "x",
         "y": [
          0.43936245242985555
         ],
         "yaxis": "y"
        },
        {
         "customdata": [
          [
           22
          ]
         ],
         "hovertemplate": "category=RF_label_by_dataset_paraphrase_random_human<br>MSE_Loss=%{y}<extra></extra>",
         "legendgroup": "RF_label_by_dataset_paraphrase_random_human",
         "line": {
          "color": "#00cc96",
          "dash": "solid"
         },
         "mode": "markers",
         "name": "RF_label_by_dataset_paraphrase_random_human",
         "orientation": "v",
         "showlegend": true,
         "type": "scatter",
         "x": [
          22
         ],
         "xaxis": "x",
         "y": [
          0.8845481698746392
         ],
         "yaxis": "y"
        },
        {
         "customdata": [
          [
           23
          ]
         ],
         "hovertemplate": "category=RF_label_reduced_by_dataset_paraphrase_random_human<br>MSE_Loss=%{y}<extra></extra>",
         "legendgroup": "RF_label_reduced_by_dataset_paraphrase_random_human",
         "line": {
          "color": "#ab63fa",
          "dash": "solid"
         },
         "mode": "markers",
         "name": "RF_label_reduced_by_dataset_paraphrase_random_human",
         "orientation": "v",
         "showlegend": true,
         "type": "scatter",
         "x": [
          23
         ],
         "xaxis": "x",
         "y": [
          0.42980699534158895
         ],
         "yaxis": "y"
        },
        {
         "customdata": [
          [
           24
          ]
         ],
         "hovertemplate": "category=RF_label_by_dataset_yelp_human<br>MSE_Loss=%{y}<extra></extra>",
         "legendgroup": "RF_label_by_dataset_yelp_human",
         "line": {
          "color": "#FFA15A",
          "dash": "solid"
         },
         "mode": "markers",
         "name": "RF_label_by_dataset_yelp_human",
         "orientation": "v",
         "showlegend": true,
         "type": "scatter",
         "x": [
          24
         ],
         "xaxis": "x",
         "y": [
          1.3300566378648362
         ],
         "yaxis": "y"
        },
        {
         "customdata": [
          [
           25
          ]
         ],
         "hovertemplate": "category=RF_label_reduced_by_dataset_yelp_human<br>MSE_Loss=%{y}<extra></extra>",
         "legendgroup": "RF_label_reduced_by_dataset_yelp_human",
         "line": {
          "color": "#19d3f3",
          "dash": "solid"
         },
         "mode": "markers",
         "name": "RF_label_reduced_by_dataset_yelp_human",
         "orientation": "v",
         "showlegend": true,
         "type": "scatter",
         "x": [
          25
         ],
         "xaxis": "x",
         "y": [
          0.5180546529101085
         ],
         "yaxis": "y"
        },
        {
         "customdata": [
          [
           26
          ]
         ],
         "hovertemplate": "category=RF_label_by_dataset_yelp_random_human<br>MSE_Loss=%{y}<extra></extra>",
         "legendgroup": "RF_label_by_dataset_yelp_random_human",
         "line": {
          "color": "#FF6692",
          "dash": "solid"
         },
         "mode": "markers",
         "name": "RF_label_by_dataset_yelp_random_human",
         "orientation": "v",
         "showlegend": true,
         "type": "scatter",
         "x": [
          26
         ],
         "xaxis": "x",
         "y": [
          1.085095227999514
         ],
         "yaxis": "y"
        },
        {
         "customdata": [
          [
           27
          ]
         ],
         "hovertemplate": "category=RF_label_reduced_by_dataset_yelp_random_human<br>MSE_Loss=%{y}<extra></extra>",
         "legendgroup": "RF_label_reduced_by_dataset_yelp_random_human",
         "line": {
          "color": "#B6E880",
          "dash": "solid"
         },
         "mode": "markers",
         "name": "RF_label_reduced_by_dataset_yelp_random_human",
         "orientation": "v",
         "showlegend": true,
         "type": "scatter",
         "x": [
          27
         ],
         "xaxis": "x",
         "y": [
          0.42854985678628976
         ],
         "yaxis": "y"
        },
        {
         "customdata": [
          [
           28
          ]
         ],
         "hovertemplate": "category=RF_label_by_random_0<br>MSE_Loss=%{y}<extra></extra>",
         "legendgroup": "RF_label_by_random_0",
         "line": {
          "color": "#FF97FF",
          "dash": "solid"
         },
         "mode": "markers",
         "name": "RF_label_by_random_0",
         "orientation": "v",
         "showlegend": true,
         "type": "scatter",
         "x": [
          28
         ],
         "xaxis": "x",
         "y": [
          1.1494386668894518
         ],
         "yaxis": "y"
        },
        {
         "customdata": [
          [
           29
          ]
         ],
         "hovertemplate": "category=RF_label_reduced_by_random_0<br>MSE_Loss=%{y}<extra></extra>",
         "legendgroup": "RF_label_reduced_by_random_0",
         "line": {
          "color": "#FECB52",
          "dash": "solid"
         },
         "mode": "markers",
         "name": "RF_label_reduced_by_random_0",
         "orientation": "v",
         "showlegend": true,
         "type": "scatter",
         "x": [
          29
         ],
         "xaxis": "x",
         "y": [
          0.4651799814255915
         ],
         "yaxis": "y"
        },
        {
         "customdata": [
          [
           30
          ]
         ],
         "hovertemplate": "category=RF_label_by_random_1<br>MSE_Loss=%{y}<extra></extra>",
         "legendgroup": "RF_label_by_random_1",
         "line": {
          "color": "#636efa",
          "dash": "solid"
         },
         "mode": "markers",
         "name": "RF_label_by_random_1",
         "orientation": "v",
         "showlegend": true,
         "type": "scatter",
         "x": [
          30
         ],
         "xaxis": "x",
         "y": [
          1.0549503201474084
         ],
         "yaxis": "y"
        },
        {
         "customdata": [
          [
           31
          ]
         ],
         "hovertemplate": "category=RF_label_reduced_by_random_1<br>MSE_Loss=%{y}<extra></extra>",
         "legendgroup": "RF_label_reduced_by_random_1",
         "line": {
          "color": "#EF553B",
          "dash": "solid"
         },
         "mode": "markers",
         "name": "RF_label_reduced_by_random_1",
         "orientation": "v",
         "showlegend": true,
         "type": "scatter",
         "x": [
          31
         ],
         "xaxis": "x",
         "y": [
          0.39335080083159496
         ],
         "yaxis": "y"
        },
        {
         "customdata": [
          [
           32
          ]
         ],
         "hovertemplate": "category=RF_label_by_radical_or_centralist_centralist<br>MSE_Loss=%{y}<extra></extra>",
         "legendgroup": "RF_label_by_radical_or_centralist_centralist",
         "line": {
          "color": "#00cc96",
          "dash": "solid"
         },
         "mode": "markers",
         "name": "RF_label_by_radical_or_centralist_centralist",
         "orientation": "v",
         "showlegend": true,
         "type": "scatter",
         "x": [
          32
         ],
         "xaxis": "x",
         "y": [
          0.781744098694435
         ],
         "yaxis": "y"
        },
        {
         "customdata": [
          [
           33
          ]
         ],
         "hovertemplate": "category=RF_label_reduced_by_radical_or_centralist_centralist<br>MSE_Loss=%{y}<extra></extra>",
         "legendgroup": "RF_label_reduced_by_radical_or_centralist_centralist",
         "line": {
          "color": "#ab63fa",
          "dash": "solid"
         },
         "mode": "markers",
         "name": "RF_label_reduced_by_radical_or_centralist_centralist",
         "orientation": "v",
         "showlegend": true,
         "type": "scatter",
         "x": [
          33
         ],
         "xaxis": "x",
         "y": [
          0.622482366367929
         ],
         "yaxis": "y"
        },
        {
         "customdata": [
          [
           34
          ]
         ],
         "hovertemplate": "category=RF_label_by_radical_or_centralist_neither<br>MSE_Loss=%{y}<extra></extra>",
         "legendgroup": "RF_label_by_radical_or_centralist_neither",
         "line": {
          "color": "#FFA15A",
          "dash": "solid"
         },
         "mode": "markers",
         "name": "RF_label_by_radical_or_centralist_neither",
         "orientation": "v",
         "showlegend": true,
         "type": "scatter",
         "x": [
          34
         ],
         "xaxis": "x",
         "y": [
          0.8514360575426201
         ],
         "yaxis": "y"
        },
        {
         "customdata": [
          [
           35
          ]
         ],
         "hovertemplate": "category=RF_label_reduced_by_radical_or_centralist_neither<br>MSE_Loss=%{y}<extra></extra>",
         "legendgroup": "RF_label_reduced_by_radical_or_centralist_neither",
         "line": {
          "color": "#19d3f3",
          "dash": "solid"
         },
         "mode": "markers",
         "name": "RF_label_reduced_by_radical_or_centralist_neither",
         "orientation": "v",
         "showlegend": true,
         "type": "scatter",
         "x": [
          35
         ],
         "xaxis": "x",
         "y": [
          0.32992428133901575
         ],
         "yaxis": "y"
        },
        {
         "customdata": [
          [
           36
          ]
         ],
         "hovertemplate": "category=RF_label_by_radical_or_centralist_radical<br>MSE_Loss=%{y}<extra></extra>",
         "legendgroup": "RF_label_by_radical_or_centralist_radical",
         "line": {
          "color": "#FF6692",
          "dash": "solid"
         },
         "mode": "markers",
         "name": "RF_label_by_radical_or_centralist_radical",
         "orientation": "v",
         "showlegend": true,
         "type": "scatter",
         "x": [
          36
         ],
         "xaxis": "x",
         "y": [
          1.5816416531502009
         ],
         "yaxis": "y"
        },
        {
         "customdata": [
          [
           37
          ]
         ],
         "hovertemplate": "category=RF_label_reduced_by_radical_or_centralist_radical<br>MSE_Loss=%{y}<extra></extra>",
         "legendgroup": "RF_label_reduced_by_radical_or_centralist_radical",
         "line": {
          "color": "#B6E880",
          "dash": "solid"
         },
         "mode": "markers",
         "name": "RF_label_reduced_by_radical_or_centralist_radical",
         "orientation": "v",
         "showlegend": true,
         "type": "scatter",
         "x": [
          37
         ],
         "xaxis": "x",
         "y": [
          0.4121047343689315
         ],
         "yaxis": "y"
        },
        {
         "customdata": [
          [
           38
          ]
         ],
         "hovertemplate": "category=RF_label_combined<br>MSE_Loss=%{y}<extra></extra>",
         "legendgroup": "RF_label_combined",
         "line": {
          "color": "#FF97FF",
          "dash": "solid"
         },
         "mode": "markers",
         "name": "RF_label_combined",
         "orientation": "v",
         "showlegend": true,
         "type": "scatter",
         "x": [
          38
         ],
         "xaxis": "x",
         "y": [
          1.1576247767433296
         ],
         "yaxis": "y"
        },
        {
         "customdata": [
          [
           39
          ]
         ],
         "hovertemplate": "category=RF_label_reduced_combined<br>MSE_Loss=%{y}<extra></extra>",
         "legendgroup": "RF_label_reduced_combined",
         "line": {
          "color": "#FECB52",
          "dash": "solid"
         },
         "mode": "markers",
         "name": "RF_label_reduced_combined",
         "orientation": "v",
         "showlegend": true,
         "type": "scatter",
         "x": [
          39
         ],
         "xaxis": "x",
         "y": [
          0.4500622095913613
         ],
         "yaxis": "y"
        }
       ],
       "layout": {
        "height": 600,
        "legend": {
         "title": {
          "text": "category"
         },
         "tracegroupgap": 0
        },
        "template": {
         "data": {
          "bar": [
           {
            "error_x": {
             "color": "#2a3f5f"
            },
            "error_y": {
             "color": "#2a3f5f"
            },
            "marker": {
             "line": {
              "color": "#E5ECF6",
              "width": 0.5
             }
            },
            "type": "bar"
           }
          ],
          "barpolar": [
           {
            "marker": {
             "line": {
              "color": "#E5ECF6",
              "width": 0.5
             }
            },
            "type": "barpolar"
           }
          ],
          "carpet": [
           {
            "aaxis": {
             "endlinecolor": "#2a3f5f",
             "gridcolor": "white",
             "linecolor": "white",
             "minorgridcolor": "white",
             "startlinecolor": "#2a3f5f"
            },
            "baxis": {
             "endlinecolor": "#2a3f5f",
             "gridcolor": "white",
             "linecolor": "white",
             "minorgridcolor": "white",
             "startlinecolor": "#2a3f5f"
            },
            "type": "carpet"
           }
          ],
          "choropleth": [
           {
            "colorbar": {
             "outlinewidth": 0,
             "ticks": ""
            },
            "type": "choropleth"
           }
          ],
          "contour": [
           {
            "colorbar": {
             "outlinewidth": 0,
             "ticks": ""
            },
            "colorscale": [
             [
              0,
              "#0d0887"
             ],
             [
              0.1111111111111111,
              "#46039f"
             ],
             [
              0.2222222222222222,
              "#7201a8"
             ],
             [
              0.3333333333333333,
              "#9c179e"
             ],
             [
              0.4444444444444444,
              "#bd3786"
             ],
             [
              0.5555555555555556,
              "#d8576b"
             ],
             [
              0.6666666666666666,
              "#ed7953"
             ],
             [
              0.7777777777777778,
              "#fb9f3a"
             ],
             [
              0.8888888888888888,
              "#fdca26"
             ],
             [
              1,
              "#f0f921"
             ]
            ],
            "type": "contour"
           }
          ],
          "contourcarpet": [
           {
            "colorbar": {
             "outlinewidth": 0,
             "ticks": ""
            },
            "type": "contourcarpet"
           }
          ],
          "heatmap": [
           {
            "colorbar": {
             "outlinewidth": 0,
             "ticks": ""
            },
            "colorscale": [
             [
              0,
              "#0d0887"
             ],
             [
              0.1111111111111111,
              "#46039f"
             ],
             [
              0.2222222222222222,
              "#7201a8"
             ],
             [
              0.3333333333333333,
              "#9c179e"
             ],
             [
              0.4444444444444444,
              "#bd3786"
             ],
             [
              0.5555555555555556,
              "#d8576b"
             ],
             [
              0.6666666666666666,
              "#ed7953"
             ],
             [
              0.7777777777777778,
              "#fb9f3a"
             ],
             [
              0.8888888888888888,
              "#fdca26"
             ],
             [
              1,
              "#f0f921"
             ]
            ],
            "type": "heatmap"
           }
          ],
          "heatmapgl": [
           {
            "colorbar": {
             "outlinewidth": 0,
             "ticks": ""
            },
            "colorscale": [
             [
              0,
              "#0d0887"
             ],
             [
              0.1111111111111111,
              "#46039f"
             ],
             [
              0.2222222222222222,
              "#7201a8"
             ],
             [
              0.3333333333333333,
              "#9c179e"
             ],
             [
              0.4444444444444444,
              "#bd3786"
             ],
             [
              0.5555555555555556,
              "#d8576b"
             ],
             [
              0.6666666666666666,
              "#ed7953"
             ],
             [
              0.7777777777777778,
              "#fb9f3a"
             ],
             [
              0.8888888888888888,
              "#fdca26"
             ],
             [
              1,
              "#f0f921"
             ]
            ],
            "type": "heatmapgl"
           }
          ],
          "histogram": [
           {
            "marker": {
             "colorbar": {
              "outlinewidth": 0,
              "ticks": ""
             }
            },
            "type": "histogram"
           }
          ],
          "histogram2d": [
           {
            "colorbar": {
             "outlinewidth": 0,
             "ticks": ""
            },
            "colorscale": [
             [
              0,
              "#0d0887"
             ],
             [
              0.1111111111111111,
              "#46039f"
             ],
             [
              0.2222222222222222,
              "#7201a8"
             ],
             [
              0.3333333333333333,
              "#9c179e"
             ],
             [
              0.4444444444444444,
              "#bd3786"
             ],
             [
              0.5555555555555556,
              "#d8576b"
             ],
             [
              0.6666666666666666,
              "#ed7953"
             ],
             [
              0.7777777777777778,
              "#fb9f3a"
             ],
             [
              0.8888888888888888,
              "#fdca26"
             ],
             [
              1,
              "#f0f921"
             ]
            ],
            "type": "histogram2d"
           }
          ],
          "histogram2dcontour": [
           {
            "colorbar": {
             "outlinewidth": 0,
             "ticks": ""
            },
            "colorscale": [
             [
              0,
              "#0d0887"
             ],
             [
              0.1111111111111111,
              "#46039f"
             ],
             [
              0.2222222222222222,
              "#7201a8"
             ],
             [
              0.3333333333333333,
              "#9c179e"
             ],
             [
              0.4444444444444444,
              "#bd3786"
             ],
             [
              0.5555555555555556,
              "#d8576b"
             ],
             [
              0.6666666666666666,
              "#ed7953"
             ],
             [
              0.7777777777777778,
              "#fb9f3a"
             ],
             [
              0.8888888888888888,
              "#fdca26"
             ],
             [
              1,
              "#f0f921"
             ]
            ],
            "type": "histogram2dcontour"
           }
          ],
          "mesh3d": [
           {
            "colorbar": {
             "outlinewidth": 0,
             "ticks": ""
            },
            "type": "mesh3d"
           }
          ],
          "parcoords": [
           {
            "line": {
             "colorbar": {
              "outlinewidth": 0,
              "ticks": ""
             }
            },
            "type": "parcoords"
           }
          ],
          "pie": [
           {
            "automargin": true,
            "type": "pie"
           }
          ],
          "scatter": [
           {
            "marker": {
             "colorbar": {
              "outlinewidth": 0,
              "ticks": ""
             }
            },
            "type": "scatter"
           }
          ],
          "scatter3d": [
           {
            "line": {
             "colorbar": {
              "outlinewidth": 0,
              "ticks": ""
             }
            },
            "marker": {
             "colorbar": {
              "outlinewidth": 0,
              "ticks": ""
             }
            },
            "type": "scatter3d"
           }
          ],
          "scattercarpet": [
           {
            "marker": {
             "colorbar": {
              "outlinewidth": 0,
              "ticks": ""
             }
            },
            "type": "scattercarpet"
           }
          ],
          "scattergeo": [
           {
            "marker": {
             "colorbar": {
              "outlinewidth": 0,
              "ticks": ""
             }
            },
            "type": "scattergeo"
           }
          ],
          "scattergl": [
           {
            "marker": {
             "colorbar": {
              "outlinewidth": 0,
              "ticks": ""
             }
            },
            "type": "scattergl"
           }
          ],
          "scattermapbox": [
           {
            "marker": {
             "colorbar": {
              "outlinewidth": 0,
              "ticks": ""
             }
            },
            "type": "scattermapbox"
           }
          ],
          "scatterpolar": [
           {
            "marker": {
             "colorbar": {
              "outlinewidth": 0,
              "ticks": ""
             }
            },
            "type": "scatterpolar"
           }
          ],
          "scatterpolargl": [
           {
            "marker": {
             "colorbar": {
              "outlinewidth": 0,
              "ticks": ""
             }
            },
            "type": "scatterpolargl"
           }
          ],
          "scatterternary": [
           {
            "marker": {
             "colorbar": {
              "outlinewidth": 0,
              "ticks": ""
             }
            },
            "type": "scatterternary"
           }
          ],
          "surface": [
           {
            "colorbar": {
             "outlinewidth": 0,
             "ticks": ""
            },
            "colorscale": [
             [
              0,
              "#0d0887"
             ],
             [
              0.1111111111111111,
              "#46039f"
             ],
             [
              0.2222222222222222,
              "#7201a8"
             ],
             [
              0.3333333333333333,
              "#9c179e"
             ],
             [
              0.4444444444444444,
              "#bd3786"
             ],
             [
              0.5555555555555556,
              "#d8576b"
             ],
             [
              0.6666666666666666,
              "#ed7953"
             ],
             [
              0.7777777777777778,
              "#fb9f3a"
             ],
             [
              0.8888888888888888,
              "#fdca26"
             ],
             [
              1,
              "#f0f921"
             ]
            ],
            "type": "surface"
           }
          ],
          "table": [
           {
            "cells": {
             "fill": {
              "color": "#EBF0F8"
             },
             "line": {
              "color": "white"
             }
            },
            "header": {
             "fill": {
              "color": "#C8D4E3"
             },
             "line": {
              "color": "white"
             }
            },
            "type": "table"
           }
          ]
         },
         "layout": {
          "annotationdefaults": {
           "arrowcolor": "#2a3f5f",
           "arrowhead": 0,
           "arrowwidth": 1
          },
          "coloraxis": {
           "colorbar": {
            "outlinewidth": 0,
            "ticks": ""
           }
          },
          "colorscale": {
           "diverging": [
            [
             0,
             "#8e0152"
            ],
            [
             0.1,
             "#c51b7d"
            ],
            [
             0.2,
             "#de77ae"
            ],
            [
             0.3,
             "#f1b6da"
            ],
            [
             0.4,
             "#fde0ef"
            ],
            [
             0.5,
             "#f7f7f7"
            ],
            [
             0.6,
             "#e6f5d0"
            ],
            [
             0.7,
             "#b8e186"
            ],
            [
             0.8,
             "#7fbc41"
            ],
            [
             0.9,
             "#4d9221"
            ],
            [
             1,
             "#276419"
            ]
           ],
           "sequential": [
            [
             0,
             "#0d0887"
            ],
            [
             0.1111111111111111,
             "#46039f"
            ],
            [
             0.2222222222222222,
             "#7201a8"
            ],
            [
             0.3333333333333333,
             "#9c179e"
            ],
            [
             0.4444444444444444,
             "#bd3786"
            ],
            [
             0.5555555555555556,
             "#d8576b"
            ],
            [
             0.6666666666666666,
             "#ed7953"
            ],
            [
             0.7777777777777778,
             "#fb9f3a"
            ],
            [
             0.8888888888888888,
             "#fdca26"
            ],
            [
             1,
             "#f0f921"
            ]
           ],
           "sequentialminus": [
            [
             0,
             "#0d0887"
            ],
            [
             0.1111111111111111,
             "#46039f"
            ],
            [
             0.2222222222222222,
             "#7201a8"
            ],
            [
             0.3333333333333333,
             "#9c179e"
            ],
            [
             0.4444444444444444,
             "#bd3786"
            ],
            [
             0.5555555555555556,
             "#d8576b"
            ],
            [
             0.6666666666666666,
             "#ed7953"
            ],
            [
             0.7777777777777778,
             "#fb9f3a"
            ],
            [
             0.8888888888888888,
             "#fdca26"
            ],
            [
             1,
             "#f0f921"
            ]
           ]
          },
          "colorway": [
           "#636efa",
           "#EF553B",
           "#00cc96",
           "#ab63fa",
           "#FFA15A",
           "#19d3f3",
           "#FF6692",
           "#B6E880",
           "#FF97FF",
           "#FECB52"
          ],
          "font": {
           "color": "#2a3f5f"
          },
          "geo": {
           "bgcolor": "white",
           "lakecolor": "white",
           "landcolor": "#E5ECF6",
           "showlakes": true,
           "showland": true,
           "subunitcolor": "white"
          },
          "hoverlabel": {
           "align": "left"
          },
          "hovermode": "closest",
          "mapbox": {
           "style": "light"
          },
          "paper_bgcolor": "white",
          "plot_bgcolor": "#E5ECF6",
          "polar": {
           "angularaxis": {
            "gridcolor": "white",
            "linecolor": "white",
            "ticks": ""
           },
           "bgcolor": "#E5ECF6",
           "radialaxis": {
            "gridcolor": "white",
            "linecolor": "white",
            "ticks": ""
           }
          },
          "scene": {
           "xaxis": {
            "backgroundcolor": "#E5ECF6",
            "gridcolor": "white",
            "gridwidth": 2,
            "linecolor": "white",
            "showbackground": true,
            "ticks": "",
            "zerolinecolor": "white"
           },
           "yaxis": {
            "backgroundcolor": "#E5ECF6",
            "gridcolor": "white",
            "gridwidth": 2,
            "linecolor": "white",
            "showbackground": true,
            "ticks": "",
            "zerolinecolor": "white"
           },
           "zaxis": {
            "backgroundcolor": "#E5ECF6",
            "gridcolor": "white",
            "gridwidth": 2,
            "linecolor": "white",
            "showbackground": true,
            "ticks": "",
            "zerolinecolor": "white"
           }
          },
          "shapedefaults": {
           "line": {
            "color": "#2a3f5f"
           }
          },
          "ternary": {
           "aaxis": {
            "gridcolor": "white",
            "linecolor": "white",
            "ticks": ""
           },
           "baxis": {
            "gridcolor": "white",
            "linecolor": "white",
            "ticks": ""
           },
           "bgcolor": "#E5ECF6",
           "caxis": {
            "gridcolor": "white",
            "linecolor": "white",
            "ticks": ""
           }
          },
          "title": {
           "x": 0.05
          },
          "xaxis": {
           "automargin": true,
           "gridcolor": "white",
           "linecolor": "white",
           "ticks": "",
           "title": {
            "standoff": 15
           },
           "zerolinecolor": "white",
           "zerolinewidth": 2
          },
          "yaxis": {
           "automargin": true,
           "gridcolor": "white",
           "linecolor": "white",
           "ticks": "",
           "title": {
            "standoff": 15
           },
           "zerolinecolor": "white",
           "zerolinewidth": 2
          }
         }
        },
        "title": {
         "text": "Base Scores"
        },
        "width": 1200,
        "xaxis": {
         "anchor": "y",
         "domain": [
          0,
          1
         ],
         "title": {
          "text": "index"
         }
        },
        "yaxis": {
         "anchor": "x",
         "domain": [
          0,
          1
         ],
         "title": {
          "text": "MSE_Loss"
         }
        }
       }
      }
     },
     "metadata": {}
    }
   ],
   "source": [
    "metric_exploration.visualize_score(scores, \"Base Scores\")"
   ]
  },
  {
   "cell_type": "code",
   "execution_count": 265,
   "metadata": {},
   "outputs": [
    {
     "output_type": "display_data",
     "data": {
      "application/vnd.plotly.v1+json": {
       "config": {
        "plotlyServerURL": "https://plot.ly"
       },
       "data": [
        {
         "customdata": [
          [
           0
          ]
         ],
         "hovertemplate": "category=MLP_label_by_dataset_bible_human<br>MSE_Loss=%{y}<extra></extra>",
         "legendgroup": "MLP_label_by_dataset_bible_human",
         "line": {
          "color": "#636efa",
          "dash": "solid"
         },
         "mode": "markers",
         "name": "MLP_label_by_dataset_bible_human",
         "orientation": "v",
         "showlegend": true,
         "type": "scatter",
         "x": [
          0
         ],
         "xaxis": "x",
         "y": [
          1.7704453477852393
         ],
         "yaxis": "y"
        },
        {
         "customdata": [
          [
           1
          ]
         ],
         "hovertemplate": "category=MLP_label_reduced_by_dataset_bible_human<br>MSE_Loss=%{y}<extra></extra>",
         "legendgroup": "MLP_label_reduced_by_dataset_bible_human",
         "line": {
          "color": "#EF553B",
          "dash": "solid"
         },
         "mode": "markers",
         "name": "MLP_label_reduced_by_dataset_bible_human",
         "orientation": "v",
         "showlegend": true,
         "type": "scatter",
         "x": [
          1
         ],
         "xaxis": "x",
         "y": [
          0.4541336682746265
         ],
         "yaxis": "y"
        },
        {
         "customdata": [
          [
           2
          ]
         ],
         "hovertemplate": "category=MLP_label_by_dataset_bible_random_human<br>MSE_Loss=%{y}<extra></extra>",
         "legendgroup": "MLP_label_by_dataset_bible_random_human",
         "line": {
          "color": "#00cc96",
          "dash": "solid"
         },
         "mode": "markers",
         "name": "MLP_label_by_dataset_bible_random_human",
         "orientation": "v",
         "showlegend": true,
         "type": "scatter",
         "x": [
          2
         ],
         "xaxis": "x",
         "y": [
          1.0778609081713955
         ],
         "yaxis": "y"
        },
        {
         "customdata": [
          [
           3
          ]
         ],
         "hovertemplate": "category=MLP_label_reduced_by_dataset_bible_random_human<br>MSE_Loss=%{y}<extra></extra>",
         "legendgroup": "MLP_label_reduced_by_dataset_bible_random_human",
         "line": {
          "color": "#ab63fa",
          "dash": "solid"
         },
         "mode": "markers",
         "name": "MLP_label_reduced_by_dataset_bible_random_human",
         "orientation": "v",
         "showlegend": true,
         "type": "scatter",
         "x": [
          3
         ],
         "xaxis": "x",
         "y": [
          0.43655996711140027
         ],
         "yaxis": "y"
        },
        {
         "customdata": [
          [
           4
          ]
         ],
         "hovertemplate": "category=MLP_label_by_dataset_gyafc_formal_human<br>MSE_Loss=%{y}<extra></extra>",
         "legendgroup": "MLP_label_by_dataset_gyafc_formal_human",
         "line": {
          "color": "#FFA15A",
          "dash": "solid"
         },
         "mode": "markers",
         "name": "MLP_label_by_dataset_gyafc_formal_human",
         "orientation": "v",
         "showlegend": true,
         "type": "scatter",
         "x": [
          4
         ],
         "xaxis": "x",
         "y": [
          9.61908630960862
         ],
         "yaxis": "y"
        },
        {
         "customdata": [
          [
           5
          ]
         ],
         "hovertemplate": "category=MLP_label_reduced_by_dataset_gyafc_formal_human<br>MSE_Loss=%{y}<extra></extra>",
         "legendgroup": "MLP_label_reduced_by_dataset_gyafc_formal_human",
         "line": {
          "color": "#19d3f3",
          "dash": "solid"
         },
         "mode": "markers",
         "name": "MLP_label_reduced_by_dataset_gyafc_formal_human",
         "orientation": "v",
         "showlegend": true,
         "type": "scatter",
         "x": [
          5
         ],
         "xaxis": "x",
         "y": [
          0.3499803304327713
         ],
         "yaxis": "y"
        },
        {
         "customdata": [
          [
           6
          ]
         ],
         "hovertemplate": "category=MLP_label_by_dataset_gyafc_formal_random_human<br>MSE_Loss=%{y}<extra></extra>",
         "legendgroup": "MLP_label_by_dataset_gyafc_formal_random_human",
         "line": {
          "color": "#FF6692",
          "dash": "solid"
         },
         "mode": "markers",
         "name": "MLP_label_by_dataset_gyafc_formal_random_human",
         "orientation": "v",
         "showlegend": true,
         "type": "scatter",
         "x": [
          6
         ],
         "xaxis": "x",
         "y": [
          1.1693419031156151
         ],
         "yaxis": "y"
        },
        {
         "customdata": [
          [
           7
          ]
         ],
         "hovertemplate": "category=MLP_label_reduced_by_dataset_gyafc_formal_random_human<br>MSE_Loss=%{y}<extra></extra>",
         "legendgroup": "MLP_label_reduced_by_dataset_gyafc_formal_random_human",
         "line": {
          "color": "#B6E880",
          "dash": "solid"
         },
         "mode": "markers",
         "name": "MLP_label_reduced_by_dataset_gyafc_formal_random_human",
         "orientation": "v",
         "showlegend": true,
         "type": "scatter",
         "x": [
          7
         ],
         "xaxis": "x",
         "y": [
          0.38932574603553427
         ],
         "yaxis": "y"
        },
        {
         "customdata": [
          [
           8
          ]
         ],
         "hovertemplate": "category=MLP_label_by_dataset_gyafc_informal_human<br>MSE_Loss=%{y}<extra></extra>",
         "legendgroup": "MLP_label_by_dataset_gyafc_informal_human",
         "line": {
          "color": "#FF97FF",
          "dash": "solid"
         },
         "mode": "markers",
         "name": "MLP_label_by_dataset_gyafc_informal_human",
         "orientation": "v",
         "showlegend": true,
         "type": "scatter",
         "x": [
          8
         ],
         "xaxis": "x",
         "y": [
          2.5870797690681977
         ],
         "yaxis": "y"
        },
        {
         "customdata": [
          [
           9
          ]
         ],
         "hovertemplate": "category=MLP_label_reduced_by_dataset_gyafc_informal_human<br>MSE_Loss=%{y}<extra></extra>",
         "legendgroup": "MLP_label_reduced_by_dataset_gyafc_informal_human",
         "line": {
          "color": "#FECB52",
          "dash": "solid"
         },
         "mode": "markers",
         "name": "MLP_label_reduced_by_dataset_gyafc_informal_human",
         "orientation": "v",
         "showlegend": true,
         "type": "scatter",
         "x": [
          9
         ],
         "xaxis": "x",
         "y": [
          0.4516399209625678
         ],
         "yaxis": "y"
        },
        {
         "customdata": [
          [
           10
          ]
         ],
         "hovertemplate": "category=MLP_label_by_dataset_gyafc_informal_random_human<br>MSE_Loss=%{y}<extra></extra>",
         "legendgroup": "MLP_label_by_dataset_gyafc_informal_random_human",
         "line": {
          "color": "#636efa",
          "dash": "solid"
         },
         "mode": "markers",
         "name": "MLP_label_by_dataset_gyafc_informal_random_human",
         "orientation": "v",
         "showlegend": true,
         "type": "scatter",
         "x": [
          10
         ],
         "xaxis": "x",
         "y": [
          1.659871034445172
         ],
         "yaxis": "y"
        },
        {
         "customdata": [
          [
           11
          ]
         ],
         "hovertemplate": "category=MLP_label_reduced_by_dataset_gyafc_informal_random_human<br>MSE_Loss=%{y}<extra></extra>",
         "legendgroup": "MLP_label_reduced_by_dataset_gyafc_informal_random_human",
         "line": {
          "color": "#EF553B",
          "dash": "solid"
         },
         "mode": "markers",
         "name": "MLP_label_reduced_by_dataset_gyafc_informal_random_human",
         "orientation": "v",
         "showlegend": true,
         "type": "scatter",
         "x": [
          11
         ],
         "xaxis": "x",
         "y": [
          0.40166555952544125
         ],
         "yaxis": "y"
        },
        {
         "customdata": [
          [
           12
          ]
         ],
         "hovertemplate": "category=MLP_label_by_dataset_gyafc_rewrites_human<br>MSE_Loss=%{y}<extra></extra>",
         "legendgroup": "MLP_label_by_dataset_gyafc_rewrites_human",
         "line": {
          "color": "#00cc96",
          "dash": "solid"
         },
         "mode": "markers",
         "name": "MLP_label_by_dataset_gyafc_rewrites_human",
         "orientation": "v",
         "showlegend": true,
         "type": "scatter",
         "x": [
          12
         ],
         "xaxis": "x",
         "y": [
          1.5726292674003253
         ],
         "yaxis": "y"
        },
        {
         "customdata": [
          [
           13
          ]
         ],
         "hovertemplate": "category=MLP_label_reduced_by_dataset_gyafc_rewrites_human<br>MSE_Loss=%{y}<extra></extra>",
         "legendgroup": "MLP_label_reduced_by_dataset_gyafc_rewrites_human",
         "line": {
          "color": "#ab63fa",
          "dash": "solid"
         },
         "mode": "markers",
         "name": "MLP_label_reduced_by_dataset_gyafc_rewrites_human",
         "orientation": "v",
         "showlegend": true,
         "type": "scatter",
         "x": [
          13
         ],
         "xaxis": "x",
         "y": [
          0.3798674063976159
         ],
         "yaxis": "y"
        },
        {
         "customdata": [
          [
           14
          ]
         ],
         "hovertemplate": "category=MLP_label_by_dataset_gyafc_rewrites_random_human<br>MSE_Loss=%{y}<extra></extra>",
         "legendgroup": "MLP_label_by_dataset_gyafc_rewrites_random_human",
         "line": {
          "color": "#FFA15A",
          "dash": "solid"
         },
         "mode": "markers",
         "name": "MLP_label_by_dataset_gyafc_rewrites_random_human",
         "orientation": "v",
         "showlegend": true,
         "type": "scatter",
         "x": [
          14
         ],
         "xaxis": "x",
         "y": [
          1.139040329438966
         ],
         "yaxis": "y"
        },
        {
         "customdata": [
          [
           15
          ]
         ],
         "hovertemplate": "category=MLP_label_reduced_by_dataset_gyafc_rewrites_random_human<br>MSE_Loss=%{y}<extra></extra>",
         "legendgroup": "MLP_label_reduced_by_dataset_gyafc_rewrites_random_human",
         "line": {
          "color": "#19d3f3",
          "dash": "solid"
         },
         "mode": "markers",
         "name": "MLP_label_reduced_by_dataset_gyafc_rewrites_random_human",
         "orientation": "v",
         "showlegend": true,
         "type": "scatter",
         "x": [
          15
         ],
         "xaxis": "x",
         "y": [
          0.37024447790126325
         ],
         "yaxis": "y"
        },
        {
         "customdata": [
          [
           16
          ]
         ],
         "hovertemplate": "category=MLP_label_by_dataset_paralex_human<br>MSE_Loss=%{y}<extra></extra>",
         "legendgroup": "MLP_label_by_dataset_paralex_human",
         "line": {
          "color": "#FF6692",
          "dash": "solid"
         },
         "mode": "markers",
         "name": "MLP_label_by_dataset_paralex_human",
         "orientation": "v",
         "showlegend": true,
         "type": "scatter",
         "x": [
          16
         ],
         "xaxis": "x",
         "y": [
          1.6220188673588498
         ],
         "yaxis": "y"
        },
        {
         "customdata": [
          [
           17
          ]
         ],
         "hovertemplate": "category=MLP_label_reduced_by_dataset_paralex_human<br>MSE_Loss=%{y}<extra></extra>",
         "legendgroup": "MLP_label_reduced_by_dataset_paralex_human",
         "line": {
          "color": "#B6E880",
          "dash": "solid"
         },
         "mode": "markers",
         "name": "MLP_label_reduced_by_dataset_paralex_human",
         "orientation": "v",
         "showlegend": true,
         "type": "scatter",
         "x": [
          17
         ],
         "xaxis": "x",
         "y": [
          0.4263822272497138
         ],
         "yaxis": "y"
        },
        {
         "customdata": [
          [
           18
          ]
         ],
         "hovertemplate": "category=MLP_label_by_dataset_paralex_random_human<br>MSE_Loss=%{y}<extra></extra>",
         "legendgroup": "MLP_label_by_dataset_paralex_random_human",
         "line": {
          "color": "#FF97FF",
          "dash": "solid"
         },
         "mode": "markers",
         "name": "MLP_label_by_dataset_paralex_random_human",
         "orientation": "v",
         "showlegend": true,
         "type": "scatter",
         "x": [
          18
         ],
         "xaxis": "x",
         "y": [
          1.1472579751682395
         ],
         "yaxis": "y"
        },
        {
         "customdata": [
          [
           19
          ]
         ],
         "hovertemplate": "category=MLP_label_reduced_by_dataset_paralex_random_human<br>MSE_Loss=%{y}<extra></extra>",
         "legendgroup": "MLP_label_reduced_by_dataset_paralex_random_human",
         "line": {
          "color": "#FECB52",
          "dash": "solid"
         },
         "mode": "markers",
         "name": "MLP_label_reduced_by_dataset_paralex_random_human",
         "orientation": "v",
         "showlegend": true,
         "type": "scatter",
         "x": [
          19
         ],
         "xaxis": "x",
         "y": [
          0.41108058231751554
         ],
         "yaxis": "y"
        },
        {
         "customdata": [
          [
           20
          ]
         ],
         "hovertemplate": "category=MLP_label_by_dataset_paraphrase_human<br>MSE_Loss=%{y}<extra></extra>",
         "legendgroup": "MLP_label_by_dataset_paraphrase_human",
         "line": {
          "color": "#636efa",
          "dash": "solid"
         },
         "mode": "markers",
         "name": "MLP_label_by_dataset_paraphrase_human",
         "orientation": "v",
         "showlegend": true,
         "type": "scatter",
         "x": [
          20
         ],
         "xaxis": "x",
         "y": [
          1.5788446819726594
         ],
         "yaxis": "y"
        },
        {
         "customdata": [
          [
           21
          ]
         ],
         "hovertemplate": "category=MLP_label_reduced_by_dataset_paraphrase_human<br>MSE_Loss=%{y}<extra></extra>",
         "legendgroup": "MLP_label_reduced_by_dataset_paraphrase_human",
         "line": {
          "color": "#EF553B",
          "dash": "solid"
         },
         "mode": "markers",
         "name": "MLP_label_reduced_by_dataset_paraphrase_human",
         "orientation": "v",
         "showlegend": true,
         "type": "scatter",
         "x": [
          21
         ],
         "xaxis": "x",
         "y": [
          0.36792136745983867
         ],
         "yaxis": "y"
        },
        {
         "customdata": [
          [
           22
          ]
         ],
         "hovertemplate": "category=MLP_label_by_dataset_paraphrase_random_human<br>MSE_Loss=%{y}<extra></extra>",
         "legendgroup": "MLP_label_by_dataset_paraphrase_random_human",
         "line": {
          "color": "#00cc96",
          "dash": "solid"
         },
         "mode": "markers",
         "name": "MLP_label_by_dataset_paraphrase_random_human",
         "orientation": "v",
         "showlegend": true,
         "type": "scatter",
         "x": [
          22
         ],
         "xaxis": "x",
         "y": [
          1.2742519528422378
         ],
         "yaxis": "y"
        },
        {
         "customdata": [
          [
           23
          ]
         ],
         "hovertemplate": "category=MLP_label_reduced_by_dataset_paraphrase_random_human<br>MSE_Loss=%{y}<extra></extra>",
         "legendgroup": "MLP_label_reduced_by_dataset_paraphrase_random_human",
         "line": {
          "color": "#ab63fa",
          "dash": "solid"
         },
         "mode": "markers",
         "name": "MLP_label_reduced_by_dataset_paraphrase_random_human",
         "orientation": "v",
         "showlegend": true,
         "type": "scatter",
         "x": [
          23
         ],
         "xaxis": "x",
         "y": [
          0.4760592094452606
         ],
         "yaxis": "y"
        },
        {
         "customdata": [
          [
           24
          ]
         ],
         "hovertemplate": "category=MLP_label_by_dataset_yelp_human<br>MSE_Loss=%{y}<extra></extra>",
         "legendgroup": "MLP_label_by_dataset_yelp_human",
         "line": {
          "color": "#FFA15A",
          "dash": "solid"
         },
         "mode": "markers",
         "name": "MLP_label_by_dataset_yelp_human",
         "orientation": "v",
         "showlegend": true,
         "type": "scatter",
         "x": [
          24
         ],
         "xaxis": "x",
         "y": [
          2.0433583719205726
         ],
         "yaxis": "y"
        },
        {
         "customdata": [
          [
           25
          ]
         ],
         "hovertemplate": "category=MLP_label_reduced_by_dataset_yelp_human<br>MSE_Loss=%{y}<extra></extra>",
         "legendgroup": "MLP_label_reduced_by_dataset_yelp_human",
         "line": {
          "color": "#19d3f3",
          "dash": "solid"
         },
         "mode": "markers",
         "name": "MLP_label_reduced_by_dataset_yelp_human",
         "orientation": "v",
         "showlegend": true,
         "type": "scatter",
         "x": [
          25
         ],
         "xaxis": "x",
         "y": [
          0.5150924885430349
         ],
         "yaxis": "y"
        },
        {
         "customdata": [
          [
           26
          ]
         ],
         "hovertemplate": "category=MLP_label_by_dataset_yelp_random_human<br>MSE_Loss=%{y}<extra></extra>",
         "legendgroup": "MLP_label_by_dataset_yelp_random_human",
         "line": {
          "color": "#FF6692",
          "dash": "solid"
         },
         "mode": "markers",
         "name": "MLP_label_by_dataset_yelp_random_human",
         "orientation": "v",
         "showlegend": true,
         "type": "scatter",
         "x": [
          26
         ],
         "xaxis": "x",
         "y": [
          1.3132760636186536
         ],
         "yaxis": "y"
        },
        {
         "customdata": [
          [
           27
          ]
         ],
         "hovertemplate": "category=MLP_label_reduced_by_dataset_yelp_random_human<br>MSE_Loss=%{y}<extra></extra>",
         "legendgroup": "MLP_label_reduced_by_dataset_yelp_random_human",
         "line": {
          "color": "#B6E880",
          "dash": "solid"
         },
         "mode": "markers",
         "name": "MLP_label_reduced_by_dataset_yelp_random_human",
         "orientation": "v",
         "showlegend": true,
         "type": "scatter",
         "x": [
          27
         ],
         "xaxis": "x",
         "y": [
          0.4606683783746468
         ],
         "yaxis": "y"
        },
        {
         "customdata": [
          [
           28
          ]
         ],
         "hovertemplate": "category=MLP_label_by_random_0<br>MSE_Loss=%{y}<extra></extra>",
         "legendgroup": "MLP_label_by_random_0",
         "line": {
          "color": "#FF97FF",
          "dash": "solid"
         },
         "mode": "markers",
         "name": "MLP_label_by_random_0",
         "orientation": "v",
         "showlegend": true,
         "type": "scatter",
         "x": [
          28
         ],
         "xaxis": "x",
         "y": [
          1.2122960604829132
         ],
         "yaxis": "y"
        },
        {
         "customdata": [
          [
           29
          ]
         ],
         "hovertemplate": "category=MLP_label_reduced_by_random_0<br>MSE_Loss=%{y}<extra></extra>",
         "legendgroup": "MLP_label_reduced_by_random_0",
         "line": {
          "color": "#FECB52",
          "dash": "solid"
         },
         "mode": "markers",
         "name": "MLP_label_reduced_by_random_0",
         "orientation": "v",
         "showlegend": true,
         "type": "scatter",
         "x": [
          29
         ],
         "xaxis": "x",
         "y": [
          0.46643663927586093
         ],
         "yaxis": "y"
        },
        {
         "customdata": [
          [
           30
          ]
         ],
         "hovertemplate": "category=MLP_label_by_random_1<br>MSE_Loss=%{y}<extra></extra>",
         "legendgroup": "MLP_label_by_random_1",
         "line": {
          "color": "#636efa",
          "dash": "solid"
         },
         "mode": "markers",
         "name": "MLP_label_by_random_1",
         "orientation": "v",
         "showlegend": true,
         "type": "scatter",
         "x": [
          30
         ],
         "xaxis": "x",
         "y": [
          1.1004268792454144
         ],
         "yaxis": "y"
        },
        {
         "customdata": [
          [
           31
          ]
         ],
         "hovertemplate": "category=MLP_label_reduced_by_random_1<br>MSE_Loss=%{y}<extra></extra>",
         "legendgroup": "MLP_label_reduced_by_random_1",
         "line": {
          "color": "#EF553B",
          "dash": "solid"
         },
         "mode": "markers",
         "name": "MLP_label_reduced_by_random_1",
         "orientation": "v",
         "showlegend": true,
         "type": "scatter",
         "x": [
          31
         ],
         "xaxis": "x",
         "y": [
          0.4360554692050043
         ],
         "yaxis": "y"
        },
        {
         "customdata": [
          [
           32
          ]
         ],
         "hovertemplate": "category=MLP_label_by_radical_or_centralist_centralist<br>MSE_Loss=%{y}<extra></extra>",
         "legendgroup": "MLP_label_by_radical_or_centralist_centralist",
         "line": {
          "color": "#00cc96",
          "dash": "solid"
         },
         "mode": "markers",
         "name": "MLP_label_by_radical_or_centralist_centralist",
         "orientation": "v",
         "showlegend": true,
         "type": "scatter",
         "x": [
          32
         ],
         "xaxis": "x",
         "y": [
          1.2058664067952924
         ],
         "yaxis": "y"
        },
        {
         "customdata": [
          [
           33
          ]
         ],
         "hovertemplate": "category=MLP_label_reduced_by_radical_or_centralist_centralist<br>MSE_Loss=%{y}<extra></extra>",
         "legendgroup": "MLP_label_reduced_by_radical_or_centralist_centralist",
         "line": {
          "color": "#ab63fa",
          "dash": "solid"
         },
         "mode": "markers",
         "name": "MLP_label_reduced_by_radical_or_centralist_centralist",
         "orientation": "v",
         "showlegend": true,
         "type": "scatter",
         "x": [
          33
         ],
         "xaxis": "x",
         "y": [
          0.6234165352621885
         ],
         "yaxis": "y"
        },
        {
         "customdata": [
          [
           34
          ]
         ],
         "hovertemplate": "category=MLP_label_by_radical_or_centralist_neither<br>MSE_Loss=%{y}<extra></extra>",
         "legendgroup": "MLP_label_by_radical_or_centralist_neither",
         "line": {
          "color": "#FFA15A",
          "dash": "solid"
         },
         "mode": "markers",
         "name": "MLP_label_by_radical_or_centralist_neither",
         "orientation": "v",
         "showlegend": true,
         "type": "scatter",
         "x": [
          34
         ],
         "xaxis": "x",
         "y": [
          1.2602326157776396
         ],
         "yaxis": "y"
        },
        {
         "customdata": [
          [
           35
          ]
         ],
         "hovertemplate": "category=MLP_label_reduced_by_radical_or_centralist_neither<br>MSE_Loss=%{y}<extra></extra>",
         "legendgroup": "MLP_label_reduced_by_radical_or_centralist_neither",
         "line": {
          "color": "#19d3f3",
          "dash": "solid"
         },
         "mode": "markers",
         "name": "MLP_label_reduced_by_radical_or_centralist_neither",
         "orientation": "v",
         "showlegend": true,
         "type": "scatter",
         "x": [
          35
         ],
         "xaxis": "x",
         "y": [
          0.45981879025536854
         ],
         "yaxis": "y"
        },
        {
         "customdata": [
          [
           36
          ]
         ],
         "hovertemplate": "category=MLP_label_by_radical_or_centralist_radical<br>MSE_Loss=%{y}<extra></extra>",
         "legendgroup": "MLP_label_by_radical_or_centralist_radical",
         "line": {
          "color": "#FF6692",
          "dash": "solid"
         },
         "mode": "markers",
         "name": "MLP_label_by_radical_or_centralist_radical",
         "orientation": "v",
         "showlegend": true,
         "type": "scatter",
         "x": [
          36
         ],
         "xaxis": "x",
         "y": [
          3.4236507745069673
         ],
         "yaxis": "y"
        },
        {
         "customdata": [
          [
           37
          ]
         ],
         "hovertemplate": "category=MLP_label_reduced_by_radical_or_centralist_radical<br>MSE_Loss=%{y}<extra></extra>",
         "legendgroup": "MLP_label_reduced_by_radical_or_centralist_radical",
         "line": {
          "color": "#B6E880",
          "dash": "solid"
         },
         "mode": "markers",
         "name": "MLP_label_reduced_by_radical_or_centralist_radical",
         "orientation": "v",
         "showlegend": true,
         "type": "scatter",
         "x": [
          37
         ],
         "xaxis": "x",
         "y": [
          0.8695634741297342
         ],
         "yaxis": "y"
        },
        {
         "customdata": [
          [
           38
          ]
         ],
         "hovertemplate": "category=MLP_label_combined<br>MSE_Loss=%{y}<extra></extra>",
         "legendgroup": "MLP_label_combined",
         "line": {
          "color": "#FF97FF",
          "dash": "solid"
         },
         "mode": "markers",
         "name": "MLP_label_combined",
         "orientation": "v",
         "showlegend": true,
         "type": "scatter",
         "x": [
          38
         ],
         "xaxis": "x",
         "y": [
          1.5157343215645942
         ],
         "yaxis": "y"
        },
        {
         "customdata": [
          [
           39
          ]
         ],
         "hovertemplate": "category=MLP_label_reduced_combined<br>MSE_Loss=%{y}<extra></extra>",
         "legendgroup": "MLP_label_reduced_combined",
         "line": {
          "color": "#FECB52",
          "dash": "solid"
         },
         "mode": "markers",
         "name": "MLP_label_reduced_combined",
         "orientation": "v",
         "showlegend": true,
         "type": "scatter",
         "x": [
          39
         ],
         "xaxis": "x",
         "y": [
          0.5762413805319717
         ],
         "yaxis": "y"
        }
       ],
       "layout": {
        "height": 600,
        "legend": {
         "title": {
          "text": "category"
         },
         "tracegroupgap": 0
        },
        "template": {
         "data": {
          "bar": [
           {
            "error_x": {
             "color": "#2a3f5f"
            },
            "error_y": {
             "color": "#2a3f5f"
            },
            "marker": {
             "line": {
              "color": "#E5ECF6",
              "width": 0.5
             }
            },
            "type": "bar"
           }
          ],
          "barpolar": [
           {
            "marker": {
             "line": {
              "color": "#E5ECF6",
              "width": 0.5
             }
            },
            "type": "barpolar"
           }
          ],
          "carpet": [
           {
            "aaxis": {
             "endlinecolor": "#2a3f5f",
             "gridcolor": "white",
             "linecolor": "white",
             "minorgridcolor": "white",
             "startlinecolor": "#2a3f5f"
            },
            "baxis": {
             "endlinecolor": "#2a3f5f",
             "gridcolor": "white",
             "linecolor": "white",
             "minorgridcolor": "white",
             "startlinecolor": "#2a3f5f"
            },
            "type": "carpet"
           }
          ],
          "choropleth": [
           {
            "colorbar": {
             "outlinewidth": 0,
             "ticks": ""
            },
            "type": "choropleth"
           }
          ],
          "contour": [
           {
            "colorbar": {
             "outlinewidth": 0,
             "ticks": ""
            },
            "colorscale": [
             [
              0,
              "#0d0887"
             ],
             [
              0.1111111111111111,
              "#46039f"
             ],
             [
              0.2222222222222222,
              "#7201a8"
             ],
             [
              0.3333333333333333,
              "#9c179e"
             ],
             [
              0.4444444444444444,
              "#bd3786"
             ],
             [
              0.5555555555555556,
              "#d8576b"
             ],
             [
              0.6666666666666666,
              "#ed7953"
             ],
             [
              0.7777777777777778,
              "#fb9f3a"
             ],
             [
              0.8888888888888888,
              "#fdca26"
             ],
             [
              1,
              "#f0f921"
             ]
            ],
            "type": "contour"
           }
          ],
          "contourcarpet": [
           {
            "colorbar": {
             "outlinewidth": 0,
             "ticks": ""
            },
            "type": "contourcarpet"
           }
          ],
          "heatmap": [
           {
            "colorbar": {
             "outlinewidth": 0,
             "ticks": ""
            },
            "colorscale": [
             [
              0,
              "#0d0887"
             ],
             [
              0.1111111111111111,
              "#46039f"
             ],
             [
              0.2222222222222222,
              "#7201a8"
             ],
             [
              0.3333333333333333,
              "#9c179e"
             ],
             [
              0.4444444444444444,
              "#bd3786"
             ],
             [
              0.5555555555555556,
              "#d8576b"
             ],
             [
              0.6666666666666666,
              "#ed7953"
             ],
             [
              0.7777777777777778,
              "#fb9f3a"
             ],
             [
              0.8888888888888888,
              "#fdca26"
             ],
             [
              1,
              "#f0f921"
             ]
            ],
            "type": "heatmap"
           }
          ],
          "heatmapgl": [
           {
            "colorbar": {
             "outlinewidth": 0,
             "ticks": ""
            },
            "colorscale": [
             [
              0,
              "#0d0887"
             ],
             [
              0.1111111111111111,
              "#46039f"
             ],
             [
              0.2222222222222222,
              "#7201a8"
             ],
             [
              0.3333333333333333,
              "#9c179e"
             ],
             [
              0.4444444444444444,
              "#bd3786"
             ],
             [
              0.5555555555555556,
              "#d8576b"
             ],
             [
              0.6666666666666666,
              "#ed7953"
             ],
             [
              0.7777777777777778,
              "#fb9f3a"
             ],
             [
              0.8888888888888888,
              "#fdca26"
             ],
             [
              1,
              "#f0f921"
             ]
            ],
            "type": "heatmapgl"
           }
          ],
          "histogram": [
           {
            "marker": {
             "colorbar": {
              "outlinewidth": 0,
              "ticks": ""
             }
            },
            "type": "histogram"
           }
          ],
          "histogram2d": [
           {
            "colorbar": {
             "outlinewidth": 0,
             "ticks": ""
            },
            "colorscale": [
             [
              0,
              "#0d0887"
             ],
             [
              0.1111111111111111,
              "#46039f"
             ],
             [
              0.2222222222222222,
              "#7201a8"
             ],
             [
              0.3333333333333333,
              "#9c179e"
             ],
             [
              0.4444444444444444,
              "#bd3786"
             ],
             [
              0.5555555555555556,
              "#d8576b"
             ],
             [
              0.6666666666666666,
              "#ed7953"
             ],
             [
              0.7777777777777778,
              "#fb9f3a"
             ],
             [
              0.8888888888888888,
              "#fdca26"
             ],
             [
              1,
              "#f0f921"
             ]
            ],
            "type": "histogram2d"
           }
          ],
          "histogram2dcontour": [
           {
            "colorbar": {
             "outlinewidth": 0,
             "ticks": ""
            },
            "colorscale": [
             [
              0,
              "#0d0887"
             ],
             [
              0.1111111111111111,
              "#46039f"
             ],
             [
              0.2222222222222222,
              "#7201a8"
             ],
             [
              0.3333333333333333,
              "#9c179e"
             ],
             [
              0.4444444444444444,
              "#bd3786"
             ],
             [
              0.5555555555555556,
              "#d8576b"
             ],
             [
              0.6666666666666666,
              "#ed7953"
             ],
             [
              0.7777777777777778,
              "#fb9f3a"
             ],
             [
              0.8888888888888888,
              "#fdca26"
             ],
             [
              1,
              "#f0f921"
             ]
            ],
            "type": "histogram2dcontour"
           }
          ],
          "mesh3d": [
           {
            "colorbar": {
             "outlinewidth": 0,
             "ticks": ""
            },
            "type": "mesh3d"
           }
          ],
          "parcoords": [
           {
            "line": {
             "colorbar": {
              "outlinewidth": 0,
              "ticks": ""
             }
            },
            "type": "parcoords"
           }
          ],
          "pie": [
           {
            "automargin": true,
            "type": "pie"
           }
          ],
          "scatter": [
           {
            "marker": {
             "colorbar": {
              "outlinewidth": 0,
              "ticks": ""
             }
            },
            "type": "scatter"
           }
          ],
          "scatter3d": [
           {
            "line": {
             "colorbar": {
              "outlinewidth": 0,
              "ticks": ""
             }
            },
            "marker": {
             "colorbar": {
              "outlinewidth": 0,
              "ticks": ""
             }
            },
            "type": "scatter3d"
           }
          ],
          "scattercarpet": [
           {
            "marker": {
             "colorbar": {
              "outlinewidth": 0,
              "ticks": ""
             }
            },
            "type": "scattercarpet"
           }
          ],
          "scattergeo": [
           {
            "marker": {
             "colorbar": {
              "outlinewidth": 0,
              "ticks": ""
             }
            },
            "type": "scattergeo"
           }
          ],
          "scattergl": [
           {
            "marker": {
             "colorbar": {
              "outlinewidth": 0,
              "ticks": ""
             }
            },
            "type": "scattergl"
           }
          ],
          "scattermapbox": [
           {
            "marker": {
             "colorbar": {
              "outlinewidth": 0,
              "ticks": ""
             }
            },
            "type": "scattermapbox"
           }
          ],
          "scatterpolar": [
           {
            "marker": {
             "colorbar": {
              "outlinewidth": 0,
              "ticks": ""
             }
            },
            "type": "scatterpolar"
           }
          ],
          "scatterpolargl": [
           {
            "marker": {
             "colorbar": {
              "outlinewidth": 0,
              "ticks": ""
             }
            },
            "type": "scatterpolargl"
           }
          ],
          "scatterternary": [
           {
            "marker": {
             "colorbar": {
              "outlinewidth": 0,
              "ticks": ""
             }
            },
            "type": "scatterternary"
           }
          ],
          "surface": [
           {
            "colorbar": {
             "outlinewidth": 0,
             "ticks": ""
            },
            "colorscale": [
             [
              0,
              "#0d0887"
             ],
             [
              0.1111111111111111,
              "#46039f"
             ],
             [
              0.2222222222222222,
              "#7201a8"
             ],
             [
              0.3333333333333333,
              "#9c179e"
             ],
             [
              0.4444444444444444,
              "#bd3786"
             ],
             [
              0.5555555555555556,
              "#d8576b"
             ],
             [
              0.6666666666666666,
              "#ed7953"
             ],
             [
              0.7777777777777778,
              "#fb9f3a"
             ],
             [
              0.8888888888888888,
              "#fdca26"
             ],
             [
              1,
              "#f0f921"
             ]
            ],
            "type": "surface"
           }
          ],
          "table": [
           {
            "cells": {
             "fill": {
              "color": "#EBF0F8"
             },
             "line": {
              "color": "white"
             }
            },
            "header": {
             "fill": {
              "color": "#C8D4E3"
             },
             "line": {
              "color": "white"
             }
            },
            "type": "table"
           }
          ]
         },
         "layout": {
          "annotationdefaults": {
           "arrowcolor": "#2a3f5f",
           "arrowhead": 0,
           "arrowwidth": 1
          },
          "coloraxis": {
           "colorbar": {
            "outlinewidth": 0,
            "ticks": ""
           }
          },
          "colorscale": {
           "diverging": [
            [
             0,
             "#8e0152"
            ],
            [
             0.1,
             "#c51b7d"
            ],
            [
             0.2,
             "#de77ae"
            ],
            [
             0.3,
             "#f1b6da"
            ],
            [
             0.4,
             "#fde0ef"
            ],
            [
             0.5,
             "#f7f7f7"
            ],
            [
             0.6,
             "#e6f5d0"
            ],
            [
             0.7,
             "#b8e186"
            ],
            [
             0.8,
             "#7fbc41"
            ],
            [
             0.9,
             "#4d9221"
            ],
            [
             1,
             "#276419"
            ]
           ],
           "sequential": [
            [
             0,
             "#0d0887"
            ],
            [
             0.1111111111111111,
             "#46039f"
            ],
            [
             0.2222222222222222,
             "#7201a8"
            ],
            [
             0.3333333333333333,
             "#9c179e"
            ],
            [
             0.4444444444444444,
             "#bd3786"
            ],
            [
             0.5555555555555556,
             "#d8576b"
            ],
            [
             0.6666666666666666,
             "#ed7953"
            ],
            [
             0.7777777777777778,
             "#fb9f3a"
            ],
            [
             0.8888888888888888,
             "#fdca26"
            ],
            [
             1,
             "#f0f921"
            ]
           ],
           "sequentialminus": [
            [
             0,
             "#0d0887"
            ],
            [
             0.1111111111111111,
             "#46039f"
            ],
            [
             0.2222222222222222,
             "#7201a8"
            ],
            [
             0.3333333333333333,
             "#9c179e"
            ],
            [
             0.4444444444444444,
             "#bd3786"
            ],
            [
             0.5555555555555556,
             "#d8576b"
            ],
            [
             0.6666666666666666,
             "#ed7953"
            ],
            [
             0.7777777777777778,
             "#fb9f3a"
            ],
            [
             0.8888888888888888,
             "#fdca26"
            ],
            [
             1,
             "#f0f921"
            ]
           ]
          },
          "colorway": [
           "#636efa",
           "#EF553B",
           "#00cc96",
           "#ab63fa",
           "#FFA15A",
           "#19d3f3",
           "#FF6692",
           "#B6E880",
           "#FF97FF",
           "#FECB52"
          ],
          "font": {
           "color": "#2a3f5f"
          },
          "geo": {
           "bgcolor": "white",
           "lakecolor": "white",
           "landcolor": "#E5ECF6",
           "showlakes": true,
           "showland": true,
           "subunitcolor": "white"
          },
          "hoverlabel": {
           "align": "left"
          },
          "hovermode": "closest",
          "mapbox": {
           "style": "light"
          },
          "paper_bgcolor": "white",
          "plot_bgcolor": "#E5ECF6",
          "polar": {
           "angularaxis": {
            "gridcolor": "white",
            "linecolor": "white",
            "ticks": ""
           },
           "bgcolor": "#E5ECF6",
           "radialaxis": {
            "gridcolor": "white",
            "linecolor": "white",
            "ticks": ""
           }
          },
          "scene": {
           "xaxis": {
            "backgroundcolor": "#E5ECF6",
            "gridcolor": "white",
            "gridwidth": 2,
            "linecolor": "white",
            "showbackground": true,
            "ticks": "",
            "zerolinecolor": "white"
           },
           "yaxis": {
            "backgroundcolor": "#E5ECF6",
            "gridcolor": "white",
            "gridwidth": 2,
            "linecolor": "white",
            "showbackground": true,
            "ticks": "",
            "zerolinecolor": "white"
           },
           "zaxis": {
            "backgroundcolor": "#E5ECF6",
            "gridcolor": "white",
            "gridwidth": 2,
            "linecolor": "white",
            "showbackground": true,
            "ticks": "",
            "zerolinecolor": "white"
           }
          },
          "shapedefaults": {
           "line": {
            "color": "#2a3f5f"
           }
          },
          "ternary": {
           "aaxis": {
            "gridcolor": "white",
            "linecolor": "white",
            "ticks": ""
           },
           "baxis": {
            "gridcolor": "white",
            "linecolor": "white",
            "ticks": ""
           },
           "bgcolor": "#E5ECF6",
           "caxis": {
            "gridcolor": "white",
            "linecolor": "white",
            "ticks": ""
           }
          },
          "title": {
           "x": 0.05
          },
          "xaxis": {
           "automargin": true,
           "gridcolor": "white",
           "linecolor": "white",
           "ticks": "",
           "title": {
            "standoff": 15
           },
           "zerolinecolor": "white",
           "zerolinewidth": 2
          },
          "yaxis": {
           "automargin": true,
           "gridcolor": "white",
           "linecolor": "white",
           "ticks": "",
           "title": {
            "standoff": 15
           },
           "zerolinecolor": "white",
           "zerolinewidth": 2
          }
         }
        },
        "title": {
         "text": "MSE for MLP"
        },
        "width": 1200,
        "xaxis": {
         "anchor": "y",
         "domain": [
          0,
          1
         ],
         "title": {
          "text": "index"
         }
        },
        "yaxis": {
         "anchor": "x",
         "domain": [
          0,
          1
         ],
         "title": {
          "text": "MSE_Loss"
         }
        }
       }
      }
     },
     "metadata": {}
    }
   ],
   "source": [
    "scores2 = mm.run_model(model_type=\"MLP\")\n",
    "metric_exploration.visualize_score(scores2, \"MSE for MLP\")"
   ]
  },
  {
   "cell_type": "code",
   "execution_count": 266,
   "metadata": {},
   "outputs": [],
   "source": [
    "mm_filt = metric_exploration.Metrics_Models(df_filtered,non_metric_columns,categories)\n",
    "scores, fi_values = mm_filt.run_model(model_type = \"RF\")"
   ]
  },
  {
   "cell_type": "code",
   "execution_count": 267,
   "metadata": {},
   "outputs": [
    {
     "output_type": "display_data",
     "data": {
      "text/plain": "interactive(children=(Dropdown(description=&#39;key_v&#39;, options=(&#39;fi_label_by_dataset_bible_human&#39;, &#39;fi_reduced_la…",
      "application/vnd.jupyter.widget-view+json": {
       "version_major": 2,
       "version_minor": 0,
       "model_id": "03689a3b86fb49718940e26cf7b0df39"
      }
     },
     "metadata": {}
    },
    {
     "output_type": "display_data",
     "data": {
      "text/plain": "interactive(children=(Dropdown(description=&#39;key_v&#39;, options=(&#39;fi_label_by_random_0&#39;, &#39;fi_reduced_label_by_rand…",
      "application/vnd.jupyter.widget-view+json": {
       "version_major": 2,
       "version_minor": 0,
       "model_id": "d51ab66ba9704c73b9594e6227c97a69"
      }
     },
     "metadata": {}
    },
    {
     "output_type": "display_data",
     "data": {
      "text/plain": "interactive(children=(Dropdown(description=&#39;key_v&#39;, options=(&#39;fi_label_by_radical_or_centralist_centralist&#39;, &#39;…",
      "application/vnd.jupyter.widget-view+json": {
       "version_major": 2,
       "version_minor": 0,
       "model_id": "b9c490ee09ea486c80fd2ea3666c5904"
      }
     },
     "metadata": {}
    },
    {
     "output_type": "display_data",
     "data": {
      "text/plain": "interactive(children=(Dropdown(description=&#39;key_v&#39;, options=(&#39;fi_label_combined&#39;, &#39;fi_reduced_label_combined&#39;)…",
      "application/vnd.jupyter.widget-view+json": {
       "version_major": 2,
       "version_minor": 0,
       "model_id": "5f71f90c9c3246cba041d88e5a41b1ed"
      }
     },
     "metadata": {}
    }
   ],
   "source": [
    "metric_exploration.visualize_fi(fi_values, categories)"
   ]
  },
  {
   "cell_type": "code",
   "execution_count": 268,
   "metadata": {},
   "outputs": [
    {
     "output_type": "display_data",
     "data": {
      "application/vnd.plotly.v1+json": {
       "config": {
        "plotlyServerURL": "https://plot.ly"
       },
       "data": [
        {
         "customdata": [
          [
           0
          ]
         ],
         "hovertemplate": "category=RF_label_by_dataset_bible_human<br>MSE_Loss=%{y}<extra></extra>",
         "legendgroup": "RF_label_by_dataset_bible_human",
         "line": {
          "color": "#636efa",
          "dash": "solid"
         },
         "mode": "markers",
         "name": "RF_label_by_dataset_bible_human",
         "orientation": "v",
         "showlegend": true,
         "type": "scatter",
         "x": [
          0
         ],
         "xaxis": "x",
         "y": [
          0.9935973090588585
         ],
         "yaxis": "y"
        },
        {
         "customdata": [
          [
           1
          ]
         ],
         "hovertemplate": "category=RF_label_reduced_by_dataset_bible_human<br>MSE_Loss=%{y}<extra></extra>",
         "legendgroup": "RF_label_reduced_by_dataset_bible_human",
         "line": {
          "color": "#EF553B",
          "dash": "solid"
         },
         "mode": "markers",
         "name": "RF_label_reduced_by_dataset_bible_human",
         "orientation": "v",
         "showlegend": true,
         "type": "scatter",
         "x": [
          1
         ],
         "xaxis": "x",
         "y": [
          0.47326970931680606
         ],
         "yaxis": "y"
        },
        {
         "customdata": [
          [
           2
          ]
         ],
         "hovertemplate": "category=RF_label_by_dataset_bible_random_human<br>MSE_Loss=%{y}<extra></extra>",
         "legendgroup": "RF_label_by_dataset_bible_random_human",
         "line": {
          "color": "#00cc96",
          "dash": "solid"
         },
         "mode": "markers",
         "name": "RF_label_by_dataset_bible_random_human",
         "orientation": "v",
         "showlegend": true,
         "type": "scatter",
         "x": [
          2
         ],
         "xaxis": "x",
         "y": [
          0.829731780361202
         ],
         "yaxis": "y"
        },
        {
         "customdata": [
          [
           3
          ]
         ],
         "hovertemplate": "category=RF_label_reduced_by_dataset_bible_random_human<br>MSE_Loss=%{y}<extra></extra>",
         "legendgroup": "RF_label_reduced_by_dataset_bible_random_human",
         "line": {
          "color": "#ab63fa",
          "dash": "solid"
         },
         "mode": "markers",
         "name": "RF_label_reduced_by_dataset_bible_random_human",
         "orientation": "v",
         "showlegend": true,
         "type": "scatter",
         "x": [
          3
         ],
         "xaxis": "x",
         "y": [
          0.24481998422283033
         ],
         "yaxis": "y"
        },
        {
         "customdata": [
          [
           4
          ]
         ],
         "hovertemplate": "category=RF_label_by_dataset_gyafc_formal_human<br>MSE_Loss=%{y}<extra></extra>",
         "legendgroup": "RF_label_by_dataset_gyafc_formal_human",
         "line": {
          "color": "#FFA15A",
          "dash": "solid"
         },
         "mode": "markers",
         "name": "RF_label_by_dataset_gyafc_formal_human",
         "orientation": "v",
         "showlegend": true,
         "type": "scatter",
         "x": [
          4
         ],
         "xaxis": "x",
         "y": [
          1.2417619265198305
         ],
         "yaxis": "y"
        },
        {
         "customdata": [
          [
           5
          ]
         ],
         "hovertemplate": "category=RF_label_reduced_by_dataset_gyafc_formal_human<br>MSE_Loss=%{y}<extra></extra>",
         "legendgroup": "RF_label_reduced_by_dataset_gyafc_formal_human",
         "line": {
          "color": "#19d3f3",
          "dash": "solid"
         },
         "mode": "markers",
         "name": "RF_label_reduced_by_dataset_gyafc_formal_human",
         "orientation": "v",
         "showlegend": true,
         "type": "scatter",
         "x": [
          5
         ],
         "xaxis": "x",
         "y": [
          0.5028013305573025
         ],
         "yaxis": "y"
        },
        {
         "customdata": [
          [
           6
          ]
         ],
         "hovertemplate": "category=RF_label_by_dataset_gyafc_formal_random_human<br>MSE_Loss=%{y}<extra></extra>",
         "legendgroup": "RF_label_by_dataset_gyafc_formal_random_human",
         "line": {
          "color": "#FF6692",
          "dash": "solid"
         },
         "mode": "markers",
         "name": "RF_label_by_dataset_gyafc_formal_random_human",
         "orientation": "v",
         "showlegend": true,
         "type": "scatter",
         "x": [
          6
         ],
         "xaxis": "x",
         "y": [
          0.9938341333860099
         ],
         "yaxis": "y"
        },
        {
         "customdata": [
          [
           7
          ]
         ],
         "hovertemplate": "category=RF_label_reduced_by_dataset_gyafc_formal_random_human<br>MSE_Loss=%{y}<extra></extra>",
         "legendgroup": "RF_label_reduced_by_dataset_gyafc_formal_random_human",
         "line": {
          "color": "#B6E880",
          "dash": "solid"
         },
         "mode": "markers",
         "name": "RF_label_reduced_by_dataset_gyafc_formal_random_human",
         "orientation": "v",
         "showlegend": true,
         "type": "scatter",
         "x": [
          7
         ],
         "xaxis": "x",
         "y": [
          0.2690897741946341
         ],
         "yaxis": "y"
        },
        {
         "customdata": [
          [
           8
          ]
         ],
         "hovertemplate": "category=RF_label_by_dataset_gyafc_informal_human<br>MSE_Loss=%{y}<extra></extra>",
         "legendgroup": "RF_label_by_dataset_gyafc_informal_human",
         "line": {
          "color": "#FF97FF",
          "dash": "solid"
         },
         "mode": "markers",
         "name": "RF_label_by_dataset_gyafc_informal_human",
         "orientation": "v",
         "showlegend": true,
         "type": "scatter",
         "x": [
          8
         ],
         "xaxis": "x",
         "y": [
          1.3923295721609918
         ],
         "yaxis": "y"
        },
        {
         "customdata": [
          [
           9
          ]
         ],
         "hovertemplate": "category=RF_label_reduced_by_dataset_gyafc_informal_human<br>MSE_Loss=%{y}<extra></extra>",
         "legendgroup": "RF_label_reduced_by_dataset_gyafc_informal_human",
         "line": {
          "color": "#FECB52",
          "dash": "solid"
         },
         "mode": "markers",
         "name": "RF_label_reduced_by_dataset_gyafc_informal_human",
         "orientation": "v",
         "showlegend": true,
         "type": "scatter",
         "x": [
          9
         ],
         "xaxis": "x",
         "y": [
          0.5848685549591567
         ],
         "yaxis": "y"
        },
        {
         "customdata": [
          [
           10
          ]
         ],
         "hovertemplate": "category=RF_label_by_dataset_gyafc_informal_random_human<br>MSE_Loss=%{y}<extra></extra>",
         "legendgroup": "RF_label_by_dataset_gyafc_informal_random_human",
         "line": {
          "color": "#636efa",
          "dash": "solid"
         },
         "mode": "markers",
         "name": "RF_label_by_dataset_gyafc_informal_random_human",
         "orientation": "v",
         "showlegend": true,
         "type": "scatter",
         "x": [
          10
         ],
         "xaxis": "x",
         "y": [
          1.2229221180731324
         ],
         "yaxis": "y"
        },
        {
         "customdata": [
          [
           11
          ]
         ],
         "hovertemplate": "category=RF_label_reduced_by_dataset_gyafc_informal_random_human<br>MSE_Loss=%{y}<extra></extra>",
         "legendgroup": "RF_label_reduced_by_dataset_gyafc_informal_random_human",
         "line": {
          "color": "#EF553B",
          "dash": "solid"
         },
         "mode": "markers",
         "name": "RF_label_reduced_by_dataset_gyafc_informal_random_human",
         "orientation": "v",
         "showlegend": true,
         "type": "scatter",
         "x": [
          11
         ],
         "xaxis": "x",
         "y": [
          0.47816613397242425
         ],
         "yaxis": "y"
        },
        {
         "customdata": [
          [
           12
          ]
         ],
         "hovertemplate": "category=RF_label_by_dataset_gyafc_rewrites_human<br>MSE_Loss=%{y}<extra></extra>",
         "legendgroup": "RF_label_by_dataset_gyafc_rewrites_human",
         "line": {
          "color": "#00cc96",
          "dash": "solid"
         },
         "mode": "markers",
         "name": "RF_label_by_dataset_gyafc_rewrites_human",
         "orientation": "v",
         "showlegend": true,
         "type": "scatter",
         "x": [
          12
         ],
         "xaxis": "x",
         "y": [
          1.1169160230369681
         ],
         "yaxis": "y"
        },
        {
         "customdata": [
          [
           13
          ]
         ],
         "hovertemplate": "category=RF_label_reduced_by_dataset_gyafc_rewrites_human<br>MSE_Loss=%{y}<extra></extra>",
         "legendgroup": "RF_label_reduced_by_dataset_gyafc_rewrites_human",
         "line": {
          "color": "#ab63fa",
          "dash": "solid"
         },
         "mode": "markers",
         "name": "RF_label_reduced_by_dataset_gyafc_rewrites_human",
         "orientation": "v",
         "showlegend": true,
         "type": "scatter",
         "x": [
          13
         ],
         "xaxis": "x",
         "y": [
          0.40453905739961793
         ],
         "yaxis": "y"
        },
        {
         "customdata": [
          [
           14
          ]
         ],
         "hovertemplate": "category=RF_label_by_dataset_gyafc_rewrites_random_human<br>MSE_Loss=%{y}<extra></extra>",
         "legendgroup": "RF_label_by_dataset_gyafc_rewrites_random_human",
         "line": {
          "color": "#FFA15A",
          "dash": "solid"
         },
         "mode": "markers",
         "name": "RF_label_by_dataset_gyafc_rewrites_random_human",
         "orientation": "v",
         "showlegend": true,
         "type": "scatter",
         "x": [
          14
         ],
         "xaxis": "x",
         "y": [
          1.1436750883417444
         ],
         "yaxis": "y"
        },
        {
         "customdata": [
          [
           15
          ]
         ],
         "hovertemplate": "category=RF_label_reduced_by_dataset_gyafc_rewrites_random_human<br>MSE_Loss=%{y}<extra></extra>",
         "legendgroup": "RF_label_reduced_by_dataset_gyafc_rewrites_random_human",
         "line": {
          "color": "#19d3f3",
          "dash": "solid"
         },
         "mode": "markers",
         "name": "RF_label_reduced_by_dataset_gyafc_rewrites_random_human",
         "orientation": "v",
         "showlegend": true,
         "type": "scatter",
         "x": [
          15
         ],
         "xaxis": "x",
         "y": [
          0.4289503710092849
         ],
         "yaxis": "y"
        },
        {
         "customdata": [
          [
           16
          ]
         ],
         "hovertemplate": "category=RF_label_by_dataset_paralex_human<br>MSE_Loss=%{y}<extra></extra>",
         "legendgroup": "RF_label_by_dataset_paralex_human",
         "line": {
          "color": "#FF6692",
          "dash": "solid"
         },
         "mode": "markers",
         "name": "RF_label_by_dataset_paralex_human",
         "orientation": "v",
         "showlegend": true,
         "type": "scatter",
         "x": [
          16
         ],
         "xaxis": "x",
         "y": [
          1.0584650879477953
         ],
         "yaxis": "y"
        },
        {
         "customdata": [
          [
           17
          ]
         ],
         "hovertemplate": "category=RF_label_reduced_by_dataset_paralex_human<br>MSE_Loss=%{y}<extra></extra>",
         "legendgroup": "RF_label_reduced_by_dataset_paralex_human",
         "line": {
          "color": "#B6E880",
          "dash": "solid"
         },
         "mode": "markers",
         "name": "RF_label_reduced_by_dataset_paralex_human",
         "orientation": "v",
         "showlegend": true,
         "type": "scatter",
         "x": [
          17
         ],
         "xaxis": "x",
         "y": [
          0.6018835905154502
         ],
         "yaxis": "y"
        },
        {
         "customdata": [
          [
           18
          ]
         ],
         "hovertemplate": "category=RF_label_by_dataset_paralex_random_human<br>MSE_Loss=%{y}<extra></extra>",
         "legendgroup": "RF_label_by_dataset_paralex_random_human",
         "line": {
          "color": "#FF97FF",
          "dash": "solid"
         },
         "mode": "markers",
         "name": "RF_label_by_dataset_paralex_random_human",
         "orientation": "v",
         "showlegend": true,
         "type": "scatter",
         "x": [
          18
         ],
         "xaxis": "x",
         "y": [
          1.007070590872765
         ],
         "yaxis": "y"
        },
        {
         "customdata": [
          [
           19
          ]
         ],
         "hovertemplate": "category=RF_label_reduced_by_dataset_paralex_random_human<br>MSE_Loss=%{y}<extra></extra>",
         "legendgroup": "RF_label_reduced_by_dataset_paralex_random_human",
         "line": {
          "color": "#FECB52",
          "dash": "solid"
         },
         "mode": "markers",
         "name": "RF_label_reduced_by_dataset_paralex_random_human",
         "orientation": "v",
         "showlegend": true,
         "type": "scatter",
         "x": [
          19
         ],
         "xaxis": "x",
         "y": [
          0.3878856145224494
         ],
         "yaxis": "y"
        },
        {
         "customdata": [
          [
           20
          ]
         ],
         "hovertemplate": "category=RF_label_by_dataset_paraphrase_human<br>MSE_Loss=%{y}<extra></extra>",
         "legendgroup": "RF_label_by_dataset_paraphrase_human",
         "line": {
          "color": "#636efa",
          "dash": "solid"
         },
         "mode": "markers",
         "name": "RF_label_by_dataset_paraphrase_human",
         "orientation": "v",
         "showlegend": true,
         "type": "scatter",
         "x": [
          20
         ],
         "xaxis": "x",
         "y": [
          1.0992869216163617
         ],
         "yaxis": "y"
        },
        {
         "customdata": [
          [
           21
          ]
         ],
         "hovertemplate": "category=RF_label_reduced_by_dataset_paraphrase_human<br>MSE_Loss=%{y}<extra></extra>",
         "legendgroup": "RF_label_reduced_by_dataset_paraphrase_human",
         "line": {
          "color": "#EF553B",
          "dash": "solid"
         },
         "mode": "markers",
         "name": "RF_label_reduced_by_dataset_paraphrase_human",
         "orientation": "v",
         "showlegend": true,
         "type": "scatter",
         "x": [
          21
         ],
         "xaxis": "x",
         "y": [
          0.511004412606587
         ],
         "yaxis": "y"
        },
        {
         "customdata": [
          [
           22
          ]
         ],
         "hovertemplate": "category=RF_label_by_dataset_paraphrase_random_human<br>MSE_Loss=%{y}<extra></extra>",
         "legendgroup": "RF_label_by_dataset_paraphrase_random_human",
         "line": {
          "color": "#00cc96",
          "dash": "solid"
         },
         "mode": "markers",
         "name": "RF_label_by_dataset_paraphrase_random_human",
         "orientation": "v",
         "showlegend": true,
         "type": "scatter",
         "x": [
          22
         ],
         "xaxis": "x",
         "y": [
          0.7929552117283475
         ],
         "yaxis": "y"
        },
        {
         "customdata": [
          [
           23
          ]
         ],
         "hovertemplate": "category=RF_label_reduced_by_dataset_paraphrase_random_human<br>MSE_Loss=%{y}<extra></extra>",
         "legendgroup": "RF_label_reduced_by_dataset_paraphrase_random_human",
         "line": {
          "color": "#ab63fa",
          "dash": "solid"
         },
         "mode": "markers",
         "name": "RF_label_reduced_by_dataset_paraphrase_random_human",
         "orientation": "v",
         "showlegend": true,
         "type": "scatter",
         "x": [
          23
         ],
         "xaxis": "x",
         "y": [
          0.4640128110116354
         ],
         "yaxis": "y"
        },
        {
         "customdata": [
          [
           24
          ]
         ],
         "hovertemplate": "category=RF_label_by_dataset_yelp_human<br>MSE_Loss=%{y}<extra></extra>",
         "legendgroup": "RF_label_by_dataset_yelp_human",
         "line": {
          "color": "#FFA15A",
          "dash": "solid"
         },
         "mode": "markers",
         "name": "RF_label_by_dataset_yelp_human",
         "orientation": "v",
         "showlegend": true,
         "type": "scatter",
         "x": [
          24
         ],
         "xaxis": "x",
         "y": [
          1.8291277273901843
         ],
         "yaxis": "y"
        },
        {
         "customdata": [
          [
           25
          ]
         ],
         "hovertemplate": "category=RF_label_reduced_by_dataset_yelp_human<br>MSE_Loss=%{y}<extra></extra>",
         "legendgroup": "RF_label_reduced_by_dataset_yelp_human",
         "line": {
          "color": "#19d3f3",
          "dash": "solid"
         },
         "mode": "markers",
         "name": "RF_label_reduced_by_dataset_yelp_human",
         "orientation": "v",
         "showlegend": true,
         "type": "scatter",
         "x": [
          25
         ],
         "xaxis": "x",
         "y": [
          0.6262070613598233
         ],
         "yaxis": "y"
        },
        {
         "customdata": [
          [
           26
          ]
         ],
         "hovertemplate": "category=RF_label_by_dataset_yelp_random_human<br>MSE_Loss=%{y}<extra></extra>",
         "legendgroup": "RF_label_by_dataset_yelp_random_human",
         "line": {
          "color": "#FF6692",
          "dash": "solid"
         },
         "mode": "markers",
         "name": "RF_label_by_dataset_yelp_random_human",
         "orientation": "v",
         "showlegend": true,
         "type": "scatter",
         "x": [
          26
         ],
         "xaxis": "x",
         "y": [
          1.0438016263053196
         ],
         "yaxis": "y"
        },
        {
         "customdata": [
          [
           27
          ]
         ],
         "hovertemplate": "category=RF_label_reduced_by_dataset_yelp_random_human<br>MSE_Loss=%{y}<extra></extra>",
         "legendgroup": "RF_label_reduced_by_dataset_yelp_random_human",
         "line": {
          "color": "#B6E880",
          "dash": "solid"
         },
         "mode": "markers",
         "name": "RF_label_reduced_by_dataset_yelp_random_human",
         "orientation": "v",
         "showlegend": true,
         "type": "scatter",
         "x": [
          27
         ],
         "xaxis": "x",
         "y": [
          0.36565509689964426
         ],
         "yaxis": "y"
        },
        {
         "customdata": [
          [
           28
          ]
         ],
         "hovertemplate": "category=RF_label_by_random_0<br>MSE_Loss=%{y}<extra></extra>",
         "legendgroup": "RF_label_by_random_0",
         "line": {
          "color": "#FF97FF",
          "dash": "solid"
         },
         "mode": "markers",
         "name": "RF_label_by_random_0",
         "orientation": "v",
         "showlegend": true,
         "type": "scatter",
         "x": [
          28
         ],
         "xaxis": "x",
         "y": [
          1.476785749368199
         ],
         "yaxis": "y"
        },
        {
         "customdata": [
          [
           29
          ]
         ],
         "hovertemplate": "category=RF_label_reduced_by_random_0<br>MSE_Loss=%{y}<extra></extra>",
         "legendgroup": "RF_label_reduced_by_random_0",
         "line": {
          "color": "#FECB52",
          "dash": "solid"
         },
         "mode": "markers",
         "name": "RF_label_reduced_by_random_0",
         "orientation": "v",
         "showlegend": true,
         "type": "scatter",
         "x": [
          29
         ],
         "xaxis": "x",
         "y": [
          0.6305683417803343
         ],
         "yaxis": "y"
        },
        {
         "customdata": [
          [
           30
          ]
         ],
         "hovertemplate": "category=RF_label_by_random_1<br>MSE_Loss=%{y}<extra></extra>",
         "legendgroup": "RF_label_by_random_1",
         "line": {
          "color": "#636efa",
          "dash": "solid"
         },
         "mode": "markers",
         "name": "RF_label_by_random_1",
         "orientation": "v",
         "showlegend": true,
         "type": "scatter",
         "x": [
          30
         ],
         "xaxis": "x",
         "y": [
          1.0731870803853492
         ],
         "yaxis": "y"
        },
        {
         "customdata": [
          [
           31
          ]
         ],
         "hovertemplate": "category=RF_label_reduced_by_random_1<br>MSE_Loss=%{y}<extra></extra>",
         "legendgroup": "RF_label_reduced_by_random_1",
         "line": {
          "color": "#EF553B",
          "dash": "solid"
         },
         "mode": "markers",
         "name": "RF_label_reduced_by_random_1",
         "orientation": "v",
         "showlegend": true,
         "type": "scatter",
         "x": [
          31
         ],
         "xaxis": "x",
         "y": [
          0.3873440524656692
         ],
         "yaxis": "y"
        },
        {
         "customdata": [
          [
           32
          ]
         ],
         "hovertemplate": "category=RF_label_by_radical_or_centralist_centralist<br>MSE_Loss=%{y}<extra></extra>",
         "legendgroup": "RF_label_by_radical_or_centralist_centralist",
         "line": {
          "color": "#00cc96",
          "dash": "solid"
         },
         "mode": "markers",
         "name": "RF_label_by_radical_or_centralist_centralist",
         "orientation": "v",
         "showlegend": true,
         "type": "scatter",
         "x": [
          32
         ],
         "xaxis": "x",
         "y": [
          0.9590009760140736
         ],
         "yaxis": "y"
        },
        {
         "customdata": [
          [
           33
          ]
         ],
         "hovertemplate": "category=RF_label_reduced_by_radical_or_centralist_centralist<br>MSE_Loss=%{y}<extra></extra>",
         "legendgroup": "RF_label_reduced_by_radical_or_centralist_centralist",
         "line": {
          "color": "#ab63fa",
          "dash": "solid"
         },
         "mode": "markers",
         "name": "RF_label_reduced_by_radical_or_centralist_centralist",
         "orientation": "v",
         "showlegend": true,
         "type": "scatter",
         "x": [
          33
         ],
         "xaxis": "x",
         "y": [
          0.6395828584578301
         ],
         "yaxis": "y"
        },
        {
         "customdata": [
          [
           34
          ]
         ],
         "hovertemplate": "category=RF_label_by_radical_or_centralist_neither<br>MSE_Loss=%{y}<extra></extra>",
         "legendgroup": "RF_label_by_radical_or_centralist_neither",
         "line": {
          "color": "#FFA15A",
          "dash": "solid"
         },
         "mode": "markers",
         "name": "RF_label_by_radical_or_centralist_neither",
         "orientation": "v",
         "showlegend": true,
         "type": "scatter",
         "x": [
          34
         ],
         "xaxis": "x",
         "y": [
          1.2598866063625067
         ],
         "yaxis": "y"
        },
        {
         "customdata": [
          [
           35
          ]
         ],
         "hovertemplate": "category=RF_label_reduced_by_radical_or_centralist_neither<br>MSE_Loss=%{y}<extra></extra>",
         "legendgroup": "RF_label_reduced_by_radical_or_centralist_neither",
         "line": {
          "color": "#19d3f3",
          "dash": "solid"
         },
         "mode": "markers",
         "name": "RF_label_reduced_by_radical_or_centralist_neither",
         "orientation": "v",
         "showlegend": true,
         "type": "scatter",
         "x": [
          35
         ],
         "xaxis": "x",
         "y": [
          0.49159386463478005
         ],
         "yaxis": "y"
        },
        {
         "customdata": [
          [
           36
          ]
         ],
         "hovertemplate": "category=RF_label_by_radical_or_centralist_radical<br>MSE_Loss=%{y}<extra></extra>",
         "legendgroup": "RF_label_by_radical_or_centralist_radical",
         "line": {
          "color": "#FF6692",
          "dash": "solid"
         },
         "mode": "markers",
         "name": "RF_label_by_radical_or_centralist_radical",
         "orientation": "v",
         "showlegend": true,
         "type": "scatter",
         "x": [
          36
         ],
         "xaxis": "x",
         "y": [
          0.8295993416663728
         ],
         "yaxis": "y"
        },
        {
         "customdata": [
          [
           37
          ]
         ],
         "hovertemplate": "category=RF_label_reduced_by_radical_or_centralist_radical<br>MSE_Loss=%{y}<extra></extra>",
         "legendgroup": "RF_label_reduced_by_radical_or_centralist_radical",
         "line": {
          "color": "#B6E880",
          "dash": "solid"
         },
         "mode": "markers",
         "name": "RF_label_reduced_by_radical_or_centralist_radical",
         "orientation": "v",
         "showlegend": true,
         "type": "scatter",
         "x": [
          37
         ],
         "xaxis": "x",
         "y": [
          0.2728456869837579
         ],
         "yaxis": "y"
        },
        {
         "customdata": [
          [
           38
          ]
         ],
         "hovertemplate": "category=RF_label_combined<br>MSE_Loss=%{y}<extra></extra>",
         "legendgroup": "RF_label_combined",
         "line": {
          "color": "#FF97FF",
          "dash": "solid"
         },
         "mode": "markers",
         "name": "RF_label_combined",
         "orientation": "v",
         "showlegend": true,
         "type": "scatter",
         "x": [
          38
         ],
         "xaxis": "x",
         "y": [
          1.391293495085113
         ],
         "yaxis": "y"
        },
        {
         "customdata": [
          [
           39
          ]
         ],
         "hovertemplate": "category=RF_label_reduced_combined<br>MSE_Loss=%{y}<extra></extra>",
         "legendgroup": "RF_label_reduced_combined",
         "line": {
          "color": "#FECB52",
          "dash": "solid"
         },
         "mode": "markers",
         "name": "RF_label_reduced_combined",
         "orientation": "v",
         "showlegend": true,
         "type": "scatter",
         "x": [
          39
         ],
         "xaxis": "x",
         "y": [
          0.5299936666418015
         ],
         "yaxis": "y"
        }
       ],
       "layout": {
        "height": 600,
        "legend": {
         "title": {
          "text": "category"
         },
         "tracegroupgap": 0
        },
        "template": {
         "data": {
          "bar": [
           {
            "error_x": {
             "color": "#2a3f5f"
            },
            "error_y": {
             "color": "#2a3f5f"
            },
            "marker": {
             "line": {
              "color": "#E5ECF6",
              "width": 0.5
             }
            },
            "type": "bar"
           }
          ],
          "barpolar": [
           {
            "marker": {
             "line": {
              "color": "#E5ECF6",
              "width": 0.5
             }
            },
            "type": "barpolar"
           }
          ],
          "carpet": [
           {
            "aaxis": {
             "endlinecolor": "#2a3f5f",
             "gridcolor": "white",
             "linecolor": "white",
             "minorgridcolor": "white",
             "startlinecolor": "#2a3f5f"
            },
            "baxis": {
             "endlinecolor": "#2a3f5f",
             "gridcolor": "white",
             "linecolor": "white",
             "minorgridcolor": "white",
             "startlinecolor": "#2a3f5f"
            },
            "type": "carpet"
           }
          ],
          "choropleth": [
           {
            "colorbar": {
             "outlinewidth": 0,
             "ticks": ""
            },
            "type": "choropleth"
           }
          ],
          "contour": [
           {
            "colorbar": {
             "outlinewidth": 0,
             "ticks": ""
            },
            "colorscale": [
             [
              0,
              "#0d0887"
             ],
             [
              0.1111111111111111,
              "#46039f"
             ],
             [
              0.2222222222222222,
              "#7201a8"
             ],
             [
              0.3333333333333333,
              "#9c179e"
             ],
             [
              0.4444444444444444,
              "#bd3786"
             ],
             [
              0.5555555555555556,
              "#d8576b"
             ],
             [
              0.6666666666666666,
              "#ed7953"
             ],
             [
              0.7777777777777778,
              "#fb9f3a"
             ],
             [
              0.8888888888888888,
              "#fdca26"
             ],
             [
              1,
              "#f0f921"
             ]
            ],
            "type": "contour"
           }
          ],
          "contourcarpet": [
           {
            "colorbar": {
             "outlinewidth": 0,
             "ticks": ""
            },
            "type": "contourcarpet"
           }
          ],
          "heatmap": [
           {
            "colorbar": {
             "outlinewidth": 0,
             "ticks": ""
            },
            "colorscale": [
             [
              0,
              "#0d0887"
             ],
             [
              0.1111111111111111,
              "#46039f"
             ],
             [
              0.2222222222222222,
              "#7201a8"
             ],
             [
              0.3333333333333333,
              "#9c179e"
             ],
             [
              0.4444444444444444,
              "#bd3786"
             ],
             [
              0.5555555555555556,
              "#d8576b"
             ],
             [
              0.6666666666666666,
              "#ed7953"
             ],
             [
              0.7777777777777778,
              "#fb9f3a"
             ],
             [
              0.8888888888888888,
              "#fdca26"
             ],
             [
              1,
              "#f0f921"
             ]
            ],
            "type": "heatmap"
           }
          ],
          "heatmapgl": [
           {
            "colorbar": {
             "outlinewidth": 0,
             "ticks": ""
            },
            "colorscale": [
             [
              0,
              "#0d0887"
             ],
             [
              0.1111111111111111,
              "#46039f"
             ],
             [
              0.2222222222222222,
              "#7201a8"
             ],
             [
              0.3333333333333333,
              "#9c179e"
             ],
             [
              0.4444444444444444,
              "#bd3786"
             ],
             [
              0.5555555555555556,
              "#d8576b"
             ],
             [
              0.6666666666666666,
              "#ed7953"
             ],
             [
              0.7777777777777778,
              "#fb9f3a"
             ],
             [
              0.8888888888888888,
              "#fdca26"
             ],
             [
              1,
              "#f0f921"
             ]
            ],
            "type": "heatmapgl"
           }
          ],
          "histogram": [
           {
            "marker": {
             "colorbar": {
              "outlinewidth": 0,
              "ticks": ""
             }
            },
            "type": "histogram"
           }
          ],
          "histogram2d": [
           {
            "colorbar": {
             "outlinewidth": 0,
             "ticks": ""
            },
            "colorscale": [
             [
              0,
              "#0d0887"
             ],
             [
              0.1111111111111111,
              "#46039f"
             ],
             [
              0.2222222222222222,
              "#7201a8"
             ],
             [
              0.3333333333333333,
              "#9c179e"
             ],
             [
              0.4444444444444444,
              "#bd3786"
             ],
             [
              0.5555555555555556,
              "#d8576b"
             ],
             [
              0.6666666666666666,
              "#ed7953"
             ],
             [
              0.7777777777777778,
              "#fb9f3a"
             ],
             [
              0.8888888888888888,
              "#fdca26"
             ],
             [
              1,
              "#f0f921"
             ]
            ],
            "type": "histogram2d"
           }
          ],
          "histogram2dcontour": [
           {
            "colorbar": {
             "outlinewidth": 0,
             "ticks": ""
            },
            "colorscale": [
             [
              0,
              "#0d0887"
             ],
             [
              0.1111111111111111,
              "#46039f"
             ],
             [
              0.2222222222222222,
              "#7201a8"
             ],
             [
              0.3333333333333333,
              "#9c179e"
             ],
             [
              0.4444444444444444,
              "#bd3786"
             ],
             [
              0.5555555555555556,
              "#d8576b"
             ],
             [
              0.6666666666666666,
              "#ed7953"
             ],
             [
              0.7777777777777778,
              "#fb9f3a"
             ],
             [
              0.8888888888888888,
              "#fdca26"
             ],
             [
              1,
              "#f0f921"
             ]
            ],
            "type": "histogram2dcontour"
           }
          ],
          "mesh3d": [
           {
            "colorbar": {
             "outlinewidth": 0,
             "ticks": ""
            },
            "type": "mesh3d"
           }
          ],
          "parcoords": [
           {
            "line": {
             "colorbar": {
              "outlinewidth": 0,
              "ticks": ""
             }
            },
            "type": "parcoords"
           }
          ],
          "pie": [
           {
            "automargin": true,
            "type": "pie"
           }
          ],
          "scatter": [
           {
            "marker": {
             "colorbar": {
              "outlinewidth": 0,
              "ticks": ""
             }
            },
            "type": "scatter"
           }
          ],
          "scatter3d": [
           {
            "line": {
             "colorbar": {
              "outlinewidth": 0,
              "ticks": ""
             }
            },
            "marker": {
             "colorbar": {
              "outlinewidth": 0,
              "ticks": ""
             }
            },
            "type": "scatter3d"
           }
          ],
          "scattercarpet": [
           {
            "marker": {
             "colorbar": {
              "outlinewidth": 0,
              "ticks": ""
             }
            },
            "type": "scattercarpet"
           }
          ],
          "scattergeo": [
           {
            "marker": {
             "colorbar": {
              "outlinewidth": 0,
              "ticks": ""
             }
            },
            "type": "scattergeo"
           }
          ],
          "scattergl": [
           {
            "marker": {
             "colorbar": {
              "outlinewidth": 0,
              "ticks": ""
             }
            },
            "type": "scattergl"
           }
          ],
          "scattermapbox": [
           {
            "marker": {
             "colorbar": {
              "outlinewidth": 0,
              "ticks": ""
             }
            },
            "type": "scattermapbox"
           }
          ],
          "scatterpolar": [
           {
            "marker": {
             "colorbar": {
              "outlinewidth": 0,
              "ticks": ""
             }
            },
            "type": "scatterpolar"
           }
          ],
          "scatterpolargl": [
           {
            "marker": {
             "colorbar": {
              "outlinewidth": 0,
              "ticks": ""
             }
            },
            "type": "scatterpolargl"
           }
          ],
          "scatterternary": [
           {
            "marker": {
             "colorbar": {
              "outlinewidth": 0,
              "ticks": ""
             }
            },
            "type": "scatterternary"
           }
          ],
          "surface": [
           {
            "colorbar": {
             "outlinewidth": 0,
             "ticks": ""
            },
            "colorscale": [
             [
              0,
              "#0d0887"
             ],
             [
              0.1111111111111111,
              "#46039f"
             ],
             [
              0.2222222222222222,
              "#7201a8"
             ],
             [
              0.3333333333333333,
              "#9c179e"
             ],
             [
              0.4444444444444444,
              "#bd3786"
             ],
             [
              0.5555555555555556,
              "#d8576b"
             ],
             [
              0.6666666666666666,
              "#ed7953"
             ],
             [
              0.7777777777777778,
              "#fb9f3a"
             ],
             [
              0.8888888888888888,
              "#fdca26"
             ],
             [
              1,
              "#f0f921"
             ]
            ],
            "type": "surface"
           }
          ],
          "table": [
           {
            "cells": {
             "fill": {
              "color": "#EBF0F8"
             },
             "line": {
              "color": "white"
             }
            },
            "header": {
             "fill": {
              "color": "#C8D4E3"
             },
             "line": {
              "color": "white"
             }
            },
            "type": "table"
           }
          ]
         },
         "layout": {
          "annotationdefaults": {
           "arrowcolor": "#2a3f5f",
           "arrowhead": 0,
           "arrowwidth": 1
          },
          "coloraxis": {
           "colorbar": {
            "outlinewidth": 0,
            "ticks": ""
           }
          },
          "colorscale": {
           "diverging": [
            [
             0,
             "#8e0152"
            ],
            [
             0.1,
             "#c51b7d"
            ],
            [
             0.2,
             "#de77ae"
            ],
            [
             0.3,
             "#f1b6da"
            ],
            [
             0.4,
             "#fde0ef"
            ],
            [
             0.5,
             "#f7f7f7"
            ],
            [
             0.6,
             "#e6f5d0"
            ],
            [
             0.7,
             "#b8e186"
            ],
            [
             0.8,
             "#7fbc41"
            ],
            [
             0.9,
             "#4d9221"
            ],
            [
             1,
             "#276419"
            ]
           ],
           "sequential": [
            [
             0,
             "#0d0887"
            ],
            [
             0.1111111111111111,
             "#46039f"
            ],
            [
             0.2222222222222222,
             "#7201a8"
            ],
            [
             0.3333333333333333,
             "#9c179e"
            ],
            [
             0.4444444444444444,
             "#bd3786"
            ],
            [
             0.5555555555555556,
             "#d8576b"
            ],
            [
             0.6666666666666666,
             "#ed7953"
            ],
            [
             0.7777777777777778,
             "#fb9f3a"
            ],
            [
             0.8888888888888888,
             "#fdca26"
            ],
            [
             1,
             "#f0f921"
            ]
           ],
           "sequentialminus": [
            [
             0,
             "#0d0887"
            ],
            [
             0.1111111111111111,
             "#46039f"
            ],
            [
             0.2222222222222222,
             "#7201a8"
            ],
            [
             0.3333333333333333,
             "#9c179e"
            ],
            [
             0.4444444444444444,
             "#bd3786"
            ],
            [
             0.5555555555555556,
             "#d8576b"
            ],
            [
             0.6666666666666666,
             "#ed7953"
            ],
            [
             0.7777777777777778,
             "#fb9f3a"
            ],
            [
             0.8888888888888888,
             "#fdca26"
            ],
            [
             1,
             "#f0f921"
            ]
           ]
          },
          "colorway": [
           "#636efa",
           "#EF553B",
           "#00cc96",
           "#ab63fa",
           "#FFA15A",
           "#19d3f3",
           "#FF6692",
           "#B6E880",
           "#FF97FF",
           "#FECB52"
          ],
          "font": {
           "color": "#2a3f5f"
          },
          "geo": {
           "bgcolor": "white",
           "lakecolor": "white",
           "landcolor": "#E5ECF6",
           "showlakes": true,
           "showland": true,
           "subunitcolor": "white"
          },
          "hoverlabel": {
           "align": "left"
          },
          "hovermode": "closest",
          "mapbox": {
           "style": "light"
          },
          "paper_bgcolor": "white",
          "plot_bgcolor": "#E5ECF6",
          "polar": {
           "angularaxis": {
            "gridcolor": "white",
            "linecolor": "white",
            "ticks": ""
           },
           "bgcolor": "#E5ECF6",
           "radialaxis": {
            "gridcolor": "white",
            "linecolor": "white",
            "ticks": ""
           }
          },
          "scene": {
           "xaxis": {
            "backgroundcolor": "#E5ECF6",
            "gridcolor": "white",
            "gridwidth": 2,
            "linecolor": "white",
            "showbackground": true,
            "ticks": "",
            "zerolinecolor": "white"
           },
           "yaxis": {
            "backgroundcolor": "#E5ECF6",
            "gridcolor": "white",
            "gridwidth": 2,
            "linecolor": "white",
            "showbackground": true,
            "ticks": "",
            "zerolinecolor": "white"
           },
           "zaxis": {
            "backgroundcolor": "#E5ECF6",
            "gridcolor": "white",
            "gridwidth": 2,
            "linecolor": "white",
            "showbackground": true,
            "ticks": "",
            "zerolinecolor": "white"
           }
          },
          "shapedefaults": {
           "line": {
            "color": "#2a3f5f"
           }
          },
          "ternary": {
           "aaxis": {
            "gridcolor": "white",
            "linecolor": "white",
            "ticks": ""
           },
           "baxis": {
            "gridcolor": "white",
            "linecolor": "white",
            "ticks": ""
           },
           "bgcolor": "#E5ECF6",
           "caxis": {
            "gridcolor": "white",
            "linecolor": "white",
            "ticks": ""
           }
          },
          "title": {
           "x": 0.05
          },
          "xaxis": {
           "automargin": true,
           "gridcolor": "white",
           "linecolor": "white",
           "ticks": "",
           "title": {
            "standoff": 15
           },
           "zerolinecolor": "white",
           "zerolinewidth": 2
          },
          "yaxis": {
           "automargin": true,
           "gridcolor": "white",
           "linecolor": "white",
           "ticks": "",
           "title": {
            "standoff": 15
           },
           "zerolinecolor": "white",
           "zerolinewidth": 2
          }
         }
        },
        "title": {
         "text": "Base Scores"
        },
        "width": 1200,
        "xaxis": {
         "anchor": "y",
         "domain": [
          0,
          1
         ],
         "title": {
          "text": "index"
         }
        },
        "yaxis": {
         "anchor": "x",
         "domain": [
          0,
          1
         ],
         "title": {
          "text": "MSE_Loss"
         }
        }
       }
      }
     },
     "metadata": {}
    }
   ],
   "source": [
    "metric_exploration.visualize_score(scores, \"Base Scores\")"
   ]
  },
  {
   "cell_type": "code",
   "execution_count": 269,
   "metadata": {},
   "outputs": [
    {
     "output_type": "display_data",
     "data": {
      "application/vnd.plotly.v1+json": {
       "config": {
        "plotlyServerURL": "https://plot.ly"
       },
       "data": [
        {
         "customdata": [
          [
           0
          ]
         ],
         "hovertemplate": "category=MLP_label_by_dataset_bible_human<br>MSE_Loss=%{y}<extra></extra>",
         "legendgroup": "MLP_label_by_dataset_bible_human",
         "line": {
          "color": "#636efa",
          "dash": "solid"
         },
         "mode": "markers",
         "name": "MLP_label_by_dataset_bible_human",
         "orientation": "v",
         "showlegend": true,
         "type": "scatter",
         "x": [
          0
         ],
         "xaxis": "x",
         "y": [
          1.9980546660758602
         ],
         "yaxis": "y"
        },
        {
         "customdata": [
          [
           1
          ]
         ],
         "hovertemplate": "category=MLP_label_reduced_by_dataset_bible_human<br>MSE_Loss=%{y}<extra></extra>",
         "legendgroup": "MLP_label_reduced_by_dataset_bible_human",
         "line": {
          "color": "#EF553B",
          "dash": "solid"
         },
         "mode": "markers",
         "name": "MLP_label_reduced_by_dataset_bible_human",
         "orientation": "v",
         "showlegend": true,
         "type": "scatter",
         "x": [
          1
         ],
         "xaxis": "x",
         "y": [
          0.5553545579593104
         ],
         "yaxis": "y"
        },
        {
         "customdata": [
          [
           2
          ]
         ],
         "hovertemplate": "category=MLP_label_by_dataset_bible_random_human<br>MSE_Loss=%{y}<extra></extra>",
         "legendgroup": "MLP_label_by_dataset_bible_random_human",
         "line": {
          "color": "#00cc96",
          "dash": "solid"
         },
         "mode": "markers",
         "name": "MLP_label_by_dataset_bible_random_human",
         "orientation": "v",
         "showlegend": true,
         "type": "scatter",
         "x": [
          2
         ],
         "xaxis": "x",
         "y": [
          1.0037421410562488
         ],
         "yaxis": "y"
        },
        {
         "customdata": [
          [
           3
          ]
         ],
         "hovertemplate": "category=MLP_label_reduced_by_dataset_bible_random_human<br>MSE_Loss=%{y}<extra></extra>",
         "legendgroup": "MLP_label_reduced_by_dataset_bible_random_human",
         "line": {
          "color": "#ab63fa",
          "dash": "solid"
         },
         "mode": "markers",
         "name": "MLP_label_reduced_by_dataset_bible_random_human",
         "orientation": "v",
         "showlegend": true,
         "type": "scatter",
         "x": [
          3
         ],
         "xaxis": "x",
         "y": [
          0.3024337175185899
         ],
         "yaxis": "y"
        },
        {
         "customdata": [
          [
           4
          ]
         ],
         "hovertemplate": "category=MLP_label_by_dataset_gyafc_formal_human<br>MSE_Loss=%{y}<extra></extra>",
         "legendgroup": "MLP_label_by_dataset_gyafc_formal_human",
         "line": {
          "color": "#FFA15A",
          "dash": "solid"
         },
         "mode": "markers",
         "name": "MLP_label_by_dataset_gyafc_formal_human",
         "orientation": "v",
         "showlegend": true,
         "type": "scatter",
         "x": [
          4
         ],
         "xaxis": "x",
         "y": [
          2.0943722571177017
         ],
         "yaxis": "y"
        },
        {
         "customdata": [
          [
           5
          ]
         ],
         "hovertemplate": "category=MLP_label_reduced_by_dataset_gyafc_formal_human<br>MSE_Loss=%{y}<extra></extra>",
         "legendgroup": "MLP_label_reduced_by_dataset_gyafc_formal_human",
         "line": {
          "color": "#19d3f3",
          "dash": "solid"
         },
         "mode": "markers",
         "name": "MLP_label_reduced_by_dataset_gyafc_formal_human",
         "orientation": "v",
         "showlegend": true,
         "type": "scatter",
         "x": [
          5
         ],
         "xaxis": "x",
         "y": [
          0.5799236995167734
         ],
         "yaxis": "y"
        },
        {
         "customdata": [
          [
           6
          ]
         ],
         "hovertemplate": "category=MLP_label_by_dataset_gyafc_formal_random_human<br>MSE_Loss=%{y}<extra></extra>",
         "legendgroup": "MLP_label_by_dataset_gyafc_formal_random_human",
         "line": {
          "color": "#FF6692",
          "dash": "solid"
         },
         "mode": "markers",
         "name": "MLP_label_by_dataset_gyafc_formal_random_human",
         "orientation": "v",
         "showlegend": true,
         "type": "scatter",
         "x": [
          6
         ],
         "xaxis": "x",
         "y": [
          1.786532524329538
         ],
         "yaxis": "y"
        },
        {
         "customdata": [
          [
           7
          ]
         ],
         "hovertemplate": "category=MLP_label_reduced_by_dataset_gyafc_formal_random_human<br>MSE_Loss=%{y}<extra></extra>",
         "legendgroup": "MLP_label_reduced_by_dataset_gyafc_formal_random_human",
         "line": {
          "color": "#B6E880",
          "dash": "solid"
         },
         "mode": "markers",
         "name": "MLP_label_reduced_by_dataset_gyafc_formal_random_human",
         "orientation": "v",
         "showlegend": true,
         "type": "scatter",
         "x": [
          7
         ],
         "xaxis": "x",
         "y": [
          0.30334811116605126
         ],
         "yaxis": "y"
        },
        {
         "customdata": [
          [
           8
          ]
         ],
         "hovertemplate": "category=MLP_label_by_dataset_gyafc_informal_human<br>MSE_Loss=%{y}<extra></extra>",
         "legendgroup": "MLP_label_by_dataset_gyafc_informal_human",
         "line": {
          "color": "#FF97FF",
          "dash": "solid"
         },
         "mode": "markers",
         "name": "MLP_label_by_dataset_gyafc_informal_human",
         "orientation": "v",
         "showlegend": true,
         "type": "scatter",
         "x": [
          8
         ],
         "xaxis": "x",
         "y": [
          3.290914055168735
         ],
         "yaxis": "y"
        },
        {
         "customdata": [
          [
           9
          ]
         ],
         "hovertemplate": "category=MLP_label_reduced_by_dataset_gyafc_informal_human<br>MSE_Loss=%{y}<extra></extra>",
         "legendgroup": "MLP_label_reduced_by_dataset_gyafc_informal_human",
         "line": {
          "color": "#FECB52",
          "dash": "solid"
         },
         "mode": "markers",
         "name": "MLP_label_reduced_by_dataset_gyafc_informal_human",
         "orientation": "v",
         "showlegend": true,
         "type": "scatter",
         "x": [
          9
         ],
         "xaxis": "x",
         "y": [
          0.5591788174556438
         ],
         "yaxis": "y"
        },
        {
         "customdata": [
          [
           10
          ]
         ],
         "hovertemplate": "category=MLP_label_by_dataset_gyafc_informal_random_human<br>MSE_Loss=%{y}<extra></extra>",
         "legendgroup": "MLP_label_by_dataset_gyafc_informal_random_human",
         "line": {
          "color": "#636efa",
          "dash": "solid"
         },
         "mode": "markers",
         "name": "MLP_label_by_dataset_gyafc_informal_random_human",
         "orientation": "v",
         "showlegend": true,
         "type": "scatter",
         "x": [
          10
         ],
         "xaxis": "x",
         "y": [
          3.3227590826701987
         ],
         "yaxis": "y"
        },
        {
         "customdata": [
          [
           11
          ]
         ],
         "hovertemplate": "category=MLP_label_reduced_by_dataset_gyafc_informal_random_human<br>MSE_Loss=%{y}<extra></extra>",
         "legendgroup": "MLP_label_reduced_by_dataset_gyafc_informal_random_human",
         "line": {
          "color": "#EF553B",
          "dash": "solid"
         },
         "mode": "markers",
         "name": "MLP_label_reduced_by_dataset_gyafc_informal_random_human",
         "orientation": "v",
         "showlegend": true,
         "type": "scatter",
         "x": [
          11
         ],
         "xaxis": "x",
         "y": [
          0.4399840405235788
         ],
         "yaxis": "y"
        },
        {
         "customdata": [
          [
           12
          ]
         ],
         "hovertemplate": "category=MLP_label_by_dataset_gyafc_rewrites_human<br>MSE_Loss=%{y}<extra></extra>",
         "legendgroup": "MLP_label_by_dataset_gyafc_rewrites_human",
         "line": {
          "color": "#00cc96",
          "dash": "solid"
         },
         "mode": "markers",
         "name": "MLP_label_by_dataset_gyafc_rewrites_human",
         "orientation": "v",
         "showlegend": true,
         "type": "scatter",
         "x": [
          12
         ],
         "xaxis": "x",
         "y": [
          2.5892213730522546
         ],
         "yaxis": "y"
        },
        {
         "customdata": [
          [
           13
          ]
         ],
         "hovertemplate": "category=MLP_label_reduced_by_dataset_gyafc_rewrites_human<br>MSE_Loss=%{y}<extra></extra>",
         "legendgroup": "MLP_label_reduced_by_dataset_gyafc_rewrites_human",
         "line": {
          "color": "#ab63fa",
          "dash": "solid"
         },
         "mode": "markers",
         "name": "MLP_label_reduced_by_dataset_gyafc_rewrites_human",
         "orientation": "v",
         "showlegend": true,
         "type": "scatter",
         "x": [
          13
         ],
         "xaxis": "x",
         "y": [
          0.439889237550816
         ],
         "yaxis": "y"
        },
        {
         "customdata": [
          [
           14
          ]
         ],
         "hovertemplate": "category=MLP_label_by_dataset_gyafc_rewrites_random_human<br>MSE_Loss=%{y}<extra></extra>",
         "legendgroup": "MLP_label_by_dataset_gyafc_rewrites_random_human",
         "line": {
          "color": "#FFA15A",
          "dash": "solid"
         },
         "mode": "markers",
         "name": "MLP_label_by_dataset_gyafc_rewrites_random_human",
         "orientation": "v",
         "showlegend": true,
         "type": "scatter",
         "x": [
          14
         ],
         "xaxis": "x",
         "y": [
          1.2770000133235124
         ],
         "yaxis": "y"
        },
        {
         "customdata": [
          [
           15
          ]
         ],
         "hovertemplate": "category=MLP_label_reduced_by_dataset_gyafc_rewrites_random_human<br>MSE_Loss=%{y}<extra></extra>",
         "legendgroup": "MLP_label_reduced_by_dataset_gyafc_rewrites_random_human",
         "line": {
          "color": "#19d3f3",
          "dash": "solid"
         },
         "mode": "markers",
         "name": "MLP_label_reduced_by_dataset_gyafc_rewrites_random_human",
         "orientation": "v",
         "showlegend": true,
         "type": "scatter",
         "x": [
          15
         ],
         "xaxis": "x",
         "y": [
          0.5185374688382077
         ],
         "yaxis": "y"
        },
        {
         "customdata": [
          [
           16
          ]
         ],
         "hovertemplate": "category=MLP_label_by_dataset_paralex_human<br>MSE_Loss=%{y}<extra></extra>",
         "legendgroup": "MLP_label_by_dataset_paralex_human",
         "line": {
          "color": "#FF6692",
          "dash": "solid"
         },
         "mode": "markers",
         "name": "MLP_label_by_dataset_paralex_human",
         "orientation": "v",
         "showlegend": true,
         "type": "scatter",
         "x": [
          16
         ],
         "xaxis": "x",
         "y": [
          2.9264083556029874
         ],
         "yaxis": "y"
        },
        {
         "customdata": [
          [
           17
          ]
         ],
         "hovertemplate": "category=MLP_label_reduced_by_dataset_paralex_human<br>MSE_Loss=%{y}<extra></extra>",
         "legendgroup": "MLP_label_reduced_by_dataset_paralex_human",
         "line": {
          "color": "#B6E880",
          "dash": "solid"
         },
         "mode": "markers",
         "name": "MLP_label_reduced_by_dataset_paralex_human",
         "orientation": "v",
         "showlegend": true,
         "type": "scatter",
         "x": [
          17
         ],
         "xaxis": "x",
         "y": [
          0.6943181241607846
         ],
         "yaxis": "y"
        },
        {
         "customdata": [
          [
           18
          ]
         ],
         "hovertemplate": "category=MLP_label_by_dataset_paralex_random_human<br>MSE_Loss=%{y}<extra></extra>",
         "legendgroup": "MLP_label_by_dataset_paralex_random_human",
         "line": {
          "color": "#FF97FF",
          "dash": "solid"
         },
         "mode": "markers",
         "name": "MLP_label_by_dataset_paralex_random_human",
         "orientation": "v",
         "showlegend": true,
         "type": "scatter",
         "x": [
          18
         ],
         "xaxis": "x",
         "y": [
          1.364369347911944
         ],
         "yaxis": "y"
        },
        {
         "customdata": [
          [
           19
          ]
         ],
         "hovertemplate": "category=MLP_label_reduced_by_dataset_paralex_random_human<br>MSE_Loss=%{y}<extra></extra>",
         "legendgroup": "MLP_label_reduced_by_dataset_paralex_random_human",
         "line": {
          "color": "#FECB52",
          "dash": "solid"
         },
         "mode": "markers",
         "name": "MLP_label_reduced_by_dataset_paralex_random_human",
         "orientation": "v",
         "showlegend": true,
         "type": "scatter",
         "x": [
          19
         ],
         "xaxis": "x",
         "y": [
          0.3049761767184359
         ],
         "yaxis": "y"
        },
        {
         "customdata": [
          [
           20
          ]
         ],
         "hovertemplate": "category=MLP_label_by_dataset_paraphrase_human<br>MSE_Loss=%{y}<extra></extra>",
         "legendgroup": "MLP_label_by_dataset_paraphrase_human",
         "line": {
          "color": "#636efa",
          "dash": "solid"
         },
         "mode": "markers",
         "name": "MLP_label_by_dataset_paraphrase_human",
         "orientation": "v",
         "showlegend": true,
         "type": "scatter",
         "x": [
          20
         ],
         "xaxis": "x",
         "y": [
          2.451873599140583
         ],
         "yaxis": "y"
        },
        {
         "customdata": [
          [
           21
          ]
         ],
         "hovertemplate": "category=MLP_label_reduced_by_dataset_paraphrase_human<br>MSE_Loss=%{y}<extra></extra>",
         "legendgroup": "MLP_label_reduced_by_dataset_paraphrase_human",
         "line": {
          "color": "#EF553B",
          "dash": "solid"
         },
         "mode": "markers",
         "name": "MLP_label_reduced_by_dataset_paraphrase_human",
         "orientation": "v",
         "showlegend": true,
         "type": "scatter",
         "x": [
          21
         ],
         "xaxis": "x",
         "y": [
          0.6492942474350564
         ],
         "yaxis": "y"
        },
        {
         "customdata": [
          [
           22
          ]
         ],
         "hovertemplate": "category=MLP_label_by_dataset_paraphrase_random_human<br>MSE_Loss=%{y}<extra></extra>",
         "legendgroup": "MLP_label_by_dataset_paraphrase_random_human",
         "line": {
          "color": "#00cc96",
          "dash": "solid"
         },
         "mode": "markers",
         "name": "MLP_label_by_dataset_paraphrase_random_human",
         "orientation": "v",
         "showlegend": true,
         "type": "scatter",
         "x": [
          22
         ],
         "xaxis": "x",
         "y": [
          1.3443518530242482
         ],
         "yaxis": "y"
        },
        {
         "customdata": [
          [
           23
          ]
         ],
         "hovertemplate": "category=MLP_label_reduced_by_dataset_paraphrase_random_human<br>MSE_Loss=%{y}<extra></extra>",
         "legendgroup": "MLP_label_reduced_by_dataset_paraphrase_random_human",
         "line": {
          "color": "#ab63fa",
          "dash": "solid"
         },
         "mode": "markers",
         "name": "MLP_label_reduced_by_dataset_paraphrase_random_human",
         "orientation": "v",
         "showlegend": true,
         "type": "scatter",
         "x": [
          23
         ],
         "xaxis": "x",
         "y": [
          0.2969437824651305
         ],
         "yaxis": "y"
        },
        {
         "customdata": [
          [
           24
          ]
         ],
         "hovertemplate": "category=MLP_label_by_dataset_yelp_human<br>MSE_Loss=%{y}<extra></extra>",
         "legendgroup": "MLP_label_by_dataset_yelp_human",
         "line": {
          "color": "#FFA15A",
          "dash": "solid"
         },
         "mode": "markers",
         "name": "MLP_label_by_dataset_yelp_human",
         "orientation": "v",
         "showlegend": true,
         "type": "scatter",
         "x": [
          24
         ],
         "xaxis": "x",
         "y": [
          2.090783123929667
         ],
         "yaxis": "y"
        },
        {
         "customdata": [
          [
           25
          ]
         ],
         "hovertemplate": "category=MLP_label_reduced_by_dataset_yelp_human<br>MSE_Loss=%{y}<extra></extra>",
         "legendgroup": "MLP_label_reduced_by_dataset_yelp_human",
         "line": {
          "color": "#19d3f3",
          "dash": "solid"
         },
         "mode": "markers",
         "name": "MLP_label_reduced_by_dataset_yelp_human",
         "orientation": "v",
         "showlegend": true,
         "type": "scatter",
         "x": [
          25
         ],
         "xaxis": "x",
         "y": [
          0.7242790770966799
         ],
         "yaxis": "y"
        },
        {
         "customdata": [
          [
           26
          ]
         ],
         "hovertemplate": "category=MLP_label_by_dataset_yelp_random_human<br>MSE_Loss=%{y}<extra></extra>",
         "legendgroup": "MLP_label_by_dataset_yelp_random_human",
         "line": {
          "color": "#FF6692",
          "dash": "solid"
         },
         "mode": "markers",
         "name": "MLP_label_by_dataset_yelp_random_human",
         "orientation": "v",
         "showlegend": true,
         "type": "scatter",
         "x": [
          26
         ],
         "xaxis": "x",
         "y": [
          1.1826503738917435
         ],
         "yaxis": "y"
        },
        {
         "customdata": [
          [
           27
          ]
         ],
         "hovertemplate": "category=MLP_label_reduced_by_dataset_yelp_random_human<br>MSE_Loss=%{y}<extra></extra>",
         "legendgroup": "MLP_label_reduced_by_dataset_yelp_random_human",
         "line": {
          "color": "#B6E880",
          "dash": "solid"
         },
         "mode": "markers",
         "name": "MLP_label_reduced_by_dataset_yelp_random_human",
         "orientation": "v",
         "showlegend": true,
         "type": "scatter",
         "x": [
          27
         ],
         "xaxis": "x",
         "y": [
          0.33115900277864535
         ],
         "yaxis": "y"
        },
        {
         "customdata": [
          [
           28
          ]
         ],
         "hovertemplate": "category=MLP_label_by_random_0<br>MSE_Loss=%{y}<extra></extra>",
         "legendgroup": "MLP_label_by_random_0",
         "line": {
          "color": "#FF97FF",
          "dash": "solid"
         },
         "mode": "markers",
         "name": "MLP_label_by_random_0",
         "orientation": "v",
         "showlegend": true,
         "type": "scatter",
         "x": [
          28
         ],
         "xaxis": "x",
         "y": [
          2.058964326564049
         ],
         "yaxis": "y"
        },
        {
         "customdata": [
          [
           29
          ]
         ],
         "hovertemplate": "category=MLP_label_reduced_by_random_0<br>MSE_Loss=%{y}<extra></extra>",
         "legendgroup": "MLP_label_reduced_by_random_0",
         "line": {
          "color": "#FECB52",
          "dash": "solid"
         },
         "mode": "markers",
         "name": "MLP_label_reduced_by_random_0",
         "orientation": "v",
         "showlegend": true,
         "type": "scatter",
         "x": [
          29
         ],
         "xaxis": "x",
         "y": [
          0.6859649545302101
         ],
         "yaxis": "y"
        },
        {
         "customdata": [
          [
           30
          ]
         ],
         "hovertemplate": "category=MLP_label_by_random_1<br>MSE_Loss=%{y}<extra></extra>",
         "legendgroup": "MLP_label_by_random_1",
         "line": {
          "color": "#636efa",
          "dash": "solid"
         },
         "mode": "markers",
         "name": "MLP_label_by_random_1",
         "orientation": "v",
         "showlegend": true,
         "type": "scatter",
         "x": [
          30
         ],
         "xaxis": "x",
         "y": [
          1.0525344444824611
         ],
         "yaxis": "y"
        },
        {
         "customdata": [
          [
           31
          ]
         ],
         "hovertemplate": "category=MLP_label_reduced_by_random_1<br>MSE_Loss=%{y}<extra></extra>",
         "legendgroup": "MLP_label_reduced_by_random_1",
         "line": {
          "color": "#EF553B",
          "dash": "solid"
         },
         "mode": "markers",
         "name": "MLP_label_reduced_by_random_1",
         "orientation": "v",
         "showlegend": true,
         "type": "scatter",
         "x": [
          31
         ],
         "xaxis": "x",
         "y": [
          0.3797778542523067
         ],
         "yaxis": "y"
        },
        {
         "customdata": [
          [
           32
          ]
         ],
         "hovertemplate": "category=MLP_label_by_radical_or_centralist_centralist<br>MSE_Loss=%{y}<extra></extra>",
         "legendgroup": "MLP_label_by_radical_or_centralist_centralist",
         "line": {
          "color": "#00cc96",
          "dash": "solid"
         },
         "mode": "markers",
         "name": "MLP_label_by_radical_or_centralist_centralist",
         "orientation": "v",
         "showlegend": true,
         "type": "scatter",
         "x": [
          32
         ],
         "xaxis": "x",
         "y": [
          1.564923947156654
         ],
         "yaxis": "y"
        },
        {
         "customdata": [
          [
           33
          ]
         ],
         "hovertemplate": "category=MLP_label_reduced_by_radical_or_centralist_centralist<br>MSE_Loss=%{y}<extra></extra>",
         "legendgroup": "MLP_label_reduced_by_radical_or_centralist_centralist",
         "line": {
          "color": "#ab63fa",
          "dash": "solid"
         },
         "mode": "markers",
         "name": "MLP_label_reduced_by_radical_or_centralist_centralist",
         "orientation": "v",
         "showlegend": true,
         "type": "scatter",
         "x": [
          33
         ],
         "xaxis": "x",
         "y": [
          0.670457625367617
         ],
         "yaxis": "y"
        },
        {
         "customdata": [
          [
           34
          ]
         ],
         "hovertemplate": "category=MLP_label_by_radical_or_centralist_neither<br>MSE_Loss=%{y}<extra></extra>",
         "legendgroup": "MLP_label_by_radical_or_centralist_neither",
         "line": {
          "color": "#FFA15A",
          "dash": "solid"
         },
         "mode": "markers",
         "name": "MLP_label_by_radical_or_centralist_neither",
         "orientation": "v",
         "showlegend": true,
         "type": "scatter",
         "x": [
          34
         ],
         "xaxis": "x",
         "y": [
          2.264845863204468
         ],
         "yaxis": "y"
        },
        {
         "customdata": [
          [
           35
          ]
         ],
         "hovertemplate": "category=MLP_label_reduced_by_radical_or_centralist_neither<br>MSE_Loss=%{y}<extra></extra>",
         "legendgroup": "MLP_label_reduced_by_radical_or_centralist_neither",
         "line": {
          "color": "#19d3f3",
          "dash": "solid"
         },
         "mode": "markers",
         "name": "MLP_label_reduced_by_radical_or_centralist_neither",
         "orientation": "v",
         "showlegend": true,
         "type": "scatter",
         "x": [
          35
         ],
         "xaxis": "x",
         "y": [
          0.7791570908238845
         ],
         "yaxis": "y"
        },
        {
         "customdata": [
          [
           36
          ]
         ],
         "hovertemplate": "category=MLP_label_by_radical_or_centralist_radical<br>MSE_Loss=%{y}<extra></extra>",
         "legendgroup": "MLP_label_by_radical_or_centralist_radical",
         "line": {
          "color": "#FF6692",
          "dash": "solid"
         },
         "mode": "markers",
         "name": "MLP_label_by_radical_or_centralist_radical",
         "orientation": "v",
         "showlegend": true,
         "type": "scatter",
         "x": [
          36
         ],
         "xaxis": "x",
         "y": [
          3.1564955423004086
         ],
         "yaxis": "y"
        },
        {
         "customdata": [
          [
           37
          ]
         ],
         "hovertemplate": "category=MLP_label_reduced_by_radical_or_centralist_radical<br>MSE_Loss=%{y}<extra></extra>",
         "legendgroup": "MLP_label_reduced_by_radical_or_centralist_radical",
         "line": {
          "color": "#B6E880",
          "dash": "solid"
         },
         "mode": "markers",
         "name": "MLP_label_reduced_by_radical_or_centralist_radical",
         "orientation": "v",
         "showlegend": true,
         "type": "scatter",
         "x": [
          37
         ],
         "xaxis": "x",
         "y": [
          0.7467342560915563
         ],
         "yaxis": "y"
        },
        {
         "customdata": [
          [
           38
          ]
         ],
         "hovertemplate": "category=MLP_label_combined<br>MSE_Loss=%{y}<extra></extra>",
         "legendgroup": "MLP_label_combined",
         "line": {
          "color": "#FF97FF",
          "dash": "solid"
         },
         "mode": "markers",
         "name": "MLP_label_combined",
         "orientation": "v",
         "showlegend": true,
         "type": "scatter",
         "x": [
          38
         ],
         "xaxis": "x",
         "y": [
          2.1066296803479307
         ],
         "yaxis": "y"
        },
        {
         "customdata": [
          [
           39
          ]
         ],
         "hovertemplate": "category=MLP_label_reduced_combined<br>MSE_Loss=%{y}<extra></extra>",
         "legendgroup": "MLP_label_reduced_combined",
         "line": {
          "color": "#FECB52",
          "dash": "solid"
         },
         "mode": "markers",
         "name": "MLP_label_reduced_combined",
         "orientation": "v",
         "showlegend": true,
         "type": "scatter",
         "x": [
          39
         ],
         "xaxis": "x",
         "y": [
          0.7653763469644246
         ],
         "yaxis": "y"
        }
       ],
       "layout": {
        "height": 600,
        "legend": {
         "title": {
          "text": "category"
         },
         "tracegroupgap": 0
        },
        "template": {
         "data": {
          "bar": [
           {
            "error_x": {
             "color": "#2a3f5f"
            },
            "error_y": {
             "color": "#2a3f5f"
            },
            "marker": {
             "line": {
              "color": "#E5ECF6",
              "width": 0.5
             }
            },
            "type": "bar"
           }
          ],
          "barpolar": [
           {
            "marker": {
             "line": {
              "color": "#E5ECF6",
              "width": 0.5
             }
            },
            "type": "barpolar"
           }
          ],
          "carpet": [
           {
            "aaxis": {
             "endlinecolor": "#2a3f5f",
             "gridcolor": "white",
             "linecolor": "white",
             "minorgridcolor": "white",
             "startlinecolor": "#2a3f5f"
            },
            "baxis": {
             "endlinecolor": "#2a3f5f",
             "gridcolor": "white",
             "linecolor": "white",
             "minorgridcolor": "white",
             "startlinecolor": "#2a3f5f"
            },
            "type": "carpet"
           }
          ],
          "choropleth": [
           {
            "colorbar": {
             "outlinewidth": 0,
             "ticks": ""
            },
            "type": "choropleth"
           }
          ],
          "contour": [
           {
            "colorbar": {
             "outlinewidth": 0,
             "ticks": ""
            },
            "colorscale": [
             [
              0,
              "#0d0887"
             ],
             [
              0.1111111111111111,
              "#46039f"
             ],
             [
              0.2222222222222222,
              "#7201a8"
             ],
             [
              0.3333333333333333,
              "#9c179e"
             ],
             [
              0.4444444444444444,
              "#bd3786"
             ],
             [
              0.5555555555555556,
              "#d8576b"
             ],
             [
              0.6666666666666666,
              "#ed7953"
             ],
             [
              0.7777777777777778,
              "#fb9f3a"
             ],
             [
              0.8888888888888888,
              "#fdca26"
             ],
             [
              1,
              "#f0f921"
             ]
            ],
            "type": "contour"
           }
          ],
          "contourcarpet": [
           {
            "colorbar": {
             "outlinewidth": 0,
             "ticks": ""
            },
            "type": "contourcarpet"
           }
          ],
          "heatmap": [
           {
            "colorbar": {
             "outlinewidth": 0,
             "ticks": ""
            },
            "colorscale": [
             [
              0,
              "#0d0887"
             ],
             [
              0.1111111111111111,
              "#46039f"
             ],
             [
              0.2222222222222222,
              "#7201a8"
             ],
             [
              0.3333333333333333,
              "#9c179e"
             ],
             [
              0.4444444444444444,
              "#bd3786"
             ],
             [
              0.5555555555555556,
              "#d8576b"
             ],
             [
              0.6666666666666666,
              "#ed7953"
             ],
             [
              0.7777777777777778,
              "#fb9f3a"
             ],
             [
              0.8888888888888888,
              "#fdca26"
             ],
             [
              1,
              "#f0f921"
             ]
            ],
            "type": "heatmap"
           }
          ],
          "heatmapgl": [
           {
            "colorbar": {
             "outlinewidth": 0,
             "ticks": ""
            },
            "colorscale": [
             [
              0,
              "#0d0887"
             ],
             [
              0.1111111111111111,
              "#46039f"
             ],
             [
              0.2222222222222222,
              "#7201a8"
             ],
             [
              0.3333333333333333,
              "#9c179e"
             ],
             [
              0.4444444444444444,
              "#bd3786"
             ],
             [
              0.5555555555555556,
              "#d8576b"
             ],
             [
              0.6666666666666666,
              "#ed7953"
             ],
             [
              0.7777777777777778,
              "#fb9f3a"
             ],
             [
              0.8888888888888888,
              "#fdca26"
             ],
             [
              1,
              "#f0f921"
             ]
            ],
            "type": "heatmapgl"
           }
          ],
          "histogram": [
           {
            "marker": {
             "colorbar": {
              "outlinewidth": 0,
              "ticks": ""
             }
            },
            "type": "histogram"
           }
          ],
          "histogram2d": [
           {
            "colorbar": {
             "outlinewidth": 0,
             "ticks": ""
            },
            "colorscale": [
             [
              0,
              "#0d0887"
             ],
             [
              0.1111111111111111,
              "#46039f"
             ],
             [
              0.2222222222222222,
              "#7201a8"
             ],
             [
              0.3333333333333333,
              "#9c179e"
             ],
             [
              0.4444444444444444,
              "#bd3786"
             ],
             [
              0.5555555555555556,
              "#d8576b"
             ],
             [
              0.6666666666666666,
              "#ed7953"
             ],
             [
              0.7777777777777778,
              "#fb9f3a"
             ],
             [
              0.8888888888888888,
              "#fdca26"
             ],
             [
              1,
              "#f0f921"
             ]
            ],
            "type": "histogram2d"
           }
          ],
          "histogram2dcontour": [
           {
            "colorbar": {
             "outlinewidth": 0,
             "ticks": ""
            },
            "colorscale": [
             [
              0,
              "#0d0887"
             ],
             [
              0.1111111111111111,
              "#46039f"
             ],
             [
              0.2222222222222222,
              "#7201a8"
             ],
             [
              0.3333333333333333,
              "#9c179e"
             ],
             [
              0.4444444444444444,
              "#bd3786"
             ],
             [
              0.5555555555555556,
              "#d8576b"
             ],
             [
              0.6666666666666666,
              "#ed7953"
             ],
             [
              0.7777777777777778,
              "#fb9f3a"
             ],
             [
              0.8888888888888888,
              "#fdca26"
             ],
             [
              1,
              "#f0f921"
             ]
            ],
            "type": "histogram2dcontour"
           }
          ],
          "mesh3d": [
           {
            "colorbar": {
             "outlinewidth": 0,
             "ticks": ""
            },
            "type": "mesh3d"
           }
          ],
          "parcoords": [
           {
            "line": {
             "colorbar": {
              "outlinewidth": 0,
              "ticks": ""
             }
            },
            "type": "parcoords"
           }
          ],
          "pie": [
           {
            "automargin": true,
            "type": "pie"
           }
          ],
          "scatter": [
           {
            "marker": {
             "colorbar": {
              "outlinewidth": 0,
              "ticks": ""
             }
            },
            "type": "scatter"
           }
          ],
          "scatter3d": [
           {
            "line": {
             "colorbar": {
              "outlinewidth": 0,
              "ticks": ""
             }
            },
            "marker": {
             "colorbar": {
              "outlinewidth": 0,
              "ticks": ""
             }
            },
            "type": "scatter3d"
           }
          ],
          "scattercarpet": [
           {
            "marker": {
             "colorbar": {
              "outlinewidth": 0,
              "ticks": ""
             }
            },
            "type": "scattercarpet"
           }
          ],
          "scattergeo": [
           {
            "marker": {
             "colorbar": {
              "outlinewidth": 0,
              "ticks": ""
             }
            },
            "type": "scattergeo"
           }
          ],
          "scattergl": [
           {
            "marker": {
             "colorbar": {
              "outlinewidth": 0,
              "ticks": ""
             }
            },
            "type": "scattergl"
           }
          ],
          "scattermapbox": [
           {
            "marker": {
             "colorbar": {
              "outlinewidth": 0,
              "ticks": ""
             }
            },
            "type": "scattermapbox"
           }
          ],
          "scatterpolar": [
           {
            "marker": {
             "colorbar": {
              "outlinewidth": 0,
              "ticks": ""
             }
            },
            "type": "scatterpolar"
           }
          ],
          "scatterpolargl": [
           {
            "marker": {
             "colorbar": {
              "outlinewidth": 0,
              "ticks": ""
             }
            },
            "type": "scatterpolargl"
           }
          ],
          "scatterternary": [
           {
            "marker": {
             "colorbar": {
              "outlinewidth": 0,
              "ticks": ""
             }
            },
            "type": "scatterternary"
           }
          ],
          "surface": [
           {
            "colorbar": {
             "outlinewidth": 0,
             "ticks": ""
            },
            "colorscale": [
             [
              0,
              "#0d0887"
             ],
             [
              0.1111111111111111,
              "#46039f"
             ],
             [
              0.2222222222222222,
              "#7201a8"
             ],
             [
              0.3333333333333333,
              "#9c179e"
             ],
             [
              0.4444444444444444,
              "#bd3786"
             ],
             [
              0.5555555555555556,
              "#d8576b"
             ],
             [
              0.6666666666666666,
              "#ed7953"
             ],
             [
              0.7777777777777778,
              "#fb9f3a"
             ],
             [
              0.8888888888888888,
              "#fdca26"
             ],
             [
              1,
              "#f0f921"
             ]
            ],
            "type": "surface"
           }
          ],
          "table": [
           {
            "cells": {
             "fill": {
              "color": "#EBF0F8"
             },
             "line": {
              "color": "white"
             }
            },
            "header": {
             "fill": {
              "color": "#C8D4E3"
             },
             "line": {
              "color": "white"
             }
            },
            "type": "table"
           }
          ]
         },
         "layout": {
          "annotationdefaults": {
           "arrowcolor": "#2a3f5f",
           "arrowhead": 0,
           "arrowwidth": 1
          },
          "coloraxis": {
           "colorbar": {
            "outlinewidth": 0,
            "ticks": ""
           }
          },
          "colorscale": {
           "diverging": [
            [
             0,
             "#8e0152"
            ],
            [
             0.1,
             "#c51b7d"
            ],
            [
             0.2,
             "#de77ae"
            ],
            [
             0.3,
             "#f1b6da"
            ],
            [
             0.4,
             "#fde0ef"
            ],
            [
             0.5,
             "#f7f7f7"
            ],
            [
             0.6,
             "#e6f5d0"
            ],
            [
             0.7,
             "#b8e186"
            ],
            [
             0.8,
             "#7fbc41"
            ],
            [
             0.9,
             "#4d9221"
            ],
            [
             1,
             "#276419"
            ]
           ],
           "sequential": [
            [
             0,
             "#0d0887"
            ],
            [
             0.1111111111111111,
             "#46039f"
            ],
            [
             0.2222222222222222,
             "#7201a8"
            ],
            [
             0.3333333333333333,
             "#9c179e"
            ],
            [
             0.4444444444444444,
             "#bd3786"
            ],
            [
             0.5555555555555556,
             "#d8576b"
            ],
            [
             0.6666666666666666,
             "#ed7953"
            ],
            [
             0.7777777777777778,
             "#fb9f3a"
            ],
            [
             0.8888888888888888,
             "#fdca26"
            ],
            [
             1,
             "#f0f921"
            ]
           ],
           "sequentialminus": [
            [
             0,
             "#0d0887"
            ],
            [
             0.1111111111111111,
             "#46039f"
            ],
            [
             0.2222222222222222,
             "#7201a8"
            ],
            [
             0.3333333333333333,
             "#9c179e"
            ],
            [
             0.4444444444444444,
             "#bd3786"
            ],
            [
             0.5555555555555556,
             "#d8576b"
            ],
            [
             0.6666666666666666,
             "#ed7953"
            ],
            [
             0.7777777777777778,
             "#fb9f3a"
            ],
            [
             0.8888888888888888,
             "#fdca26"
            ],
            [
             1,
             "#f0f921"
            ]
           ]
          },
          "colorway": [
           "#636efa",
           "#EF553B",
           "#00cc96",
           "#ab63fa",
           "#FFA15A",
           "#19d3f3",
           "#FF6692",
           "#B6E880",
           "#FF97FF",
           "#FECB52"
          ],
          "font": {
           "color": "#2a3f5f"
          },
          "geo": {
           "bgcolor": "white",
           "lakecolor": "white",
           "landcolor": "#E5ECF6",
           "showlakes": true,
           "showland": true,
           "subunitcolor": "white"
          },
          "hoverlabel": {
           "align": "left"
          },
          "hovermode": "closest",
          "mapbox": {
           "style": "light"
          },
          "paper_bgcolor": "white",
          "plot_bgcolor": "#E5ECF6",
          "polar": {
           "angularaxis": {
            "gridcolor": "white",
            "linecolor": "white",
            "ticks": ""
           },
           "bgcolor": "#E5ECF6",
           "radialaxis": {
            "gridcolor": "white",
            "linecolor": "white",
            "ticks": ""
           }
          },
          "scene": {
           "xaxis": {
            "backgroundcolor": "#E5ECF6",
            "gridcolor": "white",
            "gridwidth": 2,
            "linecolor": "white",
            "showbackground": true,
            "ticks": "",
            "zerolinecolor": "white"
           },
           "yaxis": {
            "backgroundcolor": "#E5ECF6",
            "gridcolor": "white",
            "gridwidth": 2,
            "linecolor": "white",
            "showbackground": true,
            "ticks": "",
            "zerolinecolor": "white"
           },
           "zaxis": {
            "backgroundcolor": "#E5ECF6",
            "gridcolor": "white",
            "gridwidth": 2,
            "linecolor": "white",
            "showbackground": true,
            "ticks": "",
            "zerolinecolor": "white"
           }
          },
          "shapedefaults": {
           "line": {
            "color": "#2a3f5f"
           }
          },
          "ternary": {
           "aaxis": {
            "gridcolor": "white",
            "linecolor": "white",
            "ticks": ""
           },
           "baxis": {
            "gridcolor": "white",
            "linecolor": "white",
            "ticks": ""
           },
           "bgcolor": "#E5ECF6",
           "caxis": {
            "gridcolor": "white",
            "linecolor": "white",
            "ticks": ""
           }
          },
          "title": {
           "x": 0.05
          },
          "xaxis": {
           "automargin": true,
           "gridcolor": "white",
           "linecolor": "white",
           "ticks": "",
           "title": {
            "standoff": 15
           },
           "zerolinecolor": "white",
           "zerolinewidth": 2
          },
          "yaxis": {
           "automargin": true,
           "gridcolor": "white",
           "linecolor": "white",
           "ticks": "",
           "title": {
            "standoff": 15
           },
           "zerolinecolor": "white",
           "zerolinewidth": 2
          }
         }
        },
        "title": {
         "text": "MSE for MLP"
        },
        "width": 1200,
        "xaxis": {
         "anchor": "y",
         "domain": [
          0,
          1
         ],
         "title": {
          "text": "index"
         }
        },
        "yaxis": {
         "anchor": "x",
         "domain": [
          0,
          1
         ],
         "title": {
          "text": "MSE_Loss"
         }
        }
       }
      }
     },
     "metadata": {}
    }
   ],
   "source": [
    "scores2 = mm_filt.run_model(model_type=\"MLP\")\n",
    "metric_exploration.visualize_score(scores2, \"MSE for MLP\")"
   ]
  },
  {
   "source": [
    "# See How the model gets better with the filtered dataset"
   ],
   "cell_type": "markdown",
   "metadata": {}
  },
  {
   "cell_type": "code",
   "execution_count": 270,
   "metadata": {},
   "outputs": [
    {
     "output_type": "display_data",
     "data": {
      "application/vnd.plotly.v1+json": {
       "config": {
        "plotlyServerURL": "https://plot.ly"
       },
       "data": [
        {
         "customdata": [
          [
           0
          ]
         ],
         "hovertemplate": "category=RF_label_by_dataset_bible_human<br>MSE_Loss=%{y}<extra></extra>",
         "legendgroup": "RF_label_by_dataset_bible_human",
         "line": {
          "color": "#636efa",
          "dash": "solid"
         },
         "mode": "markers",
         "name": "RF_label_by_dataset_bible_human",
         "orientation": "v",
         "showlegend": true,
         "type": "scatter",
         "x": [
          0
         ],
         "xaxis": "x",
         "y": [
          0.16376085449368583
         ],
         "yaxis": "y"
        },
        {
         "customdata": [
          [
           1
          ]
         ],
         "hovertemplate": "category=RF_label_reduced_by_dataset_bible_human<br>MSE_Loss=%{y}<extra></extra>",
         "legendgroup": "RF_label_reduced_by_dataset_bible_human",
         "line": {
          "color": "#EF553B",
          "dash": "solid"
         },
         "mode": "markers",
         "name": "RF_label_reduced_by_dataset_bible_human",
         "orientation": "v",
         "showlegend": true,
         "type": "scatter",
         "x": [
          1
         ],
         "xaxis": "x",
         "y": [
          0.04589793318894053
         ],
         "yaxis": "y"
        },
        {
         "customdata": [
          [
           2
          ]
         ],
         "hovertemplate": "category=RF_label_by_dataset_bible_random_human<br>MSE_Loss=%{y}<extra></extra>",
         "legendgroup": "RF_label_by_dataset_bible_random_human",
         "line": {
          "color": "#00cc96",
          "dash": "solid"
         },
         "mode": "markers",
         "name": "RF_label_by_dataset_bible_random_human",
         "orientation": "v",
         "showlegend": true,
         "type": "scatter",
         "x": [
          2
         ],
         "xaxis": "x",
         "y": [
          0.03779127662940829
         ],
         "yaxis": "y"
        },
        {
         "customdata": [
          [
           3
          ]
         ],
         "hovertemplate": "category=RF_label_reduced_by_dataset_bible_random_human<br>MSE_Loss=%{y}<extra></extra>",
         "legendgroup": "RF_label_reduced_by_dataset_bible_random_human",
         "line": {
          "color": "#ab63fa",
          "dash": "solid"
         },
         "mode": "markers",
         "name": "RF_label_reduced_by_dataset_bible_random_human",
         "orientation": "v",
         "showlegend": true,
         "type": "scatter",
         "x": [
          3
         ],
         "xaxis": "x",
         "y": [
          -0.001299508754316947
         ],
         "yaxis": "y"
        },
        {
         "customdata": [
          [
           4
          ]
         ],
         "hovertemplate": "category=RF_label_by_dataset_gyafc_formal_human<br>MSE_Loss=%{y}<extra></extra>",
         "legendgroup": "RF_label_by_dataset_gyafc_formal_human",
         "line": {
          "color": "#FFA15A",
          "dash": "solid"
         },
         "mode": "markers",
         "name": "RF_label_by_dataset_gyafc_formal_human",
         "orientation": "v",
         "showlegend": true,
         "type": "scatter",
         "x": [
          4
         ],
         "xaxis": "x",
         "y": [
          0.10007906483157758
         ],
         "yaxis": "y"
        },
        {
         "customdata": [
          [
           5
          ]
         ],
         "hovertemplate": "category=RF_label_reduced_by_dataset_gyafc_formal_human<br>MSE_Loss=%{y}<extra></extra>",
         "legendgroup": "RF_label_reduced_by_dataset_gyafc_formal_human",
         "line": {
          "color": "#19d3f3",
          "dash": "solid"
         },
         "mode": "markers",
         "name": "RF_label_reduced_by_dataset_gyafc_formal_human",
         "orientation": "v",
         "showlegend": true,
         "type": "scatter",
         "x": [
          5
         ],
         "xaxis": "x",
         "y": [
          0.024008514767124678
         ],
         "yaxis": "y"
        },
        {
         "customdata": [
          [
           6
          ]
         ],
         "hovertemplate": "category=RF_label_by_dataset_gyafc_formal_random_human<br>MSE_Loss=%{y}<extra></extra>",
         "legendgroup": "RF_label_by_dataset_gyafc_formal_random_human",
         "line": {
          "color": "#FF6692",
          "dash": "solid"
         },
         "mode": "markers",
         "name": "RF_label_by_dataset_gyafc_formal_random_human",
         "orientation": "v",
         "showlegend": true,
         "type": "scatter",
         "x": [
          6
         ],
         "xaxis": "x",
         "y": [
          -0.018090814268207467
         ],
         "yaxis": "y"
        },
        {
         "customdata": [
          [
           7
          ]
         ],
         "hovertemplate": "category=RF_label_reduced_by_dataset_gyafc_formal_random_human<br>MSE_Loss=%{y}<extra></extra>",
         "legendgroup": "RF_label_reduced_by_dataset_gyafc_formal_random_human",
         "line": {
          "color": "#B6E880",
          "dash": "solid"
         },
         "mode": "markers",
         "name": "RF_label_reduced_by_dataset_gyafc_formal_random_human",
         "orientation": "v",
         "showlegend": true,
         "type": "scatter",
         "x": [
          7
         ],
         "xaxis": "x",
         "y": [
          -0.00024516821416803447
         ],
         "yaxis": "y"
        },
        {
         "customdata": [
          [
           8
          ]
         ],
         "hovertemplate": "category=RF_label_by_dataset_gyafc_informal_human<br>MSE_Loss=%{y}<extra></extra>",
         "legendgroup": "RF_label_by_dataset_gyafc_informal_human",
         "line": {
          "color": "#FF97FF",
          "dash": "solid"
         },
         "mode": "markers",
         "name": "RF_label_by_dataset_gyafc_informal_human",
         "orientation": "v",
         "showlegend": true,
         "type": "scatter",
         "x": [
          8
         ],
         "xaxis": "x",
         "y": [
          0.0554940987552186
         ],
         "yaxis": "y"
        },
        {
         "customdata": [
          [
           9
          ]
         ],
         "hovertemplate": "category=RF_label_reduced_by_dataset_gyafc_informal_human<br>MSE_Loss=%{y}<extra></extra>",
         "legendgroup": "RF_label_reduced_by_dataset_gyafc_informal_human",
         "line": {
          "color": "#FECB52",
          "dash": "solid"
         },
         "mode": "markers",
         "name": "RF_label_reduced_by_dataset_gyafc_informal_human",
         "orientation": "v",
         "showlegend": true,
         "type": "scatter",
         "x": [
          9
         ],
         "xaxis": "x",
         "y": [
          0.08469023760941313
         ],
         "yaxis": "y"
        },
        {
         "customdata": [
          [
           10
          ]
         ],
         "hovertemplate": "category=RF_label_by_dataset_gyafc_informal_random_human<br>MSE_Loss=%{y}<extra></extra>",
         "legendgroup": "RF_label_by_dataset_gyafc_informal_random_human",
         "line": {
          "color": "#636efa",
          "dash": "solid"
         },
         "mode": "markers",
         "name": "RF_label_by_dataset_gyafc_informal_random_human",
         "orientation": "v",
         "showlegend": true,
         "type": "scatter",
         "x": [
          10
         ],
         "xaxis": "x",
         "y": [
          -0.01790902004186612
         ],
         "yaxis": "y"
        },
        {
         "customdata": [
          [
           11
          ]
         ],
         "hovertemplate": "category=RF_label_reduced_by_dataset_gyafc_informal_random_human<br>MSE_Loss=%{y}<extra></extra>",
         "legendgroup": "RF_label_reduced_by_dataset_gyafc_informal_random_human",
         "line": {
          "color": "#EF553B",
          "dash": "solid"
         },
         "mode": "markers",
         "name": "RF_label_reduced_by_dataset_gyafc_informal_random_human",
         "orientation": "v",
         "showlegend": true,
         "type": "scatter",
         "x": [
          11
         ],
         "xaxis": "x",
         "y": [
          -0.006557213173735976
         ],
         "yaxis": "y"
        },
        {
         "customdata": [
          [
           12
          ]
         ],
         "hovertemplate": "category=RF_label_by_dataset_gyafc_rewrites_human<br>MSE_Loss=%{y}<extra></extra>",
         "legendgroup": "RF_label_by_dataset_gyafc_rewrites_human",
         "line": {
          "color": "#00cc96",
          "dash": "solid"
         },
         "mode": "markers",
         "name": "RF_label_by_dataset_gyafc_rewrites_human",
         "orientation": "v",
         "showlegend": true,
         "type": "scatter",
         "x": [
          12
         ],
         "xaxis": "x",
         "y": [
          0.0075391257803641976
         ],
         "yaxis": "y"
        },
        {
         "customdata": [
          [
           13
          ]
         ],
         "hovertemplate": "category=RF_label_reduced_by_dataset_gyafc_rewrites_human<br>MSE_Loss=%{y}<extra></extra>",
         "legendgroup": "RF_label_reduced_by_dataset_gyafc_rewrites_human",
         "line": {
          "color": "#ab63fa",
          "dash": "solid"
         },
         "mode": "markers",
         "name": "RF_label_reduced_by_dataset_gyafc_rewrites_human",
         "orientation": "v",
         "showlegend": true,
         "type": "scatter",
         "x": [
          13
         ],
         "xaxis": "x",
         "y": [
          -0.039790634889670884
         ],
         "yaxis": "y"
        },
        {
         "customdata": [
          [
           14
          ]
         ],
         "hovertemplate": "category=RF_label_by_dataset_gyafc_rewrites_random_human<br>MSE_Loss=%{y}<extra></extra>",
         "legendgroup": "RF_label_by_dataset_gyafc_rewrites_random_human",
         "line": {
          "color": "#FFA15A",
          "dash": "solid"
         },
         "mode": "markers",
         "name": "RF_label_by_dataset_gyafc_rewrites_random_human",
         "orientation": "v",
         "showlegend": true,
         "type": "scatter",
         "x": [
          14
         ],
         "xaxis": "x",
         "y": [
          0.026320614160483036
         ],
         "yaxis": "y"
        },
        {
         "customdata": [
          [
           15
          ]
         ],
         "hovertemplate": "category=RF_label_reduced_by_dataset_gyafc_rewrites_random_human<br>MSE_Loss=%{y}<extra></extra>",
         "legendgroup": "RF_label_reduced_by_dataset_gyafc_rewrites_random_human",
         "line": {
          "color": "#19d3f3",
          "dash": "solid"
         },
         "mode": "markers",
         "name": "RF_label_reduced_by_dataset_gyafc_rewrites_random_human",
         "orientation": "v",
         "showlegend": true,
         "type": "scatter",
         "x": [
          15
         ],
         "xaxis": "x",
         "y": [
          -0.025831719974807543
         ],
         "yaxis": "y"
        },
        {
         "customdata": [
          [
           16
          ]
         ],
         "hovertemplate": "category=RF_label_by_dataset_paralex_human<br>MSE_Loss=%{y}<extra></extra>",
         "legendgroup": "RF_label_by_dataset_paralex_human",
         "line": {
          "color": "#FF6692",
          "dash": "solid"
         },
         "mode": "markers",
         "name": "RF_label_by_dataset_paralex_human",
         "orientation": "v",
         "showlegend": true,
         "type": "scatter",
         "x": [
          16
         ],
         "xaxis": "x",
         "y": [
          0.07105575564322297
         ],
         "yaxis": "y"
        },
        {
         "customdata": [
          [
           17
          ]
         ],
         "hovertemplate": "category=RF_label_reduced_by_dataset_paralex_human<br>MSE_Loss=%{y}<extra></extra>",
         "legendgroup": "RF_label_reduced_by_dataset_paralex_human",
         "line": {
          "color": "#B6E880",
          "dash": "solid"
         },
         "mode": "markers",
         "name": "RF_label_reduced_by_dataset_paralex_human",
         "orientation": "v",
         "showlegend": true,
         "type": "scatter",
         "x": [
          17
         ],
         "xaxis": "x",
         "y": [
          0.010314626248637604
         ],
         "yaxis": "y"
        },
        {
         "customdata": [
          [
           18
          ]
         ],
         "hovertemplate": "category=RF_label_by_dataset_paralex_random_human<br>MSE_Loss=%{y}<extra></extra>",
         "legendgroup": "RF_label_by_dataset_paralex_random_human",
         "line": {
          "color": "#FF97FF",
          "dash": "solid"
         },
         "mode": "markers",
         "name": "RF_label_by_dataset_paralex_random_human",
         "orientation": "v",
         "showlegend": true,
         "type": "scatter",
         "x": [
          18
         ],
         "xaxis": "x",
         "y": [
          -0.018328131405877413
         ],
         "yaxis": "y"
        },
        {
         "customdata": [
          [
           19
          ]
         ],
         "hovertemplate": "category=RF_label_reduced_by_dataset_paralex_random_human<br>MSE_Loss=%{y}<extra></extra>",
         "legendgroup": "RF_label_reduced_by_dataset_paralex_random_human",
         "line": {
          "color": "#FECB52",
          "dash": "solid"
         },
         "mode": "markers",
         "name": "RF_label_reduced_by_dataset_paralex_random_human",
         "orientation": "v",
         "showlegend": true,
         "type": "scatter",
         "x": [
          19
         ],
         "xaxis": "x",
         "y": [
          0.07820754653880246
         ],
         "yaxis": "y"
        },
        {
         "customdata": [
          [
           20
          ]
         ],
         "hovertemplate": "category=RF_label_by_dataset_paraphrase_human<br>MSE_Loss=%{y}<extra></extra>",
         "legendgroup": "RF_label_by_dataset_paraphrase_human",
         "line": {
          "color": "#636efa",
          "dash": "solid"
         },
         "mode": "markers",
         "name": "RF_label_by_dataset_paraphrase_human",
         "orientation": "v",
         "showlegend": true,
         "type": "scatter",
         "x": [
          20
         ],
         "xaxis": "x",
         "y": [
          -0.005215372568879051
         ],
         "yaxis": "y"
        },
        {
         "customdata": [
          [
           21
          ]
         ],
         "hovertemplate": "category=RF_label_reduced_by_dataset_paraphrase_human<br>MSE_Loss=%{y}<extra></extra>",
         "legendgroup": "RF_label_reduced_by_dataset_paraphrase_human",
         "line": {
          "color": "#EF553B",
          "dash": "solid"
         },
         "mode": "markers",
         "name": "RF_label_reduced_by_dataset_paraphrase_human",
         "orientation": "v",
         "showlegend": true,
         "type": "scatter",
         "x": [
          21
         ],
         "xaxis": "x",
         "y": [
          0.022707011361848273
         ],
         "yaxis": "y"
        },
        {
         "customdata": [
          [
           22
          ]
         ],
         "hovertemplate": "category=RF_label_by_dataset_paraphrase_random_human<br>MSE_Loss=%{y}<extra></extra>",
         "legendgroup": "RF_label_by_dataset_paraphrase_random_human",
         "line": {
          "color": "#00cc96",
          "dash": "solid"
         },
         "mode": "markers",
         "name": "RF_label_by_dataset_paraphrase_random_human",
         "orientation": "v",
         "showlegend": true,
         "type": "scatter",
         "x": [
          22
         ],
         "xaxis": "x",
         "y": [
          0.029070994067903255
         ],
         "yaxis": "y"
        },
        {
         "customdata": [
          [
           23
          ]
         ],
         "hovertemplate": "category=RF_label_reduced_by_dataset_paraphrase_random_human<br>MSE_Loss=%{y}<extra></extra>",
         "legendgroup": "RF_label_reduced_by_dataset_paraphrase_random_human",
         "line": {
          "color": "#ab63fa",
          "dash": "solid"
         },
         "mode": "markers",
         "name": "RF_label_reduced_by_dataset_paraphrase_random_human",
         "orientation": "v",
         "showlegend": true,
         "type": "scatter",
         "x": [
          23
         ],
         "xaxis": "x",
         "y": [
          -0.0618526810576967
         ],
         "yaxis": "y"
        },
        {
         "customdata": [
          [
           24
          ]
         ],
         "hovertemplate": "category=RF_label_by_dataset_yelp_human<br>MSE_Loss=%{y}<extra></extra>",
         "legendgroup": "RF_label_by_dataset_yelp_human",
         "line": {
          "color": "#FFA15A",
          "dash": "solid"
         },
         "mode": "markers",
         "name": "RF_label_by_dataset_yelp_human",
         "orientation": "v",
         "showlegend": true,
         "type": "scatter",
         "x": [
          24
         ],
         "xaxis": "x",
         "y": [
          0.10123963620684462
         ],
         "yaxis": "y"
        },
        {
         "customdata": [
          [
           25
          ]
         ],
         "hovertemplate": "category=RF_label_reduced_by_dataset_yelp_human<br>MSE_Loss=%{y}<extra></extra>",
         "legendgroup": "RF_label_reduced_by_dataset_yelp_human",
         "line": {
          "color": "#19d3f3",
          "dash": "solid"
         },
         "mode": "markers",
         "name": "RF_label_reduced_by_dataset_yelp_human",
         "orientation": "v",
         "showlegend": true,
         "type": "scatter",
         "x": [
          25
         ],
         "xaxis": "x",
         "y": [
          0.025689939642547954
         ],
         "yaxis": "y"
        },
        {
         "customdata": [
          [
           26
          ]
         ],
         "hovertemplate": "category=RF_label_by_dataset_yelp_random_human<br>MSE_Loss=%{y}<extra></extra>",
         "legendgroup": "RF_label_by_dataset_yelp_random_human",
         "line": {
          "color": "#FF6692",
          "dash": "solid"
         },
         "mode": "markers",
         "name": "RF_label_by_dataset_yelp_random_human",
         "orientation": "v",
         "showlegend": true,
         "type": "scatter",
         "x": [
          26
         ],
         "xaxis": "x",
         "y": [
          0.11394386423121938
         ],
         "yaxis": "y"
        },
        {
         "customdata": [
          [
           27
          ]
         ],
         "hovertemplate": "category=RF_label_reduced_by_dataset_yelp_random_human<br>MSE_Loss=%{y}<extra></extra>",
         "legendgroup": "RF_label_reduced_by_dataset_yelp_random_human",
         "line": {
          "color": "#B6E880",
          "dash": "solid"
         },
         "mode": "markers",
         "name": "RF_label_reduced_by_dataset_yelp_random_human",
         "orientation": "v",
         "showlegend": true,
         "type": "scatter",
         "x": [
          27
         ],
         "xaxis": "x",
         "y": [
          -0.05815828148943203
         ],
         "yaxis": "y"
        },
        {
         "customdata": [
          [
           28
          ]
         ],
         "hovertemplate": "category=RF_label_by_random_0<br>MSE_Loss=%{y}<extra></extra>",
         "legendgroup": "RF_label_by_random_0",
         "line": {
          "color": "#FF97FF",
          "dash": "solid"
         },
         "mode": "markers",
         "name": "RF_label_by_random_0",
         "orientation": "v",
         "showlegend": true,
         "type": "scatter",
         "x": [
          28
         ],
         "xaxis": "x",
         "y": [
          -0.0444441339922812
         ],
         "yaxis": "y"
        },
        {
         "customdata": [
          [
           29
          ]
         ],
         "hovertemplate": "category=RF_label_reduced_by_random_0<br>MSE_Loss=%{y}<extra></extra>",
         "legendgroup": "RF_label_reduced_by_random_0",
         "line": {
          "color": "#FECB52",
          "dash": "solid"
         },
         "mode": "markers",
         "name": "RF_label_reduced_by_random_0",
         "orientation": "v",
         "showlegend": true,
         "type": "scatter",
         "x": [
          29
         ],
         "xaxis": "x",
         "y": [
          0.0004220158866700685
         ],
         "yaxis": "y"
        },
        {
         "customdata": [
          [
           30
          ]
         ],
         "hovertemplate": "category=RF_label_by_random_1<br>MSE_Loss=%{y}<extra></extra>",
         "legendgroup": "RF_label_by_random_1",
         "line": {
          "color": "#636efa",
          "dash": "solid"
         },
         "mode": "markers",
         "name": "RF_label_by_random_1",
         "orientation": "v",
         "showlegend": true,
         "type": "scatter",
         "x": [
          30
         ],
         "xaxis": "x",
         "y": [
          0.00012508791439880262
         ],
         "yaxis": "y"
        },
        {
         "customdata": [
          [
           31
          ]
         ],
         "hovertemplate": "category=RF_label_reduced_by_random_1<br>MSE_Loss=%{y}<extra></extra>",
         "legendgroup": "RF_label_reduced_by_random_1",
         "line": {
          "color": "#EF553B",
          "dash": "solid"
         },
         "mode": "markers",
         "name": "RF_label_reduced_by_random_1",
         "orientation": "v",
         "showlegend": true,
         "type": "scatter",
         "x": [
          31
         ],
         "xaxis": "x",
         "y": [
          0.015253428963286353
         ],
         "yaxis": "y"
        },
        {
         "customdata": [
          [
           32
          ]
         ],
         "hovertemplate": "category=RF_label_by_radical_or_centralist_centralist<br>MSE_Loss=%{y}<extra></extra>",
         "legendgroup": "RF_label_by_radical_or_centralist_centralist",
         "line": {
          "color": "#00cc96",
          "dash": "solid"
         },
         "mode": "markers",
         "name": "RF_label_by_radical_or_centralist_centralist",
         "orientation": "v",
         "showlegend": true,
         "type": "scatter",
         "x": [
          32
         ],
         "xaxis": "x",
         "y": [
          -0.024077848439806426
         ],
         "yaxis": "y"
        },
        {
         "customdata": [
          [
           33
          ]
         ],
         "hovertemplate": "category=RF_label_reduced_by_radical_or_centralist_centralist<br>MSE_Loss=%{y}<extra></extra>",
         "legendgroup": "RF_label_reduced_by_radical_or_centralist_centralist",
         "line": {
          "color": "#ab63fa",
          "dash": "solid"
         },
         "mode": "markers",
         "name": "RF_label_reduced_by_radical_or_centralist_centralist",
         "orientation": "v",
         "showlegend": true,
         "type": "scatter",
         "x": [
          33
         ],
         "xaxis": "x",
         "y": [
          -0.006487815235848404
         ],
         "yaxis": "y"
        },
        {
         "customdata": [
          [
           34
          ]
         ],
         "hovertemplate": "category=RF_label_by_radical_or_centralist_neither<br>MSE_Loss=%{y}<extra></extra>",
         "legendgroup": "RF_label_by_radical_or_centralist_neither",
         "line": {
          "color": "#FFA15A",
          "dash": "solid"
         },
         "mode": "markers",
         "name": "RF_label_by_radical_or_centralist_neither",
         "orientation": "v",
         "showlegend": true,
         "type": "scatter",
         "x": [
          34
         ],
         "xaxis": "x",
         "y": [
          0.022057753336078068
         ],
         "yaxis": "y"
        },
        {
         "customdata": [
          [
           35
          ]
         ],
         "hovertemplate": "category=RF_label_reduced_by_radical_or_centralist_neither<br>MSE_Loss=%{y}<extra></extra>",
         "legendgroup": "RF_label_reduced_by_radical_or_centralist_neither",
         "line": {
          "color": "#19d3f3",
          "dash": "solid"
         },
         "mode": "markers",
         "name": "RF_label_reduced_by_radical_or_centralist_neither",
         "orientation": "v",
         "showlegend": true,
         "type": "scatter",
         "x": [
          35
         ],
         "xaxis": "x",
         "y": [
          0.00932776664945073
         ],
         "yaxis": "y"
        },
        {
         "customdata": [
          [
           36
          ]
         ],
         "hovertemplate": "category=RF_label_by_radical_or_centralist_radical<br>MSE_Loss=%{y}<extra></extra>",
         "legendgroup": "RF_label_by_radical_or_centralist_radical",
         "line": {
          "color": "#FF6692",
          "dash": "solid"
         },
         "mode": "markers",
         "name": "RF_label_by_radical_or_centralist_radical",
         "orientation": "v",
         "showlegend": true,
         "type": "scatter",
         "x": [
          36
         ],
         "xaxis": "x",
         "y": [
          0.010213924865554613
         ],
         "yaxis": "y"
        },
        {
         "customdata": [
          [
           37
          ]
         ],
         "hovertemplate": "category=RF_label_reduced_by_radical_or_centralist_radical<br>MSE_Loss=%{y}<extra></extra>",
         "legendgroup": "RF_label_reduced_by_radical_or_centralist_radical",
         "line": {
          "color": "#B6E880",
          "dash": "solid"
         },
         "mode": "markers",
         "name": "RF_label_reduced_by_radical_or_centralist_radical",
         "orientation": "v",
         "showlegend": true,
         "type": "scatter",
         "x": [
          37
         ],
         "xaxis": "x",
         "y": [
          -0.022461016079325935
         ],
         "yaxis": "y"
        },
        {
         "customdata": [
          [
           38
          ]
         ],
         "hovertemplate": "category=RF_label_combined<br>MSE_Loss=%{y}<extra></extra>",
         "legendgroup": "RF_label_combined",
         "line": {
          "color": "#FF97FF",
          "dash": "solid"
         },
         "mode": "markers",
         "name": "RF_label_combined",
         "orientation": "v",
         "showlegend": true,
         "type": "scatter",
         "x": [
          38
         ],
         "xaxis": "x",
         "y": [
          1.391293495085113
         ],
         "yaxis": "y"
        },
        {
         "customdata": [
          [
           39
          ]
         ],
         "hovertemplate": "category=RF_label_reduced_combined<br>MSE_Loss=%{y}<extra></extra>",
         "legendgroup": "RF_label_reduced_combined",
         "line": {
          "color": "#FECB52",
          "dash": "solid"
         },
         "mode": "markers",
         "name": "RF_label_reduced_combined",
         "orientation": "v",
         "showlegend": true,
         "type": "scatter",
         "x": [
          39
         ],
         "xaxis": "x",
         "y": [
          0.5299936666418015
         ],
         "yaxis": "y"
        }
       ],
       "layout": {
        "height": 600,
        "legend": {
         "title": {
          "text": "category"
         },
         "tracegroupgap": 0
        },
        "template": {
         "data": {
          "bar": [
           {
            "error_x": {
             "color": "#2a3f5f"
            },
            "error_y": {
             "color": "#2a3f5f"
            },
            "marker": {
             "line": {
              "color": "#E5ECF6",
              "width": 0.5
             }
            },
            "type": "bar"
           }
          ],
          "barpolar": [
           {
            "marker": {
             "line": {
              "color": "#E5ECF6",
              "width": 0.5
             }
            },
            "type": "barpolar"
           }
          ],
          "carpet": [
           {
            "aaxis": {
             "endlinecolor": "#2a3f5f",
             "gridcolor": "white",
             "linecolor": "white",
             "minorgridcolor": "white",
             "startlinecolor": "#2a3f5f"
            },
            "baxis": {
             "endlinecolor": "#2a3f5f",
             "gridcolor": "white",
             "linecolor": "white",
             "minorgridcolor": "white",
             "startlinecolor": "#2a3f5f"
            },
            "type": "carpet"
           }
          ],
          "choropleth": [
           {
            "colorbar": {
             "outlinewidth": 0,
             "ticks": ""
            },
            "type": "choropleth"
           }
          ],
          "contour": [
           {
            "colorbar": {
             "outlinewidth": 0,
             "ticks": ""
            },
            "colorscale": [
             [
              0,
              "#0d0887"
             ],
             [
              0.1111111111111111,
              "#46039f"
             ],
             [
              0.2222222222222222,
              "#7201a8"
             ],
             [
              0.3333333333333333,
              "#9c179e"
             ],
             [
              0.4444444444444444,
              "#bd3786"
             ],
             [
              0.5555555555555556,
              "#d8576b"
             ],
             [
              0.6666666666666666,
              "#ed7953"
             ],
             [
              0.7777777777777778,
              "#fb9f3a"
             ],
             [
              0.8888888888888888,
              "#fdca26"
             ],
             [
              1,
              "#f0f921"
             ]
            ],
            "type": "contour"
           }
          ],
          "contourcarpet": [
           {
            "colorbar": {
             "outlinewidth": 0,
             "ticks": ""
            },
            "type": "contourcarpet"
           }
          ],
          "heatmap": [
           {
            "colorbar": {
             "outlinewidth": 0,
             "ticks": ""
            },
            "colorscale": [
             [
              0,
              "#0d0887"
             ],
             [
              0.1111111111111111,
              "#46039f"
             ],
             [
              0.2222222222222222,
              "#7201a8"
             ],
             [
              0.3333333333333333,
              "#9c179e"
             ],
             [
              0.4444444444444444,
              "#bd3786"
             ],
             [
              0.5555555555555556,
              "#d8576b"
             ],
             [
              0.6666666666666666,
              "#ed7953"
             ],
             [
              0.7777777777777778,
              "#fb9f3a"
             ],
             [
              0.8888888888888888,
              "#fdca26"
             ],
             [
              1,
              "#f0f921"
             ]
            ],
            "type": "heatmap"
           }
          ],
          "heatmapgl": [
           {
            "colorbar": {
             "outlinewidth": 0,
             "ticks": ""
            },
            "colorscale": [
             [
              0,
              "#0d0887"
             ],
             [
              0.1111111111111111,
              "#46039f"
             ],
             [
              0.2222222222222222,
              "#7201a8"
             ],
             [
              0.3333333333333333,
              "#9c179e"
             ],
             [
              0.4444444444444444,
              "#bd3786"
             ],
             [
              0.5555555555555556,
              "#d8576b"
             ],
             [
              0.6666666666666666,
              "#ed7953"
             ],
             [
              0.7777777777777778,
              "#fb9f3a"
             ],
             [
              0.8888888888888888,
              "#fdca26"
             ],
             [
              1,
              "#f0f921"
             ]
            ],
            "type": "heatmapgl"
           }
          ],
          "histogram": [
           {
            "marker": {
             "colorbar": {
              "outlinewidth": 0,
              "ticks": ""
             }
            },
            "type": "histogram"
           }
          ],
          "histogram2d": [
           {
            "colorbar": {
             "outlinewidth": 0,
             "ticks": ""
            },
            "colorscale": [
             [
              0,
              "#0d0887"
             ],
             [
              0.1111111111111111,
              "#46039f"
             ],
             [
              0.2222222222222222,
              "#7201a8"
             ],
             [
              0.3333333333333333,
              "#9c179e"
             ],
             [
              0.4444444444444444,
              "#bd3786"
             ],
             [
              0.5555555555555556,
              "#d8576b"
             ],
             [
              0.6666666666666666,
              "#ed7953"
             ],
             [
              0.7777777777777778,
              "#fb9f3a"
             ],
             [
              0.8888888888888888,
              "#fdca26"
             ],
             [
              1,
              "#f0f921"
             ]
            ],
            "type": "histogram2d"
           }
          ],
          "histogram2dcontour": [
           {
            "colorbar": {
             "outlinewidth": 0,
             "ticks": ""
            },
            "colorscale": [
             [
              0,
              "#0d0887"
             ],
             [
              0.1111111111111111,
              "#46039f"
             ],
             [
              0.2222222222222222,
              "#7201a8"
             ],
             [
              0.3333333333333333,
              "#9c179e"
             ],
             [
              0.4444444444444444,
              "#bd3786"
             ],
             [
              0.5555555555555556,
              "#d8576b"
             ],
             [
              0.6666666666666666,
              "#ed7953"
             ],
             [
              0.7777777777777778,
              "#fb9f3a"
             ],
             [
              0.8888888888888888,
              "#fdca26"
             ],
             [
              1,
              "#f0f921"
             ]
            ],
            "type": "histogram2dcontour"
           }
          ],
          "mesh3d": [
           {
            "colorbar": {
             "outlinewidth": 0,
             "ticks": ""
            },
            "type": "mesh3d"
           }
          ],
          "parcoords": [
           {
            "line": {
             "colorbar": {
              "outlinewidth": 0,
              "ticks": ""
             }
            },
            "type": "parcoords"
           }
          ],
          "pie": [
           {
            "automargin": true,
            "type": "pie"
           }
          ],
          "scatter": [
           {
            "marker": {
             "colorbar": {
              "outlinewidth": 0,
              "ticks": ""
             }
            },
            "type": "scatter"
           }
          ],
          "scatter3d": [
           {
            "line": {
             "colorbar": {
              "outlinewidth": 0,
              "ticks": ""
             }
            },
            "marker": {
             "colorbar": {
              "outlinewidth": 0,
              "ticks": ""
             }
            },
            "type": "scatter3d"
           }
          ],
          "scattercarpet": [
           {
            "marker": {
             "colorbar": {
              "outlinewidth": 0,
              "ticks": ""
             }
            },
            "type": "scattercarpet"
           }
          ],
          "scattergeo": [
           {
            "marker": {
             "colorbar": {
              "outlinewidth": 0,
              "ticks": ""
             }
            },
            "type": "scattergeo"
           }
          ],
          "scattergl": [
           {
            "marker": {
             "colorbar": {
              "outlinewidth": 0,
              "ticks": ""
             }
            },
            "type": "scattergl"
           }
          ],
          "scattermapbox": [
           {
            "marker": {
             "colorbar": {
              "outlinewidth": 0,
              "ticks": ""
             }
            },
            "type": "scattermapbox"
           }
          ],
          "scatterpolar": [
           {
            "marker": {
             "colorbar": {
              "outlinewidth": 0,
              "ticks": ""
             }
            },
            "type": "scatterpolar"
           }
          ],
          "scatterpolargl": [
           {
            "marker": {
             "colorbar": {
              "outlinewidth": 0,
              "ticks": ""
             }
            },
            "type": "scatterpolargl"
           }
          ],
          "scatterternary": [
           {
            "marker": {
             "colorbar": {
              "outlinewidth": 0,
              "ticks": ""
             }
            },
            "type": "scatterternary"
           }
          ],
          "surface": [
           {
            "colorbar": {
             "outlinewidth": 0,
             "ticks": ""
            },
            "colorscale": [
             [
              0,
              "#0d0887"
             ],
             [
              0.1111111111111111,
              "#46039f"
             ],
             [
              0.2222222222222222,
              "#7201a8"
             ],
             [
              0.3333333333333333,
              "#9c179e"
             ],
             [
              0.4444444444444444,
              "#bd3786"
             ],
             [
              0.5555555555555556,
              "#d8576b"
             ],
             [
              0.6666666666666666,
              "#ed7953"
             ],
             [
              0.7777777777777778,
              "#fb9f3a"
             ],
             [
              0.8888888888888888,
              "#fdca26"
             ],
             [
              1,
              "#f0f921"
             ]
            ],
            "type": "surface"
           }
          ],
          "table": [
           {
            "cells": {
             "fill": {
              "color": "#EBF0F8"
             },
             "line": {
              "color": "white"
             }
            },
            "header": {
             "fill": {
              "color": "#C8D4E3"
             },
             "line": {
              "color": "white"
             }
            },
            "type": "table"
           }
          ]
         },
         "layout": {
          "annotationdefaults": {
           "arrowcolor": "#2a3f5f",
           "arrowhead": 0,
           "arrowwidth": 1
          },
          "coloraxis": {
           "colorbar": {
            "outlinewidth": 0,
            "ticks": ""
           }
          },
          "colorscale": {
           "diverging": [
            [
             0,
             "#8e0152"
            ],
            [
             0.1,
             "#c51b7d"
            ],
            [
             0.2,
             "#de77ae"
            ],
            [
             0.3,
             "#f1b6da"
            ],
            [
             0.4,
             "#fde0ef"
            ],
            [
             0.5,
             "#f7f7f7"
            ],
            [
             0.6,
             "#e6f5d0"
            ],
            [
             0.7,
             "#b8e186"
            ],
            [
             0.8,
             "#7fbc41"
            ],
            [
             0.9,
             "#4d9221"
            ],
            [
             1,
             "#276419"
            ]
           ],
           "sequential": [
            [
             0,
             "#0d0887"
            ],
            [
             0.1111111111111111,
             "#46039f"
            ],
            [
             0.2222222222222222,
             "#7201a8"
            ],
            [
             0.3333333333333333,
             "#9c179e"
            ],
            [
             0.4444444444444444,
             "#bd3786"
            ],
            [
             0.5555555555555556,
             "#d8576b"
            ],
            [
             0.6666666666666666,
             "#ed7953"
            ],
            [
             0.7777777777777778,
             "#fb9f3a"
            ],
            [
             0.8888888888888888,
             "#fdca26"
            ],
            [
             1,
             "#f0f921"
            ]
           ],
           "sequentialminus": [
            [
             0,
             "#0d0887"
            ],
            [
             0.1111111111111111,
             "#46039f"
            ],
            [
             0.2222222222222222,
             "#7201a8"
            ],
            [
             0.3333333333333333,
             "#9c179e"
            ],
            [
             0.4444444444444444,
             "#bd3786"
            ],
            [
             0.5555555555555556,
             "#d8576b"
            ],
            [
             0.6666666666666666,
             "#ed7953"
            ],
            [
             0.7777777777777778,
             "#fb9f3a"
            ],
            [
             0.8888888888888888,
             "#fdca26"
            ],
            [
             1,
             "#f0f921"
            ]
           ]
          },
          "colorway": [
           "#636efa",
           "#EF553B",
           "#00cc96",
           "#ab63fa",
           "#FFA15A",
           "#19d3f3",
           "#FF6692",
           "#B6E880",
           "#FF97FF",
           "#FECB52"
          ],
          "font": {
           "color": "#2a3f5f"
          },
          "geo": {
           "bgcolor": "white",
           "lakecolor": "white",
           "landcolor": "#E5ECF6",
           "showlakes": true,
           "showland": true,
           "subunitcolor": "white"
          },
          "hoverlabel": {
           "align": "left"
          },
          "hovermode": "closest",
          "mapbox": {
           "style": "light"
          },
          "paper_bgcolor": "white",
          "plot_bgcolor": "#E5ECF6",
          "polar": {
           "angularaxis": {
            "gridcolor": "white",
            "linecolor": "white",
            "ticks": ""
           },
           "bgcolor": "#E5ECF6",
           "radialaxis": {
            "gridcolor": "white",
            "linecolor": "white",
            "ticks": ""
           }
          },
          "scene": {
           "xaxis": {
            "backgroundcolor": "#E5ECF6",
            "gridcolor": "white",
            "gridwidth": 2,
            "linecolor": "white",
            "showbackground": true,
            "ticks": "",
            "zerolinecolor": "white"
           },
           "yaxis": {
            "backgroundcolor": "#E5ECF6",
            "gridcolor": "white",
            "gridwidth": 2,
            "linecolor": "white",
            "showbackground": true,
            "ticks": "",
            "zerolinecolor": "white"
           },
           "zaxis": {
            "backgroundcolor": "#E5ECF6",
            "gridcolor": "white",
            "gridwidth": 2,
            "linecolor": "white",
            "showbackground": true,
            "ticks": "",
            "zerolinecolor": "white"
           }
          },
          "shapedefaults": {
           "line": {
            "color": "#2a3f5f"
           }
          },
          "ternary": {
           "aaxis": {
            "gridcolor": "white",
            "linecolor": "white",
            "ticks": ""
           },
           "baxis": {
            "gridcolor": "white",
            "linecolor": "white",
            "ticks": ""
           },
           "bgcolor": "#E5ECF6",
           "caxis": {
            "gridcolor": "white",
            "linecolor": "white",
            "ticks": ""
           }
          },
          "title": {
           "x": 0.05
          },
          "xaxis": {
           "automargin": true,
           "gridcolor": "white",
           "linecolor": "white",
           "ticks": "",
           "title": {
            "standoff": 15
           },
           "zerolinecolor": "white",
           "zerolinewidth": 2
          },
          "yaxis": {
           "automargin": true,
           "gridcolor": "white",
           "linecolor": "white",
           "ticks": "",
           "title": {
            "standoff": 15
           },
           "zerolinecolor": "white",
           "zerolinewidth": 2
          }
         }
        },
        "title": {
         "text": "MSE Loss"
        },
        "width": 1200,
        "xaxis": {
         "anchor": "y",
         "domain": [
          0,
          1
         ],
         "title": {
          "text": "index"
         }
        },
        "yaxis": {
         "anchor": "x",
         "domain": [
          0,
          1
         ],
         "title": {
          "text": "MSE_Loss"
         }
        }
       }
      }
     },
     "metadata": {}
    }
   ],
   "source": [
    "comb_scores = mm.compare_score(list_ba, \"RF\")\n",
    "visualize_score(comb_scores, \"Improvement of filtered dataset - RF\")"
   ]
  },
  {
   "cell_type": "code",
   "execution_count": 271,
   "metadata": {},
   "outputs": [
    {
     "output_type": "display_data",
     "data": {
      "application/vnd.plotly.v1+json": {
       "config": {
        "plotlyServerURL": "https://plot.ly"
       },
       "data": [
        {
         "customdata": [
          [
           0
          ]
         ],
         "hovertemplate": "category=MLP_label_by_dataset_bible_human<br>MSE_Loss=%{y}<extra></extra>",
         "legendgroup": "MLP_label_by_dataset_bible_human",
         "line": {
          "color": "#636efa",
          "dash": "solid"
         },
         "mode": "markers",
         "name": "MLP_label_by_dataset_bible_human",
         "orientation": "v",
         "showlegend": true,
         "type": "scatter",
         "x": [
          0
         ],
         "xaxis": "x",
         "y": [
          1.0081164896663035
         ],
         "yaxis": "y"
        },
        {
         "customdata": [
          [
           1
          ]
         ],
         "hovertemplate": "category=MLP_label_reduced_by_dataset_bible_human<br>MSE_Loss=%{y}<extra></extra>",
         "legendgroup": "MLP_label_reduced_by_dataset_bible_human",
         "line": {
          "color": "#EF553B",
          "dash": "solid"
         },
         "mode": "markers",
         "name": "MLP_label_reduced_by_dataset_bible_human",
         "orientation": "v",
         "showlegend": true,
         "type": "scatter",
         "x": [
          1
         ],
         "xaxis": "x",
         "y": [
          0.03635268892821253
         ],
         "yaxis": "y"
        },
        {
         "customdata": [
          [
           2
          ]
         ],
         "hovertemplate": "category=MLP_label_by_dataset_bible_random_human<br>MSE_Loss=%{y}<extra></extra>",
         "legendgroup": "MLP_label_by_dataset_bible_random_human",
         "line": {
          "color": "#00cc96",
          "dash": "solid"
         },
         "mode": "markers",
         "name": "MLP_label_by_dataset_bible_random_human",
         "orientation": "v",
         "showlegend": true,
         "type": "scatter",
         "x": [
          2
         ],
         "xaxis": "x",
         "y": [
          -0.48345211741394745
         ],
         "yaxis": "y"
        },
        {
         "customdata": [
          [
           3
          ]
         ],
         "hovertemplate": "category=MLP_label_reduced_by_dataset_bible_random_human<br>MSE_Loss=%{y}<extra></extra>",
         "legendgroup": "MLP_label_reduced_by_dataset_bible_random_human",
         "line": {
          "color": "#ab63fa",
          "dash": "solid"
         },
         "mode": "markers",
         "name": "MLP_label_reduced_by_dataset_bible_random_human",
         "orientation": "v",
         "showlegend": true,
         "type": "scatter",
         "x": [
          3
         ],
         "xaxis": "x",
         "y": [
          -0.04028822000742288
         ],
         "yaxis": "y"
        },
        {
         "customdata": [
          [
           4
          ]
         ],
         "hovertemplate": "category=MLP_label_by_dataset_gyafc_formal_human<br>MSE_Loss=%{y}<extra></extra>",
         "legendgroup": "MLP_label_by_dataset_gyafc_formal_human",
         "line": {
          "color": "#FFA15A",
          "dash": "solid"
         },
         "mode": "markers",
         "name": "MLP_label_by_dataset_gyafc_formal_human",
         "orientation": "v",
         "showlegend": true,
         "type": "scatter",
         "x": [
          4
         ],
         "xaxis": "x",
         "y": [
          0.012324893735151221
         ],
         "yaxis": "y"
        },
        {
         "customdata": [
          [
           5
          ]
         ],
         "hovertemplate": "category=MLP_label_reduced_by_dataset_gyafc_formal_human<br>MSE_Loss=%{y}<extra></extra>",
         "legendgroup": "MLP_label_reduced_by_dataset_gyafc_formal_human",
         "line": {
          "color": "#19d3f3",
          "dash": "solid"
         },
         "mode": "markers",
         "name": "MLP_label_reduced_by_dataset_gyafc_formal_human",
         "orientation": "v",
         "showlegend": true,
         "type": "scatter",
         "x": [
          5
         ],
         "xaxis": "x",
         "y": [
          0.039890529534025554
         ],
         "yaxis": "y"
        },
        {
         "customdata": [
          [
           6
          ]
         ],
         "hovertemplate": "category=MLP_label_by_dataset_gyafc_formal_random_human<br>MSE_Loss=%{y}<extra></extra>",
         "legendgroup": "MLP_label_by_dataset_gyafc_formal_random_human",
         "line": {
          "color": "#FF6692",
          "dash": "solid"
         },
         "mode": "markers",
         "name": "MLP_label_by_dataset_gyafc_formal_random_human",
         "orientation": "v",
         "showlegend": true,
         "type": "scatter",
         "x": [
          6
         ],
         "xaxis": "x",
         "y": [
          0.48585900392768533
         ],
         "yaxis": "y"
        },
        {
         "customdata": [
          [
           7
          ]
         ],
         "hovertemplate": "category=MLP_label_reduced_by_dataset_gyafc_formal_random_human<br>MSE_Loss=%{y}<extra></extra>",
         "legendgroup": "MLP_label_reduced_by_dataset_gyafc_formal_random_human",
         "line": {
          "color": "#B6E880",
          "dash": "solid"
         },
         "mode": "markers",
         "name": "MLP_label_reduced_by_dataset_gyafc_formal_random_human",
         "orientation": "v",
         "showlegend": true,
         "type": "scatter",
         "x": [
          7
         ],
         "xaxis": "x",
         "y": [
          -0.09858080387345108
         ],
         "yaxis": "y"
        },
        {
         "customdata": [
          [
           8
          ]
         ],
         "hovertemplate": "category=MLP_label_by_dataset_gyafc_informal_human<br>MSE_Loss=%{y}<extra></extra>",
         "legendgroup": "MLP_label_by_dataset_gyafc_informal_human",
         "line": {
          "color": "#FF97FF",
          "dash": "solid"
         },
         "mode": "markers",
         "name": "MLP_label_by_dataset_gyafc_informal_human",
         "orientation": "v",
         "showlegend": true,
         "type": "scatter",
         "x": [
          8
         ],
         "xaxis": "x",
         "y": [
          -0.13549676321599757
         ],
         "yaxis": "y"
        },
        {
         "customdata": [
          [
           9
          ]
         ],
         "hovertemplate": "category=MLP_label_reduced_by_dataset_gyafc_informal_human<br>MSE_Loss=%{y}<extra></extra>",
         "legendgroup": "MLP_label_reduced_by_dataset_gyafc_informal_human",
         "line": {
          "color": "#FECB52",
          "dash": "solid"
         },
         "mode": "markers",
         "name": "MLP_label_reduced_by_dataset_gyafc_informal_human",
         "orientation": "v",
         "showlegend": true,
         "type": "scatter",
         "x": [
          9
         ],
         "xaxis": "x",
         "y": [
          0.025680196738614658
         ],
         "yaxis": "y"
        },
        {
         "customdata": [
          [
           10
          ]
         ],
         "hovertemplate": "category=MLP_label_by_dataset_gyafc_informal_random_human<br>MSE_Loss=%{y}<extra></extra>",
         "legendgroup": "MLP_label_by_dataset_gyafc_informal_random_human",
         "line": {
          "color": "#636efa",
          "dash": "solid"
         },
         "mode": "markers",
         "name": "MLP_label_by_dataset_gyafc_informal_random_human",
         "orientation": "v",
         "showlegend": true,
         "type": "scatter",
         "x": [
          10
         ],
         "xaxis": "x",
         "y": [
          0.9982849254201172
         ],
         "yaxis": "y"
        },
        {
         "customdata": [
          [
           11
          ]
         ],
         "hovertemplate": "category=MLP_label_reduced_by_dataset_gyafc_informal_random_human<br>MSE_Loss=%{y}<extra></extra>",
         "legendgroup": "MLP_label_reduced_by_dataset_gyafc_informal_random_human",
         "line": {
          "color": "#EF553B",
          "dash": "solid"
         },
         "mode": "markers",
         "name": "MLP_label_reduced_by_dataset_gyafc_informal_random_human",
         "orientation": "v",
         "showlegend": true,
         "type": "scatter",
         "x": [
          11
         ],
         "xaxis": "x",
         "y": [
          -0.09006641746455174
         ],
         "yaxis": "y"
        },
        {
         "customdata": [
          [
           12
          ]
         ],
         "hovertemplate": "category=MLP_label_by_dataset_gyafc_rewrites_human<br>MSE_Loss=%{y}<extra></extra>",
         "legendgroup": "MLP_label_by_dataset_gyafc_rewrites_human",
         "line": {
          "color": "#00cc96",
          "dash": "solid"
         },
         "mode": "markers",
         "name": "MLP_label_by_dataset_gyafc_rewrites_human",
         "orientation": "v",
         "showlegend": true,
         "type": "scatter",
         "x": [
          12
         ],
         "xaxis": "x",
         "y": [
          -0.3934354297397511
         ],
         "yaxis": "y"
        },
        {
         "customdata": [
          [
           13
          ]
         ],
         "hovertemplate": "category=MLP_label_reduced_by_dataset_gyafc_rewrites_human<br>MSE_Loss=%{y}<extra></extra>",
         "legendgroup": "MLP_label_reduced_by_dataset_gyafc_rewrites_human",
         "line": {
          "color": "#ab63fa",
          "dash": "solid"
         },
         "mode": "markers",
         "name": "MLP_label_reduced_by_dataset_gyafc_rewrites_human",
         "orientation": "v",
         "showlegend": true,
         "type": "scatter",
         "x": [
          13
         ],
         "xaxis": "x",
         "y": [
          0.04243630921388247
         ],
         "yaxis": "y"
        },
        {
         "customdata": [
          [
           14
          ]
         ],
         "hovertemplate": "category=MLP_label_by_dataset_gyafc_rewrites_random_human<br>MSE_Loss=%{y}<extra></extra>",
         "legendgroup": "MLP_label_by_dataset_gyafc_rewrites_random_human",
         "line": {
          "color": "#FFA15A",
          "dash": "solid"
         },
         "mode": "markers",
         "name": "MLP_label_by_dataset_gyafc_rewrites_random_human",
         "orientation": "v",
         "showlegend": true,
         "type": "scatter",
         "x": [
          14
         ],
         "xaxis": "x",
         "y": [
          0.35822078785327527
         ],
         "yaxis": "y"
        },
        {
         "customdata": [
          [
           15
          ]
         ],
         "hovertemplate": "category=MLP_label_reduced_by_dataset_gyafc_rewrites_random_human<br>MSE_Loss=%{y}<extra></extra>",
         "legendgroup": "MLP_label_reduced_by_dataset_gyafc_rewrites_random_human",
         "line": {
          "color": "#19d3f3",
          "dash": "solid"
         },
         "mode": "markers",
         "name": "MLP_label_reduced_by_dataset_gyafc_rewrites_random_human",
         "orientation": "v",
         "showlegend": true,
         "type": "scatter",
         "x": [
          15
         ],
         "xaxis": "x",
         "y": [
          0.0003577654257424512
         ],
         "yaxis": "y"
        },
        {
         "customdata": [
          [
           16
          ]
         ],
         "hovertemplate": "category=MLP_label_by_dataset_paralex_human<br>MSE_Loss=%{y}<extra></extra>",
         "legendgroup": "MLP_label_by_dataset_paralex_human",
         "line": {
          "color": "#FF6692",
          "dash": "solid"
         },
         "mode": "markers",
         "name": "MLP_label_by_dataset_paralex_human",
         "orientation": "v",
         "showlegend": true,
         "type": "scatter",
         "x": [
          16
         ],
         "xaxis": "x",
         "y": [
          0.0269611327700765
         ],
         "yaxis": "y"
        },
        {
         "customdata": [
          [
           17
          ]
         ],
         "hovertemplate": "category=MLP_label_reduced_by_dataset_paralex_human<br>MSE_Loss=%{y}<extra></extra>",
         "legendgroup": "MLP_label_reduced_by_dataset_paralex_human",
         "line": {
          "color": "#B6E880",
          "dash": "solid"
         },
         "mode": "markers",
         "name": "MLP_label_reduced_by_dataset_paralex_human",
         "orientation": "v",
         "showlegend": true,
         "type": "scatter",
         "x": [
          17
         ],
         "xaxis": "x",
         "y": [
          -0.028162860289747238
         ],
         "yaxis": "y"
        },
        {
         "customdata": [
          [
           18
          ]
         ],
         "hovertemplate": "category=MLP_label_by_dataset_paralex_random_human<br>MSE_Loss=%{y}<extra></extra>",
         "legendgroup": "MLP_label_by_dataset_paralex_random_human",
         "line": {
          "color": "#FF97FF",
          "dash": "solid"
         },
         "mode": "markers",
         "name": "MLP_label_by_dataset_paralex_random_human",
         "orientation": "v",
         "showlegend": true,
         "type": "scatter",
         "x": [
          18
         ],
         "xaxis": "x",
         "y": [
          0.37467493096027304
         ],
         "yaxis": "y"
        },
        {
         "customdata": [
          [
           19
          ]
         ],
         "hovertemplate": "category=MLP_label_reduced_by_dataset_paralex_random_human<br>MSE_Loss=%{y}<extra></extra>",
         "legendgroup": "MLP_label_reduced_by_dataset_paralex_random_human",
         "line": {
          "color": "#FECB52",
          "dash": "solid"
         },
         "mode": "markers",
         "name": "MLP_label_reduced_by_dataset_paralex_random_human",
         "orientation": "v",
         "showlegend": true,
         "type": "scatter",
         "x": [
          19
         ],
         "xaxis": "x",
         "y": [
          0.039451203578901084
         ],
         "yaxis": "y"
        },
        {
         "customdata": [
          [
           20
          ]
         ],
         "hovertemplate": "category=MLP_label_by_dataset_paraphrase_human<br>MSE_Loss=%{y}<extra></extra>",
         "legendgroup": "MLP_label_by_dataset_paraphrase_human",
         "line": {
          "color": "#636efa",
          "dash": "solid"
         },
         "mode": "markers",
         "name": "MLP_label_by_dataset_paraphrase_human",
         "orientation": "v",
         "showlegend": true,
         "type": "scatter",
         "x": [
          20
         ],
         "xaxis": "x",
         "y": [
          -0.2355998178697143
         ],
         "yaxis": "y"
        },
        {
         "customdata": [
          [
           21
          ]
         ],
         "hovertemplate": "category=MLP_label_reduced_by_dataset_paraphrase_human<br>MSE_Loss=%{y}<extra></extra>",
         "legendgroup": "MLP_label_reduced_by_dataset_paraphrase_human",
         "line": {
          "color": "#EF553B",
          "dash": "solid"
         },
         "mode": "markers",
         "name": "MLP_label_reduced_by_dataset_paraphrase_human",
         "orientation": "v",
         "showlegend": true,
         "type": "scatter",
         "x": [
          21
         ],
         "xaxis": "x",
         "y": [
          -0.07536656413950538
         ],
         "yaxis": "y"
        },
        {
         "customdata": [
          [
           22
          ]
         ],
         "hovertemplate": "category=MLP_label_by_dataset_paraphrase_random_human<br>MSE_Loss=%{y}<extra></extra>",
         "legendgroup": "MLP_label_by_dataset_paraphrase_random_human",
         "line": {
          "color": "#00cc96",
          "dash": "solid"
         },
         "mode": "markers",
         "name": "MLP_label_by_dataset_paraphrase_random_human",
         "orientation": "v",
         "showlegend": true,
         "type": "scatter",
         "x": [
          22
         ],
         "xaxis": "x",
         "y": [
          1.4942722992228785
         ],
         "yaxis": "y"
        },
        {
         "customdata": [
          [
           23
          ]
         ],
         "hovertemplate": "category=MLP_label_reduced_by_dataset_paraphrase_random_human<br>MSE_Loss=%{y}<extra></extra>",
         "legendgroup": "MLP_label_reduced_by_dataset_paraphrase_random_human",
         "line": {
          "color": "#ab63fa",
          "dash": "solid"
         },
         "mode": "markers",
         "name": "MLP_label_reduced_by_dataset_paraphrase_random_human",
         "orientation": "v",
         "showlegend": true,
         "type": "scatter",
         "x": [
          23
         ],
         "xaxis": "x",
         "y": [
          0.03135460191759981
         ],
         "yaxis": "y"
        },
        {
         "customdata": [
          [
           24
          ]
         ],
         "hovertemplate": "category=MLP_label_by_dataset_yelp_human<br>MSE_Loss=%{y}<extra></extra>",
         "legendgroup": "MLP_label_by_dataset_yelp_human",
         "line": {
          "color": "#FFA15A",
          "dash": "solid"
         },
         "mode": "markers",
         "name": "MLP_label_by_dataset_yelp_human",
         "orientation": "v",
         "showlegend": true,
         "type": "scatter",
         "x": [
          24
         ],
         "xaxis": "x",
         "y": [
          0.0868389938293117
         ],
         "yaxis": "y"
        },
        {
         "customdata": [
          [
           25
          ]
         ],
         "hovertemplate": "category=MLP_label_reduced_by_dataset_yelp_human<br>MSE_Loss=%{y}<extra></extra>",
         "legendgroup": "MLP_label_reduced_by_dataset_yelp_human",
         "line": {
          "color": "#19d3f3",
          "dash": "solid"
         },
         "mode": "markers",
         "name": "MLP_label_reduced_by_dataset_yelp_human",
         "orientation": "v",
         "showlegend": true,
         "type": "scatter",
         "x": [
          25
         ],
         "xaxis": "x",
         "y": [
          -0.03186205266339126
         ],
         "yaxis": "y"
        },
        {
         "customdata": [
          [
           26
          ]
         ],
         "hovertemplate": "category=MLP_label_by_dataset_yelp_random_human<br>MSE_Loss=%{y}<extra></extra>",
         "legendgroup": "MLP_label_by_dataset_yelp_random_human",
         "line": {
          "color": "#FF6692",
          "dash": "solid"
         },
         "mode": "markers",
         "name": "MLP_label_by_dataset_yelp_random_human",
         "orientation": "v",
         "showlegend": true,
         "type": "scatter",
         "x": [
          26
         ],
         "xaxis": "x",
         "y": [
          -0.27660804399493943
         ],
         "yaxis": "y"
        },
        {
         "customdata": [
          [
           27
          ]
         ],
         "hovertemplate": "category=MLP_label_reduced_by_dataset_yelp_random_human<br>MSE_Loss=%{y}<extra></extra>",
         "legendgroup": "MLP_label_reduced_by_dataset_yelp_random_human",
         "line": {
          "color": "#B6E880",
          "dash": "solid"
         },
         "mode": "markers",
         "name": "MLP_label_reduced_by_dataset_yelp_random_human",
         "orientation": "v",
         "showlegend": true,
         "type": "scatter",
         "x": [
          27
         ],
         "xaxis": "x",
         "y": [
          0.0031299150336380754
         ],
         "yaxis": "y"
        },
        {
         "customdata": [
          [
           28
          ]
         ],
         "hovertemplate": "category=MLP_label_by_random_0<br>MSE_Loss=%{y}<extra></extra>",
         "legendgroup": "MLP_label_by_random_0",
         "line": {
          "color": "#FF97FF",
          "dash": "solid"
         },
         "mode": "markers",
         "name": "MLP_label_by_random_0",
         "orientation": "v",
         "showlegend": true,
         "type": "scatter",
         "x": [
          28
         ],
         "xaxis": "x",
         "y": [
          0.0012164518860453555
         ],
         "yaxis": "y"
        },
        {
         "customdata": [
          [
           29
          ]
         ],
         "hovertemplate": "category=MLP_label_reduced_by_random_0<br>MSE_Loss=%{y}<extra></extra>",
         "legendgroup": "MLP_label_reduced_by_random_0",
         "line": {
          "color": "#FECB52",
          "dash": "solid"
         },
         "mode": "markers",
         "name": "MLP_label_reduced_by_random_0",
         "orientation": "v",
         "showlegend": true,
         "type": "scatter",
         "x": [
          29
         ],
         "xaxis": "x",
         "y": [
          0.005528859787613027
         ],
         "yaxis": "y"
        },
        {
         "customdata": [
          [
           30
          ]
         ],
         "hovertemplate": "category=MLP_label_by_random_1<br>MSE_Loss=%{y}<extra></extra>",
         "legendgroup": "MLP_label_by_random_1",
         "line": {
          "color": "#636efa",
          "dash": "solid"
         },
         "mode": "markers",
         "name": "MLP_label_by_random_1",
         "orientation": "v",
         "showlegend": true,
         "type": "scatter",
         "x": [
          30
         ],
         "xaxis": "x",
         "y": [
          0.0018314405013732937
         ],
         "yaxis": "y"
        },
        {
         "customdata": [
          [
           31
          ]
         ],
         "hovertemplate": "category=MLP_label_reduced_by_random_1<br>MSE_Loss=%{y}<extra></extra>",
         "legendgroup": "MLP_label_reduced_by_random_1",
         "line": {
          "color": "#EF553B",
          "dash": "solid"
         },
         "mode": "markers",
         "name": "MLP_label_reduced_by_random_1",
         "orientation": "v",
         "showlegend": true,
         "type": "scatter",
         "x": [
          31
         ],
         "xaxis": "x",
         "y": [
          0.002987213595869398
         ],
         "yaxis": "y"
        },
        {
         "customdata": [
          [
           32
          ]
         ],
         "hovertemplate": "category=MLP_label_by_radical_or_centralist_centralist<br>MSE_Loss=%{y}<extra></extra>",
         "legendgroup": "MLP_label_by_radical_or_centralist_centralist",
         "line": {
          "color": "#00cc96",
          "dash": "solid"
         },
         "mode": "markers",
         "name": "MLP_label_by_radical_or_centralist_centralist",
         "orientation": "v",
         "showlegend": true,
         "type": "scatter",
         "x": [
          32
         ],
         "xaxis": "x",
         "y": [
          0.22224416468686048
         ],
         "yaxis": "y"
        },
        {
         "customdata": [
          [
           33
          ]
         ],
         "hovertemplate": "category=MLP_label_reduced_by_radical_or_centralist_centralist<br>MSE_Loss=%{y}<extra></extra>",
         "legendgroup": "MLP_label_reduced_by_radical_or_centralist_centralist",
         "line": {
          "color": "#ab63fa",
          "dash": "solid"
         },
         "mode": "markers",
         "name": "MLP_label_reduced_by_radical_or_centralist_centralist",
         "orientation": "v",
         "showlegend": true,
         "type": "scatter",
         "x": [
          33
         ],
         "xaxis": "x",
         "y": [
          0.01231004532371649
         ],
         "yaxis": "y"
        },
        {
         "customdata": [
          [
           34
          ]
         ],
         "hovertemplate": "category=MLP_label_by_radical_or_centralist_neither<br>MSE_Loss=%{y}<extra></extra>",
         "legendgroup": "MLP_label_by_radical_or_centralist_neither",
         "line": {
          "color": "#FFA15A",
          "dash": "solid"
         },
         "mode": "markers",
         "name": "MLP_label_by_radical_or_centralist_neither",
         "orientation": "v",
         "showlegend": true,
         "type": "scatter",
         "x": [
          34
         ],
         "xaxis": "x",
         "y": [
          0.02456855195806318
         ],
         "yaxis": "y"
        },
        {
         "customdata": [
          [
           35
          ]
         ],
         "hovertemplate": "category=MLP_label_reduced_by_radical_or_centralist_neither<br>MSE_Loss=%{y}<extra></extra>",
         "legendgroup": "MLP_label_reduced_by_radical_or_centralist_neither",
         "line": {
          "color": "#19d3f3",
          "dash": "solid"
         },
         "mode": "markers",
         "name": "MLP_label_reduced_by_radical_or_centralist_neither",
         "orientation": "v",
         "showlegend": true,
         "type": "scatter",
         "x": [
          35
         ],
         "xaxis": "x",
         "y": [
          -0.010054289408227113
         ],
         "yaxis": "y"
        },
        {
         "customdata": [
          [
           36
          ]
         ],
         "hovertemplate": "category=MLP_label_by_radical_or_centralist_radical<br>MSE_Loss=%{y}<extra></extra>",
         "legendgroup": "MLP_label_by_radical_or_centralist_radical",
         "line": {
          "color": "#FF6692",
          "dash": "solid"
         },
         "mode": "markers",
         "name": "MLP_label_by_radical_or_centralist_radical",
         "orientation": "v",
         "showlegend": true,
         "type": "scatter",
         "x": [
          36
         ],
         "xaxis": "x",
         "y": [
          -0.15472245156162412
         ],
         "yaxis": "y"
        },
        {
         "customdata": [
          [
           37
          ]
         ],
         "hovertemplate": "category=MLP_label_reduced_by_radical_or_centralist_radical<br>MSE_Loss=%{y}<extra></extra>",
         "legendgroup": "MLP_label_reduced_by_radical_or_centralist_radical",
         "line": {
          "color": "#B6E880",
          "dash": "solid"
         },
         "mode": "markers",
         "name": "MLP_label_reduced_by_radical_or_centralist_radical",
         "orientation": "v",
         "showlegend": true,
         "type": "scatter",
         "x": [
          37
         ],
         "xaxis": "x",
         "y": [
          0.010817478268771885
         ],
         "yaxis": "y"
        },
        {
         "customdata": [
          [
           38
          ]
         ],
         "hovertemplate": "category=RF_label_combined<br>MSE_Loss=%{y}<extra></extra>",
         "legendgroup": "RF_label_combined",
         "line": {
          "color": "#FF97FF",
          "dash": "solid"
         },
         "mode": "markers",
         "name": "RF_label_combined",
         "orientation": "v",
         "showlegend": true,
         "type": "scatter",
         "x": [
          38
         ],
         "xaxis": "x",
         "y": [
          1.391293495085113
         ],
         "yaxis": "y"
        },
        {
         "customdata": [
          [
           39
          ]
         ],
         "hovertemplate": "category=RF_label_reduced_combined<br>MSE_Loss=%{y}<extra></extra>",
         "legendgroup": "RF_label_reduced_combined",
         "line": {
          "color": "#FECB52",
          "dash": "solid"
         },
         "mode": "markers",
         "name": "RF_label_reduced_combined",
         "orientation": "v",
         "showlegend": true,
         "type": "scatter",
         "x": [
          39
         ],
         "xaxis": "x",
         "y": [
          0.5299936666418015
         ],
         "yaxis": "y"
        }
       ],
       "layout": {
        "height": 600,
        "legend": {
         "title": {
          "text": "category"
         },
         "tracegroupgap": 0
        },
        "template": {
         "data": {
          "bar": [
           {
            "error_x": {
             "color": "#2a3f5f"
            },
            "error_y": {
             "color": "#2a3f5f"
            },
            "marker": {
             "line": {
              "color": "#E5ECF6",
              "width": 0.5
             }
            },
            "type": "bar"
           }
          ],
          "barpolar": [
           {
            "marker": {
             "line": {
              "color": "#E5ECF6",
              "width": 0.5
             }
            },
            "type": "barpolar"
           }
          ],
          "carpet": [
           {
            "aaxis": {
             "endlinecolor": "#2a3f5f",
             "gridcolor": "white",
             "linecolor": "white",
             "minorgridcolor": "white",
             "startlinecolor": "#2a3f5f"
            },
            "baxis": {
             "endlinecolor": "#2a3f5f",
             "gridcolor": "white",
             "linecolor": "white",
             "minorgridcolor": "white",
             "startlinecolor": "#2a3f5f"
            },
            "type": "carpet"
           }
          ],
          "choropleth": [
           {
            "colorbar": {
             "outlinewidth": 0,
             "ticks": ""
            },
            "type": "choropleth"
           }
          ],
          "contour": [
           {
            "colorbar": {
             "outlinewidth": 0,
             "ticks": ""
            },
            "colorscale": [
             [
              0,
              "#0d0887"
             ],
             [
              0.1111111111111111,
              "#46039f"
             ],
             [
              0.2222222222222222,
              "#7201a8"
             ],
             [
              0.3333333333333333,
              "#9c179e"
             ],
             [
              0.4444444444444444,
              "#bd3786"
             ],
             [
              0.5555555555555556,
              "#d8576b"
             ],
             [
              0.6666666666666666,
              "#ed7953"
             ],
             [
              0.7777777777777778,
              "#fb9f3a"
             ],
             [
              0.8888888888888888,
              "#fdca26"
             ],
             [
              1,
              "#f0f921"
             ]
            ],
            "type": "contour"
           }
          ],
          "contourcarpet": [
           {
            "colorbar": {
             "outlinewidth": 0,
             "ticks": ""
            },
            "type": "contourcarpet"
           }
          ],
          "heatmap": [
           {
            "colorbar": {
             "outlinewidth": 0,
             "ticks": ""
            },
            "colorscale": [
             [
              0,
              "#0d0887"
             ],
             [
              0.1111111111111111,
              "#46039f"
             ],
             [
              0.2222222222222222,
              "#7201a8"
             ],
             [
              0.3333333333333333,
              "#9c179e"
             ],
             [
              0.4444444444444444,
              "#bd3786"
             ],
             [
              0.5555555555555556,
              "#d8576b"
             ],
             [
              0.6666666666666666,
              "#ed7953"
             ],
             [
              0.7777777777777778,
              "#fb9f3a"
             ],
             [
              0.8888888888888888,
              "#fdca26"
             ],
             [
              1,
              "#f0f921"
             ]
            ],
            "type": "heatmap"
           }
          ],
          "heatmapgl": [
           {
            "colorbar": {
             "outlinewidth": 0,
             "ticks": ""
            },
            "colorscale": [
             [
              0,
              "#0d0887"
             ],
             [
              0.1111111111111111,
              "#46039f"
             ],
             [
              0.2222222222222222,
              "#7201a8"
             ],
             [
              0.3333333333333333,
              "#9c179e"
             ],
             [
              0.4444444444444444,
              "#bd3786"
             ],
             [
              0.5555555555555556,
              "#d8576b"
             ],
             [
              0.6666666666666666,
              "#ed7953"
             ],
             [
              0.7777777777777778,
              "#fb9f3a"
             ],
             [
              0.8888888888888888,
              "#fdca26"
             ],
             [
              1,
              "#f0f921"
             ]
            ],
            "type": "heatmapgl"
           }
          ],
          "histogram": [
           {
            "marker": {
             "colorbar": {
              "outlinewidth": 0,
              "ticks": ""
             }
            },
            "type": "histogram"
           }
          ],
          "histogram2d": [
           {
            "colorbar": {
             "outlinewidth": 0,
             "ticks": ""
            },
            "colorscale": [
             [
              0,
              "#0d0887"
             ],
             [
              0.1111111111111111,
              "#46039f"
             ],
             [
              0.2222222222222222,
              "#7201a8"
             ],
             [
              0.3333333333333333,
              "#9c179e"
             ],
             [
              0.4444444444444444,
              "#bd3786"
             ],
             [
              0.5555555555555556,
              "#d8576b"
             ],
             [
              0.6666666666666666,
              "#ed7953"
             ],
             [
              0.7777777777777778,
              "#fb9f3a"
             ],
             [
              0.8888888888888888,
              "#fdca26"
             ],
             [
              1,
              "#f0f921"
             ]
            ],
            "type": "histogram2d"
           }
          ],
          "histogram2dcontour": [
           {
            "colorbar": {
             "outlinewidth": 0,
             "ticks": ""
            },
            "colorscale": [
             [
              0,
              "#0d0887"
             ],
             [
              0.1111111111111111,
              "#46039f"
             ],
             [
              0.2222222222222222,
              "#7201a8"
             ],
             [
              0.3333333333333333,
              "#9c179e"
             ],
             [
              0.4444444444444444,
              "#bd3786"
             ],
             [
              0.5555555555555556,
              "#d8576b"
             ],
             [
              0.6666666666666666,
              "#ed7953"
             ],
             [
              0.7777777777777778,
              "#fb9f3a"
             ],
             [
              0.8888888888888888,
              "#fdca26"
             ],
             [
              1,
              "#f0f921"
             ]
            ],
            "type": "histogram2dcontour"
           }
          ],
          "mesh3d": [
           {
            "colorbar": {
             "outlinewidth": 0,
             "ticks": ""
            },
            "type": "mesh3d"
           }
          ],
          "parcoords": [
           {
            "line": {
             "colorbar": {
              "outlinewidth": 0,
              "ticks": ""
             }
            },
            "type": "parcoords"
           }
          ],
          "pie": [
           {
            "automargin": true,
            "type": "pie"
           }
          ],
          "scatter": [
           {
            "marker": {
             "colorbar": {
              "outlinewidth": 0,
              "ticks": ""
             }
            },
            "type": "scatter"
           }
          ],
          "scatter3d": [
           {
            "line": {
             "colorbar": {
              "outlinewidth": 0,
              "ticks": ""
             }
            },
            "marker": {
             "colorbar": {
              "outlinewidth": 0,
              "ticks": ""
             }
            },
            "type": "scatter3d"
           }
          ],
          "scattercarpet": [
           {
            "marker": {
             "colorbar": {
              "outlinewidth": 0,
              "ticks": ""
             }
            },
            "type": "scattercarpet"
           }
          ],
          "scattergeo": [
           {
            "marker": {
             "colorbar": {
              "outlinewidth": 0,
              "ticks": ""
             }
            },
            "type": "scattergeo"
           }
          ],
          "scattergl": [
           {
            "marker": {
             "colorbar": {
              "outlinewidth": 0,
              "ticks": ""
             }
            },
            "type": "scattergl"
           }
          ],
          "scattermapbox": [
           {
            "marker": {
             "colorbar": {
              "outlinewidth": 0,
              "ticks": ""
             }
            },
            "type": "scattermapbox"
           }
          ],
          "scatterpolar": [
           {
            "marker": {
             "colorbar": {
              "outlinewidth": 0,
              "ticks": ""
             }
            },
            "type": "scatterpolar"
           }
          ],
          "scatterpolargl": [
           {
            "marker": {
             "colorbar": {
              "outlinewidth": 0,
              "ticks": ""
             }
            },
            "type": "scatterpolargl"
           }
          ],
          "scatterternary": [
           {
            "marker": {
             "colorbar": {
              "outlinewidth": 0,
              "ticks": ""
             }
            },
            "type": "scatterternary"
           }
          ],
          "surface": [
           {
            "colorbar": {
             "outlinewidth": 0,
             "ticks": ""
            },
            "colorscale": [
             [
              0,
              "#0d0887"
             ],
             [
              0.1111111111111111,
              "#46039f"
             ],
             [
              0.2222222222222222,
              "#7201a8"
             ],
             [
              0.3333333333333333,
              "#9c179e"
             ],
             [
              0.4444444444444444,
              "#bd3786"
             ],
             [
              0.5555555555555556,
              "#d8576b"
             ],
             [
              0.6666666666666666,
              "#ed7953"
             ],
             [
              0.7777777777777778,
              "#fb9f3a"
             ],
             [
              0.8888888888888888,
              "#fdca26"
             ],
             [
              1,
              "#f0f921"
             ]
            ],
            "type": "surface"
           }
          ],
          "table": [
           {
            "cells": {
             "fill": {
              "color": "#EBF0F8"
             },
             "line": {
              "color": "white"
             }
            },
            "header": {
             "fill": {
              "color": "#C8D4E3"
             },
             "line": {
              "color": "white"
             }
            },
            "type": "table"
           }
          ]
         },
         "layout": {
          "annotationdefaults": {
           "arrowcolor": "#2a3f5f",
           "arrowhead": 0,
           "arrowwidth": 1
          },
          "coloraxis": {
           "colorbar": {
            "outlinewidth": 0,
            "ticks": ""
           }
          },
          "colorscale": {
           "diverging": [
            [
             0,
             "#8e0152"
            ],
            [
             0.1,
             "#c51b7d"
            ],
            [
             0.2,
             "#de77ae"
            ],
            [
             0.3,
             "#f1b6da"
            ],
            [
             0.4,
             "#fde0ef"
            ],
            [
             0.5,
             "#f7f7f7"
            ],
            [
             0.6,
             "#e6f5d0"
            ],
            [
             0.7,
             "#b8e186"
            ],
            [
             0.8,
             "#7fbc41"
            ],
            [
             0.9,
             "#4d9221"
            ],
            [
             1,
             "#276419"
            ]
           ],
           "sequential": [
            [
             0,
             "#0d0887"
            ],
            [
             0.1111111111111111,
             "#46039f"
            ],
            [
             0.2222222222222222,
             "#7201a8"
            ],
            [
             0.3333333333333333,
             "#9c179e"
            ],
            [
             0.4444444444444444,
             "#bd3786"
            ],
            [
             0.5555555555555556,
             "#d8576b"
            ],
            [
             0.6666666666666666,
             "#ed7953"
            ],
            [
             0.7777777777777778,
             "#fb9f3a"
            ],
            [
             0.8888888888888888,
             "#fdca26"
            ],
            [
             1,
             "#f0f921"
            ]
           ],
           "sequentialminus": [
            [
             0,
             "#0d0887"
            ],
            [
             0.1111111111111111,
             "#46039f"
            ],
            [
             0.2222222222222222,
             "#7201a8"
            ],
            [
             0.3333333333333333,
             "#9c179e"
            ],
            [
             0.4444444444444444,
             "#bd3786"
            ],
            [
             0.5555555555555556,
             "#d8576b"
            ],
            [
             0.6666666666666666,
             "#ed7953"
            ],
            [
             0.7777777777777778,
             "#fb9f3a"
            ],
            [
             0.8888888888888888,
             "#fdca26"
            ],
            [
             1,
             "#f0f921"
            ]
           ]
          },
          "colorway": [
           "#636efa",
           "#EF553B",
           "#00cc96",
           "#ab63fa",
           "#FFA15A",
           "#19d3f3",
           "#FF6692",
           "#B6E880",
           "#FF97FF",
           "#FECB52"
          ],
          "font": {
           "color": "#2a3f5f"
          },
          "geo": {
           "bgcolor": "white",
           "lakecolor": "white",
           "landcolor": "#E5ECF6",
           "showlakes": true,
           "showland": true,
           "subunitcolor": "white"
          },
          "hoverlabel": {
           "align": "left"
          },
          "hovermode": "closest",
          "mapbox": {
           "style": "light"
          },
          "paper_bgcolor": "white",
          "plot_bgcolor": "#E5ECF6",
          "polar": {
           "angularaxis": {
            "gridcolor": "white",
            "linecolor": "white",
            "ticks": ""
           },
           "bgcolor": "#E5ECF6",
           "radialaxis": {
            "gridcolor": "white",
            "linecolor": "white",
            "ticks": ""
           }
          },
          "scene": {
           "xaxis": {
            "backgroundcolor": "#E5ECF6",
            "gridcolor": "white",
            "gridwidth": 2,
            "linecolor": "white",
            "showbackground": true,
            "ticks": "",
            "zerolinecolor": "white"
           },
           "yaxis": {
            "backgroundcolor": "#E5ECF6",
            "gridcolor": "white",
            "gridwidth": 2,
            "linecolor": "white",
            "showbackground": true,
            "ticks": "",
            "zerolinecolor": "white"
           },
           "zaxis": {
            "backgroundcolor": "#E5ECF6",
            "gridcolor": "white",
            "gridwidth": 2,
            "linecolor": "white",
            "showbackground": true,
            "ticks": "",
            "zerolinecolor": "white"
           }
          },
          "shapedefaults": {
           "line": {
            "color": "#2a3f5f"
           }
          },
          "ternary": {
           "aaxis": {
            "gridcolor": "white",
            "linecolor": "white",
            "ticks": ""
           },
           "baxis": {
            "gridcolor": "white",
            "linecolor": "white",
            "ticks": ""
           },
           "bgcolor": "#E5ECF6",
           "caxis": {
            "gridcolor": "white",
            "linecolor": "white",
            "ticks": ""
           }
          },
          "title": {
           "x": 0.05
          },
          "xaxis": {
           "automargin": true,
           "gridcolor": "white",
           "linecolor": "white",
           "ticks": "",
           "title": {
            "standoff": 15
           },
           "zerolinecolor": "white",
           "zerolinewidth": 2
          },
          "yaxis": {
           "automargin": true,
           "gridcolor": "white",
           "linecolor": "white",
           "ticks": "",
           "title": {
            "standoff": 15
           },
           "zerolinecolor": "white",
           "zerolinewidth": 2
          }
         }
        },
        "title": {
         "text": "MSE Loss"
        },
        "width": 1200,
        "xaxis": {
         "anchor": "y",
         "domain": [
          0,
          1
         ],
         "title": {
          "text": "index"
         }
        },
        "yaxis": {
         "anchor": "x",
         "domain": [
          0,
          1
         ],
         "title": {
          "text": "MSE_Loss"
         }
        }
       }
      }
     },
     "metadata": {}
    }
   ],
   "source": [
    "comb_scores = mm.compare_score(list_ba, \"MLP\")\n",
    "visualize_score(comb_scores, \"Improvement of filtered dataset - MLP\")"
   ]
  }
 ]
}