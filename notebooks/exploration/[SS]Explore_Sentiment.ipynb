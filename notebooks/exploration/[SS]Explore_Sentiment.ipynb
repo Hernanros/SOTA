{
 "metadata": {
  "language_info": {
   "codemirror_mode": {
    "name": "ipython",
    "version": 3
   },
   "file_extension": ".py",
   "mimetype": "text/x-python",
   "name": "python",
   "nbconvert_exporter": "python",
   "pygments_lexer": "ipython3",
   "version": "3.6.9-final"
  },
  "orig_nbformat": 2,
  "kernelspec": {
   "name": "python36964bitvenvsotavenvd1cd1d8c20304d169b1d1dfb67d3e4a1",
   "display_name": "Python 3.6.9 64-bit ('venv_sota': venv)"
  }
 },
 "nbformat": 4,
 "nbformat_minor": 2,
 "cells": [
  {
   "cell_type": "code",
   "execution_count": 1,
   "metadata": {},
   "outputs": [],
   "source": [
    "import numpy as np\n",
    "import pandas as pd\n",
    "import matplotlib.pyplot as plt\n",
    "import seaborn as sns\n",
    "import os\n",
    "import glob\n",
    "from datetime import datetime\n",
    "import re\n",
    "from textblob import TextBlob\n",
    "from nltk.translate.bleu_score import sentence_bleu"
   ]
  },
  {
   "cell_type": "code",
   "execution_count": 2,
   "metadata": {},
   "outputs": [],
   "source": [
    "PATH_ROOT = \"/home/shaul/workspace/GitHub/SOTA/\""
   ]
  },
  {
   "cell_type": "code",
   "execution_count": 3,
   "metadata": {
    "tags": []
   },
   "outputs": [
    {
     "output_type": "stream",
     "name": "stdout",
     "text": "/home/shaul/workspace/GitHub/SOTA\n"
    }
   ],
   "source": [
    "cd {PATH_ROOT}"
   ]
  },
  {
   "cell_type": "code",
   "execution_count": 4,
   "metadata": {},
   "outputs": [],
   "source": [
    "for i, file in enumerate(glob.glob('data/raw_data/*.csv')):\n",
    "    if i==0:\n",
    "        df = pd.read_csv(file, index_col = 0)\n",
    "        df['dataset'] = file[5:-4].lower()\n",
    "    else:\n",
    "        temp = pd.read_csv(file, index_col = 0)\n",
    "        temp['dataset'] = file[5:-4].lower()\n",
    "        df = pd.concat((df,temp),axis = 0)\n",
    "df['random'] = df.dataset.apply(lambda x: 'random' in  x).astype(int)\n",
    "df['duration'] = pd.to_datetime(df.SubmitTime)-pd.to_datetime(df.AcceptTime)\n",
    "\n",
    "\n",
    "df = df.drop(['HITId','HITTypeId', 'Title', 'Description', 'Keywords',\n",
    "       'RequesterAnnotation', 'AssignmentDurationInSeconds', 'AssignmentId','AssignmentStatus','AcceptTime', 'SubmitTime','AutoApprovalTime', 'ApprovalTime', 'RejectionTime','RequesterFeedback', 'WorkTimeInSeconds', 'LifetimeApprovalRate','Last30DaysApprovalRate', 'Last7DaysApprovalRate','Approve', 'Reject'],axis = 1)\n",
    "\n",
    "df.columns = ['annotator', 'text1','text2','label','dataset','random','duration']\n",
    "\n",
    "df.label = df.label.apply(lambda x:x[0]).astype(int)\n",
    "\n",
    "df = df.reset_index()\n",
    "df['total_seconds'] = [int(df['duration'][i].total_seconds()) for i in range(df.shape[0])]\n",
    "df.drop(columns=\"index\",inplace=True)\n",
    "df.to_csv('data/combined_dataset.csv')"
   ]
  },
  {
   "cell_type": "code",
   "execution_count": 5,
   "metadata": {},
   "outputs": [],
   "source": [
    "df = pd.read_csv(\"data/combined_dataset.csv\")"
   ]
  },
  {
   "cell_type": "code",
   "execution_count": 6,
   "metadata": {},
   "outputs": [
    {
     "output_type": "execute_result",
     "data": {
      "text/plain": "   Unnamed: 0       annotator  \\\n0           0  A2V7RTBYCIY1CC   \n1           1  A2GZNOA5CIVKUB   \n2           2  A3TKUXUTDX6FBF   \n\n                                               text1  \\\n0  if he throw s you around , li ter ally , then ...   \n1  if he throw s you around , li ter ally , then ...   \n2  if he throw s you around , li ter ally , then ...   \n\n                             text2  label  \\\n0  ! we call them may day basket s      2   \n1  ! we call them may day basket s      3   \n2  ! we call them may day basket s      4   \n\n                                dataset  random                   duration  \\\n0  raw_data/gyafc_rewrites_random_human       1  0 days 00:06:45.000000000   \n1  raw_data/gyafc_rewrites_random_human       1  0 days 00:00:03.000000000   \n2  raw_data/gyafc_rewrites_random_human       1  0 days 00:00:11.000000000   \n\n   total_seconds  \n0            405  \n1              3  \n2             11  ",
      "text/html": "<div>\n<style scoped>\n    .dataframe tbody tr th:only-of-type {\n        vertical-align: middle;\n    }\n\n    .dataframe tbody tr th {\n        vertical-align: top;\n    }\n\n    .dataframe thead th {\n        text-align: right;\n    }\n</style>\n<table border=\"1\" class=\"dataframe\">\n  <thead>\n    <tr style=\"text-align: right;\">\n      <th></th>\n      <th>Unnamed: 0</th>\n      <th>annotator</th>\n      <th>text1</th>\n      <th>text2</th>\n      <th>label</th>\n      <th>dataset</th>\n      <th>random</th>\n      <th>duration</th>\n      <th>total_seconds</th>\n    </tr>\n  </thead>\n  <tbody>\n    <tr>\n      <th>0</th>\n      <td>0</td>\n      <td>A2V7RTBYCIY1CC</td>\n      <td>if he throw s you around , li ter ally , then ...</td>\n      <td>! we call them may day basket s</td>\n      <td>2</td>\n      <td>raw_data/gyafc_rewrites_random_human</td>\n      <td>1</td>\n      <td>0 days 00:06:45.000000000</td>\n      <td>405</td>\n    </tr>\n    <tr>\n      <th>1</th>\n      <td>1</td>\n      <td>A2GZNOA5CIVKUB</td>\n      <td>if he throw s you around , li ter ally , then ...</td>\n      <td>! we call them may day basket s</td>\n      <td>3</td>\n      <td>raw_data/gyafc_rewrites_random_human</td>\n      <td>1</td>\n      <td>0 days 00:00:03.000000000</td>\n      <td>3</td>\n    </tr>\n    <tr>\n      <th>2</th>\n      <td>2</td>\n      <td>A3TKUXUTDX6FBF</td>\n      <td>if he throw s you around , li ter ally , then ...</td>\n      <td>! we call them may day basket s</td>\n      <td>4</td>\n      <td>raw_data/gyafc_rewrites_random_human</td>\n      <td>1</td>\n      <td>0 days 00:00:11.000000000</td>\n      <td>11</td>\n    </tr>\n  </tbody>\n</table>\n</div>"
     },
     "metadata": {},
     "execution_count": 6
    }
   ],
   "source": [
    "df.head(3)"
   ]
  },
  {
   "cell_type": "markdown",
   "metadata": {},
   "source": [
    "Although I can just go straight to observe the difference between the (rudimentary approx. of) sentiment and the label score - it would be fair because the two sentences could also be semantically very different as well as be sentimentally diverging.\n",
    "\n",
    "Therefore to better observe the phenomenon, lets highlight cases which have a very high word-overlap and see in those cases when the sentiment is different if they score high or low."
   ]
  },
  {
   "cell_type": "code",
   "execution_count": 7,
   "metadata": {},
   "outputs": [],
   "source": [
    "df['sentiment_dif'] = abs(df.text1.apply(lambda x: TextBlob(x).sentiment.polarity)-df.text2.apply(lambda x: TextBlob(x).sentiment.polarity))"
   ]
  },
  {
   "cell_type": "code",
   "execution_count": 8,
   "metadata": {},
   "outputs": [
    {
     "output_type": "execute_result",
     "data": {
      "text/plain": "   Unnamed: 0       annotator  \\\n0           0  A2V7RTBYCIY1CC   \n1           1  A2GZNOA5CIVKUB   \n2           2  A3TKUXUTDX6FBF   \n\n                                               text1  \\\n0  if he throw s you around , li ter ally , then ...   \n1  if he throw s you around , li ter ally , then ...   \n2  if he throw s you around , li ter ally , then ...   \n\n                             text2  label  \\\n0  ! we call them may day basket s      2   \n1  ! we call them may day basket s      3   \n2  ! we call them may day basket s      4   \n\n                                dataset  random                   duration  \\\n0  raw_data/gyafc_rewrites_random_human       1  0 days 00:06:45.000000000   \n1  raw_data/gyafc_rewrites_random_human       1  0 days 00:00:03.000000000   \n2  raw_data/gyafc_rewrites_random_human       1  0 days 00:00:11.000000000   \n\n   total_seconds  sentiment_dif  \n0            405            0.0  \n1              3            0.0  \n2             11            0.0  ",
      "text/html": "<div>\n<style scoped>\n    .dataframe tbody tr th:only-of-type {\n        vertical-align: middle;\n    }\n\n    .dataframe tbody tr th {\n        vertical-align: top;\n    }\n\n    .dataframe thead th {\n        text-align: right;\n    }\n</style>\n<table border=\"1\" class=\"dataframe\">\n  <thead>\n    <tr style=\"text-align: right;\">\n      <th></th>\n      <th>Unnamed: 0</th>\n      <th>annotator</th>\n      <th>text1</th>\n      <th>text2</th>\n      <th>label</th>\n      <th>dataset</th>\n      <th>random</th>\n      <th>duration</th>\n      <th>total_seconds</th>\n      <th>sentiment_dif</th>\n    </tr>\n  </thead>\n  <tbody>\n    <tr>\n      <th>0</th>\n      <td>0</td>\n      <td>A2V7RTBYCIY1CC</td>\n      <td>if he throw s you around , li ter ally , then ...</td>\n      <td>! we call them may day basket s</td>\n      <td>2</td>\n      <td>raw_data/gyafc_rewrites_random_human</td>\n      <td>1</td>\n      <td>0 days 00:06:45.000000000</td>\n      <td>405</td>\n      <td>0.0</td>\n    </tr>\n    <tr>\n      <th>1</th>\n      <td>1</td>\n      <td>A2GZNOA5CIVKUB</td>\n      <td>if he throw s you around , li ter ally , then ...</td>\n      <td>! we call them may day basket s</td>\n      <td>3</td>\n      <td>raw_data/gyafc_rewrites_random_human</td>\n      <td>1</td>\n      <td>0 days 00:00:03.000000000</td>\n      <td>3</td>\n      <td>0.0</td>\n    </tr>\n    <tr>\n      <th>2</th>\n      <td>2</td>\n      <td>A3TKUXUTDX6FBF</td>\n      <td>if he throw s you around , li ter ally , then ...</td>\n      <td>! we call them may day basket s</td>\n      <td>4</td>\n      <td>raw_data/gyafc_rewrites_random_human</td>\n      <td>1</td>\n      <td>0 days 00:00:11.000000000</td>\n      <td>11</td>\n      <td>0.0</td>\n    </tr>\n  </tbody>\n</table>\n</div>"
     },
     "metadata": {},
     "execution_count": 8
    }
   ],
   "source": [
    "df.head(3)"
   ]
  },
  {
   "cell_type": "code",
   "execution_count": 9,
   "metadata": {
    "tags": []
   },
   "outputs": [],
   "source": [
    "pairs = []\n",
    "for index, row in df.iterrows():\n",
    "    first_sentence_tokens = row['text1'].strip().split()\n",
    "    second_sentence_tokens = row['text2'].strip().split()\n",
    "    pairs.append((first_sentence_tokens, second_sentence_tokens))"
   ]
  },
  {
   "cell_type": "code",
   "execution_count": 10,
   "metadata": {
    "tags": []
   },
   "outputs": [
    {
     "output_type": "stream",
     "name": "stdout",
     "text": "0.08892479824498775\n0.19533510418693692\n0.30581196288031903\n0.2615081970765116\n"
    }
   ],
   "source": [
    "scores_bleu = []\n",
    "scores_bleu1 = []\n",
    "for first_sentence_tokens, second_sentence_tokens in pairs:\n",
    "    score_bleu = sentence_bleu([first_sentence_tokens], second_sentence_tokens)\n",
    "    scores_bleu.append(score_bleu)\n",
    "\n",
    "    score_bleu1 = sentence_bleu([first_sentence_tokens], second_sentence_tokens, weights=(1, 0, 0, 0))\n",
    "    scores_bleu1.append(score_bleu1)\n",
    "\n",
    "\n",
    "print(np.mean(scores_bleu))\n",
    "print(np.std(scores_bleu))\n",
    "\n",
    "print(np.mean(scores_bleu1))\n",
    "print(np.std(scores_bleu1))"
   ]
  },
  {
   "cell_type": "code",
   "execution_count": 11,
   "metadata": {},
   "outputs": [],
   "source": [
    "df['bleu_score'] = scores_bleu\n",
    "df['bleu_score_1'] = scores_bleu1"
   ]
  },
  {
   "cell_type": "code",
   "execution_count": 13,
   "metadata": {},
   "outputs": [
    {
     "output_type": "execute_result",
     "data": {
      "text/plain": "   Unnamed: 0       annotator  \\\n0           0  A2V7RTBYCIY1CC   \n1           1  A2GZNOA5CIVKUB   \n2           2  A3TKUXUTDX6FBF   \n3           3  A1SK0GV4SSOH1A   \n4           4  A1U9XC376J6ZQ2   \n\n                                               text1  \\\n0  if he throw s you around , li ter ally , then ...   \n1  if he throw s you around , li ter ally , then ...   \n2  if he throw s you around , li ter ally , then ...   \n3  of course , i have also seen brilliant women w...   \n4  of course , i have also seen brilliant women w...   \n\n                                               text2  label  \\\n0                    ! we call them may day basket s      2   \n1                    ! we call them may day basket s      3   \n2                    ! we call them may day basket s      4   \n3  :) anyways , you ask what love is blind really...      3   \n4  :) anyways , you ask what love is blind really...      3   \n\n                                dataset  random                   duration  \\\n0  raw_data/gyafc_rewrites_random_human       1  0 days 00:06:45.000000000   \n1  raw_data/gyafc_rewrites_random_human       1  0 days 00:00:03.000000000   \n2  raw_data/gyafc_rewrites_random_human       1  0 days 00:00:11.000000000   \n3  raw_data/gyafc_rewrites_random_human       1  0 days 00:00:05.000000000   \n4  raw_data/gyafc_rewrites_random_human       1  0 days 00:00:10.000000000   \n\n   total_seconds  sentiment_dif     bleu_score  bleu_score_1  \n0            405          0.000  3.103614e-232      0.035813  \n1              3          0.000  3.103614e-232      0.035813  \n2             11          0.000  3.103614e-232      0.035813  \n3              5          0.825  5.976417e-232      0.085570  \n4             10          0.825  5.976417e-232      0.085570  ",
      "text/html": "<div>\n<style scoped>\n    .dataframe tbody tr th:only-of-type {\n        vertical-align: middle;\n    }\n\n    .dataframe tbody tr th {\n        vertical-align: top;\n    }\n\n    .dataframe thead th {\n        text-align: right;\n    }\n</style>\n<table border=\"1\" class=\"dataframe\">\n  <thead>\n    <tr style=\"text-align: right;\">\n      <th></th>\n      <th>Unnamed: 0</th>\n      <th>annotator</th>\n      <th>text1</th>\n      <th>text2</th>\n      <th>label</th>\n      <th>dataset</th>\n      <th>random</th>\n      <th>duration</th>\n      <th>total_seconds</th>\n      <th>sentiment_dif</th>\n      <th>bleu_score</th>\n      <th>bleu_score_1</th>\n    </tr>\n  </thead>\n  <tbody>\n    <tr>\n      <th>0</th>\n      <td>0</td>\n      <td>A2V7RTBYCIY1CC</td>\n      <td>if he throw s you around , li ter ally , then ...</td>\n      <td>! we call them may day basket s</td>\n      <td>2</td>\n      <td>raw_data/gyafc_rewrites_random_human</td>\n      <td>1</td>\n      <td>0 days 00:06:45.000000000</td>\n      <td>405</td>\n      <td>0.000</td>\n      <td>3.103614e-232</td>\n      <td>0.035813</td>\n    </tr>\n    <tr>\n      <th>1</th>\n      <td>1</td>\n      <td>A2GZNOA5CIVKUB</td>\n      <td>if he throw s you around , li ter ally , then ...</td>\n      <td>! we call them may day basket s</td>\n      <td>3</td>\n      <td>raw_data/gyafc_rewrites_random_human</td>\n      <td>1</td>\n      <td>0 days 00:00:03.000000000</td>\n      <td>3</td>\n      <td>0.000</td>\n      <td>3.103614e-232</td>\n      <td>0.035813</td>\n    </tr>\n    <tr>\n      <th>2</th>\n      <td>2</td>\n      <td>A3TKUXUTDX6FBF</td>\n      <td>if he throw s you around , li ter ally , then ...</td>\n      <td>! we call them may day basket s</td>\n      <td>4</td>\n      <td>raw_data/gyafc_rewrites_random_human</td>\n      <td>1</td>\n      <td>0 days 00:00:11.000000000</td>\n      <td>11</td>\n      <td>0.000</td>\n      <td>3.103614e-232</td>\n      <td>0.035813</td>\n    </tr>\n    <tr>\n      <th>3</th>\n      <td>3</td>\n      <td>A1SK0GV4SSOH1A</td>\n      <td>of course , i have also seen brilliant women w...</td>\n      <td>:) anyways , you ask what love is blind really...</td>\n      <td>3</td>\n      <td>raw_data/gyafc_rewrites_random_human</td>\n      <td>1</td>\n      <td>0 days 00:00:05.000000000</td>\n      <td>5</td>\n      <td>0.825</td>\n      <td>5.976417e-232</td>\n      <td>0.085570</td>\n    </tr>\n    <tr>\n      <th>4</th>\n      <td>4</td>\n      <td>A1U9XC376J6ZQ2</td>\n      <td>of course , i have also seen brilliant women w...</td>\n      <td>:) anyways , you ask what love is blind really...</td>\n      <td>3</td>\n      <td>raw_data/gyafc_rewrites_random_human</td>\n      <td>1</td>\n      <td>0 days 00:00:10.000000000</td>\n      <td>10</td>\n      <td>0.825</td>\n      <td>5.976417e-232</td>\n      <td>0.085570</td>\n    </tr>\n  </tbody>\n</table>\n</div>"
     },
     "metadata": {},
     "execution_count": 13
    }
   ],
   "source": [
    "df.head(5)"
   ]
  }
 ]
}