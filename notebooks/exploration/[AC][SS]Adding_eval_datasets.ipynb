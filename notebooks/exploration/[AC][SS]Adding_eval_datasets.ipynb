{
 "metadata": {
  "language_info": {
   "codemirror_mode": {
    "name": "ipython",
    "version": 3
   },
   "file_extension": ".py",
   "mimetype": "text/x-python",
   "name": "python",
   "nbconvert_exporter": "python",
   "pygments_lexer": "ipython3",
   "version": "3.6.9-final"
  },
  "orig_nbformat": 2,
  "kernelspec": {
   "name": "python36964bitea4ac4decffd43fbb15ec47e3f649e63",
   "display_name": "Python 3.6.9 64-bit"
  }
 },
 "nbformat": 4,
 "nbformat_minor": 2,
 "cells": [
  {
   "cell_type": "code",
   "execution_count": 1,
   "metadata": {},
   "outputs": [],
   "source": [
    "%load_ext autoreload\n",
    "%autoreload 2"
   ]
  },
  {
   "cell_type": "code",
   "execution_count": 25,
   "metadata": {},
   "outputs": [],
   "source": [
    "import os\n",
    "import glob\n",
    "import pandas as pd\n",
    "import numpy as np\n",
    "import sys\n",
    "import re"
   ]
  },
  {
   "source": [
    "## STS"
   ],
   "cell_type": "markdown",
   "metadata": {}
  },
  {
   "cell_type": "code",
   "execution_count": 4,
   "metadata": {},
   "outputs": [],
   "source": [
    "STS_PATH = '/home/shaul/workspace/GitHub/SOTA/data/eval_data/stsbenchmark'"
   ]
  },
  {
   "cell_type": "code",
   "execution_count": null,
   "metadata": {},
   "outputs": [],
   "source": [
    "def load_sts_data(path):\n",
    "    \"\"\"\n",
    "    Load STS benchmark data. - from the Github sourcecode\n",
    "    \"\"\"\n",
    "    genres, sent1, sent2, labels, scores = [], [], [], [], []\n",
    "    for line in open(path):\n",
    "        genre = line.split('\\t')[0].strip()\n",
    "        filename = line.split('\\t')[1].strip()\n",
    "        year = line.split('\\t')[2].strip()\n",
    "        other = line.split('\\t')[3].strip()\n",
    "        score = line.split('\\t')[4].strip()\n",
    "        s1 = line.split('\\t')[5].strip()\n",
    "        s2 = line.split('\\t')[6].strip()\n",
    "        label = float(score)\n",
    "        genres.append(genre)\n",
    "        sent1.append(s1)\n",
    "        sent2.append(s2)\n",
    "        labels.append(label)\n",
    "        scores.append(score)\n",
    "    labels = (np.asarray(labels)).flatten()\n",
    "\n",
    "    #include which category (train/dev/test) as column for future reference\n",
    "    dataset_categ = [os.path.split(path)[1].replace(\".csv\",\"\")] * len(labels)\n",
    "    dataset = ['sts'] * len(labels)\n",
    "\n",
    "    return pd.DataFrame({'genres':genres,'text_1':sent1,'text_2':sent2,'label':labels,'scores':scores, 'dataset': dataset, 'dataset-categ': dataset_categ})"
   ]
  },
  {
   "cell_type": "code",
   "execution_count": 35,
   "metadata": {},
   "outputs": [],
   "source": [
    "dfs = []\n",
    "for files in glob.glob(STS_PATH + \"/\" + \"*.csv\" ):\n",
    "   dfs.append(load_sts_data(files))\n",
    "dfs = pd.concat(dfs)"
   ]
  },
  {
   "cell_type": "code",
   "execution_count": 37,
   "metadata": {},
   "outputs": [],
   "source": [
    "dfs.to_csv(os.path.join(STS_PATH,\"sts.csv\"))"
   ]
  },
  {
   "cell_type": "code",
   "execution_count": null,
   "metadata": {},
   "outputs": [],
   "source": []
  }
 ]
}