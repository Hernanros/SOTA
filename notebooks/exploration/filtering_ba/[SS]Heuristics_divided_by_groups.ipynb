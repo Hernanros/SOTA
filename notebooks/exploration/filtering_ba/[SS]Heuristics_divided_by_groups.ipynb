{
 "metadata": {
  "language_info": {
   "codemirror_mode": {
    "name": "ipython",
    "version": 3
   },
   "file_extension": ".py",
   "mimetype": "text/x-python",
   "name": "python",
   "nbconvert_exporter": "python",
   "pygments_lexer": "ipython3",
   "version": "3.6.9-final"
  },
  "orig_nbformat": 2,
  "kernelspec": {
   "name": "python36964bitvenvsota631bf493a94048f6adef3c5759034018",
   "display_name": "Python 3.6.9 64-bit ('venv_sota')",
   "language": "python"
  }
 },
 "nbformat": 4,
 "nbformat_minor": 2,
 "cells": [
  {
   "cell_type": "code",
   "execution_count": 1,
   "metadata": {},
   "outputs": [],
   "source": [
    "%load_ext autoreload\n",
    "%autoreload 2"
   ]
  },
  {
   "cell_type": "code",
   "execution_count": 2,
   "metadata": {},
   "outputs": [
    {
     "output_type": "error",
     "ename": "SyntaxError",
     "evalue": "invalid syntax (<ipython-input-2-edc17d07377e>, line 9)",
     "traceback": [
      "\u001b[0;36m  File \u001b[0;32m\"<ipython-input-2-edc17d07377e>\"\u001b[0;36m, line \u001b[0;32m9\u001b[0m\n\u001b[0;31m    from scipy import statsbaseline_correlation =\u001b[0m\n\u001b[0m                                                ^\u001b[0m\n\u001b[0;31mSyntaxError\u001b[0m\u001b[0;31m:\u001b[0m invalid syntax\n"
     ]
    }
   ],
   "source": [
    "import numpy as np\n",
    "import pandas as pd\n",
    "import matplotlib.pyplot as plt\n",
    "import seaborn as sns\n",
    "import os\n",
    "from pathlib import Path\n",
    "import pickle\n",
    "import itertools\n",
    "from scipy import statsbaseline_correlation = "
   ]
  },
  {
   "cell_type": "code",
   "execution_count": 3,
   "metadata": {},
   "outputs": [],
   "source": [
    "MODULE_PATH = Path(os.getcwd()).parents[2]. resolve()"
   ]
  },
  {
   "cell_type": "code",
   "execution_count": 4,
   "metadata": {},
   "outputs": [
    {
     "output_type": "stream",
     "name": "stdout",
     "text": [
      "/home/shaul/workspace/GitHub/SOTA\n"
     ]
    }
   ],
   "source": [
    "cd{MODULE_PATH}"
   ]
  },
  {
   "cell_type": "code",
   "execution_count": 5,
   "metadata": {},
   "outputs": [],
   "source": [
    "from src import filtering_correlation"
   ]
  },
  {
   "cell_type": "code",
   "execution_count": 6,
   "metadata": {},
   "outputs": [],
   "source": [
    "sweep_path = \"filtering_heuristic_sweeps.csv\"\n",
    "\n",
    "path_combined = 'combined_dataset.csv'\n",
    "path_sts = 'sts.csv'\n",
    "path_qqp = 'qqp.csv'\n",
    "path_sample_qqp = 'sample_qqp.csv'\n",
    "\n",
    "PATH_DATA = MODULE_PATH / 'data'\n",
    "PATH_COMBINED = PATH_DATA / 'datasets' / path_combined\n",
    "PATH_STS = PATH_DATA / 'datasets' / path_sts\n",
    "PATH_SAMPLE_QQP = PATH_DATA / 'datasets' / path_sample_qqp\n",
    "PATH_REPORTS = PATH_DATA / 'reports.isna()'"
   ]
  },
  {
   "cell_type": "code",
   "execution_count": 7,
   "metadata": {},
   "outputs": [],
   "source": [
    "combined_path = \"combined_ba.pickle\"\n",
    "\n",
    "with open(MODULE_PATH / 'data' / 'bad_annotators' / combined_path, 'rb') as f:\n",
    "    combined_ba = pickle.load(f)\n",
    "df_combined = pd.read_csv(PATH_COMBINED, index_col=0)"
   ]
  },
  {
   "source": [
    "## Looking at the correlation on the entire dataset"
   ],
   "cell_type": "markdown",
   "metadata": {}
  },
  {
   "cell_type": "code",
   "execution_count": 37,
   "metadata": {},
   "outputs": [
    {
     "output_type": "execute_result",
     "data": {
      "text/plain": [
       "                    label\n",
       "ROUGE-1          0.609100\n",
       "bleu1            0.602646\n",
       "ROUGE-l          0.601263\n",
       "BertScore        0.592847\n",
       "1-gram_overlap   0.589430\n",
       "chrfScore        0.583801\n",
       "L2_score         0.562731\n",
       "ROUGE-2          0.531277\n",
       "fasttext_cosine  0.509271\n",
       "WMD              0.498807\n",
       "glove_cosine     0.453841\n",
       "bleu             0.411319\n",
       "POS Dist score   0.351291"
      ],
      "text/html": "<div>\n<style scoped>\n    .dataframe tbody tr th:only-of-type {\n        vertical-align: middle;\n    }\n\n    .dataframe tbody tr th {\n        vertical-align: top;\n    }\n\n    .dataframe thead th {\n        text-align: right;\n    }\n</style>\n<table border=\"1\" class=\"dataframe\">\n  <thead>\n    <tr style=\"text-align: right;\">\n      <th></th>\n      <th>label</th>\n    </tr>\n  </thead>\n  <tbody>\n    <tr>\n      <th>ROUGE-1</th>\n      <td>0.609100</td>\n    </tr>\n    <tr>\n      <th>bleu1</th>\n      <td>0.602646</td>\n    </tr>\n    <tr>\n      <th>ROUGE-l</th>\n      <td>0.601263</td>\n    </tr>\n    <tr>\n      <th>BertScore</th>\n      <td>0.592847</td>\n    </tr>\n    <tr>\n      <th>1-gram_overlap</th>\n      <td>0.589430</td>\n    </tr>\n    <tr>\n      <th>chrfScore</th>\n      <td>0.583801</td>\n    </tr>\n    <tr>\n      <th>L2_score</th>\n      <td>0.562731</td>\n    </tr>\n    <tr>\n      <th>ROUGE-2</th>\n      <td>0.531277</td>\n    </tr>\n    <tr>\n      <th>fasttext_cosine</th>\n      <td>0.509271</td>\n    </tr>\n    <tr>\n      <th>WMD</th>\n      <td>0.498807</td>\n    </tr>\n    <tr>\n      <th>glove_cosine</th>\n      <td>0.453841</td>\n    </tr>\n    <tr>\n      <th>bleu</th>\n      <td>0.411319</td>\n    </tr>\n    <tr>\n      <th>POS Dist score</th>\n      <td>0.351291</td>\n    </tr>\n  </tbody>\n</table>\n</div>"
     },
     "metadata": {},
     "execution_count": 37
    }
   ],
   "source": [
    "filtering_correlation.get_baseline_correlation(df_combined)"
   ]
  },
  {
   "cell_type": "code",
   "execution_count": 9,
   "metadata": {},
   "outputs": [
    {
     "output_type": "display_data",
     "data": {
      "text/plain": "<Figure size 432x288 with 1 Axes>",
      "image/svg+xml": "<?xml version=\"1.0\" encoding=\"utf-8\" standalone=\"no\"?>\n<!DOCTYPE svg PUBLIC \"-//W3C//DTD SVG 1.1//EN\"\n  \"http://www.w3.org/Graphics/SVG/1.1/DTD/svg11.dtd\">\n<!-- Created with matplotlib (https://matplotlib.org/) -->\n<svg height=\"248.518125pt\" version=\"1.1\" viewBox=\"0 0 378.465625 248.518125\" width=\"378.465625pt\" xmlns=\"http://www.w3.org/2000/svg\" xmlns:xlink=\"http://www.w3.org/1999/xlink\">\n <defs>\n  <style type=\"text/css\">\n*{stroke-linecap:butt;stroke-linejoin:round;}\n  </style>\n </defs>\n <g id=\"figure_1\">\n  <g id=\"patch_1\">\n   <path d=\"M 0 248.518125 \nL 378.465625 248.518125 \nL 378.465625 0 \nL 0 0 \nz\n\" style=\"fill:none;\"/>\n  </g>\n  <g id=\"axes_1\">\n   <g id=\"patch_2\">\n    <path d=\"M 36.465625 224.64 \nL 371.265625 224.64 \nL 371.265625 7.2 \nL 36.465625 7.2 \nz\n\" style=\"fill:#ffffff;\"/>\n   </g>\n   <g id=\"patch_3\">\n    <path clip-path=\"url(#p9f7d95e76a)\" d=\"M 118.09647 224.64 \nL 152.404132 224.64 \nL 152.404132 162.514286 \nL 118.09647 162.514286 \nz\n\" style=\"fill:#1f77b4;opacity:0.4;\"/>\n   </g>\n   <g id=\"patch_4\">\n    <path clip-path=\"url(#p9f7d95e76a)\" d=\"M 152.404132 224.64 \nL 186.711794 224.64 \nL 186.711794 100.388571 \nL 152.404132 100.388571 \nz\n\" style=\"fill:#1f77b4;opacity:0.4;\"/>\n   </g>\n   <g id=\"patch_5\">\n    <path clip-path=\"url(#p9f7d95e76a)\" d=\"M 186.711794 224.64 \nL 221.019456 224.64 \nL 221.019456 152.16 \nL 186.711794 152.16 \nz\n\" style=\"fill:#1f77b4;opacity:0.4;\"/>\n   </g>\n   <g id=\"patch_6\">\n    <path clip-path=\"url(#p9f7d95e76a)\" d=\"M 221.019456 224.64 \nL 255.327118 224.64 \nL 255.327118 38.262857 \nL 221.019456 38.262857 \nz\n\" style=\"fill:#1f77b4;opacity:0.4;\"/>\n   </g>\n   <g id=\"patch_7\">\n    <path clip-path=\"url(#p9f7d95e76a)\" d=\"M 255.327118 224.64 \nL 289.63478 224.64 \nL 289.63478 17.554286 \nL 255.327118 17.554286 \nz\n\" style=\"fill:#1f77b4;opacity:0.4;\"/>\n   </g>\n   <g id=\"matplotlib.axis_1\">\n    <g id=\"xtick_1\">\n     <g id=\"line2d_1\">\n      <defs>\n       <path d=\"M 0 0 \nL 0 3.5 \n\" id=\"m9d21d9d245\" style=\"stroke:#000000;stroke-width:0.8;\"/>\n      </defs>\n      <g>\n       <use style=\"stroke:#000000;stroke-width:0.8;\" x=\"57.808505\" xlink:href=\"#m9d21d9d245\" y=\"224.64\"/>\n      </g>\n     </g>\n     <g id=\"text_1\">\n      <!-- −20 -->\n      <defs>\n       <path d=\"M 10.59375 35.5 \nL 73.1875 35.5 \nL 73.1875 27.203125 \nL 10.59375 27.203125 \nz\n\" id=\"DejaVuSans-8722\"/>\n       <path d=\"M 19.1875 8.296875 \nL 53.609375 8.296875 \nL 53.609375 0 \nL 7.328125 0 \nL 7.328125 8.296875 \nQ 12.9375 14.109375 22.625 23.890625 \nQ 32.328125 33.6875 34.8125 36.53125 \nQ 39.546875 41.84375 41.421875 45.53125 \nQ 43.3125 49.21875 43.3125 52.78125 \nQ 43.3125 58.59375 39.234375 62.25 \nQ 35.15625 65.921875 28.609375 65.921875 \nQ 23.96875 65.921875 18.8125 64.3125 \nQ 13.671875 62.703125 7.8125 59.421875 \nL 7.8125 69.390625 \nQ 13.765625 71.78125 18.9375 73 \nQ 24.125 74.21875 28.421875 74.21875 \nQ 39.75 74.21875 46.484375 68.546875 \nQ 53.21875 62.890625 53.21875 53.421875 \nQ 53.21875 48.921875 51.53125 44.890625 \nQ 49.859375 40.875 45.40625 35.40625 \nQ 44.1875 33.984375 37.640625 27.21875 \nQ 31.109375 20.453125 19.1875 8.296875 \nz\n\" id=\"DejaVuSans-50\"/>\n       <path d=\"M 31.78125 66.40625 \nQ 24.171875 66.40625 20.328125 58.90625 \nQ 16.5 51.421875 16.5 36.375 \nQ 16.5 21.390625 20.328125 13.890625 \nQ 24.171875 6.390625 31.78125 6.390625 \nQ 39.453125 6.390625 43.28125 13.890625 \nQ 47.125 21.390625 47.125 36.375 \nQ 47.125 51.421875 43.28125 58.90625 \nQ 39.453125 66.40625 31.78125 66.40625 \nz\nM 31.78125 74.21875 \nQ 44.046875 74.21875 50.515625 64.515625 \nQ 56.984375 54.828125 56.984375 36.375 \nQ 56.984375 17.96875 50.515625 8.265625 \nQ 44.046875 -1.421875 31.78125 -1.421875 \nQ 19.53125 -1.421875 13.0625 8.265625 \nQ 6.59375 17.96875 6.59375 36.375 \nQ 6.59375 54.828125 13.0625 64.515625 \nQ 19.53125 74.21875 31.78125 74.21875 \nz\n\" id=\"DejaVuSans-48\"/>\n      </defs>\n      <g transform=\"translate(47.256161 239.238437)scale(0.1 -0.1)\">\n       <use xlink:href=\"#DejaVuSans-8722\"/>\n       <use x=\"83.789062\" xlink:href=\"#DejaVuSans-50\"/>\n       <use x=\"147.412109\" xlink:href=\"#DejaVuSans-48\"/>\n      </g>\n     </g>\n    </g>\n    <g id=\"xtick_2\">\n     <g id=\"line2d_2\">\n      <g>\n       <use style=\"stroke:#000000;stroke-width:0.8;\" x=\"96.161129\" xlink:href=\"#m9d21d9d245\" y=\"224.64\"/>\n      </g>\n     </g>\n     <g id=\"text_2\">\n      <!-- −15 -->\n      <defs>\n       <path d=\"M 12.40625 8.296875 \nL 28.515625 8.296875 \nL 28.515625 63.921875 \nL 10.984375 60.40625 \nL 10.984375 69.390625 \nL 28.421875 72.90625 \nL 38.28125 72.90625 \nL 38.28125 8.296875 \nL 54.390625 8.296875 \nL 54.390625 0 \nL 12.40625 0 \nz\n\" id=\"DejaVuSans-49\"/>\n       <path d=\"M 10.796875 72.90625 \nL 49.515625 72.90625 \nL 49.515625 64.59375 \nL 19.828125 64.59375 \nL 19.828125 46.734375 \nQ 21.96875 47.46875 24.109375 47.828125 \nQ 26.265625 48.1875 28.421875 48.1875 \nQ 40.625 48.1875 47.75 41.5 \nQ 54.890625 34.8125 54.890625 23.390625 \nQ 54.890625 11.625 47.5625 5.09375 \nQ 40.234375 -1.421875 26.90625 -1.421875 \nQ 22.3125 -1.421875 17.546875 -0.640625 \nQ 12.796875 0.140625 7.71875 1.703125 \nL 7.71875 11.625 \nQ 12.109375 9.234375 16.796875 8.0625 \nQ 21.484375 6.890625 26.703125 6.890625 \nQ 35.15625 6.890625 40.078125 11.328125 \nQ 45.015625 15.765625 45.015625 23.390625 \nQ 45.015625 31 40.078125 35.4375 \nQ 35.15625 39.890625 26.703125 39.890625 \nQ 22.75 39.890625 18.8125 39.015625 \nQ 14.890625 38.140625 10.796875 36.28125 \nz\n\" id=\"DejaVuSans-53\"/>\n      </defs>\n      <g transform=\"translate(85.608785 239.238437)scale(0.1 -0.1)\">\n       <use xlink:href=\"#DejaVuSans-8722\"/>\n       <use x=\"83.789062\" xlink:href=\"#DejaVuSans-49\"/>\n       <use x=\"147.412109\" xlink:href=\"#DejaVuSans-53\"/>\n      </g>\n     </g>\n    </g>\n    <g id=\"xtick_3\">\n     <g id=\"line2d_3\">\n      <g>\n       <use style=\"stroke:#000000;stroke-width:0.8;\" x=\"134.513754\" xlink:href=\"#m9d21d9d245\" y=\"224.64\"/>\n      </g>\n     </g>\n     <g id=\"text_3\">\n      <!-- −10 -->\n      <g transform=\"translate(123.96141 239.238437)scale(0.1 -0.1)\">\n       <use xlink:href=\"#DejaVuSans-8722\"/>\n       <use x=\"83.789062\" xlink:href=\"#DejaVuSans-49\"/>\n       <use x=\"147.412109\" xlink:href=\"#DejaVuSans-48\"/>\n      </g>\n     </g>\n    </g>\n    <g id=\"xtick_4\">\n     <g id=\"line2d_4\">\n      <g>\n       <use style=\"stroke:#000000;stroke-width:0.8;\" x=\"172.866379\" xlink:href=\"#m9d21d9d245\" y=\"224.64\"/>\n      </g>\n     </g>\n     <g id=\"text_4\">\n      <!-- −5 -->\n      <g transform=\"translate(165.495285 239.238437)scale(0.1 -0.1)\">\n       <use xlink:href=\"#DejaVuSans-8722\"/>\n       <use x=\"83.789062\" xlink:href=\"#DejaVuSans-53\"/>\n      </g>\n     </g>\n    </g>\n    <g id=\"xtick_5\">\n     <g id=\"line2d_5\">\n      <g>\n       <use style=\"stroke:#000000;stroke-width:0.8;\" x=\"211.219003\" xlink:href=\"#m9d21d9d245\" y=\"224.64\"/>\n      </g>\n     </g>\n     <g id=\"text_5\">\n      <!-- 0 -->\n      <g transform=\"translate(208.037753 239.238437)scale(0.1 -0.1)\">\n       <use xlink:href=\"#DejaVuSans-48\"/>\n      </g>\n     </g>\n    </g>\n    <g id=\"xtick_6\">\n     <g id=\"line2d_6\">\n      <g>\n       <use style=\"stroke:#000000;stroke-width:0.8;\" x=\"249.571628\" xlink:href=\"#m9d21d9d245\" y=\"224.64\"/>\n      </g>\n     </g>\n     <g id=\"text_6\">\n      <!-- 5 -->\n      <g transform=\"translate(246.390378 239.238437)scale(0.1 -0.1)\">\n       <use xlink:href=\"#DejaVuSans-53\"/>\n      </g>\n     </g>\n    </g>\n    <g id=\"xtick_7\">\n     <g id=\"line2d_7\">\n      <g>\n       <use style=\"stroke:#000000;stroke-width:0.8;\" x=\"287.924253\" xlink:href=\"#m9d21d9d245\" y=\"224.64\"/>\n      </g>\n     </g>\n     <g id=\"text_7\">\n      <!-- 10 -->\n      <g transform=\"translate(281.561753 239.238437)scale(0.1 -0.1)\">\n       <use xlink:href=\"#DejaVuSans-49\"/>\n       <use x=\"63.623047\" xlink:href=\"#DejaVuSans-48\"/>\n      </g>\n     </g>\n    </g>\n    <g id=\"xtick_8\">\n     <g id=\"line2d_8\">\n      <g>\n       <use style=\"stroke:#000000;stroke-width:0.8;\" x=\"326.276877\" xlink:href=\"#m9d21d9d245\" y=\"224.64\"/>\n      </g>\n     </g>\n     <g id=\"text_8\">\n      <!-- 15 -->\n      <g transform=\"translate(319.914377 239.238437)scale(0.1 -0.1)\">\n       <use xlink:href=\"#DejaVuSans-49\"/>\n       <use x=\"63.623047\" xlink:href=\"#DejaVuSans-53\"/>\n      </g>\n     </g>\n    </g>\n    <g id=\"xtick_9\">\n     <g id=\"line2d_9\">\n      <g>\n       <use style=\"stroke:#000000;stroke-width:0.8;\" x=\"364.629502\" xlink:href=\"#m9d21d9d245\" y=\"224.64\"/>\n      </g>\n     </g>\n     <g id=\"text_9\">\n      <!-- 20 -->\n      <g transform=\"translate(358.267002 239.238437)scale(0.1 -0.1)\">\n       <use xlink:href=\"#DejaVuSans-50\"/>\n       <use x=\"63.623047\" xlink:href=\"#DejaVuSans-48\"/>\n      </g>\n     </g>\n    </g>\n   </g>\n   <g id=\"matplotlib.axis_2\">\n    <g id=\"ytick_1\">\n     <g id=\"line2d_10\">\n      <defs>\n       <path d=\"M 0 0 \nL -3.5 0 \n\" id=\"m9dadb89c81\" style=\"stroke:#000000;stroke-width:0.8;\"/>\n      </defs>\n      <g>\n       <use style=\"stroke:#000000;stroke-width:0.8;\" x=\"36.465625\" xlink:href=\"#m9dadb89c81\" y=\"224.64\"/>\n      </g>\n     </g>\n     <g id=\"text_10\">\n      <!-- 0.00 -->\n      <defs>\n       <path d=\"M 10.6875 12.40625 \nL 21 12.40625 \nL 21 0 \nL 10.6875 0 \nz\n\" id=\"DejaVuSans-46\"/>\n      </defs>\n      <g transform=\"translate(7.2 228.439219)scale(0.1 -0.1)\">\n       <use xlink:href=\"#DejaVuSans-48\"/>\n       <use x=\"63.623047\" xlink:href=\"#DejaVuSans-46\"/>\n       <use x=\"95.410156\" xlink:href=\"#DejaVuSans-48\"/>\n       <use x=\"159.033203\" xlink:href=\"#DejaVuSans-48\"/>\n      </g>\n     </g>\n    </g>\n    <g id=\"ytick_2\">\n     <g id=\"line2d_11\">\n      <g>\n       <use style=\"stroke:#000000;stroke-width:0.8;\" x=\"36.465625\" xlink:href=\"#m9dadb89c81\" y=\"195.463934\"/>\n      </g>\n     </g>\n     <g id=\"text_11\">\n      <!-- 0.01 -->\n      <g transform=\"translate(7.2 199.263153)scale(0.1 -0.1)\">\n       <use xlink:href=\"#DejaVuSans-48\"/>\n       <use x=\"63.623047\" xlink:href=\"#DejaVuSans-46\"/>\n       <use x=\"95.410156\" xlink:href=\"#DejaVuSans-48\"/>\n       <use x=\"159.033203\" xlink:href=\"#DejaVuSans-49\"/>\n      </g>\n     </g>\n    </g>\n    <g id=\"ytick_3\">\n     <g id=\"line2d_12\">\n      <g>\n       <use style=\"stroke:#000000;stroke-width:0.8;\" x=\"36.465625\" xlink:href=\"#m9dadb89c81\" y=\"166.287869\"/>\n      </g>\n     </g>\n     <g id=\"text_12\">\n      <!-- 0.02 -->\n      <g transform=\"translate(7.2 170.087087)scale(0.1 -0.1)\">\n       <use xlink:href=\"#DejaVuSans-48\"/>\n       <use x=\"63.623047\" xlink:href=\"#DejaVuSans-46\"/>\n       <use x=\"95.410156\" xlink:href=\"#DejaVuSans-48\"/>\n       <use x=\"159.033203\" xlink:href=\"#DejaVuSans-50\"/>\n      </g>\n     </g>\n    </g>\n    <g id=\"ytick_4\">\n     <g id=\"line2d_13\">\n      <g>\n       <use style=\"stroke:#000000;stroke-width:0.8;\" x=\"36.465625\" xlink:href=\"#m9dadb89c81\" y=\"137.111803\"/>\n      </g>\n     </g>\n     <g id=\"text_13\">\n      <!-- 0.03 -->\n      <defs>\n       <path d=\"M 40.578125 39.3125 \nQ 47.65625 37.796875 51.625 33 \nQ 55.609375 28.21875 55.609375 21.1875 \nQ 55.609375 10.40625 48.1875 4.484375 \nQ 40.765625 -1.421875 27.09375 -1.421875 \nQ 22.515625 -1.421875 17.65625 -0.515625 \nQ 12.796875 0.390625 7.625 2.203125 \nL 7.625 11.71875 \nQ 11.71875 9.328125 16.59375 8.109375 \nQ 21.484375 6.890625 26.8125 6.890625 \nQ 36.078125 6.890625 40.9375 10.546875 \nQ 45.796875 14.203125 45.796875 21.1875 \nQ 45.796875 27.640625 41.28125 31.265625 \nQ 36.765625 34.90625 28.71875 34.90625 \nL 20.21875 34.90625 \nL 20.21875 43.015625 \nL 29.109375 43.015625 \nQ 36.375 43.015625 40.234375 45.921875 \nQ 44.09375 48.828125 44.09375 54.296875 \nQ 44.09375 59.90625 40.109375 62.90625 \nQ 36.140625 65.921875 28.71875 65.921875 \nQ 24.65625 65.921875 20.015625 65.03125 \nQ 15.375 64.15625 9.8125 62.3125 \nL 9.8125 71.09375 \nQ 15.4375 72.65625 20.34375 73.4375 \nQ 25.25 74.21875 29.59375 74.21875 \nQ 40.828125 74.21875 47.359375 69.109375 \nQ 53.90625 64.015625 53.90625 55.328125 \nQ 53.90625 49.265625 50.4375 45.09375 \nQ 46.96875 40.921875 40.578125 39.3125 \nz\n\" id=\"DejaVuSans-51\"/>\n      </defs>\n      <g transform=\"translate(7.2 140.911022)scale(0.1 -0.1)\">\n       <use xlink:href=\"#DejaVuSans-48\"/>\n       <use x=\"63.623047\" xlink:href=\"#DejaVuSans-46\"/>\n       <use x=\"95.410156\" xlink:href=\"#DejaVuSans-48\"/>\n       <use x=\"159.033203\" xlink:href=\"#DejaVuSans-51\"/>\n      </g>\n     </g>\n    </g>\n    <g id=\"ytick_5\">\n     <g id=\"line2d_14\">\n      <g>\n       <use style=\"stroke:#000000;stroke-width:0.8;\" x=\"36.465625\" xlink:href=\"#m9dadb89c81\" y=\"107.935737\"/>\n      </g>\n     </g>\n     <g id=\"text_14\">\n      <!-- 0.04 -->\n      <defs>\n       <path d=\"M 37.796875 64.3125 \nL 12.890625 25.390625 \nL 37.796875 25.390625 \nz\nM 35.203125 72.90625 \nL 47.609375 72.90625 \nL 47.609375 25.390625 \nL 58.015625 25.390625 \nL 58.015625 17.1875 \nL 47.609375 17.1875 \nL 47.609375 0 \nL 37.796875 0 \nL 37.796875 17.1875 \nL 4.890625 17.1875 \nL 4.890625 26.703125 \nz\n\" id=\"DejaVuSans-52\"/>\n      </defs>\n      <g transform=\"translate(7.2 111.734956)scale(0.1 -0.1)\">\n       <use xlink:href=\"#DejaVuSans-48\"/>\n       <use x=\"63.623047\" xlink:href=\"#DejaVuSans-46\"/>\n       <use x=\"95.410156\" xlink:href=\"#DejaVuSans-48\"/>\n       <use x=\"159.033203\" xlink:href=\"#DejaVuSans-52\"/>\n      </g>\n     </g>\n    </g>\n    <g id=\"ytick_6\">\n     <g id=\"line2d_15\">\n      <g>\n       <use style=\"stroke:#000000;stroke-width:0.8;\" x=\"36.465625\" xlink:href=\"#m9dadb89c81\" y=\"78.759671\"/>\n      </g>\n     </g>\n     <g id=\"text_15\">\n      <!-- 0.05 -->\n      <g transform=\"translate(7.2 82.55889)scale(0.1 -0.1)\">\n       <use xlink:href=\"#DejaVuSans-48\"/>\n       <use x=\"63.623047\" xlink:href=\"#DejaVuSans-46\"/>\n       <use x=\"95.410156\" xlink:href=\"#DejaVuSans-48\"/>\n       <use x=\"159.033203\" xlink:href=\"#DejaVuSans-53\"/>\n      </g>\n     </g>\n    </g>\n    <g id=\"ytick_7\">\n     <g id=\"line2d_16\">\n      <g>\n       <use style=\"stroke:#000000;stroke-width:0.8;\" x=\"36.465625\" xlink:href=\"#m9dadb89c81\" y=\"49.583606\"/>\n      </g>\n     </g>\n     <g id=\"text_16\">\n      <!-- 0.06 -->\n      <defs>\n       <path d=\"M 33.015625 40.375 \nQ 26.375 40.375 22.484375 35.828125 \nQ 18.609375 31.296875 18.609375 23.390625 \nQ 18.609375 15.53125 22.484375 10.953125 \nQ 26.375 6.390625 33.015625 6.390625 \nQ 39.65625 6.390625 43.53125 10.953125 \nQ 47.40625 15.53125 47.40625 23.390625 \nQ 47.40625 31.296875 43.53125 35.828125 \nQ 39.65625 40.375 33.015625 40.375 \nz\nM 52.59375 71.296875 \nL 52.59375 62.3125 \nQ 48.875 64.0625 45.09375 64.984375 \nQ 41.3125 65.921875 37.59375 65.921875 \nQ 27.828125 65.921875 22.671875 59.328125 \nQ 17.53125 52.734375 16.796875 39.40625 \nQ 19.671875 43.65625 24.015625 45.921875 \nQ 28.375 48.1875 33.59375 48.1875 \nQ 44.578125 48.1875 50.953125 41.515625 \nQ 57.328125 34.859375 57.328125 23.390625 \nQ 57.328125 12.15625 50.6875 5.359375 \nQ 44.046875 -1.421875 33.015625 -1.421875 \nQ 20.359375 -1.421875 13.671875 8.265625 \nQ 6.984375 17.96875 6.984375 36.375 \nQ 6.984375 53.65625 15.1875 63.9375 \nQ 23.390625 74.21875 37.203125 74.21875 \nQ 40.921875 74.21875 44.703125 73.484375 \nQ 48.484375 72.75 52.59375 71.296875 \nz\n\" id=\"DejaVuSans-54\"/>\n      </defs>\n      <g transform=\"translate(7.2 53.382824)scale(0.1 -0.1)\">\n       <use xlink:href=\"#DejaVuSans-48\"/>\n       <use x=\"63.623047\" xlink:href=\"#DejaVuSans-46\"/>\n       <use x=\"95.410156\" xlink:href=\"#DejaVuSans-48\"/>\n       <use x=\"159.033203\" xlink:href=\"#DejaVuSans-54\"/>\n      </g>\n     </g>\n    </g>\n    <g id=\"ytick_8\">\n     <g id=\"line2d_17\">\n      <g>\n       <use style=\"stroke:#000000;stroke-width:0.8;\" x=\"36.465625\" xlink:href=\"#m9dadb89c81\" y=\"20.40754\"/>\n      </g>\n     </g>\n     <g id=\"text_17\">\n      <!-- 0.07 -->\n      <defs>\n       <path d=\"M 8.203125 72.90625 \nL 55.078125 72.90625 \nL 55.078125 68.703125 \nL 28.609375 0 \nL 18.3125 0 \nL 43.21875 64.59375 \nL 8.203125 64.59375 \nz\n\" id=\"DejaVuSans-55\"/>\n      </defs>\n      <g transform=\"translate(7.2 24.206759)scale(0.1 -0.1)\">\n       <use xlink:href=\"#DejaVuSans-48\"/>\n       <use x=\"63.623047\" xlink:href=\"#DejaVuSans-46\"/>\n       <use x=\"95.410156\" xlink:href=\"#DejaVuSans-48\"/>\n       <use x=\"159.033203\" xlink:href=\"#DejaVuSans-55\"/>\n      </g>\n     </g>\n    </g>\n   </g>\n   <g id=\"line2d_18\">\n    <path clip-path=\"url(#p9f7d95e76a)\" d=\"M 51.683807 224.196775 \nL 56.476935 224.20032 \nL 61.270063 224.033976 \nL 66.063191 223.679182 \nL 70.856319 223.088989 \nL 75.649447 222.196503 \nL 80.442576 220.924886 \nL 82.83914 220.123001 \nL 85.235704 219.198902 \nL 87.632268 218.145358 \nL 90.028832 216.956579 \nL 92.425396 215.628393 \nL 94.82196 214.158306 \nL 97.218524 212.545431 \nL 99.615088 210.790303 \nL 104.408216 206.86053 \nL 109.201344 202.387738 \nL 113.994473 197.38786 \nL 118.787601 191.864686 \nL 123.580729 185.812252 \nL 128.373857 179.233502 \nL 133.166985 172.173769 \nL 140.356677 160.991022 \nL 145.149805 153.534446 \nL 149.942934 146.538216 \nL 152.339498 143.35853 \nL 154.736062 140.469378 \nL 157.132626 137.924434 \nL 159.52919 135.769451 \nL 161.925754 134.039151 \nL 164.322318 132.754477 \nL 166.718882 131.920441 \nL 169.115446 131.524731 \nL 171.51201 131.537204 \nL 173.908574 131.910325 \nL 176.305138 132.580526 \nL 178.701702 133.470424 \nL 185.891395 136.541689 \nL 188.287959 137.371129 \nL 190.684523 137.940837 \nL 193.081087 138.16129 \nL 195.477651 137.952254 \nL 197.874215 137.244827 \nL 200.270779 135.982888 \nL 202.667343 134.123973 \nL 205.063907 131.639701 \nL 207.460471 128.515863 \nL 209.857035 124.752323 \nL 212.253599 120.362856 \nL 214.650163 115.375024 \nL 217.046727 109.830132 \nL 219.443291 103.783264 \nL 221.839855 97.303331 \nL 226.632984 83.388472 \nL 233.822676 61.754818 \nL 236.21924 54.848288 \nL 238.615804 48.325625 \nL 241.012368 42.328078 \nL 243.408932 36.992741 \nL 245.805496 32.448123 \nL 248.20206 28.809782 \nL 250.598624 26.17627 \nL 252.995188 24.625656 \nL 255.391752 24.212836 \nL 257.788316 24.967776 \nL 260.184881 26.894791 \nL 262.581445 29.972864 \nL 264.978009 34.156942 \nL 267.374573 39.380092 \nL 269.771137 45.556339 \nL 272.167701 52.584001 \nL 274.564265 60.34929 \nL 276.960829 68.730016 \nL 281.753957 86.828344 \nL 293.736777 134.128683 \nL 298.529906 151.645486 \nL 300.92647 159.78061 \nL 303.323034 167.428496 \nL 305.719598 174.550906 \nL 308.116162 181.121801 \nL 310.512726 187.126867 \nL 312.90929 192.562803 \nL 315.305854 197.436414 \nL 317.702418 201.7635 \nL 320.098982 205.567591 \nL 322.495546 208.878569 \nL 324.89211 211.731216 \nL 327.288674 214.163763 \nL 329.685238 216.216471 \nL 332.081803 217.93031 \nL 334.478367 219.345781 \nL 336.874931 220.501901 \nL 339.271495 221.43538 \nL 341.668059 222.179994 \nL 344.064623 222.766149 \nL 348.857751 223.566454 \nL 353.650879 224.005871 \nL 356.047443 224.127451 \nL 356.047443 224.127451 \n\" style=\"fill:none;stroke:#1f77b4;stroke-linecap:square;stroke-width:1.5;\"/>\n   </g>\n   <g id=\"patch_8\">\n    <path d=\"M 36.465625 224.64 \nL 36.465625 7.2 \n\" style=\"fill:none;stroke:#000000;stroke-linecap:square;stroke-linejoin:miter;stroke-width:0.8;\"/>\n   </g>\n   <g id=\"patch_9\">\n    <path d=\"M 371.265625 224.64 \nL 371.265625 7.2 \n\" style=\"fill:none;stroke:#000000;stroke-linecap:square;stroke-linejoin:miter;stroke-width:0.8;\"/>\n   </g>\n   <g id=\"patch_10\">\n    <path d=\"M 36.465625 224.64 \nL 371.265625 224.64 \n\" style=\"fill:none;stroke:#000000;stroke-linecap:square;stroke-linejoin:miter;stroke-width:0.8;\"/>\n   </g>\n   <g id=\"patch_11\">\n    <path d=\"M 36.465625 7.2 \nL 371.265625 7.2 \n\" style=\"fill:none;stroke:#000000;stroke-linecap:square;stroke-linejoin:miter;stroke-width:0.8;\"/>\n   </g>\n  </g>\n </g>\n <defs>\n  <clipPath id=\"p9f7d95e76a\">\n   <rect height=\"217.44\" width=\"334.8\" x=\"36.465625\" y=\"7.2\"/>\n  </clipPath>\n </defs>\n</svg>\n",
      "image/png": "[encoded data removed]"
     },
     "metadata": {
      "needs_background": "light"
     }
    }
   ],
   "source": [
    "df_correlation = filtering_correlation.get_filtering_correlation(df_combined,combined_ba, percentage_increase=True)\n",
    "sns.distplot(df_correlation.iloc[1:,:].mean(axis=1));"
   ]
  },
  {
   "cell_type": "code",
   "execution_count": 10,
   "metadata": {},
   "outputs": [
    {
     "output_type": "execute_result",
     "data": {
      "text/plain": [
       "Percentage Increase/Decrease                        ROUGE-1   bleu1  ROUGE-l  \\\n",
       "('random_honeypot', 'low_std', 'high_random', '...   10.778  10.709   10.664   \n",
       "('low_std', 'high_random', 'unpopular')              10.778  10.709   10.664   \n",
       "('random_honeypot', 'low_std', 'high_random')        10.759  10.691   10.648   \n",
       "('low_std', 'high_random')                           10.759  10.691   10.648   \n",
       "('duration', 'random_honeypot', 'low_std', 'hig...    9.691   9.665    9.556   \n",
       "...                                                     ...     ...      ...   \n",
       "('duration', 'random_honeypot', 'sentiment_inco...   -7.531  -7.175   -7.086   \n",
       "('unpopular', 'sentiment_inconsistent')              -9.946  -9.749   -9.554   \n",
       "('sentiment_inconsistent',)                          -9.971  -9.774   -9.578   \n",
       "('duration', 'unpopular', 'sentiment_inconsiste...  -12.207 -12.013  -11.836   \n",
       "('duration', 'sentiment_inconsistent')              -12.233 -12.039  -11.861   \n",
       "\n",
       "Percentage Increase/Decrease                        BertScore  1-gram_overlap  \\\n",
       "('random_honeypot', 'low_std', 'high_random', '...     10.936          10.795   \n",
       "('low_std', 'high_random', 'unpopular')                10.936          10.795   \n",
       "('random_honeypot', 'low_std', 'high_random')          10.907          10.779   \n",
       "('low_std', 'high_random')                             10.907          10.779   \n",
       "('duration', 'random_honeypot', 'low_std', 'hig...      9.974           9.565   \n",
       "...                                                       ...             ...   \n",
       "('duration', 'random_honeypot', 'sentiment_inco...     -6.948          -7.323   \n",
       "('unpopular', 'sentiment_inconsistent')                -9.339          -9.649   \n",
       "('sentiment_inconsistent',)                            -9.366          -9.667   \n",
       "('duration', 'unpopular', 'sentiment_inconsiste...    -11.471         -12.048   \n",
       "('duration', 'sentiment_inconsistent')                -11.499         -12.067   \n",
       "\n",
       "Percentage Increase/Decrease                        chrfScore  L2_score  \\\n",
       "('random_honeypot', 'low_std', 'high_random', '...     10.355    10.238   \n",
       "('low_std', 'high_random', 'unpopular')                10.355    10.238   \n",
       "('random_honeypot', 'low_std', 'high_random')          10.342    10.192   \n",
       "('low_std', 'high_random')                             10.342    10.192   \n",
       "('duration', 'random_honeypot', 'low_std', 'hig...      9.124     9.312   \n",
       "...                                                       ...       ...   \n",
       "('duration', 'random_honeypot', 'sentiment_inco...     -7.331    -7.244   \n",
       "('unpopular', 'sentiment_inconsistent')                -9.433    -9.784   \n",
       "('sentiment_inconsistent',)                            -9.449    -9.829   \n",
       "('duration', 'unpopular', 'sentiment_inconsiste...    -11.771   -11.813   \n",
       "('duration', 'sentiment_inconsistent')                -11.788   -11.859   \n",
       "\n",
       "Percentage Increase/Decrease                        ROUGE-2  fasttext_cosine  \\\n",
       "('random_honeypot', 'low_std', 'high_random', '...   10.412            7.724   \n",
       "('low_std', 'high_random', 'unpopular')              10.412            7.724   \n",
       "('random_honeypot', 'low_std', 'high_random')        10.407            7.675   \n",
       "('low_std', 'high_random')                           10.407            7.675   \n",
       "('duration', 'random_honeypot', 'low_std', 'hig...    9.089            6.529   \n",
       "...                                                     ...              ...   \n",
       "('duration', 'random_honeypot', 'sentiment_inco...   -6.909           -9.442   \n",
       "('unpopular', 'sentiment_inconsistent')              -8.834          -10.718   \n",
       "('sentiment_inconsistent',)                          -8.851          -10.779   \n",
       "('duration', 'unpopular', 'sentiment_inconsiste...  -11.484          -12.820   \n",
       "('duration', 'sentiment_inconsistent')              -11.502          -12.882   \n",
       "\n",
       "Percentage Increase/Decrease                           WMD  glove_cosine  \\\n",
       "('random_honeypot', 'low_std', 'high_random', '...   9.846         8.690   \n",
       "('low_std', 'high_random', 'unpopular')              9.846         8.690   \n",
       "('random_honeypot', 'low_std', 'high_random')        9.858         8.653   \n",
       "('low_std', 'high_random')                           9.858         8.653   \n",
       "('duration', 'random_honeypot', 'low_std', 'hig...   8.566         7.907   \n",
       "...                                                    ...           ...   \n",
       "('duration', 'random_honeypot', 'sentiment_inco...  -7.990        -8.748   \n",
       "('unpopular', 'sentiment_inconsistent')            -10.675       -10.184   \n",
       "('sentiment_inconsistent',)                        -10.659       -10.233   \n",
       "('duration', 'unpopular', 'sentiment_inconsiste... -12.690       -12.028   \n",
       "('duration', 'sentiment_inconsistent')             -12.675       -12.078   \n",
       "\n",
       "Percentage Increase/Decrease                          bleu  POS Dist score  \\\n",
       "('random_honeypot', 'low_std', 'high_random', '...  10.603          11.149   \n",
       "('low_std', 'high_random', 'unpopular')             10.603          11.149   \n",
       "('random_honeypot', 'low_std', 'high_random')       10.601          11.183   \n",
       "('low_std', 'high_random')                          10.601          11.183   \n",
       "('duration', 'random_honeypot', 'low_std', 'hig...   8.892           9.149   \n",
       "...                                                    ...             ...   \n",
       "('duration', 'random_honeypot', 'sentiment_inco...  -6.339         -10.143   \n",
       "('unpopular', 'sentiment_inconsistent')             -8.501         -10.573   \n",
       "('sentiment_inconsistent',)                         -8.529         -10.536   \n",
       "('duration', 'unpopular', 'sentiment_inconsiste... -11.472         -13.873   \n",
       "('duration', 'sentiment_inconsistent')             -11.502         -13.839   \n",
       "\n",
       "Percentage Increase/Decrease                        mean_increase  \\\n",
       "('random_honeypot', 'low_std', 'high_random', '...      10.223000   \n",
       "('low_std', 'high_random', 'unpopular')                 10.223000   \n",
       "('random_honeypot', 'low_std', 'high_random')           10.207308   \n",
       "('low_std', 'high_random')                              10.207308   \n",
       "('duration', 'random_honeypot', 'low_std', 'hig...       9.001462   \n",
       "...                                                           ...   \n",
       "('duration', 'random_honeypot', 'sentiment_inco...      -7.708385   \n",
       "('unpopular', 'sentiment_inconsistent')                 -9.764538   \n",
       "('sentiment_inconsistent',)                             -9.786231   \n",
       "('duration', 'unpopular', 'sentiment_inconsiste...     -12.117385   \n",
       "('duration', 'sentiment_inconsistent')                 -12.140308   \n",
       "\n",
       "Percentage Increase/Decrease                        num_heuristics  num_ba  \\\n",
       "('random_honeypot', 'low_std', 'high_random', '...               4     102   \n",
       "('low_std', 'high_random', 'unpopular')                          3     102   \n",
       "('random_honeypot', 'low_std', 'high_random')                    3     101   \n",
       "('low_std', 'high_random')                                       2     101   \n",
       "('duration', 'random_honeypot', 'low_std', 'hig...               5     127   \n",
       "...                                                            ...     ...   \n",
       "('duration', 'random_honeypot', 'sentiment_inco...               3      67   \n",
       "('unpopular', 'sentiment_inconsistent')                          2      27   \n",
       "('sentiment_inconsistent',)                                      1      25   \n",
       "('duration', 'unpopular', 'sentiment_inconsiste...               3      56   \n",
       "('duration', 'sentiment_inconsistent')                           2      54   \n",
       "\n",
       "Percentage Increase/Decrease                        percent_rows_filtered  \n",
       "('random_honeypot', 'low_std', 'high_random', '...                  38.20  \n",
       "('low_std', 'high_random', 'unpopular')                             38.20  \n",
       "('random_honeypot', 'low_std', 'high_random')                       38.18  \n",
       "('low_std', 'high_random')                                          38.18  \n",
       "('duration', 'random_honeypot', 'low_std', 'hig...                  43.01  \n",
       "...                                                                   ...  \n",
       "('duration', 'random_honeypot', 'sentiment_inco...                  33.24  \n",
       "('unpopular', 'sentiment_inconsistent')                             19.48  \n",
       "('sentiment_inconsistent',)                                         19.45  \n",
       "('duration', 'unpopular', 'sentiment_inconsiste...                  23.91  \n",
       "('duration', 'sentiment_inconsistent')                              23.88  \n",
       "\n",
       "[64 rows x 17 columns]"
      ],
      "text/html": "<div>\n<style scoped>\n    .dataframe tbody tr th:only-of-type {\n        vertical-align: middle;\n    }\n\n    .dataframe tbody tr th {\n        vertical-align: top;\n    }\n\n    .dataframe thead th {\n        text-align: right;\n    }\n</style>\n<table border=\"1\" class=\"dataframe\">\n  <thead>\n    <tr style=\"text-align: right;\">\n      <th>Percentage Increase/Decrease</th>\n      <th>ROUGE-1</th>\n      <th>bleu1</th>\n      <th>ROUGE-l</th>\n      <th>BertScore</th>\n      <th>1-gram_overlap</th>\n      <th>chrfScore</th>\n      <th>L2_score</th>\n      <th>ROUGE-2</th>\n      <th>fasttext_cosine</th>\n      <th>WMD</th>\n      <th>glove_cosine</th>\n      <th>bleu</th>\n      <th>POS Dist score</th>\n      <th>mean_increase</th>\n      <th>num_heuristics</th>\n      <th>num_ba</th>\n      <th>percent_rows_filtered</th>\n    </tr>\n  </thead>\n  <tbody>\n    <tr>\n      <th>('random_honeypot', 'low_std', 'high_random', 'unpopular')</th>\n      <td>10.778</td>\n      <td>10.709</td>\n      <td>10.664</td>\n      <td>10.936</td>\n      <td>10.795</td>\n      <td>10.355</td>\n      <td>10.238</td>\n      <td>10.412</td>\n      <td>7.724</td>\n      <td>9.846</td>\n      <td>8.690</td>\n      <td>10.603</td>\n      <td>11.149</td>\n      <td>10.223000</td>\n      <td>4</td>\n      <td>102</td>\n      <td>38.20</td>\n    </tr>\n    <tr>\n      <th>('low_std', 'high_random', 'unpopular')</th>\n      <td>10.778</td>\n      <td>10.709</td>\n      <td>10.664</td>\n      <td>10.936</td>\n      <td>10.795</td>\n      <td>10.355</td>\n      <td>10.238</td>\n      <td>10.412</td>\n      <td>7.724</td>\n      <td>9.846</td>\n      <td>8.690</td>\n      <td>10.603</td>\n      <td>11.149</td>\n      <td>10.223000</td>\n      <td>3</td>\n      <td>102</td>\n      <td>38.20</td>\n    </tr>\n    <tr>\n      <th>('random_honeypot', 'low_std', 'high_random')</th>\n      <td>10.759</td>\n      <td>10.691</td>\n      <td>10.648</td>\n      <td>10.907</td>\n      <td>10.779</td>\n      <td>10.342</td>\n      <td>10.192</td>\n      <td>10.407</td>\n      <td>7.675</td>\n      <td>9.858</td>\n      <td>8.653</td>\n      <td>10.601</td>\n      <td>11.183</td>\n      <td>10.207308</td>\n      <td>3</td>\n      <td>101</td>\n      <td>38.18</td>\n    </tr>\n    <tr>\n      <th>('low_std', 'high_random')</th>\n      <td>10.759</td>\n      <td>10.691</td>\n      <td>10.648</td>\n      <td>10.907</td>\n      <td>10.779</td>\n      <td>10.342</td>\n      <td>10.192</td>\n      <td>10.407</td>\n      <td>7.675</td>\n      <td>9.858</td>\n      <td>8.653</td>\n      <td>10.601</td>\n      <td>11.183</td>\n      <td>10.207308</td>\n      <td>2</td>\n      <td>101</td>\n      <td>38.18</td>\n    </tr>\n    <tr>\n      <th>('duration', 'random_honeypot', 'low_std', 'high_random', 'unpopular')</th>\n      <td>9.691</td>\n      <td>9.665</td>\n      <td>9.556</td>\n      <td>9.974</td>\n      <td>9.565</td>\n      <td>9.124</td>\n      <td>9.312</td>\n      <td>9.089</td>\n      <td>6.529</td>\n      <td>8.566</td>\n      <td>7.907</td>\n      <td>8.892</td>\n      <td>9.149</td>\n      <td>9.001462</td>\n      <td>5</td>\n      <td>127</td>\n      <td>43.01</td>\n    </tr>\n    <tr>\n      <th>...</th>\n      <td>...</td>\n      <td>...</td>\n      <td>...</td>\n      <td>...</td>\n      <td>...</td>\n      <td>...</td>\n      <td>...</td>\n      <td>...</td>\n      <td>...</td>\n      <td>...</td>\n      <td>...</td>\n      <td>...</td>\n      <td>...</td>\n      <td>...</td>\n      <td>...</td>\n      <td>...</td>\n      <td>...</td>\n    </tr>\n    <tr>\n      <th>('duration', 'random_honeypot', 'sentiment_inconsistent')</th>\n      <td>-7.531</td>\n      <td>-7.175</td>\n      <td>-7.086</td>\n      <td>-6.948</td>\n      <td>-7.323</td>\n      <td>-7.331</td>\n      <td>-7.244</td>\n      <td>-6.909</td>\n      <td>-9.442</td>\n      <td>-7.990</td>\n      <td>-8.748</td>\n      <td>-6.339</td>\n      <td>-10.143</td>\n      <td>-7.708385</td>\n      <td>3</td>\n      <td>67</td>\n      <td>33.24</td>\n    </tr>\n    <tr>\n      <th>('unpopular', 'sentiment_inconsistent')</th>\n      <td>-9.946</td>\n      <td>-9.749</td>\n      <td>-9.554</td>\n      <td>-9.339</td>\n      <td>-9.649</td>\n      <td>-9.433</td>\n      <td>-9.784</td>\n      <td>-8.834</td>\n      <td>-10.718</td>\n      <td>-10.675</td>\n      <td>-10.184</td>\n      <td>-8.501</td>\n      <td>-10.573</td>\n      <td>-9.764538</td>\n      <td>2</td>\n      <td>27</td>\n      <td>19.48</td>\n    </tr>\n    <tr>\n      <th>('sentiment_inconsistent',)</th>\n      <td>-9.971</td>\n      <td>-9.774</td>\n      <td>-9.578</td>\n      <td>-9.366</td>\n      <td>-9.667</td>\n      <td>-9.449</td>\n      <td>-9.829</td>\n      <td>-8.851</td>\n      <td>-10.779</td>\n      <td>-10.659</td>\n      <td>-10.233</td>\n      <td>-8.529</td>\n      <td>-10.536</td>\n      <td>-9.786231</td>\n      <td>1</td>\n      <td>25</td>\n      <td>19.45</td>\n    </tr>\n    <tr>\n      <th>('duration', 'unpopular', 'sentiment_inconsistent')</th>\n      <td>-12.207</td>\n      <td>-12.013</td>\n      <td>-11.836</td>\n      <td>-11.471</td>\n      <td>-12.048</td>\n      <td>-11.771</td>\n      <td>-11.813</td>\n      <td>-11.484</td>\n      <td>-12.820</td>\n      <td>-12.690</td>\n      <td>-12.028</td>\n      <td>-11.472</td>\n      <td>-13.873</td>\n      <td>-12.117385</td>\n      <td>3</td>\n      <td>56</td>\n      <td>23.91</td>\n    </tr>\n    <tr>\n      <th>('duration', 'sentiment_inconsistent')</th>\n      <td>-12.233</td>\n      <td>-12.039</td>\n      <td>-11.861</td>\n      <td>-11.499</td>\n      <td>-12.067</td>\n      <td>-11.788</td>\n      <td>-11.859</td>\n      <td>-11.502</td>\n      <td>-12.882</td>\n      <td>-12.675</td>\n      <td>-12.078</td>\n      <td>-11.502</td>\n      <td>-13.839</td>\n      <td>-12.140308</td>\n      <td>2</td>\n      <td>54</td>\n      <td>23.88</td>\n    </tr>\n  </tbody>\n</table>\n<p>64 rows × 17 columns</p>\n</div>"
     },
     "metadata": {},
     "execution_count": 10
    }
   ],
   "source": [
    "df_correlation = filtering_correlation.append_heuristic_info(df_correlation,df_combined)\n",
    "df_correlation.sort_values(by=[\"mean_increase\",\"percent_rows_filtered\",\"num_heuristics\"],ascending=False)"
   ]
  },
  {
   "cell_type": "code",
   "execution_count": 11,
   "metadata": {},
   "outputs": [
    {
     "output_type": "stream",
     "name": "stdout",
     "text": [
      "['random_honeypot', 'low_std', 'high_random', 'unpopular']\n"
     ]
    },
    {
     "output_type": "execute_result",
     "data": {
      "text/plain": [
       "                    label\n",
       "ROUGE-1          0.674746\n",
       "bleu1            0.667181\n",
       "ROUGE-l          0.665381\n",
       "BertScore        0.657682\n",
       "1-gram_overlap   0.653062\n",
       "chrfScore        0.644252\n",
       "L2_score         0.620344\n",
       "ROUGE-2          0.586592\n",
       "fasttext_cosine  0.548608\n",
       "WMD              0.547921\n",
       "glove_cosine     0.493282\n",
       "bleu             0.454930\n",
       "POS Dist score   0.390457"
      ],
      "text/html": "<div>\n<style scoped>\n    .dataframe tbody tr th:only-of-type {\n        vertical-align: middle;\n    }\n\n    .dataframe tbody tr th {\n        vertical-align: top;\n    }\n\n    .dataframe thead th {\n        text-align: right;\n    }\n</style>\n<table border=\"1\" class=\"dataframe\">\n  <thead>\n    <tr style=\"text-align: right;\">\n      <th></th>\n      <th>label</th>\n    </tr>\n  </thead>\n  <tbody>\n    <tr>\n      <th>ROUGE-1</th>\n      <td>0.674746</td>\n    </tr>\n    <tr>\n      <th>bleu1</th>\n      <td>0.667181</td>\n    </tr>\n    <tr>\n      <th>ROUGE-l</th>\n      <td>0.665381</td>\n    </tr>\n    <tr>\n      <th>BertScore</th>\n      <td>0.657682</td>\n    </tr>\n    <tr>\n      <th>1-gram_overlap</th>\n      <td>0.653062</td>\n    </tr>\n    <tr>\n      <th>chrfScore</th>\n      <td>0.644252</td>\n    </tr>\n    <tr>\n      <th>L2_score</th>\n      <td>0.620344</td>\n    </tr>\n    <tr>\n      <th>ROUGE-2</th>\n      <td>0.586592</td>\n    </tr>\n    <tr>\n      <th>fasttext_cosine</th>\n      <td>0.548608</td>\n    </tr>\n    <tr>\n      <th>WMD</th>\n      <td>0.547921</td>\n    </tr>\n    <tr>\n      <th>glove_cosine</th>\n      <td>0.493282</td>\n    </tr>\n    <tr>\n      <th>bleu</th>\n      <td>0.454930</td>\n    </tr>\n    <tr>\n      <th>POS Dist score</th>\n      <td>0.390457</td>\n    </tr>\n  </tbody>\n</table>\n</div>"
     },
     "metadata": {},
     "execution_count": 11
    }
   ],
   "source": [
    "top_heuristic = list(eval(df_correlation.sort_values(by=[\"mean_increase\",\"percent_rows_filtered\",\"num_heuristics\"],ascending=False).index[0]))\n",
    "print(top_heuristic)\n",
    "filtering_correlation.get_heuristic_scores(df_combined,top_heuristic)"
   ]
  },
  {
   "source": [
    "## Diving the dataset into random and non-random"
   ],
   "cell_type": "markdown",
   "metadata": {}
  },
  {
   "cell_type": "code",
   "execution_count": 12,
   "metadata": {},
   "outputs": [],
   "source": [
    "df_nonrandom = df_combined[df_combined.random == 0]\n",
    "df_random = df_combined[df_combined.random == 1]"
   ]
  },
  {
   "source": [
    "### The non-random group"
   ],
   "cell_type": "markdown",
   "metadata": {}
  },
  {
   "cell_type": "code",
   "execution_count": 13,
   "metadata": {},
   "outputs": [
    {
     "output_type": "execute_result",
     "data": {
      "text/plain": [
       "                    label\n",
       "bleu1            0.299843\n",
       "ROUGE-1          0.297830\n",
       "1-gram_overlap   0.294672\n",
       "L2_score         0.294227\n",
       "ROUGE-l          0.292721\n",
       "BertScore        0.281925\n",
       "chrfScore        0.279405\n",
       "WMD              0.271615\n",
       "ROUGE-2          0.253510\n",
       "fasttext_cosine  0.222947\n",
       "bleu             0.222518\n",
       "glove_cosine     0.208423\n",
       "POS Dist score   0.108292"
      ],
      "text/html": "<div>\n<style scoped>\n    .dataframe tbody tr th:only-of-type {\n        vertical-align: middle;\n    }\n\n    .dataframe tbody tr th {\n        vertical-align: top;\n    }\n\n    .dataframe thead th {\n        text-align: right;\n    }\n</style>\n<table border=\"1\" class=\"dataframe\">\n  <thead>\n    <tr style=\"text-align: right;\">\n      <th></th>\n      <th>label</th>\n    </tr>\n  </thead>\n  <tbody>\n    <tr>\n      <th>bleu1</th>\n      <td>0.299843</td>\n    </tr>\n    <tr>\n      <th>ROUGE-1</th>\n      <td>0.297830</td>\n    </tr>\n    <tr>\n      <th>1-gram_overlap</th>\n      <td>0.294672</td>\n    </tr>\n    <tr>\n      <th>L2_score</th>\n      <td>0.294227</td>\n    </tr>\n    <tr>\n      <th>ROUGE-l</th>\n      <td>0.292721</td>\n    </tr>\n    <tr>\n      <th>BertScore</th>\n      <td>0.281925</td>\n    </tr>\n    <tr>\n      <th>chrfScore</th>\n      <td>0.279405</td>\n    </tr>\n    <tr>\n      <th>WMD</th>\n      <td>0.271615</td>\n    </tr>\n    <tr>\n      <th>ROUGE-2</th>\n      <td>0.253510</td>\n    </tr>\n    <tr>\n      <th>fasttext_cosine</th>\n      <td>0.222947</td>\n    </tr>\n    <tr>\n      <th>bleu</th>\n      <td>0.222518</td>\n    </tr>\n    <tr>\n      <th>glove_cosine</th>\n      <td>0.208423</td>\n    </tr>\n    <tr>\n      <th>POS Dist score</th>\n      <td>0.108292</td>\n    </tr>\n  </tbody>\n</table>\n</div>"
     },
     "metadata": {},
     "execution_count": 13
    }
   ],
   "source": [
    "filtering_correlation.get_baseline_correlation(df_nonrandom)"
   ]
  },
  {
   "cell_type": "code",
   "execution_count": 14,
   "metadata": {},
   "outputs": [
    {
     "output_type": "display_data",
     "data": {
      "text/plain": "<Figure size 432x288 with 1 Axes>",
      "image/svg+xml": "<?xml version=\"1.0\" encoding=\"utf-8\" standalone=\"no\"?>\n<!DOCTYPE svg PUBLIC \"-//W3C//DTD SVG 1.1//EN\"\n  \"http://www.w3.org/Graphics/SVG/1.1/DTD/svg11.dtd\">\n<!-- Created with matplotlib (https://matplotlib.org/) -->\n<svg height=\"249.951061pt\" version=\"1.1\" viewBox=\"0 0 378.465625 249.951061\" width=\"378.465625pt\" xmlns=\"http://www.w3.org/2000/svg\" xmlns:xlink=\"http://www.w3.org/1999/xlink\">\n <defs>\n  <style type=\"text/css\">\n*{stroke-linecap:butt;stroke-linejoin:round;}\n  </style>\n </defs>\n <g id=\"figure_1\">\n  <g id=\"patch_1\">\n   <path d=\"M 0 249.951061 \nL 378.465625 249.951061 \nL 378.465625 0 \nL 0 0 \nz\n\" style=\"fill:none;\"/>\n  </g>\n  <g id=\"axes_1\">\n   <g id=\"patch_2\">\n    <path d=\"M 36.465625 226.072936 \nL 371.265625 226.072936 \nL 371.265625 8.632936 \nL 36.465625 8.632936 \nz\n\" style=\"fill:#ffffff;\"/>\n   </g>\n   <g id=\"patch_3\">\n    <path clip-path=\"url(#p9904b2e1b5)\" d=\"M 119.222042 226.072936 \nL 153.079475 226.072936 \nL 153.079475 163.947222 \nL 119.222042 163.947222 \nz\n\" style=\"fill:#1f77b4;opacity:0.4;\"/>\n   </g>\n   <g id=\"patch_4\">\n    <path clip-path=\"url(#p9904b2e1b5)\" d=\"M 153.079475 226.072936 \nL 186.936908 226.072936 \nL 186.936908 122.530079 \nL 153.079475 122.530079 \nz\n\" style=\"fill:#1f77b4;opacity:0.4;\"/>\n   </g>\n   <g id=\"patch_5\">\n    <path clip-path=\"url(#p9904b2e1b5)\" d=\"M 186.936908 226.072936 \nL 220.794342 226.072936 \nL 220.794342 91.467222 \nL 186.936908 91.467222 \nz\n\" style=\"fill:#1f77b4;opacity:0.4;\"/>\n   </g>\n   <g id=\"patch_6\">\n    <path clip-path=\"url(#p9904b2e1b5)\" d=\"M 220.794342 226.072936 \nL 254.651775 226.072936 \nL 254.651775 81.112936 \nL 220.794342 81.112936 \nz\n\" style=\"fill:#1f77b4;opacity:0.4;\"/>\n   </g>\n   <g id=\"patch_7\">\n    <path clip-path=\"url(#p9904b2e1b5)\" d=\"M 254.651775 226.072936 \nL 288.509208 226.072936 \nL 288.509208 18.987222 \nL 254.651775 18.987222 \nz\n\" style=\"fill:#1f77b4;opacity:0.4;\"/>\n   </g>\n   <g id=\"matplotlib.axis_1\">\n    <g id=\"xtick_1\">\n     <g id=\"line2d_1\">\n      <defs>\n       <path d=\"M 0 0 \nL 0 3.5 \n\" id=\"m4b1c9d026d\" style=\"stroke:#000000;stroke-width:0.8;\"/>\n      </defs>\n      <g>\n       <use style=\"stroke:#000000;stroke-width:0.8;\" x=\"45.162146\" xlink:href=\"#m4b1c9d026d\" y=\"226.072936\"/>\n      </g>\n     </g>\n     <g id=\"text_1\">\n      <!-- −20 -->\n      <defs>\n       <path d=\"M 10.59375 35.5 \nL 73.1875 35.5 \nL 73.1875 27.203125 \nL 10.59375 27.203125 \nz\n\" id=\"DejaVuSans-8722\"/>\n       <path d=\"M 19.1875 8.296875 \nL 53.609375 8.296875 \nL 53.609375 0 \nL 7.328125 0 \nL 7.328125 8.296875 \nQ 12.9375 14.109375 22.625 23.890625 \nQ 32.328125 33.6875 34.8125 36.53125 \nQ 39.546875 41.84375 41.421875 45.53125 \nQ 43.3125 49.21875 43.3125 52.78125 \nQ 43.3125 58.59375 39.234375 62.25 \nQ 35.15625 65.921875 28.609375 65.921875 \nQ 23.96875 65.921875 18.8125 64.3125 \nQ 13.671875 62.703125 7.8125 59.421875 \nL 7.8125 69.390625 \nQ 13.765625 71.78125 18.9375 73 \nQ 24.125 74.21875 28.421875 74.21875 \nQ 39.75 74.21875 46.484375 68.546875 \nQ 53.21875 62.890625 53.21875 53.421875 \nQ 53.21875 48.921875 51.53125 44.890625 \nQ 49.859375 40.875 45.40625 35.40625 \nQ 44.1875 33.984375 37.640625 27.21875 \nQ 31.109375 20.453125 19.1875 8.296875 \nz\n\" id=\"DejaVuSans-50\"/>\n       <path d=\"M 31.78125 66.40625 \nQ 24.171875 66.40625 20.328125 58.90625 \nQ 16.5 51.421875 16.5 36.375 \nQ 16.5 21.390625 20.328125 13.890625 \nQ 24.171875 6.390625 31.78125 6.390625 \nQ 39.453125 6.390625 43.28125 13.890625 \nQ 47.125 21.390625 47.125 36.375 \nQ 47.125 51.421875 43.28125 58.90625 \nQ 39.453125 66.40625 31.78125 66.40625 \nz\nM 31.78125 74.21875 \nQ 44.046875 74.21875 50.515625 64.515625 \nQ 56.984375 54.828125 56.984375 36.375 \nQ 56.984375 17.96875 50.515625 8.265625 \nQ 44.046875 -1.421875 31.78125 -1.421875 \nQ 19.53125 -1.421875 13.0625 8.265625 \nQ 6.59375 17.96875 6.59375 36.375 \nQ 6.59375 54.828125 13.0625 64.515625 \nQ 19.53125 74.21875 31.78125 74.21875 \nz\n\" id=\"DejaVuSans-48\"/>\n      </defs>\n      <g transform=\"translate(34.609802 240.671374)scale(0.1 -0.1)\">\n       <use xlink:href=\"#DejaVuSans-8722\"/>\n       <use x=\"83.789062\" xlink:href=\"#DejaVuSans-50\"/>\n       <use x=\"147.412109\" xlink:href=\"#DejaVuSans-48\"/>\n      </g>\n     </g>\n    </g>\n    <g id=\"xtick_2\">\n     <g id=\"line2d_2\">\n      <g>\n       <use style=\"stroke:#000000;stroke-width:0.8;\" x=\"86.238073\" xlink:href=\"#m4b1c9d026d\" y=\"226.072936\"/>\n      </g>\n     </g>\n     <g id=\"text_2\">\n      <!-- −15 -->\n      <defs>\n       <path d=\"M 12.40625 8.296875 \nL 28.515625 8.296875 \nL 28.515625 63.921875 \nL 10.984375 60.40625 \nL 10.984375 69.390625 \nL 28.421875 72.90625 \nL 38.28125 72.90625 \nL 38.28125 8.296875 \nL 54.390625 8.296875 \nL 54.390625 0 \nL 12.40625 0 \nz\n\" id=\"DejaVuSans-49\"/>\n       <path d=\"M 10.796875 72.90625 \nL 49.515625 72.90625 \nL 49.515625 64.59375 \nL 19.828125 64.59375 \nL 19.828125 46.734375 \nQ 21.96875 47.46875 24.109375 47.828125 \nQ 26.265625 48.1875 28.421875 48.1875 \nQ 40.625 48.1875 47.75 41.5 \nQ 54.890625 34.8125 54.890625 23.390625 \nQ 54.890625 11.625 47.5625 5.09375 \nQ 40.234375 -1.421875 26.90625 -1.421875 \nQ 22.3125 -1.421875 17.546875 -0.640625 \nQ 12.796875 0.140625 7.71875 1.703125 \nL 7.71875 11.625 \nQ 12.109375 9.234375 16.796875 8.0625 \nQ 21.484375 6.890625 26.703125 6.890625 \nQ 35.15625 6.890625 40.078125 11.328125 \nQ 45.015625 15.765625 45.015625 23.390625 \nQ 45.015625 31 40.078125 35.4375 \nQ 35.15625 39.890625 26.703125 39.890625 \nQ 22.75 39.890625 18.8125 39.015625 \nQ 14.890625 38.140625 10.796875 36.28125 \nz\n\" id=\"DejaVuSans-53\"/>\n      </defs>\n      <g transform=\"translate(75.685729 240.671374)scale(0.1 -0.1)\">\n       <use xlink:href=\"#DejaVuSans-8722\"/>\n       <use x=\"83.789062\" xlink:href=\"#DejaVuSans-49\"/>\n       <use x=\"147.412109\" xlink:href=\"#DejaVuSans-53\"/>\n      </g>\n     </g>\n    </g>\n    <g id=\"xtick_3\">\n     <g id=\"line2d_3\">\n      <g>\n       <use style=\"stroke:#000000;stroke-width:0.8;\" x=\"127.314\" xlink:href=\"#m4b1c9d026d\" y=\"226.072936\"/>\n      </g>\n     </g>\n     <g id=\"text_3\">\n      <!-- −10 -->\n      <g transform=\"translate(116.761656 240.671374)scale(0.1 -0.1)\">\n       <use xlink:href=\"#DejaVuSans-8722\"/>\n       <use x=\"83.789062\" xlink:href=\"#DejaVuSans-49\"/>\n       <use x=\"147.412109\" xlink:href=\"#DejaVuSans-48\"/>\n      </g>\n     </g>\n    </g>\n    <g id=\"xtick_4\">\n     <g id=\"line2d_4\">\n      <g>\n       <use style=\"stroke:#000000;stroke-width:0.8;\" x=\"168.389927\" xlink:href=\"#m4b1c9d026d\" y=\"226.072936\"/>\n      </g>\n     </g>\n     <g id=\"text_4\">\n      <!-- −5 -->\n      <g transform=\"translate(161.018833 240.671374)scale(0.1 -0.1)\">\n       <use xlink:href=\"#DejaVuSans-8722\"/>\n       <use x=\"83.789062\" xlink:href=\"#DejaVuSans-53\"/>\n      </g>\n     </g>\n    </g>\n    <g id=\"xtick_5\">\n     <g id=\"line2d_5\">\n      <g>\n       <use style=\"stroke:#000000;stroke-width:0.8;\" x=\"209.465854\" xlink:href=\"#m4b1c9d026d\" y=\"226.072936\"/>\n      </g>\n     </g>\n     <g id=\"text_5\">\n      <!-- 0 -->\n      <g transform=\"translate(206.284604 240.671374)scale(0.1 -0.1)\">\n       <use xlink:href=\"#DejaVuSans-48\"/>\n      </g>\n     </g>\n    </g>\n    <g id=\"xtick_6\">\n     <g id=\"line2d_6\">\n      <g>\n       <use style=\"stroke:#000000;stroke-width:0.8;\" x=\"250.541781\" xlink:href=\"#m4b1c9d026d\" y=\"226.072936\"/>\n      </g>\n     </g>\n     <g id=\"text_6\">\n      <!-- 5 -->\n      <g transform=\"translate(247.360531 240.671374)scale(0.1 -0.1)\">\n       <use xlink:href=\"#DejaVuSans-53\"/>\n      </g>\n     </g>\n    </g>\n    <g id=\"xtick_7\">\n     <g id=\"line2d_7\">\n      <g>\n       <use style=\"stroke:#000000;stroke-width:0.8;\" x=\"291.617708\" xlink:href=\"#m4b1c9d026d\" y=\"226.072936\"/>\n      </g>\n     </g>\n     <g id=\"text_7\">\n      <!-- 10 -->\n      <g transform=\"translate(285.255208 240.671374)scale(0.1 -0.1)\">\n       <use xlink:href=\"#DejaVuSans-49\"/>\n       <use x=\"63.623047\" xlink:href=\"#DejaVuSans-48\"/>\n      </g>\n     </g>\n    </g>\n    <g id=\"xtick_8\">\n     <g id=\"line2d_8\">\n      <g>\n       <use style=\"stroke:#000000;stroke-width:0.8;\" x=\"332.693634\" xlink:href=\"#m4b1c9d026d\" y=\"226.072936\"/>\n      </g>\n     </g>\n     <g id=\"text_8\">\n      <!-- 15 -->\n      <g transform=\"translate(326.331134 240.671374)scale(0.1 -0.1)\">\n       <use xlink:href=\"#DejaVuSans-49\"/>\n       <use x=\"63.623047\" xlink:href=\"#DejaVuSans-53\"/>\n      </g>\n     </g>\n    </g>\n   </g>\n   <g id=\"matplotlib.axis_2\">\n    <g id=\"ytick_1\">\n     <g id=\"line2d_9\">\n      <defs>\n       <path d=\"M 0 0 \nL -3.5 0 \n\" id=\"ma0a1058ac9\" style=\"stroke:#000000;stroke-width:0.8;\"/>\n      </defs>\n      <g>\n       <use style=\"stroke:#000000;stroke-width:0.8;\" x=\"36.465625\" xlink:href=\"#ma0a1058ac9\" y=\"226.072936\"/>\n      </g>\n     </g>\n     <g id=\"text_9\">\n      <!-- 0.00 -->\n      <defs>\n       <path d=\"M 10.6875 12.40625 \nL 21 12.40625 \nL 21 0 \nL 10.6875 0 \nz\n\" id=\"DejaVuSans-46\"/>\n      </defs>\n      <g transform=\"translate(7.2 229.872155)scale(0.1 -0.1)\">\n       <use xlink:href=\"#DejaVuSans-48\"/>\n       <use x=\"63.623047\" xlink:href=\"#DejaVuSans-46\"/>\n       <use x=\"95.410156\" xlink:href=\"#DejaVuSans-48\"/>\n       <use x=\"159.033203\" xlink:href=\"#DejaVuSans-48\"/>\n      </g>\n     </g>\n    </g>\n    <g id=\"ytick_2\">\n     <g id=\"line2d_10\">\n      <g>\n       <use style=\"stroke:#000000;stroke-width:0.8;\" x=\"36.465625\" xlink:href=\"#ma0a1058ac9\" y=\"199.188722\"/>\n      </g>\n     </g>\n     <g id=\"text_10\">\n      <!-- 0.01 -->\n      <g transform=\"translate(7.2 202.98794)scale(0.1 -0.1)\">\n       <use xlink:href=\"#DejaVuSans-48\"/>\n       <use x=\"63.623047\" xlink:href=\"#DejaVuSans-46\"/>\n       <use x=\"95.410156\" xlink:href=\"#DejaVuSans-48\"/>\n       <use x=\"159.033203\" xlink:href=\"#DejaVuSans-49\"/>\n      </g>\n     </g>\n    </g>\n    <g id=\"ytick_3\">\n     <g id=\"line2d_11\">\n      <g>\n       <use style=\"stroke:#000000;stroke-width:0.8;\" x=\"36.465625\" xlink:href=\"#ma0a1058ac9\" y=\"172.304507\"/>\n      </g>\n     </g>\n     <g id=\"text_11\">\n      <!-- 0.02 -->\n      <g transform=\"translate(7.2 176.103726)scale(0.1 -0.1)\">\n       <use xlink:href=\"#DejaVuSans-48\"/>\n       <use x=\"63.623047\" xlink:href=\"#DejaVuSans-46\"/>\n       <use x=\"95.410156\" xlink:href=\"#DejaVuSans-48\"/>\n       <use x=\"159.033203\" xlink:href=\"#DejaVuSans-50\"/>\n      </g>\n     </g>\n    </g>\n    <g id=\"ytick_4\">\n     <g id=\"line2d_12\">\n      <g>\n       <use style=\"stroke:#000000;stroke-width:0.8;\" x=\"36.465625\" xlink:href=\"#ma0a1058ac9\" y=\"145.420292\"/>\n      </g>\n     </g>\n     <g id=\"text_12\">\n      <!-- 0.03 -->\n      <defs>\n       <path d=\"M 40.578125 39.3125 \nQ 47.65625 37.796875 51.625 33 \nQ 55.609375 28.21875 55.609375 21.1875 \nQ 55.609375 10.40625 48.1875 4.484375 \nQ 40.765625 -1.421875 27.09375 -1.421875 \nQ 22.515625 -1.421875 17.65625 -0.515625 \nQ 12.796875 0.390625 7.625 2.203125 \nL 7.625 11.71875 \nQ 11.71875 9.328125 16.59375 8.109375 \nQ 21.484375 6.890625 26.8125 6.890625 \nQ 36.078125 6.890625 40.9375 10.546875 \nQ 45.796875 14.203125 45.796875 21.1875 \nQ 45.796875 27.640625 41.28125 31.265625 \nQ 36.765625 34.90625 28.71875 34.90625 \nL 20.21875 34.90625 \nL 20.21875 43.015625 \nL 29.109375 43.015625 \nQ 36.375 43.015625 40.234375 45.921875 \nQ 44.09375 48.828125 44.09375 54.296875 \nQ 44.09375 59.90625 40.109375 62.90625 \nQ 36.140625 65.921875 28.71875 65.921875 \nQ 24.65625 65.921875 20.015625 65.03125 \nQ 15.375 64.15625 9.8125 62.3125 \nL 9.8125 71.09375 \nQ 15.4375 72.65625 20.34375 73.4375 \nQ 25.25 74.21875 29.59375 74.21875 \nQ 40.828125 74.21875 47.359375 69.109375 \nQ 53.90625 64.015625 53.90625 55.328125 \nQ 53.90625 49.265625 50.4375 45.09375 \nQ 46.96875 40.921875 40.578125 39.3125 \nz\n\" id=\"DejaVuSans-51\"/>\n      </defs>\n      <g transform=\"translate(7.2 149.219511)scale(0.1 -0.1)\">\n       <use xlink:href=\"#DejaVuSans-48\"/>\n       <use x=\"63.623047\" xlink:href=\"#DejaVuSans-46\"/>\n       <use x=\"95.410156\" xlink:href=\"#DejaVuSans-48\"/>\n       <use x=\"159.033203\" xlink:href=\"#DejaVuSans-51\"/>\n      </g>\n     </g>\n    </g>\n    <g id=\"ytick_5\">\n     <g id=\"line2d_13\">\n      <g>\n       <use style=\"stroke:#000000;stroke-width:0.8;\" x=\"36.465625\" xlink:href=\"#ma0a1058ac9\" y=\"118.536078\"/>\n      </g>\n     </g>\n     <g id=\"text_13\">\n      <!-- 0.04 -->\n      <defs>\n       <path d=\"M 37.796875 64.3125 \nL 12.890625 25.390625 \nL 37.796875 25.390625 \nz\nM 35.203125 72.90625 \nL 47.609375 72.90625 \nL 47.609375 25.390625 \nL 58.015625 25.390625 \nL 58.015625 17.1875 \nL 47.609375 17.1875 \nL 47.609375 0 \nL 37.796875 0 \nL 37.796875 17.1875 \nL 4.890625 17.1875 \nL 4.890625 26.703125 \nz\n\" id=\"DejaVuSans-52\"/>\n      </defs>\n      <g transform=\"translate(7.2 122.335296)scale(0.1 -0.1)\">\n       <use xlink:href=\"#DejaVuSans-48\"/>\n       <use x=\"63.623047\" xlink:href=\"#DejaVuSans-46\"/>\n       <use x=\"95.410156\" xlink:href=\"#DejaVuSans-48\"/>\n       <use x=\"159.033203\" xlink:href=\"#DejaVuSans-52\"/>\n      </g>\n     </g>\n    </g>\n    <g id=\"ytick_6\">\n     <g id=\"line2d_14\">\n      <g>\n       <use style=\"stroke:#000000;stroke-width:0.8;\" x=\"36.465625\" xlink:href=\"#ma0a1058ac9\" y=\"91.651863\"/>\n      </g>\n     </g>\n     <g id=\"text_14\">\n      <!-- 0.05 -->\n      <g transform=\"translate(7.2 95.451082)scale(0.1 -0.1)\">\n       <use xlink:href=\"#DejaVuSans-48\"/>\n       <use x=\"63.623047\" xlink:href=\"#DejaVuSans-46\"/>\n       <use x=\"95.410156\" xlink:href=\"#DejaVuSans-48\"/>\n       <use x=\"159.033203\" xlink:href=\"#DejaVuSans-53\"/>\n      </g>\n     </g>\n    </g>\n    <g id=\"ytick_7\">\n     <g id=\"line2d_15\">\n      <g>\n       <use style=\"stroke:#000000;stroke-width:0.8;\" x=\"36.465625\" xlink:href=\"#ma0a1058ac9\" y=\"64.767648\"/>\n      </g>\n     </g>\n     <g id=\"text_15\">\n      <!-- 0.06 -->\n      <defs>\n       <path d=\"M 33.015625 40.375 \nQ 26.375 40.375 22.484375 35.828125 \nQ 18.609375 31.296875 18.609375 23.390625 \nQ 18.609375 15.53125 22.484375 10.953125 \nQ 26.375 6.390625 33.015625 6.390625 \nQ 39.65625 6.390625 43.53125 10.953125 \nQ 47.40625 15.53125 47.40625 23.390625 \nQ 47.40625 31.296875 43.53125 35.828125 \nQ 39.65625 40.375 33.015625 40.375 \nz\nM 52.59375 71.296875 \nL 52.59375 62.3125 \nQ 48.875 64.0625 45.09375 64.984375 \nQ 41.3125 65.921875 37.59375 65.921875 \nQ 27.828125 65.921875 22.671875 59.328125 \nQ 17.53125 52.734375 16.796875 39.40625 \nQ 19.671875 43.65625 24.015625 45.921875 \nQ 28.375 48.1875 33.59375 48.1875 \nQ 44.578125 48.1875 50.953125 41.515625 \nQ 57.328125 34.859375 57.328125 23.390625 \nQ 57.328125 12.15625 50.6875 5.359375 \nQ 44.046875 -1.421875 33.015625 -1.421875 \nQ 20.359375 -1.421875 13.671875 8.265625 \nQ 6.984375 17.96875 6.984375 36.375 \nQ 6.984375 53.65625 15.1875 63.9375 \nQ 23.390625 74.21875 37.203125 74.21875 \nQ 40.921875 74.21875 44.703125 73.484375 \nQ 48.484375 72.75 52.59375 71.296875 \nz\n\" id=\"DejaVuSans-54\"/>\n      </defs>\n      <g transform=\"translate(7.2 68.566867)scale(0.1 -0.1)\">\n       <use xlink:href=\"#DejaVuSans-48\"/>\n       <use x=\"63.623047\" xlink:href=\"#DejaVuSans-46\"/>\n       <use x=\"95.410156\" xlink:href=\"#DejaVuSans-48\"/>\n       <use x=\"159.033203\" xlink:href=\"#DejaVuSans-54\"/>\n      </g>\n     </g>\n    </g>\n    <g id=\"ytick_8\">\n     <g id=\"line2d_16\">\n      <g>\n       <use style=\"stroke:#000000;stroke-width:0.8;\" x=\"36.465625\" xlink:href=\"#ma0a1058ac9\" y=\"37.883433\"/>\n      </g>\n     </g>\n     <g id=\"text_16\">\n      <!-- 0.07 -->\n      <defs>\n       <path d=\"M 8.203125 72.90625 \nL 55.078125 72.90625 \nL 55.078125 68.703125 \nL 28.609375 0 \nL 18.3125 0 \nL 43.21875 64.59375 \nL 8.203125 64.59375 \nz\n\" id=\"DejaVuSans-55\"/>\n      </defs>\n      <g transform=\"translate(7.2 41.682652)scale(0.1 -0.1)\">\n       <use xlink:href=\"#DejaVuSans-48\"/>\n       <use x=\"63.623047\" xlink:href=\"#DejaVuSans-46\"/>\n       <use x=\"95.410156\" xlink:href=\"#DejaVuSans-48\"/>\n       <use x=\"159.033203\" xlink:href=\"#DejaVuSans-55\"/>\n      </g>\n     </g>\n    </g>\n    <g id=\"ytick_9\">\n     <g id=\"line2d_17\">\n      <g>\n       <use style=\"stroke:#000000;stroke-width:0.8;\" x=\"36.465625\" xlink:href=\"#ma0a1058ac9\" y=\"10.999219\"/>\n      </g>\n     </g>\n     <g id=\"text_17\">\n      <!-- 0.08 -->\n      <defs>\n       <path d=\"M 31.78125 34.625 \nQ 24.75 34.625 20.71875 30.859375 \nQ 16.703125 27.09375 16.703125 20.515625 \nQ 16.703125 13.921875 20.71875 10.15625 \nQ 24.75 6.390625 31.78125 6.390625 \nQ 38.8125 6.390625 42.859375 10.171875 \nQ 46.921875 13.96875 46.921875 20.515625 \nQ 46.921875 27.09375 42.890625 30.859375 \nQ 38.875 34.625 31.78125 34.625 \nz\nM 21.921875 38.8125 \nQ 15.578125 40.375 12.03125 44.71875 \nQ 8.5 49.078125 8.5 55.328125 \nQ 8.5 64.0625 14.71875 69.140625 \nQ 20.953125 74.21875 31.78125 74.21875 \nQ 42.671875 74.21875 48.875 69.140625 \nQ 55.078125 64.0625 55.078125 55.328125 \nQ 55.078125 49.078125 51.53125 44.71875 \nQ 48 40.375 41.703125 38.8125 \nQ 48.828125 37.15625 52.796875 32.3125 \nQ 56.78125 27.484375 56.78125 20.515625 \nQ 56.78125 9.90625 50.3125 4.234375 \nQ 43.84375 -1.421875 31.78125 -1.421875 \nQ 19.734375 -1.421875 13.25 4.234375 \nQ 6.78125 9.90625 6.78125 20.515625 \nQ 6.78125 27.484375 10.78125 32.3125 \nQ 14.796875 37.15625 21.921875 38.8125 \nz\nM 18.3125 54.390625 \nQ 18.3125 48.734375 21.84375 45.5625 \nQ 25.390625 42.390625 31.78125 42.390625 \nQ 38.140625 42.390625 41.71875 45.5625 \nQ 45.3125 48.734375 45.3125 54.390625 \nQ 45.3125 60.0625 41.71875 63.234375 \nQ 38.140625 66.40625 31.78125 66.40625 \nQ 25.390625 66.40625 21.84375 63.234375 \nQ 18.3125 60.0625 18.3125 54.390625 \nz\n\" id=\"DejaVuSans-56\"/>\n      </defs>\n      <g transform=\"translate(7.2 14.798437)scale(0.1 -0.1)\">\n       <use xlink:href=\"#DejaVuSans-48\"/>\n       <use x=\"63.623047\" xlink:href=\"#DejaVuSans-46\"/>\n       <use x=\"95.410156\" xlink:href=\"#DejaVuSans-48\"/>\n       <use x=\"159.033203\" xlink:href=\"#DejaVuSans-56\"/>\n      </g>\n     </g>\n    </g>\n   </g>\n   <g id=\"line2d_18\">\n    <path clip-path=\"url(#p9904b2e1b5)\" d=\"M 51.683807 225.489668 \nL 56.476935 225.584287 \nL 61.270063 225.490496 \nL 66.063191 225.214837 \nL 70.856319 224.733724 \nL 75.649447 224.003344 \nL 80.442576 222.969106 \nL 85.235704 221.574112 \nL 90.028832 219.765317 \nL 94.82196 217.495638 \nL 97.218524 216.174231 \nL 99.615088 214.720888 \nL 102.011652 213.129304 \nL 104.408216 211.392324 \nL 106.80478 209.501743 \nL 109.201344 207.448221 \nL 111.597908 205.221368 \nL 113.994473 202.810035 \nL 116.391037 200.202828 \nL 118.787601 197.388835 \nL 121.184165 194.358547 \nL 123.580729 191.104904 \nL 125.977293 187.624398 \nL 128.373857 183.918137 \nL 133.166985 175.861176 \nL 137.960113 167.063909 \nL 145.149805 153.013757 \nL 152.339498 138.952347 \nL 157.132626 130.192663 \nL 159.52919 126.128741 \nL 161.925754 122.326051 \nL 164.322318 118.816987 \nL 166.718882 115.629027 \nL 169.115446 112.784497 \nL 171.51201 110.30037 \nL 173.908574 108.188047 \nL 176.305138 106.453045 \nL 178.701702 105.094591 \nL 181.098266 104.10513 \nL 183.49483 103.46979 \nL 185.891395 103.165895 \nL 188.287959 103.162629 \nL 190.684523 103.420966 \nL 193.081087 103.893969 \nL 197.874215 105.261685 \nL 202.667343 106.773183 \nL 205.063907 107.418969 \nL 207.460471 107.907464 \nL 209.857035 108.182585 \nL 212.253599 108.19686 \nL 214.650163 107.913598 \nL 217.046727 107.308499 \nL 219.443291 106.370595 \nL 221.839855 105.10245 \nL 224.23642 103.519632 \nL 226.632984 101.649514 \nL 229.029548 99.529542 \nL 233.822676 94.727541 \nL 245.805496 81.990688 \nL 248.20206 79.76228 \nL 250.598624 77.765071 \nL 252.995188 76.051078 \nL 255.391752 74.672348 \nL 257.788316 73.681199 \nL 260.184881 73.130069 \nL 262.581445 73.070832 \nL 264.978009 73.553542 \nL 267.374573 74.624627 \nL 269.771137 76.324626 \nL 272.167701 78.685647 \nL 274.564265 81.728755 \nL 276.960829 85.461544 \nL 279.357393 89.876127 \nL 281.753957 94.947777 \nL 284.150521 100.634367 \nL 286.547085 106.876735 \nL 288.943649 113.59998 \nL 293.736777 128.124699 \nL 305.719598 165.827052 \nL 308.116162 172.79128 \nL 310.512726 179.369449 \nL 312.90929 185.505131 \nL 315.305854 191.157445 \nL 317.702418 196.300991 \nL 320.098982 200.925112 \nL 322.495546 205.032575 \nL 324.89211 208.637829 \nL 327.288674 211.764965 \nL 329.685238 214.445547 \nL 332.081803 216.716429 \nL 334.478367 218.617678 \nL 336.874931 220.190704 \nL 339.271495 221.476634 \nL 341.668059 222.514996 \nL 344.064623 223.342694 \nL 346.461187 223.993282 \nL 348.857751 224.496511 \nL 353.650879 225.159666 \nL 356.047443 225.358892 \nL 356.047443 225.358892 \n\" style=\"fill:none;stroke:#1f77b4;stroke-linecap:square;stroke-width:1.5;\"/>\n   </g>\n   <g id=\"patch_8\">\n    <path d=\"M 36.465625 226.072936 \nL 36.465625 8.632936 \n\" style=\"fill:none;stroke:#000000;stroke-linecap:square;stroke-linejoin:miter;stroke-width:0.8;\"/>\n   </g>\n   <g id=\"patch_9\">\n    <path d=\"M 371.265625 226.072936 \nL 371.265625 8.632936 \n\" style=\"fill:none;stroke:#000000;stroke-linecap:square;stroke-linejoin:miter;stroke-width:0.8;\"/>\n   </g>\n   <g id=\"patch_10\">\n    <path d=\"M 36.465625 226.072936 \nL 371.265625 226.072936 \n\" style=\"fill:none;stroke:#000000;stroke-linecap:square;stroke-linejoin:miter;stroke-width:0.8;\"/>\n   </g>\n   <g id=\"patch_11\">\n    <path d=\"M 36.465625 8.632936 \nL 371.265625 8.632936 \n\" style=\"fill:none;stroke:#000000;stroke-linecap:square;stroke-linejoin:miter;stroke-width:0.8;\"/>\n   </g>\n  </g>\n </g>\n <defs>\n  <clipPath id=\"p9904b2e1b5\">\n   <rect height=\"217.44\" width=\"334.8\" x=\"36.465625\" y=\"8.632936\"/>\n  </clipPath>\n </defs>\n</svg>\n",
      "image/png": "[encoded data removed]"
     },
     "metadata": {
      "needs_background": "light"
     }
    }
   ],
   "source": [
    "df_correlation_nonr = filtering_correlation.get_filtering_correlation(df_nonrandom,combined_ba, percentage_increase=True)\n",
    "sns.distplot(df_correlation_nonr.iloc[1:,:].mean(axis=1));"
   ]
  },
  {
   "cell_type": "code",
   "execution_count": 15,
   "metadata": {},
   "outputs": [
    {
     "output_type": "execute_result",
     "data": {
      "text/plain": [
       "Percentage Increase/Decrease                         bleu1  ROUGE-1  \\\n",
       "('random_honeypot', 'low_std', 'high_random', '...   8.964    8.552   \n",
       "('low_std', 'high_random', 'sentiment_inconsist...   8.964    8.552   \n",
       "('random_honeypot', 'low_std', 'high_random', '...   8.960    8.541   \n",
       "('low_std', 'high_random', 'unpopular', 'sentim...   8.960    8.541   \n",
       "('duration', 'random_honeypot', 'low_std', 'hig...   9.003    8.306   \n",
       "...                                                    ...      ...   \n",
       "('sentiment_inconsistent',)                         -6.876   -7.310   \n",
       "('duration', 'unpopular')                           -6.867   -7.189   \n",
       "('duration',)                                       -6.888   -7.209   \n",
       "('duration', 'unpopular', 'sentiment_inconsiste... -10.517  -11.292   \n",
       "('duration', 'sentiment_inconsistent')             -10.554  -11.319   \n",
       "\n",
       "Percentage Increase/Decrease                        1-gram_overlap  L2_score  \\\n",
       "('random_honeypot', 'low_std', 'high_random', '...           9.232     8.894   \n",
       "('low_std', 'high_random', 'sentiment_inconsist...           9.232     8.894   \n",
       "('random_honeypot', 'low_std', 'high_random', '...           9.219     8.885   \n",
       "('low_std', 'high_random', 'unpopular', 'sentim...           9.219     8.885   \n",
       "('duration', 'random_honeypot', 'low_std', 'hig...           8.542     9.596   \n",
       "...                                                            ...       ...   \n",
       "('sentiment_inconsistent',)                                 -7.375    -8.734   \n",
       "('duration', 'unpopular')                                   -7.552    -5.586   \n",
       "('duration',)                                               -7.557    -5.613   \n",
       "('duration', 'unpopular', 'sentiment_inconsiste...         -11.702   -11.558   \n",
       "('duration', 'sentiment_inconsistent')                     -11.703   -11.602   \n",
       "\n",
       "Percentage Increase/Decrease                        ROUGE-l  BertScore  \\\n",
       "('random_honeypot', 'low_std', 'high_random', '...    9.622     10.842   \n",
       "('low_std', 'high_random', 'sentiment_inconsist...    9.622     10.842   \n",
       "('random_honeypot', 'low_std', 'high_random', '...    9.607     10.829   \n",
       "('low_std', 'high_random', 'unpopular', 'sentim...    9.607     10.829   \n",
       "('duration', 'random_honeypot', 'low_std', 'hig...    9.467     12.245   \n",
       "...                                                     ...        ...   \n",
       "('sentiment_inconsistent',)                          -5.907     -5.069   \n",
       "('duration', 'unpopular')                            -7.287     -5.969   \n",
       "('duration',)                                        -7.315     -5.999   \n",
       "('duration', 'unpopular', 'sentiment_inconsiste...   -9.868     -7.572   \n",
       "('duration', 'sentiment_inconsistent')               -9.900     -7.614   \n",
       "\n",
       "Percentage Increase/Decrease                        chrfScore     WMD  \\\n",
       "('random_honeypot', 'low_std', 'high_random', '...      8.789  10.370   \n",
       "('low_std', 'high_random', 'sentiment_inconsist...      8.789  10.370   \n",
       "('random_honeypot', 'low_std', 'high_random', '...      8.771  10.366   \n",
       "('low_std', 'high_random', 'unpopular', 'sentim...      8.771  10.366   \n",
       "('duration', 'random_honeypot', 'low_std', 'hig...      8.400  10.287   \n",
       "...                                                       ...     ...   \n",
       "('sentiment_inconsistent',)                            -5.658  -7.673   \n",
       "('duration', 'unpopular')                              -6.756  -6.048   \n",
       "('duration',)                                          -6.776  -5.993   \n",
       "('duration', 'unpopular', 'sentiment_inconsiste...     -9.590 -11.000   \n",
       "('duration', 'sentiment_inconsistent')                 -9.600 -10.907   \n",
       "\n",
       "Percentage Increase/Decrease                        ROUGE-2  fasttext_cosine  \\\n",
       "('random_honeypot', 'low_std', 'high_random', '...    9.816            5.843   \n",
       "('low_std', 'high_random', 'sentiment_inconsist...    9.816            5.843   \n",
       "('random_honeypot', 'low_std', 'high_random', '...    9.798            5.821   \n",
       "('low_std', 'high_random', 'unpopular', 'sentim...    9.798            5.821   \n",
       "('duration', 'random_honeypot', 'low_std', 'hig...    8.774            5.455   \n",
       "...                                                     ...              ...   \n",
       "('sentiment_inconsistent',)                          -5.270          -11.599   \n",
       "('duration', 'unpopular')                            -7.899           -6.553   \n",
       "('duration',)                                        -7.928           -6.599   \n",
       "('duration', 'unpopular', 'sentiment_inconsiste...  -10.362          -15.683   \n",
       "('duration', 'sentiment_inconsistent')              -10.395          -15.745   \n",
       "\n",
       "Percentage Increase/Decrease                          bleu  glove_cosine  \\\n",
       "('random_honeypot', 'low_std', 'high_random', '...  10.711         9.893   \n",
       "('low_std', 'high_random', 'sentiment_inconsist...  10.711         9.893   \n",
       "('random_honeypot', 'low_std', 'high_random', '...  10.689         9.876   \n",
       "('low_std', 'high_random', 'unpopular', 'sentim...  10.689         9.876   \n",
       "('duration', 'random_honeypot', 'low_std', 'hig...   9.568        13.565   \n",
       "...                                                    ...           ...   \n",
       "('sentiment_inconsistent',)                         -6.196       -10.246   \n",
       "('duration', 'unpopular')                           -8.500        -4.211   \n",
       "('duration',)                                       -8.538        -4.257   \n",
       "('duration', 'unpopular', 'sentiment_inconsiste... -11.631       -11.674   \n",
       "('duration', 'sentiment_inconsistent')             -11.680       -11.734   \n",
       "\n",
       "Percentage Increase/Decrease                        POS Dist score  \\\n",
       "('random_honeypot', 'low_std', 'high_random', '...          13.553   \n",
       "('low_std', 'high_random', 'sentiment_inconsist...          13.553   \n",
       "('random_honeypot', 'low_std', 'high_random', '...          13.516   \n",
       "('low_std', 'high_random', 'unpopular', 'sentim...          13.516   \n",
       "('duration', 'random_honeypot', 'low_std', 'hig...          10.183   \n",
       "...                                                            ...   \n",
       "('sentiment_inconsistent',)                                 -4.244   \n",
       "('duration', 'unpopular')                                  -11.779   \n",
       "('duration',)                                              -11.886   \n",
       "('duration', 'unpopular', 'sentiment_inconsiste...          -9.907   \n",
       "('duration', 'sentiment_inconsistent')                     -10.052   \n",
       "\n",
       "Percentage Increase/Decrease                        mean_increase  \\\n",
       "('random_honeypot', 'low_std', 'high_random', '...       9.621615   \n",
       "('low_std', 'high_random', 'sentiment_inconsist...       9.621615   \n",
       "('random_honeypot', 'low_std', 'high_random', '...       9.606000   \n",
       "('low_std', 'high_random', 'unpopular', 'sentim...       9.606000   \n",
       "('duration', 'random_honeypot', 'low_std', 'hig...       9.491615   \n",
       "...                                                           ...   \n",
       "('sentiment_inconsistent',)                             -7.089000   \n",
       "('duration', 'unpopular')                               -7.092000   \n",
       "('duration',)                                           -7.119846   \n",
       "('duration', 'unpopular', 'sentiment_inconsiste...     -10.950462   \n",
       "('duration', 'sentiment_inconsistent')                 -10.985000   \n",
       "\n",
       "Percentage Increase/Decrease                        num_heuristics  num_ba  \\\n",
       "('random_honeypot', 'low_std', 'high_random', '...               4     122   \n",
       "('low_std', 'high_random', 'sentiment_inconsist...               3     122   \n",
       "('random_honeypot', 'low_std', 'high_random', '...               5     123   \n",
       "('low_std', 'high_random', 'unpopular', 'sentim...               4     123   \n",
       "('duration', 'random_honeypot', 'low_std', 'hig...               5     144   \n",
       "...                                                            ...     ...   \n",
       "('sentiment_inconsistent',)                                      1      25   \n",
       "('duration', 'unpopular')                                        2      34   \n",
       "('duration',)                                                    1      32   \n",
       "('duration', 'unpopular', 'sentiment_inconsiste...               3      56   \n",
       "('duration', 'sentiment_inconsistent')                           2      54   \n",
       "\n",
       "Percentage Increase/Decrease                        percent_rows_filtered  \n",
       "('random_honeypot', 'low_std', 'high_random', '...                  53.13  \n",
       "('low_std', 'high_random', 'sentiment_inconsist...                  53.13  \n",
       "('random_honeypot', 'low_std', 'high_random', '...                  53.13  \n",
       "('low_std', 'high_random', 'unpopular', 'sentim...                  53.13  \n",
       "('duration', 'random_honeypot', 'low_std', 'hig...                  56.85  \n",
       "...                                                                   ...  \n",
       "('sentiment_inconsistent',)                                         19.62  \n",
       "('duration', 'unpopular')                                            6.49  \n",
       "('duration',)                                                        6.47  \n",
       "('duration', 'unpopular', 'sentiment_inconsiste...                  24.47  \n",
       "('duration', 'sentiment_inconsistent')                              24.45  \n",
       "\n",
       "[64 rows x 17 columns]"
      ],
      "text/html": "<div>\n<style scoped>\n    .dataframe tbody tr th:only-of-type {\n        vertical-align: middle;\n    }\n\n    .dataframe tbody tr th {\n        vertical-align: top;\n    }\n\n    .dataframe thead th {\n        text-align: right;\n    }\n</style>\n<table border=\"1\" class=\"dataframe\">\n  <thead>\n    <tr style=\"text-align: right;\">\n      <th>Percentage Increase/Decrease</th>\n      <th>bleu1</th>\n      <th>ROUGE-1</th>\n      <th>1-gram_overlap</th>\n      <th>L2_score</th>\n      <th>ROUGE-l</th>\n      <th>BertScore</th>\n      <th>chrfScore</th>\n      <th>WMD</th>\n      <th>ROUGE-2</th>\n      <th>fasttext_cosine</th>\n      <th>bleu</th>\n      <th>glove_cosine</th>\n      <th>POS Dist score</th>\n      <th>mean_increase</th>\n      <th>num_heuristics</th>\n      <th>num_ba</th>\n      <th>percent_rows_filtered</th>\n    </tr>\n  </thead>\n  <tbody>\n    <tr>\n      <th>('random_honeypot', 'low_std', 'high_random', 'sentiment_inconsistent')</th>\n      <td>8.964</td>\n      <td>8.552</td>\n      <td>9.232</td>\n      <td>8.894</td>\n      <td>9.622</td>\n      <td>10.842</td>\n      <td>8.789</td>\n      <td>10.370</td>\n      <td>9.816</td>\n      <td>5.843</td>\n      <td>10.711</td>\n      <td>9.893</td>\n      <td>13.553</td>\n      <td>9.621615</td>\n      <td>4</td>\n      <td>122</td>\n      <td>53.13</td>\n    </tr>\n    <tr>\n      <th>('low_std', 'high_random', 'sentiment_inconsistent')</th>\n      <td>8.964</td>\n      <td>8.552</td>\n      <td>9.232</td>\n      <td>8.894</td>\n      <td>9.622</td>\n      <td>10.842</td>\n      <td>8.789</td>\n      <td>10.370</td>\n      <td>9.816</td>\n      <td>5.843</td>\n      <td>10.711</td>\n      <td>9.893</td>\n      <td>13.553</td>\n      <td>9.621615</td>\n      <td>3</td>\n      <td>122</td>\n      <td>53.13</td>\n    </tr>\n    <tr>\n      <th>('random_honeypot', 'low_std', 'high_random', 'unpopular', 'sentiment_inconsistent')</th>\n      <td>8.960</td>\n      <td>8.541</td>\n      <td>9.219</td>\n      <td>8.885</td>\n      <td>9.607</td>\n      <td>10.829</td>\n      <td>8.771</td>\n      <td>10.366</td>\n      <td>9.798</td>\n      <td>5.821</td>\n      <td>10.689</td>\n      <td>9.876</td>\n      <td>13.516</td>\n      <td>9.606000</td>\n      <td>5</td>\n      <td>123</td>\n      <td>53.13</td>\n    </tr>\n    <tr>\n      <th>('low_std', 'high_random', 'unpopular', 'sentiment_inconsistent')</th>\n      <td>8.960</td>\n      <td>8.541</td>\n      <td>9.219</td>\n      <td>8.885</td>\n      <td>9.607</td>\n      <td>10.829</td>\n      <td>8.771</td>\n      <td>10.366</td>\n      <td>9.798</td>\n      <td>5.821</td>\n      <td>10.689</td>\n      <td>9.876</td>\n      <td>13.516</td>\n      <td>9.606000</td>\n      <td>4</td>\n      <td>123</td>\n      <td>53.13</td>\n    </tr>\n    <tr>\n      <th>('duration', 'random_honeypot', 'low_std', 'high_random', 'sentiment_inconsistent')</th>\n      <td>9.003</td>\n      <td>8.306</td>\n      <td>8.542</td>\n      <td>9.596</td>\n      <td>9.467</td>\n      <td>12.245</td>\n      <td>8.400</td>\n      <td>10.287</td>\n      <td>8.774</td>\n      <td>5.455</td>\n      <td>9.568</td>\n      <td>13.565</td>\n      <td>10.183</td>\n      <td>9.491615</td>\n      <td>5</td>\n      <td>144</td>\n      <td>56.85</td>\n    </tr>\n    <tr>\n      <th>...</th>\n      <td>...</td>\n      <td>...</td>\n      <td>...</td>\n      <td>...</td>\n      <td>...</td>\n      <td>...</td>\n      <td>...</td>\n      <td>...</td>\n      <td>...</td>\n      <td>...</td>\n      <td>...</td>\n      <td>...</td>\n      <td>...</td>\n      <td>...</td>\n      <td>...</td>\n      <td>...</td>\n      <td>...</td>\n    </tr>\n    <tr>\n      <th>('sentiment_inconsistent',)</th>\n      <td>-6.876</td>\n      <td>-7.310</td>\n      <td>-7.375</td>\n      <td>-8.734</td>\n      <td>-5.907</td>\n      <td>-5.069</td>\n      <td>-5.658</td>\n      <td>-7.673</td>\n      <td>-5.270</td>\n      <td>-11.599</td>\n      <td>-6.196</td>\n      <td>-10.246</td>\n      <td>-4.244</td>\n      <td>-7.089000</td>\n      <td>1</td>\n      <td>25</td>\n      <td>19.62</td>\n    </tr>\n    <tr>\n      <th>('duration', 'unpopular')</th>\n      <td>-6.867</td>\n      <td>-7.189</td>\n      <td>-7.552</td>\n      <td>-5.586</td>\n      <td>-7.287</td>\n      <td>-5.969</td>\n      <td>-6.756</td>\n      <td>-6.048</td>\n      <td>-7.899</td>\n      <td>-6.553</td>\n      <td>-8.500</td>\n      <td>-4.211</td>\n      <td>-11.779</td>\n      <td>-7.092000</td>\n      <td>2</td>\n      <td>34</td>\n      <td>6.49</td>\n    </tr>\n    <tr>\n      <th>('duration',)</th>\n      <td>-6.888</td>\n      <td>-7.209</td>\n      <td>-7.557</td>\n      <td>-5.613</td>\n      <td>-7.315</td>\n      <td>-5.999</td>\n      <td>-6.776</td>\n      <td>-5.993</td>\n      <td>-7.928</td>\n      <td>-6.599</td>\n      <td>-8.538</td>\n      <td>-4.257</td>\n      <td>-11.886</td>\n      <td>-7.119846</td>\n      <td>1</td>\n      <td>32</td>\n      <td>6.47</td>\n    </tr>\n    <tr>\n      <th>('duration', 'unpopular', 'sentiment_inconsistent')</th>\n      <td>-10.517</td>\n      <td>-11.292</td>\n      <td>-11.702</td>\n      <td>-11.558</td>\n      <td>-9.868</td>\n      <td>-7.572</td>\n      <td>-9.590</td>\n      <td>-11.000</td>\n      <td>-10.362</td>\n      <td>-15.683</td>\n      <td>-11.631</td>\n      <td>-11.674</td>\n      <td>-9.907</td>\n      <td>-10.950462</td>\n      <td>3</td>\n      <td>56</td>\n      <td>24.47</td>\n    </tr>\n    <tr>\n      <th>('duration', 'sentiment_inconsistent')</th>\n      <td>-10.554</td>\n      <td>-11.319</td>\n      <td>-11.703</td>\n      <td>-11.602</td>\n      <td>-9.900</td>\n      <td>-7.614</td>\n      <td>-9.600</td>\n      <td>-10.907</td>\n      <td>-10.395</td>\n      <td>-15.745</td>\n      <td>-11.680</td>\n      <td>-11.734</td>\n      <td>-10.052</td>\n      <td>-10.985000</td>\n      <td>2</td>\n      <td>54</td>\n      <td>24.45</td>\n    </tr>\n  </tbody>\n</table>\n<p>64 rows × 17 columns</p>\n</div>"
     },
     "metadata": {},
     "execution_count": 15
    }
   ],
   "source": [
    "df_correlation_nonr = filtering_correlation.append_heuristic_info(df_correlation_nonr,df_nonrandom)\n",
    "df_correlation_nonr.sort_values(by=[\"mean_increase\",\"percent_rows_filtered\",\"num_heuristics\"],ascending=False)"
   ]
  },
  {
   "cell_type": "code",
   "execution_count": 16,
   "metadata": {},
   "outputs": [
    {
     "output_type": "stream",
     "name": "stdout",
     "text": [
      "['random_honeypot', 'low_std', 'high_random', 'sentiment_inconsistent']\n"
     ]
    },
    {
     "output_type": "execute_result",
     "data": {
      "text/plain": [
       "                    label\n",
       "bleu1            0.326722\n",
       "ROUGE-1          0.323299\n",
       "1-gram_overlap   0.321876\n",
       "ROUGE-l          0.320887\n",
       "L2_score         0.320396\n",
       "BertScore        0.312491\n",
       "chrfScore        0.303963\n",
       "WMD              0.299783\n",
       "ROUGE-2          0.278394\n",
       "bleu             0.246353\n",
       "fasttext_cosine  0.235975\n",
       "glove_cosine     0.229042\n",
       "POS Dist score   0.122968"
      ],
      "text/html": "<div>\n<style scoped>\n    .dataframe tbody tr th:only-of-type {\n        vertical-align: middle;\n    }\n\n    .dataframe tbody tr th {\n        vertical-align: top;\n    }\n\n    .dataframe thead th {\n        text-align: right;\n    }\n</style>\n<table border=\"1\" class=\"dataframe\">\n  <thead>\n    <tr style=\"text-align: right;\">\n      <th></th>\n      <th>label</th>\n    </tr>\n  </thead>\n  <tbody>\n    <tr>\n      <th>bleu1</th>\n      <td>0.326722</td>\n    </tr>\n    <tr>\n      <th>ROUGE-1</th>\n      <td>0.323299</td>\n    </tr>\n    <tr>\n      <th>1-gram_overlap</th>\n      <td>0.321876</td>\n    </tr>\n    <tr>\n      <th>ROUGE-l</th>\n      <td>0.320887</td>\n    </tr>\n    <tr>\n      <th>L2_score</th>\n      <td>0.320396</td>\n    </tr>\n    <tr>\n      <th>BertScore</th>\n      <td>0.312491</td>\n    </tr>\n    <tr>\n      <th>chrfScore</th>\n      <td>0.303963</td>\n    </tr>\n    <tr>\n      <th>WMD</th>\n      <td>0.299783</td>\n    </tr>\n    <tr>\n      <th>ROUGE-2</th>\n      <td>0.278394</td>\n    </tr>\n    <tr>\n      <th>bleu</th>\n      <td>0.246353</td>\n    </tr>\n    <tr>\n      <th>fasttext_cosine</th>\n      <td>0.235975</td>\n    </tr>\n    <tr>\n      <th>glove_cosine</th>\n      <td>0.229042</td>\n    </tr>\n    <tr>\n      <th>POS Dist score</th>\n      <td>0.122968</td>\n    </tr>\n  </tbody>\n</table>\n</div>"
     },
     "metadata": {},
     "execution_count": 16
    }
   ],
   "source": [
    "top_heuristic = list(eval(df_correlation_nonr.sort_values(by=[\"mean_increase\",\"percent_rows_filtered\",\"num_heuristics\"],ascending=False).index[0]))\n",
    "print(top_heuristic)\n",
    "filtering_correlation.get_heuristic_scores(df_nonrandom,top_heuristic)"
   ]
  },
  {
   "source": [
    "### The random pairs"
   ],
   "cell_type": "markdown",
   "metadata": {}
  },
  {
   "cell_type": "code",
   "execution_count": 17,
   "metadata": {},
   "outputs": [
    {
     "output_type": "execute_result",
     "data": {
      "text/plain": [
       "                    label\n",
       "fasttext_cosine  0.119093\n",
       "chrfScore        0.096305\n",
       "glove_cosine     0.091380\n",
       "WMD              0.090213\n",
       "L2_score         0.089046\n",
       "bleu1            0.051464\n",
       "bleu             0.051283\n",
       "ROUGE-1          0.049618\n",
       "1-gram_overlap   0.049025\n",
       "ROUGE-l          0.041517\n",
       "ROUGE-2          0.026466\n",
       "POS Dist score   0.005206\n",
       "BertScore        0.004055"
      ],
      "text/html": "<div>\n<style scoped>\n    .dataframe tbody tr th:only-of-type {\n        vertical-align: middle;\n    }\n\n    .dataframe tbody tr th {\n        vertical-align: top;\n    }\n\n    .dataframe thead th {\n        text-align: right;\n    }\n</style>\n<table border=\"1\" class=\"dataframe\">\n  <thead>\n    <tr style=\"text-align: right;\">\n      <th></th>\n      <th>label</th>\n    </tr>\n  </thead>\n  <tbody>\n    <tr>\n      <th>fasttext_cosine</th>\n      <td>0.119093</td>\n    </tr>\n    <tr>\n      <th>chrfScore</th>\n      <td>0.096305</td>\n    </tr>\n    <tr>\n      <th>glove_cosine</th>\n      <td>0.091380</td>\n    </tr>\n    <tr>\n      <th>WMD</th>\n      <td>0.090213</td>\n    </tr>\n    <tr>\n      <th>L2_score</th>\n      <td>0.089046</td>\n    </tr>\n    <tr>\n      <th>bleu1</th>\n      <td>0.051464</td>\n    </tr>\n    <tr>\n      <th>bleu</th>\n      <td>0.051283</td>\n    </tr>\n    <tr>\n      <th>ROUGE-1</th>\n      <td>0.049618</td>\n    </tr>\n    <tr>\n      <th>1-gram_overlap</th>\n      <td>0.049025</td>\n    </tr>\n    <tr>\n      <th>ROUGE-l</th>\n      <td>0.041517</td>\n    </tr>\n    <tr>\n      <th>ROUGE-2</th>\n      <td>0.026466</td>\n    </tr>\n    <tr>\n      <th>POS Dist score</th>\n      <td>0.005206</td>\n    </tr>\n    <tr>\n      <th>BertScore</th>\n      <td>0.004055</td>\n    </tr>\n  </tbody>\n</table>\n</div>"
     },
     "metadata": {},
     "execution_count": 17
    }
   ],
   "source": [
    "baseline_correlation_randomfiltering_correlation.get_baseline_correlation(df_random)"
   ]
  },
  {
   "cell_type": "code",
   "execution_count": 18,
   "metadata": {},
   "outputs": [
    {
     "output_type": "display_data",
     "data": {
      "text/plain": "<Figure size 432x288 with 1 Axes>",
      "image/svg+xml": "<?xml version=\"1.0\" encoding=\"utf-8\" standalone=\"no\"?>\n<!DOCTYPE svg PUBLIC \"-//W3C//DTD SVG 1.1//EN\"\n  \"http://www.w3.org/Graphics/SVG/1.1/DTD/svg11.dtd\">\n<!-- Created with matplotlib (https://matplotlib.org/) -->\n<svg height=\"248.518125pt\" version=\"1.1\" viewBox=\"0 0 368.925 248.518125\" width=\"368.925pt\" xmlns=\"http://www.w3.org/2000/svg\" xmlns:xlink=\"http://www.w3.org/1999/xlink\">\n <defs>\n  <style type=\"text/css\">\n*{stroke-linecap:butt;stroke-linejoin:round;}\n  </style>\n </defs>\n <g id=\"figure_1\">\n  <g id=\"patch_1\">\n   <path d=\"M -0 248.518125 \nL 368.925 248.518125 \nL 368.925 0 \nL -0 0 \nz\n\" style=\"fill:none;\"/>\n  </g>\n  <g id=\"axes_1\">\n   <g id=\"patch_2\">\n    <path d=\"M 26.925 224.64 \nL 361.725 224.64 \nL 361.725 7.2 \nL 26.925 7.2 \nz\n\" style=\"fill:#ffffff;\"/>\n   </g>\n   <g id=\"patch_3\">\n    <path clip-path=\"url(#pa72cb7d096)\" d=\"M 111.196934 224.64 \nL 144.44816 224.64 \nL 144.44816 17.554286 \nL 111.196934 17.554286 \nz\n\" style=\"fill:#1f77b4;opacity:0.4;\"/>\n   </g>\n   <g id=\"patch_4\">\n    <path clip-path=\"url(#pa72cb7d096)\" d=\"M 144.44816 224.64 \nL 177.699387 224.64 \nL 177.699387 17.554286 \nL 144.44816 17.554286 \nz\n\" style=\"fill:#1f77b4;opacity:0.4;\"/>\n   </g>\n   <g id=\"patch_5\">\n    <path clip-path=\"url(#pa72cb7d096)\" d=\"M 177.699387 224.64 \nL 210.950613 224.64 \nL 210.950613 95.211429 \nL 177.699387 95.211429 \nz\n\" style=\"fill:#1f77b4;opacity:0.4;\"/>\n   </g>\n   <g id=\"patch_6\">\n    <path clip-path=\"url(#pa72cb7d096)\" d=\"M 210.950613 224.64 \nL 244.20184 224.64 \nL 244.20184 56.382857 \nL 210.950613 56.382857 \nz\n\" style=\"fill:#1f77b4;opacity:0.4;\"/>\n   </g>\n   <g id=\"patch_7\">\n    <path clip-path=\"url(#pa72cb7d096)\" d=\"M 244.20184 224.64 \nL 277.453066 224.64 \nL 277.453066 121.097143 \nL 244.20184 121.097143 \nz\n\" style=\"fill:#1f77b4;opacity:0.4;\"/>\n   </g>\n   <g id=\"matplotlib.axis_1\">\n    <g id=\"xtick_1\">\n     <g id=\"line2d_1\">\n      <defs>\n       <path d=\"M 0 0 \nL 0 3.5 \n\" id=\"m37699382c3\" style=\"stroke:#000000;stroke-width:0.8;\"/>\n      </defs>\n      <g>\n       <use style=\"stroke:#000000;stroke-width:0.8;\" x=\"51.065987\" xlink:href=\"#m37699382c3\" y=\"224.64\"/>\n      </g>\n     </g>\n     <g id=\"text_1\">\n      <!-- −0.03 -->\n      <defs>\n       <path d=\"M 10.59375 35.5 \nL 73.1875 35.5 \nL 73.1875 27.203125 \nL 10.59375 27.203125 \nz\n\" id=\"DejaVuSans-8722\"/>\n       <path d=\"M 31.78125 66.40625 \nQ 24.171875 66.40625 20.328125 58.90625 \nQ 16.5 51.421875 16.5 36.375 \nQ 16.5 21.390625 20.328125 13.890625 \nQ 24.171875 6.390625 31.78125 6.390625 \nQ 39.453125 6.390625 43.28125 13.890625 \nQ 47.125 21.390625 47.125 36.375 \nQ 47.125 51.421875 43.28125 58.90625 \nQ 39.453125 66.40625 31.78125 66.40625 \nz\nM 31.78125 74.21875 \nQ 44.046875 74.21875 50.515625 64.515625 \nQ 56.984375 54.828125 56.984375 36.375 \nQ 56.984375 17.96875 50.515625 8.265625 \nQ 44.046875 -1.421875 31.78125 -1.421875 \nQ 19.53125 -1.421875 13.0625 8.265625 \nQ 6.59375 17.96875 6.59375 36.375 \nQ 6.59375 54.828125 13.0625 64.515625 \nQ 19.53125 74.21875 31.78125 74.21875 \nz\n\" id=\"DejaVuSans-48\"/>\n       <path d=\"M 10.6875 12.40625 \nL 21 12.40625 \nL 21 0 \nL 10.6875 0 \nz\n\" id=\"DejaVuSans-46\"/>\n       <path d=\"M 40.578125 39.3125 \nQ 47.65625 37.796875 51.625 33 \nQ 55.609375 28.21875 55.609375 21.1875 \nQ 55.609375 10.40625 48.1875 4.484375 \nQ 40.765625 -1.421875 27.09375 -1.421875 \nQ 22.515625 -1.421875 17.65625 -0.515625 \nQ 12.796875 0.390625 7.625 2.203125 \nL 7.625 11.71875 \nQ 11.71875 9.328125 16.59375 8.109375 \nQ 21.484375 6.890625 26.8125 6.890625 \nQ 36.078125 6.890625 40.9375 10.546875 \nQ 45.796875 14.203125 45.796875 21.1875 \nQ 45.796875 27.640625 41.28125 31.265625 \nQ 36.765625 34.90625 28.71875 34.90625 \nL 20.21875 34.90625 \nL 20.21875 43.015625 \nL 29.109375 43.015625 \nQ 36.375 43.015625 40.234375 45.921875 \nQ 44.09375 48.828125 44.09375 54.296875 \nQ 44.09375 59.90625 40.109375 62.90625 \nQ 36.140625 65.921875 28.71875 65.921875 \nQ 24.65625 65.921875 20.015625 65.03125 \nQ 15.375 64.15625 9.8125 62.3125 \nL 9.8125 71.09375 \nQ 15.4375 72.65625 20.34375 73.4375 \nQ 25.25 74.21875 29.59375 74.21875 \nQ 40.828125 74.21875 47.359375 69.109375 \nQ 53.90625 64.015625 53.90625 55.328125 \nQ 53.90625 49.265625 50.4375 45.09375 \nQ 46.96875 40.921875 40.578125 39.3125 \nz\n\" id=\"DejaVuSans-51\"/>\n      </defs>\n      <g transform=\"translate(35.743331 239.238437)scale(0.1 -0.1)\">\n       <use xlink:href=\"#DejaVuSans-8722\"/>\n       <use x=\"83.789062\" xlink:href=\"#DejaVuSans-48\"/>\n       <use x=\"147.412109\" xlink:href=\"#DejaVuSans-46\"/>\n       <use x=\"179.199219\" xlink:href=\"#DejaVuSans-48\"/>\n       <use x=\"242.822266\" xlink:href=\"#DejaVuSans-51\"/>\n      </g>\n     </g>\n    </g>\n    <g id=\"xtick_2\">\n     <g id=\"line2d_2\">\n      <g>\n       <use style=\"stroke:#000000;stroke-width:0.8;\" x=\"105.292605\" xlink:href=\"#m37699382c3\" y=\"224.64\"/>\n      </g>\n     </g>\n     <g id=\"text_2\">\n      <!-- −0.02 -->\n      <defs>\n       <path d=\"M 19.1875 8.296875 \nL 53.609375 8.296875 \nL 53.609375 0 \nL 7.328125 0 \nL 7.328125 8.296875 \nQ 12.9375 14.109375 22.625 23.890625 \nQ 32.328125 33.6875 34.8125 36.53125 \nQ 39.546875 41.84375 41.421875 45.53125 \nQ 43.3125 49.21875 43.3125 52.78125 \nQ 43.3125 58.59375 39.234375 62.25 \nQ 35.15625 65.921875 28.609375 65.921875 \nQ 23.96875 65.921875 18.8125 64.3125 \nQ 13.671875 62.703125 7.8125 59.421875 \nL 7.8125 69.390625 \nQ 13.765625 71.78125 18.9375 73 \nQ 24.125 74.21875 28.421875 74.21875 \nQ 39.75 74.21875 46.484375 68.546875 \nQ 53.21875 62.890625 53.21875 53.421875 \nQ 53.21875 48.921875 51.53125 44.890625 \nQ 49.859375 40.875 45.40625 35.40625 \nQ 44.1875 33.984375 37.640625 27.21875 \nQ 31.109375 20.453125 19.1875 8.296875 \nz\n\" id=\"DejaVuSans-50\"/>\n      </defs>\n      <g transform=\"translate(89.969948 239.238437)scale(0.1 -0.1)\">\n       <use xlink:href=\"#DejaVuSans-8722\"/>\n       <use x=\"83.789062\" xlink:href=\"#DejaVuSans-48\"/>\n       <use x=\"147.412109\" xlink:href=\"#DejaVuSans-46\"/>\n       <use x=\"179.199219\" xlink:href=\"#DejaVuSans-48\"/>\n       <use x=\"242.822266\" xlink:href=\"#DejaVuSans-50\"/>\n      </g>\n     </g>\n    </g>\n    <g id=\"xtick_3\">\n     <g id=\"line2d_3\">\n      <g>\n       <use style=\"stroke:#000000;stroke-width:0.8;\" x=\"159.519222\" xlink:href=\"#m37699382c3\" y=\"224.64\"/>\n      </g>\n     </g>\n     <g id=\"text_3\">\n      <!-- −0.01 -->\n      <defs>\n       <path d=\"M 12.40625 8.296875 \nL 28.515625 8.296875 \nL 28.515625 63.921875 \nL 10.984375 60.40625 \nL 10.984375 69.390625 \nL 28.421875 72.90625 \nL 38.28125 72.90625 \nL 38.28125 8.296875 \nL 54.390625 8.296875 \nL 54.390625 0 \nL 12.40625 0 \nz\n\" id=\"DejaVuSans-49\"/>\n      </defs>\n      <g transform=\"translate(144.196566 239.238437)scale(0.1 -0.1)\">\n       <use xlink:href=\"#DejaVuSans-8722\"/>\n       <use x=\"83.789062\" xlink:href=\"#DejaVuSans-48\"/>\n       <use x=\"147.412109\" xlink:href=\"#DejaVuSans-46\"/>\n       <use x=\"179.199219\" xlink:href=\"#DejaVuSans-48\"/>\n       <use x=\"242.822266\" xlink:href=\"#DejaVuSans-49\"/>\n      </g>\n     </g>\n    </g>\n    <g id=\"xtick_4\">\n     <g id=\"line2d_4\">\n      <g>\n       <use style=\"stroke:#000000;stroke-width:0.8;\" x=\"213.74584\" xlink:href=\"#m37699382c3\" y=\"224.64\"/>\n      </g>\n     </g>\n     <g id=\"text_4\">\n      <!-- 0.00 -->\n      <g transform=\"translate(202.613027 239.238437)scale(0.1 -0.1)\">\n       <use xlink:href=\"#DejaVuSans-48\"/>\n       <use x=\"63.623047\" xlink:href=\"#DejaVuSans-46\"/>\n       <use x=\"95.410156\" xlink:href=\"#DejaVuSans-48\"/>\n       <use x=\"159.033203\" xlink:href=\"#DejaVuSans-48\"/>\n      </g>\n     </g>\n    </g>\n    <g id=\"xtick_5\">\n     <g id=\"line2d_5\">\n      <g>\n       <use style=\"stroke:#000000;stroke-width:0.8;\" x=\"267.972458\" xlink:href=\"#m37699382c3\" y=\"224.64\"/>\n      </g>\n     </g>\n     <g id=\"text_5\">\n      <!-- 0.01 -->\n      <g transform=\"translate(256.839645 239.238437)scale(0.1 -0.1)\">\n       <use xlink:href=\"#DejaVuSans-48\"/>\n       <use x=\"63.623047\" xlink:href=\"#DejaVuSans-46\"/>\n       <use x=\"95.410156\" xlink:href=\"#DejaVuSans-48\"/>\n       <use x=\"159.033203\" xlink:href=\"#DejaVuSans-49\"/>\n      </g>\n     </g>\n    </g>\n    <g id=\"xtick_6\">\n     <g id=\"line2d_6\">\n      <g>\n       <use style=\"stroke:#000000;stroke-width:0.8;\" x=\"322.199075\" xlink:href=\"#m37699382c3\" y=\"224.64\"/>\n      </g>\n     </g>\n     <g id=\"text_6\">\n      <!-- 0.02 -->\n      <g transform=\"translate(311.066263 239.238437)scale(0.1 -0.1)\">\n       <use xlink:href=\"#DejaVuSans-48\"/>\n       <use x=\"63.623047\" xlink:href=\"#DejaVuSans-46\"/>\n       <use x=\"95.410156\" xlink:href=\"#DejaVuSans-48\"/>\n       <use x=\"159.033203\" xlink:href=\"#DejaVuSans-50\"/>\n      </g>\n     </g>\n    </g>\n   </g>\n   <g id=\"matplotlib.axis_2\">\n    <g id=\"ytick_1\">\n     <g id=\"line2d_7\">\n      <defs>\n       <path d=\"M 0 0 \nL -3.5 0 \n\" id=\"m2fc157d098\" style=\"stroke:#000000;stroke-width:0.8;\"/>\n      </defs>\n      <g>\n       <use style=\"stroke:#000000;stroke-width:0.8;\" x=\"26.925\" xlink:href=\"#m2fc157d098\" y=\"224.64\"/>\n      </g>\n     </g>\n     <g id=\"text_7\">\n      <!-- 0 -->\n      <g transform=\"translate(13.5625 228.439219)scale(0.1 -0.1)\">\n       <use xlink:href=\"#DejaVuSans-48\"/>\n      </g>\n     </g>\n    </g>\n    <g id=\"ytick_2\">\n     <g id=\"line2d_8\">\n      <g>\n       <use style=\"stroke:#000000;stroke-width:0.8;\" x=\"26.925\" xlink:href=\"#m2fc157d098\" y=\"199.640239\"/>\n      </g>\n     </g>\n     <g id=\"text_8\">\n      <!-- 5 -->\n      <defs>\n       <path d=\"M 10.796875 72.90625 \nL 49.515625 72.90625 \nL 49.515625 64.59375 \nL 19.828125 64.59375 \nL 19.828125 46.734375 \nQ 21.96875 47.46875 24.109375 47.828125 \nQ 26.265625 48.1875 28.421875 48.1875 \nQ 40.625 48.1875 47.75 41.5 \nQ 54.890625 34.8125 54.890625 23.390625 \nQ 54.890625 11.625 47.5625 5.09375 \nQ 40.234375 -1.421875 26.90625 -1.421875 \nQ 22.3125 -1.421875 17.546875 -0.640625 \nQ 12.796875 0.140625 7.71875 1.703125 \nL 7.71875 11.625 \nQ 12.109375 9.234375 16.796875 8.0625 \nQ 21.484375 6.890625 26.703125 6.890625 \nQ 35.15625 6.890625 40.078125 11.328125 \nQ 45.015625 15.765625 45.015625 23.390625 \nQ 45.015625 31 40.078125 35.4375 \nQ 35.15625 39.890625 26.703125 39.890625 \nQ 22.75 39.890625 18.8125 39.015625 \nQ 14.890625 38.140625 10.796875 36.28125 \nz\n\" id=\"DejaVuSans-53\"/>\n      </defs>\n      <g transform=\"translate(13.5625 203.439457)scale(0.1 -0.1)\">\n       <use xlink:href=\"#DejaVuSans-53\"/>\n      </g>\n     </g>\n    </g>\n    <g id=\"ytick_3\">\n     <g id=\"line2d_9\">\n      <g>\n       <use style=\"stroke:#000000;stroke-width:0.8;\" x=\"26.925\" xlink:href=\"#m2fc157d098\" y=\"174.640477\"/>\n      </g>\n     </g>\n     <g id=\"text_9\">\n      <!-- 10 -->\n      <g transform=\"translate(7.2 178.439696)scale(0.1 -0.1)\">\n       <use xlink:href=\"#DejaVuSans-49\"/>\n       <use x=\"63.623047\" xlink:href=\"#DejaVuSans-48\"/>\n      </g>\n     </g>\n    </g>\n    <g id=\"ytick_4\">\n     <g id=\"line2d_10\">\n      <g>\n       <use style=\"stroke:#000000;stroke-width:0.8;\" x=\"26.925\" xlink:href=\"#m2fc157d098\" y=\"149.640716\"/>\n      </g>\n     </g>\n     <g id=\"text_10\">\n      <!-- 15 -->\n      <g transform=\"translate(7.2 153.439935)scale(0.1 -0.1)\">\n       <use xlink:href=\"#DejaVuSans-49\"/>\n       <use x=\"63.623047\" xlink:href=\"#DejaVuSans-53\"/>\n      </g>\n     </g>\n    </g>\n    <g id=\"ytick_5\">\n     <g id=\"line2d_11\">\n      <g>\n       <use style=\"stroke:#000000;stroke-width:0.8;\" x=\"26.925\" xlink:href=\"#m2fc157d098\" y=\"124.640954\"/>\n      </g>\n     </g>\n     <g id=\"text_11\">\n      <!-- 20 -->\n      <g transform=\"translate(7.2 128.440173)scale(0.1 -0.1)\">\n       <use xlink:href=\"#DejaVuSans-50\"/>\n       <use x=\"63.623047\" xlink:href=\"#DejaVuSans-48\"/>\n      </g>\n     </g>\n    </g>\n    <g id=\"ytick_6\">\n     <g id=\"line2d_12\">\n      <g>\n       <use style=\"stroke:#000000;stroke-width:0.8;\" x=\"26.925\" xlink:href=\"#m2fc157d098\" y=\"99.641193\"/>\n      </g>\n     </g>\n     <g id=\"text_12\">\n      <!-- 25 -->\n      <g transform=\"translate(7.2 103.440412)scale(0.1 -0.1)\">\n       <use xlink:href=\"#DejaVuSans-50\"/>\n       <use x=\"63.623047\" xlink:href=\"#DejaVuSans-53\"/>\n      </g>\n     </g>\n    </g>\n    <g id=\"ytick_7\">\n     <g id=\"line2d_13\">\n      <g>\n       <use style=\"stroke:#000000;stroke-width:0.8;\" x=\"26.925\" xlink:href=\"#m2fc157d098\" y=\"74.641432\"/>\n      </g>\n     </g>\n     <g id=\"text_13\">\n      <!-- 30 -->\n      <g transform=\"translate(7.2 78.44065)scale(0.1 -0.1)\">\n       <use xlink:href=\"#DejaVuSans-51\"/>\n       <use x=\"63.623047\" xlink:href=\"#DejaVuSans-48\"/>\n      </g>\n     </g>\n    </g>\n    <g id=\"ytick_8\">\n     <g id=\"line2d_14\">\n      <g>\n       <use style=\"stroke:#000000;stroke-width:0.8;\" x=\"26.925\" xlink:href=\"#m2fc157d098\" y=\"49.64167\"/>\n      </g>\n     </g>\n     <g id=\"text_14\">\n      <!-- 35 -->\n      <g transform=\"translate(7.2 53.440889)scale(0.1 -0.1)\">\n       <use xlink:href=\"#DejaVuSans-51\"/>\n       <use x=\"63.623047\" xlink:href=\"#DejaVuSans-53\"/>\n      </g>\n     </g>\n    </g>\n    <g id=\"ytick_9\">\n     <g id=\"line2d_15\">\n      <g>\n       <use style=\"stroke:#000000;stroke-width:0.8;\" x=\"26.925\" xlink:href=\"#m2fc157d098\" y=\"24.641909\"/>\n      </g>\n     </g>\n     <g id=\"text_15\">\n      <!-- 40 -->\n      <defs>\n       <path d=\"M 37.796875 64.3125 \nL 12.890625 25.390625 \nL 37.796875 25.390625 \nz\nM 35.203125 72.90625 \nL 47.609375 72.90625 \nL 47.609375 25.390625 \nL 58.015625 25.390625 \nL 58.015625 17.1875 \nL 47.609375 17.1875 \nL 47.609375 0 \nL 37.796875 0 \nL 37.796875 17.1875 \nL 4.890625 17.1875 \nL 4.890625 26.703125 \nz\n\" id=\"DejaVuSans-52\"/>\n      </defs>\n      <g transform=\"translate(7.2 28.441127)scale(0.1 -0.1)\">\n       <use xlink:href=\"#DejaVuSans-52\"/>\n       <use x=\"63.623047\" xlink:href=\"#DejaVuSans-48\"/>\n      </g>\n     </g>\n    </g>\n   </g>\n   <g id=\"line2d_16\">\n    <path clip-path=\"url(#pa72cb7d096)\" d=\"M 42.143182 224.033291 \nL 46.93631 223.860525 \nL 51.729438 223.388941 \nL 54.126002 223.007786 \nL 56.522566 222.503418 \nL 58.91913 221.850494 \nL 61.315694 221.019118 \nL 63.712258 219.974937 \nL 66.108822 218.679419 \nL 68.505387 217.09036 \nL 70.901951 215.162663 \nL 73.298515 212.849419 \nL 75.695079 210.103305 \nL 78.091643 206.878304 \nL 80.488207 203.13172 \nL 82.884771 198.826429 \nL 85.281335 193.933305 \nL 87.677899 188.433697 \nL 90.074463 182.321837 \nL 92.471027 175.607032 \nL 94.867591 168.315479 \nL 97.264155 160.491549 \nL 102.057283 143.51776 \nL 109.246976 116.218724 \nL 114.040104 98.25621 \nL 116.436668 89.764114 \nL 118.833232 81.781132 \nL 121.229796 74.433003 \nL 123.62636 67.830488 \nL 126.022924 62.065173 \nL 128.419488 57.206047 \nL 130.816052 53.297065 \nL 133.212616 50.35579 \nL 135.60918 48.373206 \nL 138.005744 47.314655 \nL 140.402309 47.121823 \nL 142.798873 47.715622 \nL 145.195437 48.999761 \nL 147.592001 50.86478 \nL 149.988565 53.192312 \nL 152.385129 55.859332 \nL 164.367949 70.130078 \nL 166.764513 72.445893 \nL 169.161077 74.3941 \nL 171.557641 75.922241 \nL 173.954205 76.993516 \nL 176.35077 77.58726 \nL 178.747334 77.699238 \nL 181.143898 77.34176 \nL 183.540462 76.543556 \nL 185.937026 75.349352 \nL 188.33359 73.819052 \nL 190.730154 72.026445 \nL 200.31641 64.076191 \nL 202.712974 62.405128 \nL 205.109538 61.065262 \nL 207.506102 60.147729 \nL 209.902666 59.730973 \nL 212.29923 59.877322 \nL 214.695795 60.630241 \nL 217.092359 62.012428 \nL 219.488923 64.024908 \nL 221.885487 66.647204 \nL 224.282051 69.838587 \nL 226.678615 73.540357 \nL 229.075179 77.679036 \nL 231.471743 82.170276 \nL 236.264871 91.845443 \nL 243.454563 106.768326 \nL 248.247691 116.173034 \nL 253.04082 124.792015 \nL 257.833948 132.61575 \nL 262.627076 139.845978 \nL 274.609896 157.405492 \nL 279.403024 164.868652 \nL 286.592717 176.62621 \nL 293.782409 188.422899 \nL 298.575537 195.802477 \nL 300.972101 199.234496 \nL 303.368665 202.454318 \nL 305.765229 205.439371 \nL 308.161793 208.173973 \nL 310.558357 210.649436 \nL 312.954921 212.863782 \nL 315.351485 214.821144 \nL 317.748049 216.530924 \nL 320.144613 218.006796 \nL 322.541178 219.26564 \nL 324.937742 220.326458 \nL 327.334306 221.209359 \nL 329.73087 221.934629 \nL 332.127434 222.521925 \nL 336.920562 223.354175 \nL 341.71369 223.828391 \nL 346.506818 224.025951 \nL 346.506818 224.025951 \n\" style=\"fill:none;stroke:#1f77b4;stroke-linecap:square;stroke-width:1.5;\"/>\n   </g>\n   <g id=\"patch_8\">\n    <path d=\"M 26.925 224.64 \nL 26.925 7.2 \n\" style=\"fill:none;stroke:#000000;stroke-linecap:square;stroke-linejoin:miter;stroke-width:0.8;\"/>\n   </g>\n   <g id=\"patch_9\">\n    <path d=\"M 361.725 224.64 \nL 361.725 7.2 \n\" style=\"fill:none;stroke:#000000;stroke-linecap:square;stroke-linejoin:miter;stroke-width:0.8;\"/>\n   </g>\n   <g id=\"patch_10\">\n    <path d=\"M 26.925 224.64 \nL 361.725 224.64 \n\" style=\"fill:none;stroke:#000000;stroke-linecap:square;stroke-linejoin:miter;stroke-width:0.8;\"/>\n   </g>\n   <g id=\"patch_11\">\n    <path d=\"M 26.925 7.2 \nL 361.725 7.2 \n\" style=\"fill:none;stroke:#000000;stroke-linecap:square;stroke-linejoin:miter;stroke-width:0.8;\"/>\n   </g>\n  </g>\n </g>\n <defs>\n  <clipPath id=\"pa72cb7d096\">\n   <rect height=\"217.44\" width=\"334.8\" x=\"26.925\" y=\"7.2\"/>\n  </clipPath>\n </defs>\n</svg>\n",
      "image/png": "[encoded data removed]"
     },
     "metadata": {
      "needs_background": "light"
     }
    }
   ],
   "source": [
    "df_correlation_r = filtering_correlation.get_filtering_correlation(df_random,combined_ba, percentage_increase=False)\n",
    "sns.distplot(df_correlation_r.iloc[1:,:].mean(axis=1));"
   ]
  },
  {
   "cell_type": "code",
   "execution_count": 19,
   "metadata": {},
   "outputs": [
    {
     "output_type": "execute_result",
     "data": {
      "text/plain": [
       "Total Increase/Decrease                             fasttext_cosine  \\\n",
       "('random_honeypot', 'low_std', 'high_random')             -0.031612   \n",
       "('low_std', 'high_random')                                -0.031612   \n",
       "('random_honeypot', 'low_std', 'high_random', '...        -0.030670   \n",
       "('low_std', 'high_random', 'unpopular')                   -0.030670   \n",
       "('duration', 'random_honeypot', 'low_std', 'hig...        -0.036283   \n",
       "...                                                             ...   \n",
       "('duration', 'random_honeypot', 'sentiment_inco...        -0.041496   \n",
       "('unpopular', 'sentiment_inconsistent')                   -0.028004   \n",
       "('sentiment_inconsistent',)                               -0.028647   \n",
       "('duration', 'unpopular', 'sentiment_inconsiste...        -0.028274   \n",
       "('duration', 'sentiment_inconsistent')                    -0.028894   \n",
       "\n",
       "Total Increase/Decrease                             chrfScore  glove_cosine  \\\n",
       "('random_honeypot', 'low_std', 'high_random')        0.019991     -0.006138   \n",
       "('low_std', 'high_random')                           0.019991     -0.006138   \n",
       "('random_honeypot', 'low_std', 'high_random', '...   0.019373     -0.005606   \n",
       "('low_std', 'high_random', 'unpopular')              0.019373     -0.005606   \n",
       "('duration', 'random_honeypot', 'low_std', 'hig...   0.014584     -0.011187   \n",
       "...                                                       ...           ...   \n",
       "('duration', 'random_honeypot', 'sentiment_inco...  -0.038385     -0.028044   \n",
       "('unpopular', 'sentiment_inconsistent')             -0.034538     -0.017413   \n",
       "('sentiment_inconsistent',)                         -0.034346     -0.017750   \n",
       "('duration', 'unpopular', 'sentiment_inconsiste...  -0.039458     -0.019321   \n",
       "('duration', 'sentiment_inconsistent')              -0.039274     -0.019646   \n",
       "\n",
       "Total Increase/Decrease                                  WMD  L2_score  \\\n",
       "('random_honeypot', 'low_std', 'high_random')       0.001156  0.010424   \n",
       "('low_std', 'high_random')                          0.001156  0.010424   \n",
       "('random_honeypot', 'low_std', 'high_random', '...  0.000261  0.011609   \n",
       "('low_std', 'high_random', 'unpopular')             0.000261  0.011609   \n",
       "('duration', 'random_honeypot', 'low_std', 'hig... -0.001460  0.006727   \n",
       "...                                                      ...       ...   \n",
       "('duration', 'random_honeypot', 'sentiment_inco... -0.037390 -0.018107   \n",
       "('unpopular', 'sentiment_inconsistent')            -0.035814 -0.017048   \n",
       "('sentiment_inconsistent',)                        -0.035600 -0.017605   \n",
       "('duration', 'unpopular', 'sentiment_inconsiste... -0.035141 -0.017475   \n",
       "('duration', 'sentiment_inconsistent')             -0.034932 -0.018013   \n",
       "\n",
       "Total Increase/Decrease                                bleu1      bleu  \\\n",
       "('random_honeypot', 'low_std', 'high_random')       0.027303  0.015922   \n",
       "('low_std', 'high_random')                          0.027303  0.015922   \n",
       "('random_honeypot', 'low_std', 'high_random', '...  0.026990  0.015989   \n",
       "('low_std', 'high_random', 'unpopular')             0.026990  0.015989   \n",
       "('duration', 'random_honeypot', 'low_std', 'hig...  0.025554  0.015175   \n",
       "...                                                      ...       ...   \n",
       "('duration', 'random_honeypot', 'sentiment_inco... -0.014797 -0.008055   \n",
       "('unpopular', 'sentiment_inconsistent')            -0.023377 -0.009573   \n",
       "('sentiment_inconsistent',)                        -0.023464 -0.009573   \n",
       "('duration', 'unpopular', 'sentiment_inconsiste... -0.025909 -0.009260   \n",
       "('duration', 'sentiment_inconsistent')             -0.025994 -0.009261   \n",
       "\n",
       "Total Increase/Decrease                              ROUGE-1  1-gram_overlap  \\\n",
       "('random_honeypot', 'low_std', 'high_random')       0.026780        0.024472   \n",
       "('low_std', 'high_random')                          0.026780        0.024472   \n",
       "('random_honeypot', 'low_std', 'high_random', '...  0.026584        0.024225   \n",
       "('low_std', 'high_random', 'unpopular')             0.026584        0.024225   \n",
       "('duration', 'random_honeypot', 'low_std', 'hig...  0.025013        0.023559   \n",
       "...                                                      ...             ...   \n",
       "('duration', 'random_honeypot', 'sentiment_inco... -0.013852       -0.012109   \n",
       "('unpopular', 'sentiment_inconsistent')            -0.022683       -0.021089   \n",
       "('sentiment_inconsistent',)                        -0.022826       -0.021192   \n",
       "('duration', 'unpopular', 'sentiment_inconsiste... -0.023880       -0.022640   \n",
       "('duration', 'sentiment_inconsistent')             -0.024019       -0.022740   \n",
       "\n",
       "Total Increase/Decrease                              ROUGE-l   ROUGE-2  \\\n",
       "('random_honeypot', 'low_std', 'high_random')       0.025162  0.013871   \n",
       "('low_std', 'high_random')                          0.025162  0.013871   \n",
       "('random_honeypot', 'low_std', 'high_random', '...  0.024770  0.012117   \n",
       "('low_std', 'high_random', 'unpopular')             0.024770  0.012117   \n",
       "('duration', 'random_honeypot', 'low_std', 'hig...  0.023803  0.015070   \n",
       "...                                                      ...       ...   \n",
       "('duration', 'random_honeypot', 'sentiment_inco... -0.006373  0.003616   \n",
       "('unpopular', 'sentiment_inconsistent')            -0.016293 -0.000474   \n",
       "('sentiment_inconsistent',)                        -0.016360  0.000164   \n",
       "('duration', 'unpopular', 'sentiment_inconsiste... -0.017633 -0.003470   \n",
       "('duration', 'sentiment_inconsistent')             -0.017699 -0.002855   \n",
       "\n",
       "Total Increase/Decrease                             POS Dist score  BertScore  \\\n",
       "('random_honeypot', 'low_std', 'high_random')             0.003548   0.021850   \n",
       "('low_std', 'high_random')                                0.003548   0.021850   \n",
       "('random_honeypot', 'low_std', 'high_random', '...        0.002983   0.022427   \n",
       "('low_std', 'high_random', 'unpopular')                   0.002983   0.022427   \n",
       "('duration', 'random_honeypot', 'low_std', 'hig...       -0.002412   0.018690   \n",
       "...                                                            ...        ...   \n",
       "('duration', 'random_honeypot', 'sentiment_inco...        0.003799  -0.000073   \n",
       "('unpopular', 'sentiment_inconsistent')                  -0.003657   0.000673   \n",
       "('sentiment_inconsistent',)                              -0.003105   0.000552   \n",
       "('duration', 'unpopular', 'sentiment_inconsiste...        0.001868  -0.003742   \n",
       "('duration', 'sentiment_inconsistent')                    0.001338  -0.003858   \n",
       "\n",
       "Total Increase/Decrease                             mean_increase  \\\n",
       "('random_honeypot', 'low_std', 'high_random')            0.011748   \n",
       "('low_std', 'high_random')                               0.011748   \n",
       "('random_honeypot', 'low_std', 'high_random', '...       0.011619   \n",
       "('low_std', 'high_random', 'unpopular')                  0.011619   \n",
       "('duration', 'random_honeypot', 'low_std', 'hig...       0.008987   \n",
       "...                                                           ...   \n",
       "('duration', 'random_honeypot', 'sentiment_inco...      -0.016251   \n",
       "('unpopular', 'sentiment_inconsistent')                 -0.017638   \n",
       "('sentiment_inconsistent',)                             -0.017673   \n",
       "('duration', 'unpopular', 'sentiment_inconsiste...      -0.018795   \n",
       "('duration', 'sentiment_inconsistent')                  -0.018911   \n",
       "\n",
       "Total Increase/Decrease                             num_heuristics  num_ba  \\\n",
       "('random_honeypot', 'low_std', 'high_random')                    3     101   \n",
       "('low_std', 'high_random')                                       2     101   \n",
       "('random_honeypot', 'low_std', 'high_random', '...               4     102   \n",
       "('low_std', 'high_random', 'unpopular')                          3     102   \n",
       "('duration', 'random_honeypot', 'low_std', 'hig...               4     126   \n",
       "...                                                            ...     ...   \n",
       "('duration', 'random_honeypot', 'sentiment_inco...               3      67   \n",
       "('unpopular', 'sentiment_inconsistent')                          2      27   \n",
       "('sentiment_inconsistent',)                                      1      25   \n",
       "('duration', 'unpopular', 'sentiment_inconsiste...               3      56   \n",
       "('duration', 'sentiment_inconsistent')                           2      54   \n",
       "\n",
       "Total Increase/Decrease                             percent_rows_filtered  \n",
       "('random_honeypot', 'low_std', 'high_random')                       37.93  \n",
       "('low_std', 'high_random')                                          37.93  \n",
       "('random_honeypot', 'low_std', 'high_random', '...                  37.95  \n",
       "('low_std', 'high_random', 'unpopular')                             37.95  \n",
       "('duration', 'random_honeypot', 'low_std', 'hig...                  42.20  \n",
       "...                                                                   ...  \n",
       "('duration', 'random_honeypot', 'sentiment_inco...                  32.11  \n",
       "('unpopular', 'sentiment_inconsistent')                             19.33  \n",
       "('sentiment_inconsistent',)                                         19.29  \n",
       "('duration', 'unpopular', 'sentiment_inconsiste...                  23.35  \n",
       "('duration', 'sentiment_inconsistent')                              23.30  \n",
       "\n",
       "[64 rows x 17 columns]"
      ],
      "text/html": "<div>\n<style scoped>\n    .dataframe tbody tr th:only-of-type {\n        vertical-align: middle;\n    }\n\n    .dataframe tbody tr th {\n        vertical-align: top;\n    }\n\n    .dataframe thead th {\n        text-align: right;\n    }\n</style>\n<table border=\"1\" class=\"dataframe\">\n  <thead>\n    <tr style=\"text-align: right;\">\n      <th>Total Increase/Decrease</th>\n      <th>fasttext_cosine</th>\n      <th>chrfScore</th>\n      <th>glove_cosine</th>\n      <th>WMD</th>\n      <th>L2_score</th>\n      <th>bleu1</th>\n      <th>bleu</th>\n      <th>ROUGE-1</th>\n      <th>1-gram_overlap</th>\n      <th>ROUGE-l</th>\n      <th>ROUGE-2</th>\n      <th>POS Dist score</th>\n      <th>BertScore</th>\n      <th>mean_increase</th>\n      <th>num_heuristics</th>\n      <th>num_ba</th>\n      <th>percent_rows_filtered</th>\n    </tr>\n  </thead>\n  <tbody>\n    <tr>\n      <th>('random_honeypot', 'low_std', 'high_random')</th>\n      <td>-0.031612</td>\n      <td>0.019991</td>\n      <td>-0.006138</td>\n      <td>0.001156</td>\n      <td>0.010424</td>\n      <td>0.027303</td>\n      <td>0.015922</td>\n      <td>0.026780</td>\n      <td>0.024472</td>\n      <td>0.025162</td>\n      <td>0.013871</td>\n      <td>0.003548</td>\n      <td>0.021850</td>\n      <td>0.011748</td>\n      <td>3</td>\n      <td>101</td>\n      <td>37.93</td>\n    </tr>\n    <tr>\n      <th>('low_std', 'high_random')</th>\n      <td>-0.031612</td>\n      <td>0.019991</td>\n      <td>-0.006138</td>\n      <td>0.001156</td>\n      <td>0.010424</td>\n      <td>0.027303</td>\n      <td>0.015922</td>\n      <td>0.026780</td>\n      <td>0.024472</td>\n      <td>0.025162</td>\n      <td>0.013871</td>\n      <td>0.003548</td>\n      <td>0.021850</td>\n      <td>0.011748</td>\n      <td>2</td>\n      <td>101</td>\n      <td>37.93</td>\n    </tr>\n    <tr>\n      <th>('random_honeypot', 'low_std', 'high_random', 'unpopular')</th>\n      <td>-0.030670</td>\n      <td>0.019373</td>\n      <td>-0.005606</td>\n      <td>0.000261</td>\n      <td>0.011609</td>\n      <td>0.026990</td>\n      <td>0.015989</td>\n      <td>0.026584</td>\n      <td>0.024225</td>\n      <td>0.024770</td>\n      <td>0.012117</td>\n      <td>0.002983</td>\n      <td>0.022427</td>\n      <td>0.011619</td>\n      <td>4</td>\n      <td>102</td>\n      <td>37.95</td>\n    </tr>\n    <tr>\n      <th>('low_std', 'high_random', 'unpopular')</th>\n      <td>-0.030670</td>\n      <td>0.019373</td>\n      <td>-0.005606</td>\n      <td>0.000261</td>\n      <td>0.011609</td>\n      <td>0.026990</td>\n      <td>0.015989</td>\n      <td>0.026584</td>\n      <td>0.024225</td>\n      <td>0.024770</td>\n      <td>0.012117</td>\n      <td>0.002983</td>\n      <td>0.022427</td>\n      <td>0.011619</td>\n      <td>3</td>\n      <td>102</td>\n      <td>37.95</td>\n    </tr>\n    <tr>\n      <th>('duration', 'random_honeypot', 'low_std', 'high_random')</th>\n      <td>-0.036283</td>\n      <td>0.014584</td>\n      <td>-0.011187</td>\n      <td>-0.001460</td>\n      <td>0.006727</td>\n      <td>0.025554</td>\n      <td>0.015175</td>\n      <td>0.025013</td>\n      <td>0.023559</td>\n      <td>0.023803</td>\n      <td>0.015070</td>\n      <td>-0.002412</td>\n      <td>0.018690</td>\n      <td>0.008987</td>\n      <td>4</td>\n      <td>126</td>\n      <td>42.20</td>\n    </tr>\n    <tr>\n      <th>...</th>\n      <td>...</td>\n      <td>...</td>\n      <td>...</td>\n      <td>...</td>\n      <td>...</td>\n      <td>...</td>\n      <td>...</td>\n      <td>...</td>\n      <td>...</td>\n      <td>...</td>\n      <td>...</td>\n      <td>...</td>\n      <td>...</td>\n      <td>...</td>\n      <td>...</td>\n      <td>...</td>\n      <td>...</td>\n    </tr>\n    <tr>\n      <th>('duration', 'random_honeypot', 'sentiment_inconsistent')</th>\n      <td>-0.041496</td>\n      <td>-0.038385</td>\n      <td>-0.028044</td>\n      <td>-0.037390</td>\n      <td>-0.018107</td>\n      <td>-0.014797</td>\n      <td>-0.008055</td>\n      <td>-0.013852</td>\n      <td>-0.012109</td>\n      <td>-0.006373</td>\n      <td>0.003616</td>\n      <td>0.003799</td>\n      <td>-0.000073</td>\n      <td>-0.016251</td>\n      <td>3</td>\n      <td>67</td>\n      <td>32.11</td>\n    </tr>\n    <tr>\n      <th>('unpopular', 'sentiment_inconsistent')</th>\n      <td>-0.028004</td>\n      <td>-0.034538</td>\n      <td>-0.017413</td>\n      <td>-0.035814</td>\n      <td>-0.017048</td>\n      <td>-0.023377</td>\n      <td>-0.009573</td>\n      <td>-0.022683</td>\n      <td>-0.021089</td>\n      <td>-0.016293</td>\n      <td>-0.000474</td>\n      <td>-0.003657</td>\n      <td>0.000673</td>\n      <td>-0.017638</td>\n      <td>2</td>\n      <td>27</td>\n      <td>19.33</td>\n    </tr>\n    <tr>\n      <th>('sentiment_inconsistent',)</th>\n      <td>-0.028647</td>\n      <td>-0.034346</td>\n      <td>-0.017750</td>\n      <td>-0.035600</td>\n      <td>-0.017605</td>\n      <td>-0.023464</td>\n      <td>-0.009573</td>\n      <td>-0.022826</td>\n      <td>-0.021192</td>\n      <td>-0.016360</td>\n      <td>0.000164</td>\n      <td>-0.003105</td>\n      <td>0.000552</td>\n      <td>-0.017673</td>\n      <td>1</td>\n      <td>25</td>\n      <td>19.29</td>\n    </tr>\n    <tr>\n      <th>('duration', 'unpopular', 'sentiment_inconsistent')</th>\n      <td>-0.028274</td>\n      <td>-0.039458</td>\n      <td>-0.019321</td>\n      <td>-0.035141</td>\n      <td>-0.017475</td>\n      <td>-0.025909</td>\n      <td>-0.009260</td>\n      <td>-0.023880</td>\n      <td>-0.022640</td>\n      <td>-0.017633</td>\n      <td>-0.003470</td>\n      <td>0.001868</td>\n      <td>-0.003742</td>\n      <td>-0.018795</td>\n      <td>3</td>\n      <td>56</td>\n      <td>23.35</td>\n    </tr>\n    <tr>\n      <th>('duration', 'sentiment_inconsistent')</th>\n      <td>-0.028894</td>\n      <td>-0.039274</td>\n      <td>-0.019646</td>\n      <td>-0.034932</td>\n      <td>-0.018013</td>\n      <td>-0.025994</td>\n      <td>-0.009261</td>\n      <td>-0.024019</td>\n      <td>-0.022740</td>\n      <td>-0.017699</td>\n      <td>-0.002855</td>\n      <td>0.001338</td>\n      <td>-0.003858</td>\n      <td>-0.018911</td>\n      <td>2</td>\n      <td>54</td>\n      <td>23.30</td>\n    </tr>\n  </tbody>\n</table>\n<p>64 rows × 17 columns</p>\n</div>"
     },
     "metadata": {},
     "execution_count": 19
    }
   ],
   "source": [
    "df_correlation_r = filtering_correlation.append_heuristic_info(df_correlation_r,df_random)\n",
    "df_correlation_r.sort_values(by=[\"mean_increase\",\"percent_rows_filtered\",\"num_heuristics\"],ascending=False)"
   ]
  },
  {
   "cell_type": "code",
   "execution_count": 20,
   "metadata": {},
   "outputs": [
    {
     "output_type": "stream",
     "name": "stdout",
     "text": [
      "['random_honeypot', 'low_std', 'high_random']\n"
     ]
    },
    {
     "output_type": "execute_result",
     "data": {
      "text/plain": [
       "                    label\n",
       "chrfScore        0.116296\n",
       "L2_score         0.099471\n",
       "WMD              0.091368\n",
       "fasttext_cosine  0.087480\n",
       "glove_cosine     0.085243\n",
       "bleu1            0.078767\n",
       "ROUGE-1          0.076397\n",
       "1-gram_overlap   0.073497\n",
       "bleu             0.067205\n",
       "ROUGE-l          0.066679\n",
       "ROUGE-2          0.040337\n",
       "BertScore        0.025905\n",
       "POS Dist score   0.008754"
      ],
      "text/html": "<div>\n<style scoped>\n    .dataframe tbody tr th:only-of-type {\n        vertical-align: middle;\n    }\n\n    .dataframe tbody tr th {\n        vertical-align: top;\n    }\n\n    .dataframe thead th {\n        text-align: right;\n    }\n</style>\n<table border=\"1\" class=\"dataframe\">\n  <thead>\n    <tr style=\"text-align: right;\">\n      <th></th>\n      <th>label</th>\n    </tr>\n  </thead>\n  <tbody>\n    <tr>\n      <th>chrfScore</th>\n      <td>0.116296</td>\n    </tr>\n    <tr>\n      <th>L2_score</th>\n      <td>0.099471</td>\n    </tr>\n    <tr>\n      <th>WMD</th>\n      <td>0.091368</td>\n    </tr>\n    <tr>\n      <th>fasttext_cosine</th>\n      <td>0.087480</td>\n    </tr>\n    <tr>\n      <th>glove_cosine</th>\n      <td>0.085243</td>\n    </tr>\n    <tr>\n      <th>bleu1</th>\n      <td>0.078767</td>\n    </tr>\n    <tr>\n      <th>ROUGE-1</th>\n      <td>0.076397</td>\n    </tr>\n    <tr>\n      <th>1-gram_overlap</th>\n      <td>0.073497</td>\n    </tr>\n    <tr>\n      <th>bleu</th>\n      <td>0.067205</td>\n    </tr>\n    <tr>\n      <th>ROUGE-l</th>\n      <td>0.066679</td>\n    </tr>\n    <tr>\n      <th>ROUGE-2</th>\n      <td>0.040337</td>\n    </tr>\n    <tr>\n      <th>BertScore</th>\n      <td>0.025905</td>\n    </tr>\n    <tr>\n      <th>POS Dist score</th>\n      <td>0.008754</td>\n    </tr>\n  </tbody>\n</table>\n</div>"
     },
     "metadata": {},
     "execution_count": 20
    }
   ],
   "source": [
    "top_heuristic = list(eval(df_correlation_r.sort_values(by=[\"mean_increase\",\"percent_rows_filtered\",\"num_heuristics\"],ascending=False).index[0]))\n",
    "print(top_heuristic)\n",
    "filtering_correlation.get_heuristic_scores(df_random,top_heuristic)"
   ]
  },
  {
   "source": [
    "## Divide the dataset into subgroups, see how correlation is for bad_annotators / Radical / Centrist Groups"
   ],
   "cell_type": "markdown",
   "metadata": {}
  },
  {
   "source": [
    "###  Bad annotators\n"
   ],
   "cell_type": "markdown",
   "metadata": {}
  },
  {
   "cell_type": "code",
   "execution_count": 21,
   "metadata": {},
   "outputs": [],
   "source": [
    "ba = combined_ba['ba_combined']\n",
    "df_ba = df_combined[df_combined.annotator.isin(ba)]"
   ]
  },
  {
   "source": [
    "filtering_correlation.get_baseline_correlation(df_ba)"
   ],
   "cell_type": "code",
   "metadata": {},
   "execution_count": 22,
   "outputs": [
    {
     "output_type": "execute_result",
     "data": {
      "text/plain": [
       "                    label\n",
       "ROUGE-1          0.343523\n",
       "bleu1            0.339385\n",
       "ROUGE-l          0.336641\n",
       "1-gram_overlap   0.331485\n",
       "chrfScore        0.329938\n",
       "BertScore        0.329021\n",
       "L2_score         0.316808\n",
       "fasttext_cosine  0.301842\n",
       "ROUGE-2          0.299641\n",
       "WMD              0.281964\n",
       "glove_cosine     0.268632\n",
       "bleu             0.230949\n",
       "POS Dist score   0.204313"
      ],
      "text/html": "<div>\n<style scoped>\n    .dataframe tbody tr th:only-of-type {\n        vertical-align: middle;\n    }\n\n    .dataframe tbody tr th {\n        vertical-align: top;\n    }\n\n    .dataframe thead th {\n        text-align: right;\n    }\n</style>\n<table border=\"1\" class=\"dataframe\">\n  <thead>\n    <tr style=\"text-align: right;\">\n      <th></th>\n      <th>label</th>\n    </tr>\n  </thead>\n  <tbody>\n    <tr>\n      <th>ROUGE-1</th>\n      <td>0.343523</td>\n    </tr>\n    <tr>\n      <th>bleu1</th>\n      <td>0.339385</td>\n    </tr>\n    <tr>\n      <th>ROUGE-l</th>\n      <td>0.336641</td>\n    </tr>\n    <tr>\n      <th>1-gram_overlap</th>\n      <td>0.331485</td>\n    </tr>\n    <tr>\n      <th>chrfScore</th>\n      <td>0.329938</td>\n    </tr>\n    <tr>\n      <th>BertScore</th>\n      <td>0.329021</td>\n    </tr>\n    <tr>\n      <th>L2_score</th>\n      <td>0.316808</td>\n    </tr>\n    <tr>\n      <th>fasttext_cosine</th>\n      <td>0.301842</td>\n    </tr>\n    <tr>\n      <th>ROUGE-2</th>\n      <td>0.299641</td>\n    </tr>\n    <tr>\n      <th>WMD</th>\n      <td>0.281964</td>\n    </tr>\n    <tr>\n      <th>glove_cosine</th>\n      <td>0.268632</td>\n    </tr>\n    <tr>\n      <th>bleu</th>\n      <td>0.230949</td>\n    </tr>\n    <tr>\n      <th>POS Dist score</th>\n      <td>0.204313</td>\n    </tr>\n  </tbody>\n</table>\n</div>"
     },
     "metadata": {},
     "execution_count": 22
    }
   ]
  },
  {
   "source": [
    "### Radical annotators"
   ],
   "cell_type": "markdown",
   "metadata": {}
  },
  {
   "cell_type": "code",
   "execution_count": 23,
   "metadata": {},
   "outputs": [],
   "source": [
    "df_classify_annotator = df_combined.copy()\n",
    "min_five_posters = list(pd.Series(df_combined.groupby('annotator').size()).mask(lambda x: x < 5).dropna().index)\n",
    "df_classify_annotator = df_classify_annotator[df_classify_annotator['annotator'].isin(min_five_posters)]"
   ]
  },
  {
   "cell_type": "code",
   "execution_count": 24,
   "metadata": {},
   "outputs": [],
   "source": [
    "df_classify_annotator['radical'] = [1 if ((x == 1) or (x ==5)) else 0 for x in df_classify_annotator.label]\n",
    "percent_radical = df_classify_annotator.groupby('annotator')['radical'].mean()\n",
    "variance_in_labels = df_classify_annotator.groupby('annotator')['label'].std()"
   ]
  },
  {
   "cell_type": "code",
   "execution_count": 25,
   "metadata": {},
   "outputs": [
    {
     "output_type": "stream",
     "name": "stdout",
     "text": [
      "Number of radical labelers:  145\nNumber of rows with radical labelers:  14030\n"
     ]
    }
   ],
   "source": [
    "radical_labelers = (variance_in_labels > 1) & (percent_radical > 0.5)\n",
    "radical_labelers = list(radical_labelers[radical_labelers].index)\n",
    "print(\"Number of radical labelers: \", len(radical_labelers))\n",
    "print(\"Number of rows with radical labelers: \", df_combined[df_combined.annotator.isin(radical_labelers)].shape[0])"
   ]
  },
  {
   "cell_type": "code",
   "execution_count": 26,
   "metadata": {},
   "outputs": [],
   "source": [
    "df_radical = df_combined[df_combined.annotator.isin(radical_labelers)]"
   ]
  },
  {
   "cell_type": "code",
   "execution_count": 27,
   "metadata": {},
   "outputs": [
    {
     "output_type": "execute_result",
     "data": {
      "text/plain": [
       "                    label\n",
       "ROUGE-1          0.693983\n",
       "bleu1            0.685044\n",
       "ROUGE-l          0.681092\n",
       "BertScore        0.678696\n",
       "1-gram_overlap   0.670148\n",
       "chrfScore        0.657784\n",
       "L2_score         0.638442\n",
       "ROUGE-2          0.602400\n",
       "fasttext_cosine  0.560957\n",
       "WMD              0.560420\n",
       "glove_cosine     0.507444\n",
       "bleu             0.465050\n",
       "POS Dist score   0.397465"
      ],
      "text/html": "<div>\n<style scoped>\n    .dataframe tbody tr th:only-of-type {\n        vertical-align: middle;\n    }\n\n    .dataframe tbody tr th {\n        vertical-align: top;\n    }\n\n    .dataframe thead th {\n        text-align: right;\n    }\n</style>\n<table border=\"1\" class=\"dataframe\">\n  <thead>\n    <tr style=\"text-align: right;\">\n      <th></th>\n      <th>label</th>\n    </tr>\n  </thead>\n  <tbody>\n    <tr>\n      <th>ROUGE-1</th>\n      <td>0.693983</td>\n    </tr>\n    <tr>\n      <th>bleu1</th>\n      <td>0.685044</td>\n    </tr>\n    <tr>\n      <th>ROUGE-l</th>\n      <td>0.681092</td>\n    </tr>\n    <tr>\n      <th>BertScore</th>\n      <td>0.678696</td>\n    </tr>\n    <tr>\n      <th>1-gram_overlap</th>\n      <td>0.670148</td>\n    </tr>\n    <tr>\n      <th>chrfScore</th>\n      <td>0.657784</td>\n    </tr>\n    <tr>\n      <th>L2_score</th>\n      <td>0.638442</td>\n    </tr>\n    <tr>\n      <th>ROUGE-2</th>\n      <td>0.602400</td>\n    </tr>\n    <tr>\n      <th>fasttext_cosine</th>\n      <td>0.560957</td>\n    </tr>\n    <tr>\n      <th>WMD</th>\n      <td>0.560420</td>\n    </tr>\n    <tr>\n      <th>glove_cosine</th>\n      <td>0.507444</td>\n    </tr>\n    <tr>\n      <th>bleu</th>\n      <td>0.465050</td>\n    </tr>\n    <tr>\n      <th>POS Dist score</th>\n      <td>0.397465</td>\n    </tr>\n  </tbody>\n</table>\n</div>"
     },
     "metadata": {},
     "execution_count": 27
    }
   ],
   "source": [
    "filtering_correlation.get_baseline_correlation(df_radical)"
   ]
  },
  {
   "cell_type": "code",
   "execution_count": 28,
   "metadata": {},
   "outputs": [
    {
     "output_type": "display_data",
     "data": {
      "text/plain": "<Figure size 432x288 with 1 Axes>",
      "image/svg+xml": "<?xml version=\"1.0\" encoding=\"utf-8\" standalone=\"no\"?>\n<!DOCTYPE svg PUBLIC \"-//W3C//DTD SVG 1.1//EN\"\n  \"http://www.w3.org/Graphics/SVG/1.1/DTD/svg11.dtd\">\n<!-- Created with matplotlib (https://matplotlib.org/) -->\n<svg height=\"248.518125pt\" version=\"1.1\" viewBox=\"0 0 372.103125 248.518125\" width=\"372.103125pt\" xmlns=\"http://www.w3.org/2000/svg\" xmlns:xlink=\"http://www.w3.org/1999/xlink\">\n <defs>\n  <style type=\"text/css\">\n*{stroke-linecap:butt;stroke-linejoin:round;}\n  </style>\n </defs>\n <g id=\"figure_1\">\n  <g id=\"patch_1\">\n   <path d=\"M 0 248.518125 \nL 372.103125 248.518125 \nL 372.103125 0 \nL 0 0 \nz\n\" style=\"fill:none;\"/>\n  </g>\n  <g id=\"axes_1\">\n   <g id=\"patch_2\">\n    <path d=\"M 30.103125 224.64 \nL 364.903125 224.64 \nL 364.903125 7.2 \nL 30.103125 7.2 \nz\n\" style=\"fill:#ffffff;\"/>\n   </g>\n   <g id=\"patch_3\">\n    <path clip-path=\"url(#p7c8637708e)\" d=\"M 107.898479 224.64 \nL 137.766695 224.64 \nL 137.766695 75.797143 \nL 107.898479 75.797143 \nz\n\" style=\"fill:#1f77b4;opacity:0.4;\"/>\n   </g>\n   <g id=\"patch_4\">\n    <path clip-path=\"url(#p7c8637708e)\" d=\"M 137.766695 224.64 \nL 167.63491 224.64 \nL 167.63491 224.64 \nL 137.766695 224.64 \nz\n\" style=\"fill:#1f77b4;opacity:0.4;\"/>\n   </g>\n   <g id=\"patch_5\">\n    <path clip-path=\"url(#p7c8637708e)\" d=\"M 167.63491 224.64 \nL 197.503125 224.64 \nL 197.503125 17.554286 \nL 167.63491 17.554286 \nz\n\" style=\"fill:#1f77b4;opacity:0.4;\"/>\n   </g>\n   <g id=\"patch_6\">\n    <path clip-path=\"url(#p7c8637708e)\" d=\"M 197.503125 224.64 \nL 227.37134 224.64 \nL 227.37134 224.64 \nL 197.503125 224.64 \nz\n\" style=\"fill:#1f77b4;opacity:0.4;\"/>\n   </g>\n   <g id=\"patch_7\">\n    <path clip-path=\"url(#p7c8637708e)\" d=\"M 227.37134 224.64 \nL 257.239555 224.64 \nL 257.239555 224.64 \nL 227.37134 224.64 \nz\n\" style=\"fill:#1f77b4;opacity:0.4;\"/>\n   </g>\n   <g id=\"patch_8\">\n    <path clip-path=\"url(#p7c8637708e)\" d=\"M 257.239555 224.64 \nL 287.107771 224.64 \nL 287.107771 172.868571 \nL 257.239555 172.868571 \nz\n\" style=\"fill:#1f77b4;opacity:0.4;\"/>\n   </g>\n   <g id=\"matplotlib.axis_1\">\n    <g id=\"xtick_1\">\n     <g id=\"line2d_1\">\n      <defs>\n       <path d=\"M 0 0 \nL 0 3.5 \n\" id=\"m9dbbe660c4\" style=\"stroke:#000000;stroke-width:0.8;\"/>\n      </defs>\n      <g>\n       <use style=\"stroke:#000000;stroke-width:0.8;\" x=\"67.350014\" xlink:href=\"#m9dbbe660c4\" y=\"224.64\"/>\n      </g>\n     </g>\n     <g id=\"text_1\">\n      <!-- −0.5 -->\n      <defs>\n       <path d=\"M 10.59375 35.5 \nL 73.1875 35.5 \nL 73.1875 27.203125 \nL 10.59375 27.203125 \nz\n\" id=\"DejaVuSans-8722\"/>\n       <path d=\"M 31.78125 66.40625 \nQ 24.171875 66.40625 20.328125 58.90625 \nQ 16.5 51.421875 16.5 36.375 \nQ 16.5 21.390625 20.328125 13.890625 \nQ 24.171875 6.390625 31.78125 6.390625 \nQ 39.453125 6.390625 43.28125 13.890625 \nQ 47.125 21.390625 47.125 36.375 \nQ 47.125 51.421875 43.28125 58.90625 \nQ 39.453125 66.40625 31.78125 66.40625 \nz\nM 31.78125 74.21875 \nQ 44.046875 74.21875 50.515625 64.515625 \nQ 56.984375 54.828125 56.984375 36.375 \nQ 56.984375 17.96875 50.515625 8.265625 \nQ 44.046875 -1.421875 31.78125 -1.421875 \nQ 19.53125 -1.421875 13.0625 8.265625 \nQ 6.59375 17.96875 6.59375 36.375 \nQ 6.59375 54.828125 13.0625 64.515625 \nQ 19.53125 74.21875 31.78125 74.21875 \nz\n\" id=\"DejaVuSans-48\"/>\n       <path d=\"M 10.6875 12.40625 \nL 21 12.40625 \nL 21 0 \nL 10.6875 0 \nz\n\" id=\"DejaVuSans-46\"/>\n       <path d=\"M 10.796875 72.90625 \nL 49.515625 72.90625 \nL 49.515625 64.59375 \nL 19.828125 64.59375 \nL 19.828125 46.734375 \nQ 21.96875 47.46875 24.109375 47.828125 \nQ 26.265625 48.1875 28.421875 48.1875 \nQ 40.625 48.1875 47.75 41.5 \nQ 54.890625 34.8125 54.890625 23.390625 \nQ 54.890625 11.625 47.5625 5.09375 \nQ 40.234375 -1.421875 26.90625 -1.421875 \nQ 22.3125 -1.421875 17.546875 -0.640625 \nQ 12.796875 0.140625 7.71875 1.703125 \nL 7.71875 11.625 \nQ 12.109375 9.234375 16.796875 8.0625 \nQ 21.484375 6.890625 26.703125 6.890625 \nQ 35.15625 6.890625 40.078125 11.328125 \nQ 45.015625 15.765625 45.015625 23.390625 \nQ 45.015625 31 40.078125 35.4375 \nQ 35.15625 39.890625 26.703125 39.890625 \nQ 22.75 39.890625 18.8125 39.015625 \nQ 14.890625 38.140625 10.796875 36.28125 \nz\n\" id=\"DejaVuSans-53\"/>\n      </defs>\n      <g transform=\"translate(55.208608 239.238437)scale(0.1 -0.1)\">\n       <use xlink:href=\"#DejaVuSans-8722\"/>\n       <use x=\"83.789062\" xlink:href=\"#DejaVuSans-48\"/>\n       <use x=\"147.412109\" xlink:href=\"#DejaVuSans-46\"/>\n       <use x=\"179.199219\" xlink:href=\"#DejaVuSans-53\"/>\n      </g>\n     </g>\n    </g>\n    <g id=\"xtick_2\">\n     <g id=\"line2d_2\">\n      <g>\n       <use style=\"stroke:#000000;stroke-width:0.8;\" x=\"132.028548\" xlink:href=\"#m9dbbe660c4\" y=\"224.64\"/>\n      </g>\n     </g>\n     <g id=\"text_2\">\n      <!-- 0.0 -->\n      <g transform=\"translate(124.076985 239.238437)scale(0.1 -0.1)\">\n       <use xlink:href=\"#DejaVuSans-48\"/>\n       <use x=\"63.623047\" xlink:href=\"#DejaVuSans-46\"/>\n       <use x=\"95.410156\" xlink:href=\"#DejaVuSans-48\"/>\n      </g>\n     </g>\n    </g>\n    <g id=\"xtick_3\">\n     <g id=\"line2d_3\">\n      <g>\n       <use style=\"stroke:#000000;stroke-width:0.8;\" x=\"196.707082\" xlink:href=\"#m9dbbe660c4\" y=\"224.64\"/>\n      </g>\n     </g>\n     <g id=\"text_3\">\n      <!-- 0.5 -->\n      <g transform=\"translate(188.755519 239.238437)scale(0.1 -0.1)\">\n       <use xlink:href=\"#DejaVuSans-48\"/>\n       <use x=\"63.623047\" xlink:href=\"#DejaVuSans-46\"/>\n       <use x=\"95.410156\" xlink:href=\"#DejaVuSans-53\"/>\n      </g>\n     </g>\n    </g>\n    <g id=\"xtick_4\">\n     <g id=\"line2d_4\">\n      <g>\n       <use style=\"stroke:#000000;stroke-width:0.8;\" x=\"261.385615\" xlink:href=\"#m9dbbe660c4\" y=\"224.64\"/>\n      </g>\n     </g>\n     <g id=\"text_4\">\n      <!-- 1.0 -->\n      <defs>\n       <path d=\"M 12.40625 8.296875 \nL 28.515625 8.296875 \nL 28.515625 63.921875 \nL 10.984375 60.40625 \nL 10.984375 69.390625 \nL 28.421875 72.90625 \nL 38.28125 72.90625 \nL 38.28125 8.296875 \nL 54.390625 8.296875 \nL 54.390625 0 \nL 12.40625 0 \nz\n\" id=\"DejaVuSans-49\"/>\n      </defs>\n      <g transform=\"translate(253.434053 239.238437)scale(0.1 -0.1)\">\n       <use xlink:href=\"#DejaVuSans-49\"/>\n       <use x=\"63.623047\" xlink:href=\"#DejaVuSans-46\"/>\n       <use x=\"95.410156\" xlink:href=\"#DejaVuSans-48\"/>\n      </g>\n     </g>\n    </g>\n    <g id=\"xtick_5\">\n     <g id=\"line2d_5\">\n      <g>\n       <use style=\"stroke:#000000;stroke-width:0.8;\" x=\"326.064149\" xlink:href=\"#m9dbbe660c4\" y=\"224.64\"/>\n      </g>\n     </g>\n     <g id=\"text_5\">\n      <!-- 1.5 -->\n      <g transform=\"translate(318.112587 239.238437)scale(0.1 -0.1)\">\n       <use xlink:href=\"#DejaVuSans-49\"/>\n       <use x=\"63.623047\" xlink:href=\"#DejaVuSans-46\"/>\n       <use x=\"95.410156\" xlink:href=\"#DejaVuSans-53\"/>\n      </g>\n     </g>\n    </g>\n   </g>\n   <g id=\"matplotlib.axis_2\">\n    <g id=\"ytick_1\">\n     <g id=\"line2d_6\">\n      <defs>\n       <path d=\"M 0 0 \nL -3.5 0 \n\" id=\"m083097a8bc\" style=\"stroke:#000000;stroke-width:0.8;\"/>\n      </defs>\n      <g>\n       <use style=\"stroke:#000000;stroke-width:0.8;\" x=\"30.103125\" xlink:href=\"#m083097a8bc\" y=\"224.64\"/>\n      </g>\n     </g>\n     <g id=\"text_6\">\n      <!-- 0.0 -->\n      <g transform=\"translate(7.2 228.439219)scale(0.1 -0.1)\">\n       <use xlink:href=\"#DejaVuSans-48\"/>\n       <use x=\"63.623047\" xlink:href=\"#DejaVuSans-46\"/>\n       <use x=\"95.410156\" xlink:href=\"#DejaVuSans-48\"/>\n      </g>\n     </g>\n    </g>\n    <g id=\"ytick_2\">\n     <g id=\"line2d_7\">\n      <g>\n       <use style=\"stroke:#000000;stroke-width:0.8;\" x=\"30.103125\" xlink:href=\"#m083097a8bc\" y=\"177.571558\"/>\n      </g>\n     </g>\n     <g id=\"text_7\">\n      <!-- 0.5 -->\n      <g transform=\"translate(7.2 181.370776)scale(0.1 -0.1)\">\n       <use xlink:href=\"#DejaVuSans-48\"/>\n       <use x=\"63.623047\" xlink:href=\"#DejaVuSans-46\"/>\n       <use x=\"95.410156\" xlink:href=\"#DejaVuSans-53\"/>\n      </g>\n     </g>\n    </g>\n    <g id=\"ytick_3\">\n     <g id=\"line2d_8\">\n      <g>\n       <use style=\"stroke:#000000;stroke-width:0.8;\" x=\"30.103125\" xlink:href=\"#m083097a8bc\" y=\"130.503115\"/>\n      </g>\n     </g>\n     <g id=\"text_8\">\n      <!-- 1.0 -->\n      <g transform=\"translate(7.2 134.302334)scale(0.1 -0.1)\">\n       <use xlink:href=\"#DejaVuSans-49\"/>\n       <use x=\"63.623047\" xlink:href=\"#DejaVuSans-46\"/>\n       <use x=\"95.410156\" xlink:href=\"#DejaVuSans-48\"/>\n      </g>\n     </g>\n    </g>\n    <g id=\"ytick_4\">\n     <g id=\"line2d_9\">\n      <g>\n       <use style=\"stroke:#000000;stroke-width:0.8;\" x=\"30.103125\" xlink:href=\"#m083097a8bc\" y=\"83.434673\"/>\n      </g>\n     </g>\n     <g id=\"text_9\">\n      <!-- 1.5 -->\n      <g transform=\"translate(7.2 87.233892)scale(0.1 -0.1)\">\n       <use xlink:href=\"#DejaVuSans-49\"/>\n       <use x=\"63.623047\" xlink:href=\"#DejaVuSans-46\"/>\n       <use x=\"95.410156\" xlink:href=\"#DejaVuSans-53\"/>\n      </g>\n     </g>\n    </g>\n    <g id=\"ytick_5\">\n     <g id=\"line2d_10\">\n      <g>\n       <use style=\"stroke:#000000;stroke-width:0.8;\" x=\"30.103125\" xlink:href=\"#m083097a8bc\" y=\"36.366231\"/>\n      </g>\n     </g>\n     <g id=\"text_10\">\n      <!-- 2.0 -->\n      <defs>\n       <path d=\"M 19.1875 8.296875 \nL 53.609375 8.296875 \nL 53.609375 0 \nL 7.328125 0 \nL 7.328125 8.296875 \nQ 12.9375 14.109375 22.625 23.890625 \nQ 32.328125 33.6875 34.8125 36.53125 \nQ 39.546875 41.84375 41.421875 45.53125 \nQ 43.3125 49.21875 43.3125 52.78125 \nQ 43.3125 58.59375 39.234375 62.25 \nQ 35.15625 65.921875 28.609375 65.921875 \nQ 23.96875 65.921875 18.8125 64.3125 \nQ 13.671875 62.703125 7.8125 59.421875 \nL 7.8125 69.390625 \nQ 13.765625 71.78125 18.9375 73 \nQ 24.125 74.21875 28.421875 74.21875 \nQ 39.75 74.21875 46.484375 68.546875 \nQ 53.21875 62.890625 53.21875 53.421875 \nQ 53.21875 48.921875 51.53125 44.890625 \nQ 49.859375 40.875 45.40625 35.40625 \nQ 44.1875 33.984375 37.640625 27.21875 \nQ 31.109375 20.453125 19.1875 8.296875 \nz\n\" id=\"DejaVuSans-50\"/>\n      </defs>\n      <g transform=\"translate(7.2 40.16545)scale(0.1 -0.1)\">\n       <use xlink:href=\"#DejaVuSans-50\"/>\n       <use x=\"63.623047\" xlink:href=\"#DejaVuSans-46\"/>\n       <use x=\"95.410156\" xlink:href=\"#DejaVuSans-48\"/>\n      </g>\n     </g>\n    </g>\n   </g>\n   <g id=\"line2d_11\">\n    <path clip-path=\"url(#p7c8637708e)\" d=\"M 45.321307 224.019682 \nL 50.114435 223.791608 \nL 54.907563 223.229194 \nL 57.304127 222.787606 \nL 59.700691 222.213168 \nL 62.097255 221.48249 \nL 64.493819 220.569735 \nL 66.890383 219.447451 \nL 69.286947 218.087641 \nL 71.683512 216.463055 \nL 74.080076 214.548692 \nL 76.47664 212.323459 \nL 78.873204 209.771921 \nL 81.269768 206.88606 \nL 83.666332 203.666934 \nL 86.062896 200.126142 \nL 88.45946 196.286963 \nL 93.252588 187.868776 \nL 105.235408 165.539773 \nL 107.631973 161.525672 \nL 110.028537 157.873535 \nL 112.425101 154.664986 \nL 114.821665 151.969379 \nL 117.218229 149.839444 \nL 119.614793 148.307275 \nL 122.011357 147.380935 \nL 124.407921 147.04197 \nL 126.804485 147.244085 \nL 129.201049 147.913234 \nL 131.597613 148.949279 \nL 136.390741 151.612724 \nL 138.787305 152.947564 \nL 141.183869 154.078466 \nL 143.580434 154.855225 \nL 145.976998 155.141856 \nL 148.373562 154.825472 \nL 150.770126 153.824373 \nL 153.16669 152.094772 \nL 155.563254 149.63558 \nL 157.959818 146.490837 \nL 160.356382 142.749457 \nL 162.752946 138.542189 \nL 172.339202 120.747111 \nL 174.735766 117.111637 \nL 177.13233 114.211974 \nL 179.528895 112.215758 \nL 181.925459 111.25363 \nL 184.322023 111.412703 \nL 186.718587 112.732771 \nL 189.115151 115.205449 \nL 191.511715 118.776194 \nL 193.908279 123.348921 \nL 196.304843 128.792784 \nL 198.701407 134.95051 \nL 201.097971 141.647641 \nL 205.891099 155.932574 \nL 210.684227 170.25201 \nL 213.080791 177.05031 \nL 215.477355 183.45189 \nL 217.87392 189.371278 \nL 220.270484 194.748102 \nL 222.667048 199.545438 \nL 225.063612 203.747118 \nL 227.460176 207.354306 \nL 229.85674 210.381728 \nL 232.253304 212.85386 \nL 234.649868 214.801366 \nL 237.046432 216.258019 \nL 239.442996 217.258264 \nL 241.83956 217.835521 \nL 244.236124 218.021266 \nL 246.632688 217.844853 \nL 249.029252 217.333999 \nL 251.425816 216.515788 \nL 253.822381 215.418044 \nL 256.218945 214.070853 \nL 258.615509 212.508048 \nL 263.408637 208.896574 \nL 272.994893 201.171939 \nL 275.391457 199.484845 \nL 277.788021 198.017754 \nL 280.184585 196.824695 \nL 282.581149 195.95093 \nL 284.977713 195.430386 \nL 287.374277 195.283671 \nL 289.770842 195.516864 \nL 292.167406 196.121199 \nL 294.56397 197.073674 \nL 296.960534 198.338553 \nL 299.357098 199.869622 \nL 301.753662 201.612998 \nL 306.54679 205.501791 \nL 313.736482 211.486665 \nL 318.52961 215.040789 \nL 320.926174 216.597607 \nL 323.322738 217.988428 \nL 325.719303 219.208857 \nL 328.115867 220.26111 \nL 330.512431 221.152628 \nL 332.908995 221.894604 \nL 335.305559 222.50055 \nL 340.098687 223.362169 \nL 344.891815 223.845596 \nL 349.684943 224.028935 \nL 349.684943 224.028935 \n\" style=\"fill:none;stroke:#1f77b4;stroke-linecap:square;stroke-width:1.5;\"/>\n   </g>\n   <g id=\"patch_9\">\n    <path d=\"M 30.103125 224.64 \nL 30.103125 7.2 \n\" style=\"fill:none;stroke:#000000;stroke-linecap:square;stroke-linejoin:miter;stroke-width:0.8;\"/>\n   </g>\n   <g id=\"patch_10\">\n    <path d=\"M 364.903125 224.64 \nL 364.903125 7.2 \n\" style=\"fill:none;stroke:#000000;stroke-linecap:square;stroke-linejoin:miter;stroke-width:0.8;\"/>\n   </g>\n   <g id=\"patch_11\">\n    <path d=\"M 30.103125 224.64 \nL 364.903125 224.64 \n\" style=\"fill:none;stroke:#000000;stroke-linecap:square;stroke-linejoin:miter;stroke-width:0.8;\"/>\n   </g>\n   <g id=\"patch_12\">\n    <path d=\"M 30.103125 7.2 \nL 364.903125 7.2 \n\" style=\"fill:none;stroke:#000000;stroke-linecap:square;stroke-linejoin:miter;stroke-width:0.8;\"/>\n   </g>\n  </g>\n </g>\n <defs>\n  <clipPath id=\"p7c8637708e\">\n   <rect height=\"217.44\" width=\"334.8\" x=\"30.103125\" y=\"7.2\"/>\n  </clipPath>\n </defs>\n</svg>\n",
      "image/png": "[encoded data removed]"
     },
     "metadata": {
      "needs_background": "light"
     }
    }
   ],
   "source": [
    "df_correlation_rad = filtering_correlation.get_filtering_correlation(df_radical,combined_ba, percentage_increase=True)\n",
    "sns.distplot(df_correlation_rad.iloc[1:,:].mean(axis=1));"
   ]
  },
  {
   "cell_type": "code",
   "execution_count": 29,
   "metadata": {},
   "outputs": [
    {
     "output_type": "execute_result",
     "data": {
      "text/plain": [
       "Percentage Increase/Decrease                        ROUGE-1  bleu1  ROUGE-l  \\\n",
       "('duration', 'random_honeypot', 'low_std', 'hig...    0.915  1.364    1.318   \n",
       "('duration', 'random_honeypot', 'low_std', 'hig...    0.915  1.364    1.318   \n",
       "('duration', 'random_honeypot', 'high_random', ...    0.915  1.364    1.318   \n",
       "('duration', 'low_std', 'high_random', 'unpopul...    0.915  1.364    1.318   \n",
       "('duration', 'random_honeypot', 'high_random', ...    0.915  1.364    1.318   \n",
       "...                                                     ...    ...      ...   \n",
       "('low_std', 'unpopular', 'sentiment_inconsistent')   -0.412 -0.027   -0.066   \n",
       "('random_honeypot', 'sentiment_inconsistent')        -0.412 -0.027   -0.066   \n",
       "('low_std', 'sentiment_inconsistent')                -0.412 -0.027   -0.066   \n",
       "('unpopular', 'sentiment_inconsistent')              -0.412 -0.027   -0.066   \n",
       "('sentiment_inconsistent',)                          -0.412 -0.027   -0.066   \n",
       "\n",
       "Percentage Increase/Decrease                        BertScore  1-gram_overlap  \\\n",
       "('duration', 'random_honeypot', 'low_std', 'hig...      1.254           1.212   \n",
       "('duration', 'random_honeypot', 'low_std', 'hig...      1.254           1.212   \n",
       "('duration', 'random_honeypot', 'high_random', ...      1.254           1.212   \n",
       "('duration', 'low_std', 'high_random', 'unpopul...      1.254           1.212   \n",
       "('duration', 'random_honeypot', 'high_random', ...      1.254           1.212   \n",
       "...                                                       ...             ...   \n",
       "('low_std', 'unpopular', 'sentiment_inconsistent')     -0.189          -0.109   \n",
       "('random_honeypot', 'sentiment_inconsistent')          -0.189          -0.109   \n",
       "('low_std', 'sentiment_inconsistent')                  -0.189          -0.109   \n",
       "('unpopular', 'sentiment_inconsistent')                -0.189          -0.109   \n",
       "('sentiment_inconsistent',)                            -0.189          -0.109   \n",
       "\n",
       "Percentage Increase/Decrease                        chrfScore  L2_score  \\\n",
       "('duration', 'random_honeypot', 'low_std', 'hig...      1.210     1.272   \n",
       "('duration', 'random_honeypot', 'low_std', 'hig...      1.210     1.272   \n",
       "('duration', 'random_honeypot', 'high_random', ...      1.210     1.272   \n",
       "('duration', 'low_std', 'high_random', 'unpopul...      1.210     1.272   \n",
       "('duration', 'random_honeypot', 'high_random', ...      1.210     1.272   \n",
       "...                                                       ...       ...   \n",
       "('low_std', 'unpopular', 'sentiment_inconsistent')     -0.056    -0.137   \n",
       "('random_honeypot', 'sentiment_inconsistent')          -0.056    -0.137   \n",
       "('low_std', 'sentiment_inconsistent')                  -0.056    -0.137   \n",
       "('unpopular', 'sentiment_inconsistent')                -0.056    -0.137   \n",
       "('sentiment_inconsistent',)                            -0.056    -0.137   \n",
       "\n",
       "Percentage Increase/Decrease                        ROUGE-2  fasttext_cosine  \\\n",
       "('duration', 'random_honeypot', 'low_std', 'hig...    2.060            0.551   \n",
       "('duration', 'random_honeypot', 'low_std', 'hig...    2.060            0.551   \n",
       "('duration', 'random_honeypot', 'high_random', ...    2.060            0.551   \n",
       "('duration', 'low_std', 'high_random', 'unpopul...    2.060            0.551   \n",
       "('duration', 'random_honeypot', 'high_random', ...    2.060            0.551   \n",
       "...                                                     ...              ...   \n",
       "('low_std', 'unpopular', 'sentiment_inconsistent')    0.648           -0.951   \n",
       "('random_honeypot', 'sentiment_inconsistent')         0.648           -0.951   \n",
       "('low_std', 'sentiment_inconsistent')                 0.648           -0.951   \n",
       "('unpopular', 'sentiment_inconsistent')               0.648           -0.951   \n",
       "('sentiment_inconsistent',)                           0.648           -0.951   \n",
       "\n",
       "Percentage Increase/Decrease                          WMD  glove_cosine  \\\n",
       "('duration', 'random_honeypot', 'low_std', 'hig...  0.310         1.262   \n",
       "('duration', 'random_honeypot', 'low_std', 'hig...  0.310         1.262   \n",
       "('duration', 'random_honeypot', 'high_random', ...  0.310         1.262   \n",
       "('duration', 'low_std', 'high_random', 'unpopul...  0.310         1.262   \n",
       "('duration', 'random_honeypot', 'high_random', ...  0.310         1.262   \n",
       "...                                                   ...           ...   \n",
       "('low_std', 'unpopular', 'sentiment_inconsistent') -0.861        -0.743   \n",
       "('random_honeypot', 'sentiment_inconsistent')      -0.861        -0.743   \n",
       "('low_std', 'sentiment_inconsistent')              -0.861        -0.743   \n",
       "('unpopular', 'sentiment_inconsistent')            -0.861        -0.743   \n",
       "('sentiment_inconsistent',)                        -0.861        -0.743   \n",
       "\n",
       "Percentage Increase/Decrease                         bleu  POS Dist score  \\\n",
       "('duration', 'random_honeypot', 'low_std', 'hig...  3.115          -0.258   \n",
       "('duration', 'random_honeypot', 'low_std', 'hig...  3.115          -0.258   \n",
       "('duration', 'random_honeypot', 'high_random', ...  3.115          -0.258   \n",
       "('duration', 'low_std', 'high_random', 'unpopul...  3.115          -0.258   \n",
       "('duration', 'random_honeypot', 'high_random', ...  3.115          -0.258   \n",
       "...                                                   ...             ...   \n",
       "('low_std', 'unpopular', 'sentiment_inconsistent')  1.598          -1.120   \n",
       "('random_honeypot', 'sentiment_inconsistent')       1.598          -1.120   \n",
       "('low_std', 'sentiment_inconsistent')               1.598          -1.120   \n",
       "('unpopular', 'sentiment_inconsistent')             1.598          -1.120   \n",
       "('sentiment_inconsistent',)                         1.598          -1.120   \n",
       "\n",
       "Percentage Increase/Decrease                        mean_increase  \\\n",
       "('duration', 'random_honeypot', 'low_std', 'hig...       1.198846   \n",
       "('duration', 'random_honeypot', 'low_std', 'hig...       1.198846   \n",
       "('duration', 'random_honeypot', 'high_random', ...       1.198846   \n",
       "('duration', 'low_std', 'high_random', 'unpopul...       1.198846   \n",
       "('duration', 'random_honeypot', 'high_random', ...       1.198846   \n",
       "...                                                           ...   \n",
       "('low_std', 'unpopular', 'sentiment_inconsistent')      -0.186538   \n",
       "('random_honeypot', 'sentiment_inconsistent')           -0.186538   \n",
       "('low_std', 'sentiment_inconsistent')                   -0.186538   \n",
       "('unpopular', 'sentiment_inconsistent')                 -0.186538   \n",
       "('sentiment_inconsistent',)                             -0.186538   \n",
       "\n",
       "Percentage Increase/Decrease                        num_heuristics  num_ba  \\\n",
       "('duration', 'random_honeypot', 'low_std', 'hig...               6     145   \n",
       "('duration', 'random_honeypot', 'low_std', 'hig...               5     144   \n",
       "('duration', 'random_honeypot', 'high_random', ...               5      72   \n",
       "('duration', 'low_std', 'high_random', 'unpopul...               5     145   \n",
       "('duration', 'random_honeypot', 'high_random', ...               4      70   \n",
       "...                                                            ...     ...   \n",
       "('low_std', 'unpopular', 'sentiment_inconsistent')               3     120   \n",
       "('random_honeypot', 'sentiment_inconsistent')                    2      41   \n",
       "('low_std', 'sentiment_inconsistent')                            2     119   \n",
       "('unpopular', 'sentiment_inconsistent')                          2      27   \n",
       "('sentiment_inconsistent',)                                      1      25   \n",
       "\n",
       "Percentage Increase/Decrease                        percent_rows_filtered  \n",
       "('duration', 'random_honeypot', 'low_std', 'hig...                  28.80  \n",
       "('duration', 'random_honeypot', 'low_std', 'hig...                  28.80  \n",
       "('duration', 'random_honeypot', 'high_random', ...                  28.80  \n",
       "('duration', 'low_std', 'high_random', 'unpopul...                  28.80  \n",
       "('duration', 'random_honeypot', 'high_random', ...                  28.80  \n",
       "...                                                                   ...  \n",
       "('low_std', 'unpopular', 'sentiment_inconsistent')                  26.89  \n",
       "('random_honeypot', 'sentiment_inconsistent')                       26.89  \n",
       "('low_std', 'sentiment_inconsistent')                               26.89  \n",
       "('unpopular', 'sentiment_inconsistent')                             26.89  \n",
       "('sentiment_inconsistent',)                                         26.89  \n",
       "\n",
       "[64 rows x 17 columns]"
      ],
      "text/html": "<div>\n<style scoped>\n    .dataframe tbody tr th:only-of-type {\n        vertical-align: middle;\n    }\n\n    .dataframe tbody tr th {\n        vertical-align: top;\n    }\n\n    .dataframe thead th {\n        text-align: right;\n    }\n</style>\n<table border=\"1\" class=\"dataframe\">\n  <thead>\n    <tr style=\"text-align: right;\">\n      <th>Percentage Increase/Decrease</th>\n      <th>ROUGE-1</th>\n      <th>bleu1</th>\n      <th>ROUGE-l</th>\n      <th>BertScore</th>\n      <th>1-gram_overlap</th>\n      <th>chrfScore</th>\n      <th>L2_score</th>\n      <th>ROUGE-2</th>\n      <th>fasttext_cosine</th>\n      <th>WMD</th>\n      <th>glove_cosine</th>\n      <th>bleu</th>\n      <th>POS Dist score</th>\n      <th>mean_increase</th>\n      <th>num_heuristics</th>\n      <th>num_ba</th>\n      <th>percent_rows_filtered</th>\n    </tr>\n  </thead>\n  <tbody>\n    <tr>\n      <th>('duration', 'random_honeypot', 'low_std', 'high_random', 'unpopular', 'sentiment_inconsistent')</th>\n      <td>0.915</td>\n      <td>1.364</td>\n      <td>1.318</td>\n      <td>1.254</td>\n      <td>1.212</td>\n      <td>1.210</td>\n      <td>1.272</td>\n      <td>2.060</td>\n      <td>0.551</td>\n      <td>0.310</td>\n      <td>1.262</td>\n      <td>3.115</td>\n      <td>-0.258</td>\n      <td>1.198846</td>\n      <td>6</td>\n      <td>145</td>\n      <td>28.80</td>\n    </tr>\n    <tr>\n      <th>('duration', 'random_honeypot', 'low_std', 'high_random', 'sentiment_inconsistent')</th>\n      <td>0.915</td>\n      <td>1.364</td>\n      <td>1.318</td>\n      <td>1.254</td>\n      <td>1.212</td>\n      <td>1.210</td>\n      <td>1.272</td>\n      <td>2.060</td>\n      <td>0.551</td>\n      <td>0.310</td>\n      <td>1.262</td>\n      <td>3.115</td>\n      <td>-0.258</td>\n      <td>1.198846</td>\n      <td>5</td>\n      <td>144</td>\n      <td>28.80</td>\n    </tr>\n    <tr>\n      <th>('duration', 'random_honeypot', 'high_random', 'unpopular', 'sentiment_inconsistent')</th>\n      <td>0.915</td>\n      <td>1.364</td>\n      <td>1.318</td>\n      <td>1.254</td>\n      <td>1.212</td>\n      <td>1.210</td>\n      <td>1.272</td>\n      <td>2.060</td>\n      <td>0.551</td>\n      <td>0.310</td>\n      <td>1.262</td>\n      <td>3.115</td>\n      <td>-0.258</td>\n      <td>1.198846</td>\n      <td>5</td>\n      <td>72</td>\n      <td>28.80</td>\n    </tr>\n    <tr>\n      <th>('duration', 'low_std', 'high_random', 'unpopular', 'sentiment_inconsistent')</th>\n      <td>0.915</td>\n      <td>1.364</td>\n      <td>1.318</td>\n      <td>1.254</td>\n      <td>1.212</td>\n      <td>1.210</td>\n      <td>1.272</td>\n      <td>2.060</td>\n      <td>0.551</td>\n      <td>0.310</td>\n      <td>1.262</td>\n      <td>3.115</td>\n      <td>-0.258</td>\n      <td>1.198846</td>\n      <td>5</td>\n      <td>145</td>\n      <td>28.80</td>\n    </tr>\n    <tr>\n      <th>('duration', 'random_honeypot', 'high_random', 'sentiment_inconsistent')</th>\n      <td>0.915</td>\n      <td>1.364</td>\n      <td>1.318</td>\n      <td>1.254</td>\n      <td>1.212</td>\n      <td>1.210</td>\n      <td>1.272</td>\n      <td>2.060</td>\n      <td>0.551</td>\n      <td>0.310</td>\n      <td>1.262</td>\n      <td>3.115</td>\n      <td>-0.258</td>\n      <td>1.198846</td>\n      <td>4</td>\n      <td>70</td>\n      <td>28.80</td>\n    </tr>\n    <tr>\n      <th>...</th>\n      <td>...</td>\n      <td>...</td>\n      <td>...</td>\n      <td>...</td>\n      <td>...</td>\n      <td>...</td>\n      <td>...</td>\n      <td>...</td>\n      <td>...</td>\n      <td>...</td>\n      <td>...</td>\n      <td>...</td>\n      <td>...</td>\n      <td>...</td>\n      <td>...</td>\n      <td>...</td>\n      <td>...</td>\n    </tr>\n    <tr>\n      <th>('low_std', 'unpopular', 'sentiment_inconsistent')</th>\n      <td>-0.412</td>\n      <td>-0.027</td>\n      <td>-0.066</td>\n      <td>-0.189</td>\n      <td>-0.109</td>\n      <td>-0.056</td>\n      <td>-0.137</td>\n      <td>0.648</td>\n      <td>-0.951</td>\n      <td>-0.861</td>\n      <td>-0.743</td>\n      <td>1.598</td>\n      <td>-1.120</td>\n      <td>-0.186538</td>\n      <td>3</td>\n      <td>120</td>\n      <td>26.89</td>\n    </tr>\n    <tr>\n      <th>('random_honeypot', 'sentiment_inconsistent')</th>\n      <td>-0.412</td>\n      <td>-0.027</td>\n      <td>-0.066</td>\n      <td>-0.189</td>\n      <td>-0.109</td>\n      <td>-0.056</td>\n      <td>-0.137</td>\n      <td>0.648</td>\n      <td>-0.951</td>\n      <td>-0.861</td>\n      <td>-0.743</td>\n      <td>1.598</td>\n      <td>-1.120</td>\n      <td>-0.186538</td>\n      <td>2</td>\n      <td>41</td>\n      <td>26.89</td>\n    </tr>\n    <tr>\n      <th>('low_std', 'sentiment_inconsistent')</th>\n      <td>-0.412</td>\n      <td>-0.027</td>\n      <td>-0.066</td>\n      <td>-0.189</td>\n      <td>-0.109</td>\n      <td>-0.056</td>\n      <td>-0.137</td>\n      <td>0.648</td>\n      <td>-0.951</td>\n      <td>-0.861</td>\n      <td>-0.743</td>\n      <td>1.598</td>\n      <td>-1.120</td>\n      <td>-0.186538</td>\n      <td>2</td>\n      <td>119</td>\n      <td>26.89</td>\n    </tr>\n    <tr>\n      <th>('unpopular', 'sentiment_inconsistent')</th>\n      <td>-0.412</td>\n      <td>-0.027</td>\n      <td>-0.066</td>\n      <td>-0.189</td>\n      <td>-0.109</td>\n      <td>-0.056</td>\n      <td>-0.137</td>\n      <td>0.648</td>\n      <td>-0.951</td>\n      <td>-0.861</td>\n      <td>-0.743</td>\n      <td>1.598</td>\n      <td>-1.120</td>\n      <td>-0.186538</td>\n      <td>2</td>\n      <td>27</td>\n      <td>26.89</td>\n    </tr>\n    <tr>\n      <th>('sentiment_inconsistent',)</th>\n      <td>-0.412</td>\n      <td>-0.027</td>\n      <td>-0.066</td>\n      <td>-0.189</td>\n      <td>-0.109</td>\n      <td>-0.056</td>\n      <td>-0.137</td>\n      <td>0.648</td>\n      <td>-0.951</td>\n      <td>-0.861</td>\n      <td>-0.743</td>\n      <td>1.598</td>\n      <td>-1.120</td>\n      <td>-0.186538</td>\n      <td>1</td>\n      <td>25</td>\n      <td>26.89</td>\n    </tr>\n  </tbody>\n</table>\n<p>64 rows × 17 columns</p>\n</div>"
     },
     "metadata": {},
     "execution_count": 29
    }
   ],
   "source": [
    "df_correlation_rad = filtering_correlation.append_heuristic_info(df_correlation_rad,df_radical)\n",
    "df_correlation_rad.sort_values(by=[\"mean_increase\",\"percent_rows_filtered\",\"num_heuristics\"],ascending=False)"
   ]
  },
  {
   "cell_type": "code",
   "execution_count": 30,
   "metadata": {},
   "outputs": [
    {
     "output_type": "stream",
     "name": "stdout",
     "text": [
      "['duration', 'random_honeypot', 'low_std', 'high_random', 'unpopular', 'sentiment_inconsistent']\n"
     ]
    },
    {
     "output_type": "execute_result",
     "data": {
      "text/plain": [
       "                    label\n",
       "ROUGE-1          0.700334\n",
       "bleu1            0.694387\n",
       "ROUGE-l          0.690071\n",
       "BertScore        0.687208\n",
       "1-gram_overlap   0.678273\n",
       "chrfScore        0.665745\n",
       "L2_score         0.646562\n",
       "ROUGE-2          0.614807\n",
       "fasttext_cosine  0.564047\n",
       "WMD              0.562158\n",
       "glove_cosine     0.513848\n",
       "bleu             0.479535\n",
       "POS Dist score   0.396441"
      ],
      "text/html": "<div>\n<style scoped>\n    .dataframe tbody tr th:only-of-type {\n        vertical-align: middle;\n    }\n\n    .dataframe tbody tr th {\n        vertical-align: top;\n    }\n\n    .dataframe thead th {\n        text-align: right;\n    }\n</style>\n<table border=\"1\" class=\"dataframe\">\n  <thead>\n    <tr style=\"text-align: right;\">\n      <th></th>\n      <th>label</th>\n    </tr>\n  </thead>\n  <tbody>\n    <tr>\n      <th>ROUGE-1</th>\n      <td>0.700334</td>\n    </tr>\n    <tr>\n      <th>bleu1</th>\n      <td>0.694387</td>\n    </tr>\n    <tr>\n      <th>ROUGE-l</th>\n      <td>0.690071</td>\n    </tr>\n    <tr>\n      <th>BertScore</th>\n      <td>0.687208</td>\n    </tr>\n    <tr>\n      <th>1-gram_overlap</th>\n      <td>0.678273</td>\n    </tr>\n    <tr>\n      <th>chrfScore</th>\n      <td>0.665745</td>\n    </tr>\n    <tr>\n      <th>L2_score</th>\n      <td>0.646562</td>\n    </tr>\n    <tr>\n      <th>ROUGE-2</th>\n      <td>0.614807</td>\n    </tr>\n    <tr>\n      <th>fasttext_cosine</th>\n      <td>0.564047</td>\n    </tr>\n    <tr>\n      <th>WMD</th>\n      <td>0.562158</td>\n    </tr>\n    <tr>\n      <th>glove_cosine</th>\n      <td>0.513848</td>\n    </tr>\n    <tr>\n      <th>bleu</th>\n      <td>0.479535</td>\n    </tr>\n    <tr>\n      <th>POS Dist score</th>\n      <td>0.396441</td>\n    </tr>\n  </tbody>\n</table>\n</div>"
     },
     "metadata": {},
     "execution_count": 30
    }
   ],
   "source": [
    "top_heuristic = list(eval(df_correlation_rad.sort_values(by=[\"mean_increase\",\"percent_rows_filtered\",\"num_heuristics\"],ascending=False).index[0]))\n",
    "print(top_heuristic)\n",
    "filtering_correlation.get_heuristic_scores(df_radical,top_heuristic)"
   ]
  },
  {
   "source": [
    "### Centrist annotators"
   ],
   "cell_type": "markdown",
   "metadata": {}
  },
  {
   "cell_type": "code",
   "execution_count": 31,
   "metadata": {},
   "outputs": [
    {
     "output_type": "stream",
     "name": "stdout",
     "text": [
      "Number of centrist labelers:  79\nNumber of rows with centrist labelers:  8832\n"
     ]
    }
   ],
   "source": [
    "centrist_labelers = (variance_in_labels > 1) & (percent_radical < 0.5)\n",
    "centrist_labelers = list(centrist_labelers[centrist_labelers].index)\n",
    "print(\"Number of centrist labelers: \", len(centrist_labelers))\n",
    "print(\"Number of rows with centrist labelers: \", df_combined[df_combined.annotator.isin(centrist_labelers)].shape[0])"
   ]
  },
  {
   "cell_type": "code",
   "execution_count": 32,
   "metadata": {},
   "outputs": [],
   "source": [
    "df_centrist = df_combined[df_combined.annotator.isin(centrist_labelers)]"
   ]
  },
  {
   "cell_type": "code",
   "execution_count": 33,
   "metadata": {},
   "outputs": [
    {
     "output_type": "execute_result",
     "data": {
      "text/plain": [
       "                    label\n",
       "ROUGE-l          0.423604\n",
       "bleu1            0.419525\n",
       "ROUGE-1          0.418842\n",
       "BertScore        0.414642\n",
       "chrfScore        0.412846\n",
       "1-gram_overlap   0.411351\n",
       "L2_score         0.376840\n",
       "ROUGE-2          0.374211\n",
       "WMD              0.325219\n",
       "fasttext_cosine  0.321178\n",
       "bleu             0.293938\n",
       "glove_cosine     0.287767\n",
       "POS Dist score   0.255081"
      ],
      "text/html": "<div>\n<style scoped>\n    .dataframe tbody tr th:only-of-type {\n        vertical-align: middle;\n    }\n\n    .dataframe tbody tr th {\n        vertical-align: top;\n    }\n\n    .dataframe thead th {\n        text-align: right;\n    }\n</style>\n<table border=\"1\" class=\"dataframe\">\n  <thead>\n    <tr style=\"text-align: right;\">\n      <th></th>\n      <th>label</th>\n    </tr>\n  </thead>\n  <tbody>\n    <tr>\n      <th>ROUGE-l</th>\n      <td>0.423604</td>\n    </tr>\n    <tr>\n      <th>bleu1</th>\n      <td>0.419525</td>\n    </tr>\n    <tr>\n      <th>ROUGE-1</th>\n      <td>0.418842</td>\n    </tr>\n    <tr>\n      <th>BertScore</th>\n      <td>0.414642</td>\n    </tr>\n    <tr>\n      <th>chrfScore</th>\n      <td>0.412846</td>\n    </tr>\n    <tr>\n      <th>1-gram_overlap</th>\n      <td>0.411351</td>\n    </tr>\n    <tr>\n      <th>L2_score</th>\n      <td>0.376840</td>\n    </tr>\n    <tr>\n      <th>ROUGE-2</th>\n      <td>0.374211</td>\n    </tr>\n    <tr>\n      <th>WMD</th>\n      <td>0.325219</td>\n    </tr>\n    <tr>\n      <th>fasttext_cosine</th>\n      <td>0.321178</td>\n    </tr>\n    <tr>\n      <th>bleu</th>\n      <td>0.293938</td>\n    </tr>\n    <tr>\n      <th>glove_cosine</th>\n      <td>0.287767</td>\n    </tr>\n    <tr>\n      <th>POS Dist score</th>\n      <td>0.255081</td>\n    </tr>\n  </tbody>\n</table>\n</div>"
     },
     "metadata": {},
     "execution_count": 33
    }
   ],
   "source": [
    "filtering_correlation.get_baseline_correlation(df_centrist)"
   ]
  },
  {
   "cell_type": "code",
   "execution_count": 34,
   "metadata": {},
   "outputs": [
    {
     "output_type": "display_data",
     "data": {
      "text/plain": "<Figure size 432x288 with 1 Axes>",
      "image/svg+xml": "<?xml version=\"1.0\" encoding=\"utf-8\" standalone=\"no\"?>\n<!DOCTYPE svg PUBLIC \"-//W3C//DTD SVG 1.1//EN\"\n  \"http://www.w3.org/Graphics/SVG/1.1/DTD/svg11.dtd\">\n<!-- Created with matplotlib (https://matplotlib.org/) -->\n<svg height=\"248.518125pt\" version=\"1.1\" viewBox=\"0 0 378.465625 248.518125\" width=\"378.465625pt\" xmlns=\"http://www.w3.org/2000/svg\" xmlns:xlink=\"http://www.w3.org/1999/xlink\">\n <defs>\n  <style type=\"text/css\">\n*{stroke-linecap:butt;stroke-linejoin:round;}\n  </style>\n </defs>\n <g id=\"figure_1\">\n  <g id=\"patch_1\">\n   <path d=\"M 0 248.518125 \nL 378.465625 248.518125 \nL 378.465625 0 \nL 0 0 \nz\n\" style=\"fill:none;\"/>\n  </g>\n  <g id=\"axes_1\">\n   <g id=\"patch_2\">\n    <path d=\"M 36.465625 224.64 \nL 371.265625 224.64 \nL 371.265625 7.2 \nL 36.465625 7.2 \nz\n\" style=\"fill:#ffffff;\"/>\n   </g>\n   <g id=\"patch_3\">\n    <path clip-path=\"url(#pd7315237a9)\" d=\"M 122.534912 224.64 \nL 155.067197 224.64 \nL 155.067197 155.611429 \nL 122.534912 155.611429 \nz\n\" style=\"fill:#1f77b4;opacity:0.4;\"/>\n   </g>\n   <g id=\"patch_4\">\n    <path clip-path=\"url(#pd7315237a9)\" d=\"M 155.067197 224.64 \nL 187.599482 224.64 \nL 187.599482 164.24 \nL 155.067197 164.24 \nz\n\" style=\"fill:#1f77b4;opacity:0.4;\"/>\n   </g>\n   <g id=\"patch_5\">\n    <path clip-path=\"url(#pd7315237a9)\" d=\"M 187.599482 224.64 \nL 220.131768 224.64 \nL 220.131768 155.611429 \nL 187.599482 155.611429 \nz\n\" style=\"fill:#1f77b4;opacity:0.4;\"/>\n   </g>\n   <g id=\"patch_6\">\n    <path clip-path=\"url(#pd7315237a9)\" d=\"M 220.131768 224.64 \nL 252.664053 224.64 \nL 252.664053 17.554286 \nL 220.131768 17.554286 \nz\n\" style=\"fill:#1f77b4;opacity:0.4;\"/>\n   </g>\n   <g id=\"patch_7\">\n    <path clip-path=\"url(#pd7315237a9)\" d=\"M 252.664053 224.64 \nL 285.196338 224.64 \nL 285.196338 86.582857 \nL 252.664053 86.582857 \nz\n\" style=\"fill:#1f77b4;opacity:0.4;\"/>\n   </g>\n   <g id=\"matplotlib.axis_1\">\n    <g id=\"xtick_1\">\n     <g id=\"line2d_1\">\n      <defs>\n       <path d=\"M 0 0 \nL 0 3.5 \n\" id=\"mdca8a3c7d3\" style=\"stroke:#000000;stroke-width:0.8;\"/>\n      </defs>\n      <g>\n       <use style=\"stroke:#000000;stroke-width:0.8;\" x=\"62.40954\" xlink:href=\"#mdca8a3c7d3\" y=\"224.64\"/>\n      </g>\n     </g>\n     <g id=\"text_1\">\n      <!-- −15 -->\n      <defs>\n       <path d=\"M 10.59375 35.5 \nL 73.1875 35.5 \nL 73.1875 27.203125 \nL 10.59375 27.203125 \nz\n\" id=\"DejaVuSans-8722\"/>\n       <path d=\"M 12.40625 8.296875 \nL 28.515625 8.296875 \nL 28.515625 63.921875 \nL 10.984375 60.40625 \nL 10.984375 69.390625 \nL 28.421875 72.90625 \nL 38.28125 72.90625 \nL 38.28125 8.296875 \nL 54.390625 8.296875 \nL 54.390625 0 \nL 12.40625 0 \nz\n\" id=\"DejaVuSans-49\"/>\n       <path d=\"M 10.796875 72.90625 \nL 49.515625 72.90625 \nL 49.515625 64.59375 \nL 19.828125 64.59375 \nL 19.828125 46.734375 \nQ 21.96875 47.46875 24.109375 47.828125 \nQ 26.265625 48.1875 28.421875 48.1875 \nQ 40.625 48.1875 47.75 41.5 \nQ 54.890625 34.8125 54.890625 23.390625 \nQ 54.890625 11.625 47.5625 5.09375 \nQ 40.234375 -1.421875 26.90625 -1.421875 \nQ 22.3125 -1.421875 17.546875 -0.640625 \nQ 12.796875 0.140625 7.71875 1.703125 \nL 7.71875 11.625 \nQ 12.109375 9.234375 16.796875 8.0625 \nQ 21.484375 6.890625 26.703125 6.890625 \nQ 35.15625 6.890625 40.078125 11.328125 \nQ 45.015625 15.765625 45.015625 23.390625 \nQ 45.015625 31 40.078125 35.4375 \nQ 35.15625 39.890625 26.703125 39.890625 \nQ 22.75 39.890625 18.8125 39.015625 \nQ 14.890625 38.140625 10.796875 36.28125 \nz\n\" id=\"DejaVuSans-53\"/>\n      </defs>\n      <g transform=\"translate(51.857196 239.238437)scale(0.1 -0.1)\">\n       <use xlink:href=\"#DejaVuSans-8722\"/>\n       <use x=\"83.789062\" xlink:href=\"#DejaVuSans-49\"/>\n       <use x=\"147.412109\" xlink:href=\"#DejaVuSans-53\"/>\n      </g>\n     </g>\n    </g>\n    <g id=\"xtick_2\">\n     <g id=\"line2d_2\">\n      <g>\n       <use style=\"stroke:#000000;stroke-width:0.8;\" x=\"99.924771\" xlink:href=\"#mdca8a3c7d3\" y=\"224.64\"/>\n      </g>\n     </g>\n     <g id=\"text_2\">\n      <!-- −10 -->\n      <defs>\n       <path d=\"M 31.78125 66.40625 \nQ 24.171875 66.40625 20.328125 58.90625 \nQ 16.5 51.421875 16.5 36.375 \nQ 16.5 21.390625 20.328125 13.890625 \nQ 24.171875 6.390625 31.78125 6.390625 \nQ 39.453125 6.390625 43.28125 13.890625 \nQ 47.125 21.390625 47.125 36.375 \nQ 47.125 51.421875 43.28125 58.90625 \nQ 39.453125 66.40625 31.78125 66.40625 \nz\nM 31.78125 74.21875 \nQ 44.046875 74.21875 50.515625 64.515625 \nQ 56.984375 54.828125 56.984375 36.375 \nQ 56.984375 17.96875 50.515625 8.265625 \nQ 44.046875 -1.421875 31.78125 -1.421875 \nQ 19.53125 -1.421875 13.0625 8.265625 \nQ 6.59375 17.96875 6.59375 36.375 \nQ 6.59375 54.828125 13.0625 64.515625 \nQ 19.53125 74.21875 31.78125 74.21875 \nz\n\" id=\"DejaVuSans-48\"/>\n      </defs>\n      <g transform=\"translate(89.372427 239.238437)scale(0.1 -0.1)\">\n       <use xlink:href=\"#DejaVuSans-8722\"/>\n       <use x=\"83.789062\" xlink:href=\"#DejaVuSans-49\"/>\n       <use x=\"147.412109\" xlink:href=\"#DejaVuSans-48\"/>\n      </g>\n     </g>\n    </g>\n    <g id=\"xtick_3\">\n     <g id=\"line2d_3\">\n      <g>\n       <use style=\"stroke:#000000;stroke-width:0.8;\" x=\"137.440002\" xlink:href=\"#mdca8a3c7d3\" y=\"224.64\"/>\n      </g>\n     </g>\n     <g id=\"text_3\">\n      <!-- −5 -->\n      <g transform=\"translate(130.068908 239.238437)scale(0.1 -0.1)\">\n       <use xlink:href=\"#DejaVuSans-8722\"/>\n       <use x=\"83.789062\" xlink:href=\"#DejaVuSans-53\"/>\n      </g>\n     </g>\n    </g>\n    <g id=\"xtick_4\">\n     <g id=\"line2d_4\">\n      <g>\n       <use style=\"stroke:#000000;stroke-width:0.8;\" x=\"174.955233\" xlink:href=\"#mdca8a3c7d3\" y=\"224.64\"/>\n      </g>\n     </g>\n     <g id=\"text_4\">\n      <!-- 0 -->\n      <g transform=\"translate(171.773983 239.238437)scale(0.1 -0.1)\">\n       <use xlink:href=\"#DejaVuSans-48\"/>\n      </g>\n     </g>\n    </g>\n    <g id=\"xtick_5\">\n     <g id=\"line2d_5\">\n      <g>\n       <use style=\"stroke:#000000;stroke-width:0.8;\" x=\"212.470465\" xlink:href=\"#mdca8a3c7d3\" y=\"224.64\"/>\n      </g>\n     </g>\n     <g id=\"text_5\">\n      <!-- 5 -->\n      <g transform=\"translate(209.289215 239.238437)scale(0.1 -0.1)\">\n       <use xlink:href=\"#DejaVuSans-53\"/>\n      </g>\n     </g>\n    </g>\n    <g id=\"xtick_6\">\n     <g id=\"line2d_6\">\n      <g>\n       <use style=\"stroke:#000000;stroke-width:0.8;\" x=\"249.985696\" xlink:href=\"#mdca8a3c7d3\" y=\"224.64\"/>\n      </g>\n     </g>\n     <g id=\"text_6\">\n      <!-- 10 -->\n      <g transform=\"translate(243.623196 239.238437)scale(0.1 -0.1)\">\n       <use xlink:href=\"#DejaVuSans-49\"/>\n       <use x=\"63.623047\" xlink:href=\"#DejaVuSans-48\"/>\n      </g>\n     </g>\n    </g>\n    <g id=\"xtick_7\">\n     <g id=\"line2d_7\">\n      <g>\n       <use style=\"stroke:#000000;stroke-width:0.8;\" x=\"287.500927\" xlink:href=\"#mdca8a3c7d3\" y=\"224.64\"/>\n      </g>\n     </g>\n     <g id=\"text_7\">\n      <!-- 15 -->\n      <g transform=\"translate(281.138427 239.238437)scale(0.1 -0.1)\">\n       <use xlink:href=\"#DejaVuSans-49\"/>\n       <use x=\"63.623047\" xlink:href=\"#DejaVuSans-53\"/>\n      </g>\n     </g>\n    </g>\n    <g id=\"xtick_8\">\n     <g id=\"line2d_8\">\n      <g>\n       <use style=\"stroke:#000000;stroke-width:0.8;\" x=\"325.016159\" xlink:href=\"#mdca8a3c7d3\" y=\"224.64\"/>\n      </g>\n     </g>\n     <g id=\"text_8\">\n      <!-- 20 -->\n      <defs>\n       <path d=\"M 19.1875 8.296875 \nL 53.609375 8.296875 \nL 53.609375 0 \nL 7.328125 0 \nL 7.328125 8.296875 \nQ 12.9375 14.109375 22.625 23.890625 \nQ 32.328125 33.6875 34.8125 36.53125 \nQ 39.546875 41.84375 41.421875 45.53125 \nQ 43.3125 49.21875 43.3125 52.78125 \nQ 43.3125 58.59375 39.234375 62.25 \nQ 35.15625 65.921875 28.609375 65.921875 \nQ 23.96875 65.921875 18.8125 64.3125 \nQ 13.671875 62.703125 7.8125 59.421875 \nL 7.8125 69.390625 \nQ 13.765625 71.78125 18.9375 73 \nQ 24.125 74.21875 28.421875 74.21875 \nQ 39.75 74.21875 46.484375 68.546875 \nQ 53.21875 62.890625 53.21875 53.421875 \nQ 53.21875 48.921875 51.53125 44.890625 \nQ 49.859375 40.875 45.40625 35.40625 \nQ 44.1875 33.984375 37.640625 27.21875 \nQ 31.109375 20.453125 19.1875 8.296875 \nz\n\" id=\"DejaVuSans-50\"/>\n      </defs>\n      <g transform=\"translate(318.653659 239.238437)scale(0.1 -0.1)\">\n       <use xlink:href=\"#DejaVuSans-50\"/>\n       <use x=\"63.623047\" xlink:href=\"#DejaVuSans-48\"/>\n      </g>\n     </g>\n    </g>\n    <g id=\"xtick_9\">\n     <g id=\"line2d_9\">\n      <g>\n       <use style=\"stroke:#000000;stroke-width:0.8;\" x=\"362.53139\" xlink:href=\"#mdca8a3c7d3\" y=\"224.64\"/>\n      </g>\n     </g>\n     <g id=\"text_9\">\n      <!-- 25 -->\n      <g transform=\"translate(356.16889 239.238437)scale(0.1 -0.1)\">\n       <use xlink:href=\"#DejaVuSans-50\"/>\n       <use x=\"63.623047\" xlink:href=\"#DejaVuSans-53\"/>\n      </g>\n     </g>\n    </g>\n   </g>\n   <g id=\"matplotlib.axis_2\">\n    <g id=\"ytick_1\">\n     <g id=\"line2d_10\">\n      <defs>\n       <path d=\"M 0 0 \nL -3.5 0 \n\" id=\"m06c333a09b\" style=\"stroke:#000000;stroke-width:0.8;\"/>\n      </defs>\n      <g>\n       <use style=\"stroke:#000000;stroke-width:0.8;\" x=\"36.465625\" xlink:href=\"#m06c333a09b\" y=\"224.64\"/>\n      </g>\n     </g>\n     <g id=\"text_10\">\n      <!-- 0.00 -->\n      <defs>\n       <path d=\"M 10.6875 12.40625 \nL 21 12.40625 \nL 21 0 \nL 10.6875 0 \nz\n\" id=\"DejaVuSans-46\"/>\n      </defs>\n      <g transform=\"translate(7.2 228.439219)scale(0.1 -0.1)\">\n       <use xlink:href=\"#DejaVuSans-48\"/>\n       <use x=\"63.623047\" xlink:href=\"#DejaVuSans-46\"/>\n       <use x=\"95.410156\" xlink:href=\"#DejaVuSans-48\"/>\n       <use x=\"159.033203\" xlink:href=\"#DejaVuSans-48\"/>\n      </g>\n     </g>\n    </g>\n    <g id=\"ytick_2\">\n     <g id=\"line2d_11\">\n      <g>\n       <use style=\"stroke:#000000;stroke-width:0.8;\" x=\"36.465625\" xlink:href=\"#m06c333a09b\" y=\"177.500346\"/>\n      </g>\n     </g>\n     <g id=\"text_11\">\n      <!-- 0.02 -->\n      <g transform=\"translate(7.2 181.299565)scale(0.1 -0.1)\">\n       <use xlink:href=\"#DejaVuSans-48\"/>\n       <use x=\"63.623047\" xlink:href=\"#DejaVuSans-46\"/>\n       <use x=\"95.410156\" xlink:href=\"#DejaVuSans-48\"/>\n       <use x=\"159.033203\" xlink:href=\"#DejaVuSans-50\"/>\n      </g>\n     </g>\n    </g>\n    <g id=\"ytick_3\">\n     <g id=\"line2d_12\">\n      <g>\n       <use style=\"stroke:#000000;stroke-width:0.8;\" x=\"36.465625\" xlink:href=\"#m06c333a09b\" y=\"130.360692\"/>\n      </g>\n     </g>\n     <g id=\"text_12\">\n      <!-- 0.04 -->\n      <defs>\n       <path d=\"M 37.796875 64.3125 \nL 12.890625 25.390625 \nL 37.796875 25.390625 \nz\nM 35.203125 72.90625 \nL 47.609375 72.90625 \nL 47.609375 25.390625 \nL 58.015625 25.390625 \nL 58.015625 17.1875 \nL 47.609375 17.1875 \nL 47.609375 0 \nL 37.796875 0 \nL 37.796875 17.1875 \nL 4.890625 17.1875 \nL 4.890625 26.703125 \nz\n\" id=\"DejaVuSans-52\"/>\n      </defs>\n      <g transform=\"translate(7.2 134.159911)scale(0.1 -0.1)\">\n       <use xlink:href=\"#DejaVuSans-48\"/>\n       <use x=\"63.623047\" xlink:href=\"#DejaVuSans-46\"/>\n       <use x=\"95.410156\" xlink:href=\"#DejaVuSans-48\"/>\n       <use x=\"159.033203\" xlink:href=\"#DejaVuSans-52\"/>\n      </g>\n     </g>\n    </g>\n    <g id=\"ytick_4\">\n     <g id=\"line2d_13\">\n      <g>\n       <use style=\"stroke:#000000;stroke-width:0.8;\" x=\"36.465625\" xlink:href=\"#m06c333a09b\" y=\"83.221038\"/>\n      </g>\n     </g>\n     <g id=\"text_13\">\n      <!-- 0.06 -->\n      <defs>\n       <path d=\"M 33.015625 40.375 \nQ 26.375 40.375 22.484375 35.828125 \nQ 18.609375 31.296875 18.609375 23.390625 \nQ 18.609375 15.53125 22.484375 10.953125 \nQ 26.375 6.390625 33.015625 6.390625 \nQ 39.65625 6.390625 43.53125 10.953125 \nQ 47.40625 15.53125 47.40625 23.390625 \nQ 47.40625 31.296875 43.53125 35.828125 \nQ 39.65625 40.375 33.015625 40.375 \nz\nM 52.59375 71.296875 \nL 52.59375 62.3125 \nQ 48.875 64.0625 45.09375 64.984375 \nQ 41.3125 65.921875 37.59375 65.921875 \nQ 27.828125 65.921875 22.671875 59.328125 \nQ 17.53125 52.734375 16.796875 39.40625 \nQ 19.671875 43.65625 24.015625 45.921875 \nQ 28.375 48.1875 33.59375 48.1875 \nQ 44.578125 48.1875 50.953125 41.515625 \nQ 57.328125 34.859375 57.328125 23.390625 \nQ 57.328125 12.15625 50.6875 5.359375 \nQ 44.046875 -1.421875 33.015625 -1.421875 \nQ 20.359375 -1.421875 13.671875 8.265625 \nQ 6.984375 17.96875 6.984375 36.375 \nQ 6.984375 53.65625 15.1875 63.9375 \nQ 23.390625 74.21875 37.203125 74.21875 \nQ 40.921875 74.21875 44.703125 73.484375 \nQ 48.484375 72.75 52.59375 71.296875 \nz\n\" id=\"DejaVuSans-54\"/>\n      </defs>\n      <g transform=\"translate(7.2 87.020257)scale(0.1 -0.1)\">\n       <use xlink:href=\"#DejaVuSans-48\"/>\n       <use x=\"63.623047\" xlink:href=\"#DejaVuSans-46\"/>\n       <use x=\"95.410156\" xlink:href=\"#DejaVuSans-48\"/>\n       <use x=\"159.033203\" xlink:href=\"#DejaVuSans-54\"/>\n      </g>\n     </g>\n    </g>\n    <g id=\"ytick_5\">\n     <g id=\"line2d_14\">\n      <g>\n       <use style=\"stroke:#000000;stroke-width:0.8;\" x=\"36.465625\" xlink:href=\"#m06c333a09b\" y=\"36.081384\"/>\n      </g>\n     </g>\n     <g id=\"text_14\">\n      <!-- 0.08 -->\n      <defs>\n       <path d=\"M 31.78125 34.625 \nQ 24.75 34.625 20.71875 30.859375 \nQ 16.703125 27.09375 16.703125 20.515625 \nQ 16.703125 13.921875 20.71875 10.15625 \nQ 24.75 6.390625 31.78125 6.390625 \nQ 38.8125 6.390625 42.859375 10.171875 \nQ 46.921875 13.96875 46.921875 20.515625 \nQ 46.921875 27.09375 42.890625 30.859375 \nQ 38.875 34.625 31.78125 34.625 \nz\nM 21.921875 38.8125 \nQ 15.578125 40.375 12.03125 44.71875 \nQ 8.5 49.078125 8.5 55.328125 \nQ 8.5 64.0625 14.71875 69.140625 \nQ 20.953125 74.21875 31.78125 74.21875 \nQ 42.671875 74.21875 48.875 69.140625 \nQ 55.078125 64.0625 55.078125 55.328125 \nQ 55.078125 49.078125 51.53125 44.71875 \nQ 48 40.375 41.703125 38.8125 \nQ 48.828125 37.15625 52.796875 32.3125 \nQ 56.78125 27.484375 56.78125 20.515625 \nQ 56.78125 9.90625 50.3125 4.234375 \nQ 43.84375 -1.421875 31.78125 -1.421875 \nQ 19.734375 -1.421875 13.25 4.234375 \nQ 6.78125 9.90625 6.78125 20.515625 \nQ 6.78125 27.484375 10.78125 32.3125 \nQ 14.796875 37.15625 21.921875 38.8125 \nz\nM 18.3125 54.390625 \nQ 18.3125 48.734375 21.84375 45.5625 \nQ 25.390625 42.390625 31.78125 42.390625 \nQ 38.140625 42.390625 41.71875 45.5625 \nQ 45.3125 48.734375 45.3125 54.390625 \nQ 45.3125 60.0625 41.71875 63.234375 \nQ 38.140625 66.40625 31.78125 66.40625 \nQ 25.390625 66.40625 21.84375 63.234375 \nQ 18.3125 60.0625 18.3125 54.390625 \nz\n\" id=\"DejaVuSans-56\"/>\n      </defs>\n      <g transform=\"translate(7.2 39.880603)scale(0.1 -0.1)\">\n       <use xlink:href=\"#DejaVuSans-48\"/>\n       <use x=\"63.623047\" xlink:href=\"#DejaVuSans-46\"/>\n       <use x=\"95.410156\" xlink:href=\"#DejaVuSans-48\"/>\n       <use x=\"159.033203\" xlink:href=\"#DejaVuSans-56\"/>\n      </g>\n     </g>\n    </g>\n   </g>\n   <g id=\"line2d_15\">\n    <path clip-path=\"url(#pd7315237a9)\" d=\"M 51.683807 223.528325 \nL 56.476935 223.488661 \nL 61.270063 223.088688 \nL 66.063191 222.292666 \nL 68.459755 221.72415 \nL 70.856319 221.02714 \nL 73.252883 220.189859 \nL 75.649447 219.20103 \nL 78.046012 218.05083 \nL 80.442576 216.731892 \nL 82.83914 215.240319 \nL 85.235704 213.576642 \nL 87.632268 211.746687 \nL 92.425396 207.64148 \nL 97.218524 203.095945 \nL 104.408216 196.057335 \nL 109.201344 191.716771 \nL 111.597908 189.781191 \nL 113.994473 188.050778 \nL 116.391037 186.553009 \nL 118.787601 185.30585 \nL 121.184165 184.316361 \nL 123.580729 183.579842 \nL 125.977293 183.079626 \nL 128.373857 182.787563 \nL 130.770421 182.665181 \nL 135.563549 182.735304 \nL 140.356677 182.856438 \nL 142.753241 182.796035 \nL 145.149805 182.587589 \nL 147.546369 182.18986 \nL 149.942934 181.571659 \nL 152.339498 180.713336 \nL 154.736062 179.607607 \nL 157.132626 178.25966 \nL 159.52919 176.686551 \nL 161.925754 174.915943 \nL 166.718882 170.93439 \nL 176.305138 162.483404 \nL 181.098266 158.675031 \nL 185.891395 155.388169 \nL 190.684523 152.576564 \nL 197.874215 148.679563 \nL 200.270779 147.26344 \nL 202.667343 145.692049 \nL 205.063907 143.909406 \nL 207.460471 141.866272 \nL 209.857035 139.523893 \nL 212.253599 136.857356 \nL 214.650163 133.858304 \nL 217.046727 130.536775 \nL 219.443291 126.921998 \nL 224.23642 119.022083 \nL 231.426112 106.669146 \nL 233.822676 102.791014 \nL 236.21924 99.191681 \nL 238.615804 95.956459 \nL 241.012368 93.157811 \nL 243.408932 90.852171 \nL 245.805496 89.07796 \nL 248.20206 87.854959 \nL 250.598624 87.185043 \nL 252.995188 87.054182 \nL 255.391752 87.435475 \nL 257.788316 88.292934 \nL 260.184881 89.585614 \nL 262.581445 91.27172 \nL 264.978009 93.312293 \nL 267.374573 95.674149 \nL 269.771137 98.331828 \nL 272.167701 101.26841 \nL 274.564265 104.475181 \nL 276.960829 107.950238 \nL 279.357393 111.696246 \nL 281.753957 115.717599 \nL 284.150521 120.017331 \nL 286.547085 124.594096 \nL 288.943649 129.439539 \nL 293.736777 139.856899 \nL 298.529906 151.008306 \nL 308.116162 173.783151 \nL 312.90929 184.397645 \nL 315.305854 189.309344 \nL 317.702418 193.899371 \nL 320.098982 198.136743 \nL 322.495546 202.001146 \nL 324.89211 205.482797 \nL 327.288674 208.581766 \nL 329.685238 211.306881 \nL 332.081803 213.674326 \nL 334.478367 215.706056 \nL 336.874931 217.428145 \nL 339.271495 218.869176 \nL 341.668059 220.05874 \nL 344.064623 221.02611 \nL 346.461187 221.799129 \nL 348.857751 222.403313 \nL 351.254315 222.861175 \nL 356.047443 223.410345 \nL 356.047443 223.410345 \n\" style=\"fill:none;stroke:#1f77b4;stroke-linecap:square;stroke-width:1.5;\"/>\n   </g>\n   <g id=\"patch_8\">\n    <path d=\"M 36.465625 224.64 \nL 36.465625 7.2 \n\" style=\"fill:none;stroke:#000000;stroke-linecap:square;stroke-linejoin:miter;stroke-width:0.8;\"/>\n   </g>\n   <g id=\"patch_9\">\n    <path d=\"M 371.265625 224.64 \nL 371.265625 7.2 \n\" style=\"fill:none;stroke:#000000;stroke-linecap:square;stroke-linejoin:miter;stroke-width:0.8;\"/>\n   </g>\n   <g id=\"patch_10\">\n    <path d=\"M 36.465625 224.64 \nL 371.265625 224.64 \n\" style=\"fill:none;stroke:#000000;stroke-linecap:square;stroke-linejoin:miter;stroke-width:0.8;\"/>\n   </g>\n   <g id=\"patch_11\">\n    <path d=\"M 36.465625 7.2 \nL 371.265625 7.2 \n\" style=\"fill:none;stroke:#000000;stroke-linecap:square;stroke-linejoin:miter;stroke-width:0.8;\"/>\n   </g>\n  </g>\n </g>\n <defs>\n  <clipPath id=\"pd7315237a9\">\n   <rect height=\"217.44\" width=\"334.8\" x=\"36.465625\" y=\"7.2\"/>\n  </clipPath>\n </defs>\n</svg>\n",
      "image/png": "[encoded data removed]"
     },
     "metadata": {
      "needs_background": "light"
     }
    }
   ],
   "source": [
    "df_correlation_cen = filtering_correlation.get_filtering_correlation(df_centrist,combined_ba, percentage_increase=True)\n",
    "sns.distplot(df_correlation_cen.iloc[1:,:].mean(axis=1));"
   ]
  },
  {
   "cell_type": "code",
   "execution_count": 35,
   "metadata": {},
   "outputs": [
    {
     "output_type": "execute_result",
     "data": {
      "text/plain": [
       "Percentage Increase/Decrease                        ROUGE-l   bleu1  ROUGE-1  \\\n",
       "('random_honeypot', 'low_std', 'high_random', '...   14.212  14.473   14.592   \n",
       "('random_honeypot', 'low_std', 'high_random')        14.212  14.473   14.592   \n",
       "('random_honeypot', 'high_random', 'unpopular')      14.212  14.473   14.592   \n",
       "('low_std', 'high_random', 'unpopular')              14.212  14.473   14.592   \n",
       "('random_honeypot', 'high_random')                   14.212  14.473   14.592   \n",
       "...                                                     ...     ...      ...   \n",
       "('duration', 'low_std', 'unpopular')                 -6.238  -6.595   -6.594   \n",
       "('duration', 'random_honeypot')                      -6.238  -6.595   -6.594   \n",
       "('duration', 'low_std')                              -6.238  -6.595   -6.594   \n",
       "('duration', 'unpopular')                            -6.238  -6.595   -6.594   \n",
       "('duration',)                                        -6.238  -6.595   -6.594   \n",
       "\n",
       "Percentage Increase/Decrease                        BertScore  chrfScore  \\\n",
       "('random_honeypot', 'low_std', 'high_random', '...     14.227     13.946   \n",
       "('random_honeypot', 'low_std', 'high_random')          14.227     13.946   \n",
       "('random_honeypot', 'high_random', 'unpopular')        14.227     13.946   \n",
       "('low_std', 'high_random', 'unpopular')                14.227     13.946   \n",
       "('random_honeypot', 'high_random')                     14.227     13.946   \n",
       "...                                                       ...        ...   \n",
       "('duration', 'low_std', 'unpopular')                   -5.873     -6.522   \n",
       "('duration', 'random_honeypot')                        -5.873     -6.522   \n",
       "('duration', 'low_std')                                -5.873     -6.522   \n",
       "('duration', 'unpopular')                              -5.873     -6.522   \n",
       "('duration',)                                          -5.873     -6.522   \n",
       "\n",
       "Percentage Increase/Decrease                        1-gram_overlap  L2_score  \\\n",
       "('random_honeypot', 'low_std', 'high_random', '...          14.311    15.340   \n",
       "('random_honeypot', 'low_std', 'high_random')               14.311    15.340   \n",
       "('random_honeypot', 'high_random', 'unpopular')             14.311    15.340   \n",
       "('low_std', 'high_random', 'unpopular')                     14.311    15.340   \n",
       "('random_honeypot', 'high_random')                          14.311    15.340   \n",
       "...                                                            ...       ...   \n",
       "('duration', 'low_std', 'unpopular')                        -6.627    -6.767   \n",
       "('duration', 'random_honeypot')                             -6.627    -6.767   \n",
       "('duration', 'low_std')                                     -6.627    -6.767   \n",
       "('duration', 'unpopular')                                   -6.627    -6.767   \n",
       "('duration',)                                               -6.627    -6.767   \n",
       "\n",
       "Percentage Increase/Decrease                        ROUGE-2     WMD  \\\n",
       "('random_honeypot', 'low_std', 'high_random', '...   13.373  16.865   \n",
       "('random_honeypot', 'low_std', 'high_random')        13.373  16.865   \n",
       "('random_honeypot', 'high_random', 'unpopular')      13.373  16.865   \n",
       "('low_std', 'high_random', 'unpopular')              13.373  16.865   \n",
       "('random_honeypot', 'high_random')                   13.373  16.865   \n",
       "...                                                     ...     ...   \n",
       "('duration', 'low_std', 'unpopular')                 -7.091  -6.406   \n",
       "('duration', 'random_honeypot')                      -7.091  -6.406   \n",
       "('duration', 'low_std')                              -7.091  -6.406   \n",
       "('duration', 'unpopular')                            -7.091  -6.406   \n",
       "('duration',)                                        -7.091  -6.406   \n",
       "\n",
       "Percentage Increase/Decrease                        fasttext_cosine    bleu  \\\n",
       "('random_honeypot', 'low_std', 'high_random', '...           14.947  13.904   \n",
       "('random_honeypot', 'low_std', 'high_random')                14.947  13.904   \n",
       "('random_honeypot', 'high_random', 'unpopular')              14.947  13.904   \n",
       "('low_std', 'high_random', 'unpopular')                      14.947  13.904   \n",
       "('random_honeypot', 'high_random')                           14.947  13.904   \n",
       "...                                                             ...     ...   \n",
       "('duration', 'low_std', 'unpopular')                         -7.559  -8.580   \n",
       "('duration', 'random_honeypot')                              -7.559  -8.580   \n",
       "('duration', 'low_std')                                      -7.559  -8.580   \n",
       "('duration', 'unpopular')                                    -7.559  -8.580   \n",
       "('duration',)                                                -7.559  -8.580   \n",
       "\n",
       "Percentage Increase/Decrease                        glove_cosine  \\\n",
       "('random_honeypot', 'low_std', 'high_random', '...        16.733   \n",
       "('random_honeypot', 'low_std', 'high_random')             16.733   \n",
       "('random_honeypot', 'high_random', 'unpopular')           16.733   \n",
       "('low_std', 'high_random', 'unpopular')                   16.733   \n",
       "('random_honeypot', 'high_random')                        16.733   \n",
       "...                                                          ...   \n",
       "('duration', 'low_std', 'unpopular')                      -7.270   \n",
       "('duration', 'random_honeypot')                           -7.270   \n",
       "('duration', 'low_std')                                   -7.270   \n",
       "('duration', 'unpopular')                                 -7.270   \n",
       "('duration',)                                             -7.270   \n",
       "\n",
       "Percentage Increase/Decrease                        POS Dist score  \\\n",
       "('random_honeypot', 'low_std', 'high_random', '...          14.084   \n",
       "('random_honeypot', 'low_std', 'high_random')               14.084   \n",
       "('random_honeypot', 'high_random', 'unpopular')             14.084   \n",
       "('low_std', 'high_random', 'unpopular')                     14.084   \n",
       "('random_honeypot', 'high_random')                          14.084   \n",
       "...                                                            ...   \n",
       "('duration', 'low_std', 'unpopular')                        -8.703   \n",
       "('duration', 'random_honeypot')                             -8.703   \n",
       "('duration', 'low_std')                                     -8.703   \n",
       "('duration', 'unpopular')                                   -8.703   \n",
       "('duration',)                                               -8.703   \n",
       "\n",
       "Percentage Increase/Decrease                        mean_increase  \\\n",
       "('random_honeypot', 'low_std', 'high_random', '...      14.692846   \n",
       "('random_honeypot', 'low_std', 'high_random')           14.692846   \n",
       "('random_honeypot', 'high_random', 'unpopular')         14.692846   \n",
       "('low_std', 'high_random', 'unpopular')                 14.692846   \n",
       "('random_honeypot', 'high_random')                      14.692846   \n",
       "...                                                           ...   \n",
       "('duration', 'low_std', 'unpopular')                    -6.986538   \n",
       "('duration', 'random_honeypot')                         -6.986538   \n",
       "('duration', 'low_std')                                 -6.986538   \n",
       "('duration', 'unpopular')                               -6.986538   \n",
       "('duration',)                                           -6.986538   \n",
       "\n",
       "Percentage Increase/Decrease                        num_heuristics  num_ba  \\\n",
       "('random_honeypot', 'low_std', 'high_random', '...               4     102   \n",
       "('random_honeypot', 'low_std', 'high_random')                    3     101   \n",
       "('random_honeypot', 'high_random', 'unpopular')                  3      25   \n",
       "('low_std', 'high_random', 'unpopular')                          3     102   \n",
       "('random_honeypot', 'high_random')                               2      23   \n",
       "...                                                            ...     ...   \n",
       "('duration', 'low_std', 'unpopular')                             3     122   \n",
       "('duration', 'random_honeypot')                                  2      47   \n",
       "('duration', 'low_std')                                          2     121   \n",
       "('duration', 'unpopular')                                        2      34   \n",
       "('duration',)                                                    1      32   \n",
       "\n",
       "Percentage Increase/Decrease                        percent_rows_filtered  \n",
       "('random_honeypot', 'low_std', 'high_random', '...                  13.32  \n",
       "('random_honeypot', 'low_std', 'high_random')                       13.32  \n",
       "('random_honeypot', 'high_random', 'unpopular')                     13.32  \n",
       "('low_std', 'high_random', 'unpopular')                             13.32  \n",
       "('random_honeypot', 'high_random')                                  13.32  \n",
       "...                                                                   ...  \n",
       "('duration', 'low_std', 'unpopular')                                12.30  \n",
       "('duration', 'random_honeypot')                                     12.30  \n",
       "('duration', 'low_std')                                             12.30  \n",
       "('duration', 'unpopular')                                           12.30  \n",
       "('duration',)                                                       12.30  \n",
       "\n",
       "[64 rows x 17 columns]"
      ],
      "text/html": "<div>\n<style scoped>\n    .dataframe tbody tr th:only-of-type {\n        vertical-align: middle;\n    }\n\n    .dataframe tbody tr th {\n        vertical-align: top;\n    }\n\n    .dataframe thead th {\n        text-align: right;\n    }\n</style>\n<table border=\"1\" class=\"dataframe\">\n  <thead>\n    <tr style=\"text-align: right;\">\n      <th>Percentage Increase/Decrease</th>\n      <th>ROUGE-l</th>\n      <th>bleu1</th>\n      <th>ROUGE-1</th>\n      <th>BertScore</th>\n      <th>chrfScore</th>\n      <th>1-gram_overlap</th>\n      <th>L2_score</th>\n      <th>ROUGE-2</th>\n      <th>WMD</th>\n      <th>fasttext_cosine</th>\n      <th>bleu</th>\n      <th>glove_cosine</th>\n      <th>POS Dist score</th>\n      <th>mean_increase</th>\n      <th>num_heuristics</th>\n      <th>num_ba</th>\n      <th>percent_rows_filtered</th>\n    </tr>\n  </thead>\n  <tbody>\n    <tr>\n      <th>('random_honeypot', 'low_std', 'high_random', 'unpopular')</th>\n      <td>14.212</td>\n      <td>14.473</td>\n      <td>14.592</td>\n      <td>14.227</td>\n      <td>13.946</td>\n      <td>14.311</td>\n      <td>15.340</td>\n      <td>13.373</td>\n      <td>16.865</td>\n      <td>14.947</td>\n      <td>13.904</td>\n      <td>16.733</td>\n      <td>14.084</td>\n      <td>14.692846</td>\n      <td>4</td>\n      <td>102</td>\n      <td>13.32</td>\n    </tr>\n    <tr>\n      <th>('random_honeypot', 'low_std', 'high_random')</th>\n      <td>14.212</td>\n      <td>14.473</td>\n      <td>14.592</td>\n      <td>14.227</td>\n      <td>13.946</td>\n      <td>14.311</td>\n      <td>15.340</td>\n      <td>13.373</td>\n      <td>16.865</td>\n      <td>14.947</td>\n      <td>13.904</td>\n      <td>16.733</td>\n      <td>14.084</td>\n      <td>14.692846</td>\n      <td>3</td>\n      <td>101</td>\n      <td>13.32</td>\n    </tr>\n    <tr>\n      <th>('random_honeypot', 'high_random', 'unpopular')</th>\n      <td>14.212</td>\n      <td>14.473</td>\n      <td>14.592</td>\n      <td>14.227</td>\n      <td>13.946</td>\n      <td>14.311</td>\n      <td>15.340</td>\n      <td>13.373</td>\n      <td>16.865</td>\n      <td>14.947</td>\n      <td>13.904</td>\n      <td>16.733</td>\n      <td>14.084</td>\n      <td>14.692846</td>\n      <td>3</td>\n      <td>25</td>\n      <td>13.32</td>\n    </tr>\n    <tr>\n      <th>('low_std', 'high_random', 'unpopular')</th>\n      <td>14.212</td>\n      <td>14.473</td>\n      <td>14.592</td>\n      <td>14.227</td>\n      <td>13.946</td>\n      <td>14.311</td>\n      <td>15.340</td>\n      <td>13.373</td>\n      <td>16.865</td>\n      <td>14.947</td>\n      <td>13.904</td>\n      <td>16.733</td>\n      <td>14.084</td>\n      <td>14.692846</td>\n      <td>3</td>\n      <td>102</td>\n      <td>13.32</td>\n    </tr>\n    <tr>\n      <th>('random_honeypot', 'high_random')</th>\n      <td>14.212</td>\n      <td>14.473</td>\n      <td>14.592</td>\n      <td>14.227</td>\n      <td>13.946</td>\n      <td>14.311</td>\n      <td>15.340</td>\n      <td>13.373</td>\n      <td>16.865</td>\n      <td>14.947</td>\n      <td>13.904</td>\n      <td>16.733</td>\n      <td>14.084</td>\n      <td>14.692846</td>\n      <td>2</td>\n      <td>23</td>\n      <td>13.32</td>\n    </tr>\n    <tr>\n      <th>...</th>\n      <td>...</td>\n      <td>...</td>\n      <td>...</td>\n      <td>...</td>\n      <td>...</td>\n      <td>...</td>\n      <td>...</td>\n      <td>...</td>\n      <td>...</td>\n      <td>...</td>\n      <td>...</td>\n      <td>...</td>\n      <td>...</td>\n      <td>...</td>\n      <td>...</td>\n      <td>...</td>\n      <td>...</td>\n    </tr>\n    <tr>\n      <th>('duration', 'low_std', 'unpopular')</th>\n      <td>-6.238</td>\n      <td>-6.595</td>\n      <td>-6.594</td>\n      <td>-5.873</td>\n      <td>-6.522</td>\n      <td>-6.627</td>\n      <td>-6.767</td>\n      <td>-7.091</td>\n      <td>-6.406</td>\n      <td>-7.559</td>\n      <td>-8.580</td>\n      <td>-7.270</td>\n      <td>-8.703</td>\n      <td>-6.986538</td>\n      <td>3</td>\n      <td>122</td>\n      <td>12.30</td>\n    </tr>\n    <tr>\n      <th>('duration', 'random_honeypot')</th>\n      <td>-6.238</td>\n      <td>-6.595</td>\n      <td>-6.594</td>\n      <td>-5.873</td>\n      <td>-6.522</td>\n      <td>-6.627</td>\n      <td>-6.767</td>\n      <td>-7.091</td>\n      <td>-6.406</td>\n      <td>-7.559</td>\n      <td>-8.580</td>\n      <td>-7.270</td>\n      <td>-8.703</td>\n      <td>-6.986538</td>\n      <td>2</td>\n      <td>47</td>\n      <td>12.30</td>\n    </tr>\n    <tr>\n      <th>('duration', 'low_std')</th>\n      <td>-6.238</td>\n      <td>-6.595</td>\n      <td>-6.594</td>\n      <td>-5.873</td>\n      <td>-6.522</td>\n      <td>-6.627</td>\n      <td>-6.767</td>\n      <td>-7.091</td>\n      <td>-6.406</td>\n      <td>-7.559</td>\n      <td>-8.580</td>\n      <td>-7.270</td>\n      <td>-8.703</td>\n      <td>-6.986538</td>\n      <td>2</td>\n      <td>121</td>\n      <td>12.30</td>\n    </tr>\n    <tr>\n      <th>('duration', 'unpopular')</th>\n      <td>-6.238</td>\n      <td>-6.595</td>\n      <td>-6.594</td>\n      <td>-5.873</td>\n      <td>-6.522</td>\n      <td>-6.627</td>\n      <td>-6.767</td>\n      <td>-7.091</td>\n      <td>-6.406</td>\n      <td>-7.559</td>\n      <td>-8.580</td>\n      <td>-7.270</td>\n      <td>-8.703</td>\n      <td>-6.986538</td>\n      <td>2</td>\n      <td>34</td>\n      <td>12.30</td>\n    </tr>\n    <tr>\n      <th>('duration',)</th>\n      <td>-6.238</td>\n      <td>-6.595</td>\n      <td>-6.594</td>\n      <td>-5.873</td>\n      <td>-6.522</td>\n      <td>-6.627</td>\n      <td>-6.767</td>\n      <td>-7.091</td>\n      <td>-6.406</td>\n      <td>-7.559</td>\n      <td>-8.580</td>\n      <td>-7.270</td>\n      <td>-8.703</td>\n      <td>-6.986538</td>\n      <td>1</td>\n      <td>32</td>\n      <td>12.30</td>\n    </tr>\n  </tbody>\n</table>\n<p>64 rows × 17 columns</p>\n</div>"
     },
     "metadata": {},
     "execution_count": 35
    }
   ],
   "source": [
    "df_correlation_cen = filtering_correlation.append_heuristic_info(df_correlation_cen,df_centrist)\n",
    "df_correlation_cen.sort_values(by=[\"mean_increase\",\"percent_rows_filtered\",\"num_heuristics\"],ascending=False)"
   ]
  },
  {
   "cell_type": "code",
   "execution_count": 36,
   "metadata": {},
   "outputs": [
    {
     "output_type": "stream",
     "name": "stdout",
     "text": [
      "['random_honeypot', 'low_std', 'high_random', 'unpopular']\n"
     ]
    },
    {
     "output_type": "execute_result",
     "data": {
      "text/plain": [
       "                    label\n",
       "ROUGE-l          0.483807\n",
       "bleu1            0.480241\n",
       "ROUGE-1          0.479959\n",
       "BertScore        0.473633\n",
       "chrfScore        0.470420\n",
       "1-gram_overlap   0.470218\n",
       "L2_score         0.434647\n",
       "ROUGE-2          0.424252\n",
       "WMD              0.380067\n",
       "fasttext_cosine  0.369184\n",
       "glove_cosine     0.335918\n",
       "bleu             0.334808\n",
       "POS Dist score   0.291007"
      ],
      "text/html": "<div>\n<style scoped>\n    .dataframe tbody tr th:only-of-type {\n        vertical-align: middle;\n    }\n\n    .dataframe tbody tr th {\n        vertical-align: top;\n    }\n\n    .dataframe thead th {\n        text-align: right;\n    }\n</style>\n<table border=\"1\" class=\"dataframe\">\n  <thead>\n    <tr style=\"text-align: right;\">\n      <th></th>\n      <th>label</th>\n    </tr>\n  </thead>\n  <tbody>\n    <tr>\n      <th>ROUGE-l</th>\n      <td>0.483807</td>\n    </tr>\n    <tr>\n      <th>bleu1</th>\n      <td>0.480241</td>\n    </tr>\n    <tr>\n      <th>ROUGE-1</th>\n      <td>0.479959</td>\n    </tr>\n    <tr>\n      <th>BertScore</th>\n      <td>0.473633</td>\n    </tr>\n    <tr>\n      <th>chrfScore</th>\n      <td>0.470420</td>\n    </tr>\n    <tr>\n      <th>1-gram_overlap</th>\n      <td>0.470218</td>\n    </tr>\n    <tr>\n      <th>L2_score</th>\n      <td>0.434647</td>\n    </tr>\n    <tr>\n      <th>ROUGE-2</th>\n      <td>0.424252</td>\n    </tr>\n    <tr>\n      <th>WMD</th>\n      <td>0.380067</td>\n    </tr>\n    <tr>\n      <th>fasttext_cosine</th>\n      <td>0.369184</td>\n    </tr>\n    <tr>\n      <th>glove_cosine</th>\n      <td>0.335918</td>\n    </tr>\n    <tr>\n      <th>bleu</th>\n      <td>0.334808</td>\n    </tr>\n    <tr>\n      <th>POS Dist score</th>\n      <td>0.291007</td>\n    </tr>\n  </tbody>\n</table>\n</div>"
     },
     "metadata": {},
     "execution_count": 36
    }
   ],
   "source": [
    "top_heuristic = list(eval(df_correlation_cen.sort_values(by=[\"mean_increase\",\"percent_rows_filtered\",\"num_heuristics\"],ascending=False).index[0]))\n",
    "print(top_heuristic)\n",
    "filtering_correlation.get_heuristic_scores(df_centrist,top_heuristic)"
   ]
  },
  {
   "cell_type": "code",
   "execution_count": null,
   "metadata": {},
   "outputs": [],
   "source": []
  }
 ]
}