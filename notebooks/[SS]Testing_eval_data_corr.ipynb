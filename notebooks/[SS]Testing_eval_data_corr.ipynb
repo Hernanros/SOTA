{
 "metadata": {
  "language_info": {
   "codemirror_mode": {
    "name": "ipython",
    "version": 3
   },
   "file_extension": ".py",
   "mimetype": "text/x-python",
   "name": "python",
   "nbconvert_exporter": "python",
   "pygments_lexer": "ipython3",
   "version": "3.6.9-final"
  },
  "orig_nbformat": 2,
  "kernelspec": {
   "name": "python36964bitvenvsota3ad709967f274309bbd0f51575c18c2c",
   "display_name": "Python 3.6.9 64-bit ('venv_sota')"
  }
 },
 "nbformat": 4,
 "nbformat_minor": 2,
 "cells": [
  {
   "source": [
    "## Testing Eval_data Correlation\n",
    "\n",
    "Does filtering out the bad annotators + using Linear/Non-Linear models to explore metric relations better increase the Pearson Correlation between human labeling and the various metrics used for Semantic Similarity?"
   ],
   "cell_type": "markdown",
   "metadata": {}
  },
  {
   "cell_type": "code",
   "execution_count": 13,
   "metadata": {},
   "outputs": [],
   "source": [
    "%load_ext autoreload\n",
    "%autoreload 2"
   ]
  },
  {
   "cell_type": "code",
   "execution_count": 2,
   "metadata": {},
   "outputs": [
    {
     "output_type": "stream",
     "name": "stdout",
     "text": [
      "/home/shaul/workspace/GitHub/SOTA\n"
     ]
    }
   ],
   "source": [
    "import os\n",
    "from pathlib import Path\n",
    "\n",
    "PATH_ROOT =Path(os.getcwd()).parents[0].resolve()\n",
    "%cd {PATH_ROOT}"
   ]
  },
  {
   "cell_type": "code",
   "execution_count": 46,
   "metadata": {},
   "outputs": [],
   "source": [
    "import pandas as pd\n",
    "import sys\n",
    "import numpy as np\n",
    "from src import model_corr\n",
    "from src import metric_exploration"
   ]
  },
  {
   "cell_type": "code",
   "execution_count": 5,
   "metadata": {},
   "outputs": [],
   "source": [
    "PATH_DATA = Path(os.getcwd()).resolve() / 'data'\n",
    "PATH_COMBINED = PATH_DATA / 'full_DS' / 'full_metrics.csv'\n",
    "PATH_STS = PATH_DATA / 'eval_data' / 'sts.csv'\n",
    "PATH_QQP = PATH_DATA / 'eval_data'/ 'qqp.csv'"
   ]
  },
  {
   "cell_type": "code",
   "execution_count": 6,
   "metadata": {},
   "outputs": [],
   "source": [
    "metrics = ['bleu', \n",
    "           'bleu1',\n",
    "           'glove_cosine',\n",
    "           'fasttext_cosine',\n",
    "           'BertScore',\n",
    "           'chrfScore',\n",
    "           'POS Dist score',\n",
    "           '1-gram_overlap',\n",
    "           'ROUGE-1',\n",
    "           'ROUGE-2',\n",
    "           'ROUGE-l',\n",
    "           'L2_score',\n",
    "           'WMD']"
   ]
  },
  {
   "source": [
    "### Getting the Train/Test Data"
   ],
   "cell_type": "markdown",
   "metadata": {}
  },
  {
   "cell_type": "code",
   "execution_count": 57,
   "metadata": {},
   "outputs": [
    {
     "output_type": "stream",
     "name": "stdout",
     "text": [
      "Still missing the following metrics: {'WMD'}\nSize of train_data: 38313\tSize of test_data: 8623\n"
     ]
    }
   ],
   "source": [
    "X_train, X_test, y_train, y_test = model_corr.get_train_test_data(train_path = PATH_COMBINED,test_path = PATH_STS, all_metrics=metrics)"
   ]
  },
  {
   "source": [
    "### Running the baseline metric of the test dataset"
   ],
   "cell_type": "markdown",
   "metadata": {}
  },
  {
   "cell_type": "code",
   "execution_count": 58,
   "metadata": {},
   "outputs": [
    {
     "output_type": "execute_result",
     "data": {
      "text/plain": [
       "metric    BertScore\n",
       "0          0.546037\n",
       "Name: 0, dtype: object"
      ]
     },
     "metadata": {},
     "execution_count": 58
    }
   ],
   "source": [
    "#Applied absolute value - because even a high negative correlation is still a high correlation\n",
    "X_test.corrwith(y_test).apply(lambda x: abs(x)).sort_values(ascending=False).reset_index().rename(columns={'index':'metric','0':'Metric Correlation'}).iloc[0]"
   ]
  },
  {
   "source": [
    "### Checking the correlation after Linear Model (RF)"
   ],
   "cell_type": "markdown",
   "metadata": {}
  },
  {
   "cell_type": "code",
   "execution_count": 82,
   "metadata": {},
   "outputs": [
    {
     "output_type": "execute_result",
     "data": {
      "text/plain": [
       "0.4583843247320974"
      ]
     },
     "metadata": {},
     "execution_count": 82
    }
   ],
   "source": [
    "model_corr.RF_corr(X_train,X_test,y_train,y_test)"
   ]
  },
  {
   "source": [
    "## Checking the correlation after the Non-linear Model (MLP)"
   ],
   "cell_type": "markdown",
   "metadata": {}
  },
  {
   "cell_type": "code",
   "execution_count": 90,
   "metadata": {},
   "outputs": [
    {
     "output_type": "stream",
     "name": "stdout",
     "text": [
      "(8623, 1) <class 'numpy.ndarray'> <class 'pandas.core.series.Series'>\n"
     ]
    },
    {
     "output_type": "error",
     "ename": "NameError",
     "evalue": "name 'np' is not defined",
     "traceback": [
      "\u001b[0;31m---------------------------------------------------------------------------\u001b[0m",
      "\u001b[0;31mNameError\u001b[0m                                 Traceback (most recent call last)",
      "\u001b[0;32m<ipython-input-90-65c6f66e2df4>\u001b[0m in \u001b[0;36m<module>\u001b[0;34m\u001b[0m\n\u001b[0;32m----> 1\u001b[0;31m \u001b[0mmodel_corr\u001b[0m\u001b[0;34m.\u001b[0m\u001b[0mMLP_corr\u001b[0m\u001b[0;34m(\u001b[0m\u001b[0mX_train\u001b[0m\u001b[0;34m,\u001b[0m\u001b[0mX_test\u001b[0m\u001b[0;34m,\u001b[0m\u001b[0my_train\u001b[0m\u001b[0;34m,\u001b[0m\u001b[0my_test\u001b[0m\u001b[0;34m)\u001b[0m\u001b[0;34m\u001b[0m\u001b[0;34m\u001b[0m\u001b[0m\n\u001b[0m",
      "\u001b[0;32m~/workspace/GitHub/SOTA/src/model_corr.py\u001b[0m in \u001b[0;36mMLP_corr\u001b[0;34m(X_train, X_test, y_train, y_test, num_hl)\u001b[0m\n\u001b[1;32m    163\u001b[0m     \u001b[0mprint\u001b[0m\u001b[0;34m(\u001b[0m\u001b[0my_pred\u001b[0m\u001b[0;34m.\u001b[0m\u001b[0mshape\u001b[0m\u001b[0;34m,\u001b[0m \u001b[0mtype\u001b[0m\u001b[0;34m(\u001b[0m\u001b[0my_pred\u001b[0m\u001b[0;34m)\u001b[0m\u001b[0;34m,\u001b[0m \u001b[0mtype\u001b[0m\u001b[0;34m(\u001b[0m\u001b[0my_test\u001b[0m\u001b[0;34m)\u001b[0m\u001b[0;34m)\u001b[0m\u001b[0;34m\u001b[0m\u001b[0;34m\u001b[0m\u001b[0m\n\u001b[1;32m    164\u001b[0m \u001b[0;34m\u001b[0m\u001b[0m\n\u001b[0;32m--> 165\u001b[0;31m     \u001b[0;32mreturn\u001b[0m \u001b[0mpearsonr\u001b[0m\u001b[0;34m(\u001b[0m\u001b[0my_pred\u001b[0m\u001b[0;34m,\u001b[0m\u001b[0mnp\u001b[0m\u001b[0;34m.\u001b[0m\u001b[0marray\u001b[0m\u001b[0;34m(\u001b[0m\u001b[0my_test\u001b[0m\u001b[0;34m)\u001b[0m\u001b[0;34m)\u001b[0m\u001b[0;34m\u001b[0m\u001b[0;34m\u001b[0m\u001b[0m\n\u001b[0m\u001b[1;32m    166\u001b[0m \u001b[0;34m\u001b[0m\u001b[0m\n\u001b[1;32m    167\u001b[0m \u001b[0;31m##################\u001b[0m\u001b[0;34m\u001b[0m\u001b[0;34m\u001b[0m\u001b[0;34m\u001b[0m\u001b[0m\n",
      "\u001b[0;31mNameError\u001b[0m: name 'np' is not defined"
     ]
    }
   ],
   "source": [
    "model_corr.MLP_corr(X_train,X_test,y_train,y_test)"
   ]
  },
  {
   "source": [
    "## No mans land"
   ],
   "cell_type": "markdown",
   "metadata": {}
  },
  {
   "cell_type": "code",
   "execution_count": 44,
   "metadata": {},
   "outputs": [
    {
     "output_type": "execute_result",
     "data": {
      "text/plain": [
       "               bleu     bleu1   L2_score  BertScore  chrfScore  \\\n",
       "4923   0.000000e+00  0.000000  15.499923   0.891130   0.600168   \n",
       "4935   7.598357e-01  0.833333   5.734538   0.979403   0.854148   \n",
       "5138  8.388266e-155  0.400000  13.782555   0.933300   0.628259   \n",
       "5222   7.598357e-01  0.833333   5.722709   0.979403   0.854148   \n",
       "5246   7.598357e-01  0.833333   5.709502   0.979403   0.809322   \n",
       "\n",
       "      1-gram_overlap   ROUGE-1   ROUGE-2   ROUGE-l  POS Dist score  \\\n",
       "4923        0.000000  0.000000  0.000000  0.000000            -1.0   \n",
       "4935        0.500000  0.833333  0.800000  0.666667            -1.0   \n",
       "5138        0.285714  0.444444  0.285714  0.444444            -1.0   \n",
       "5222        0.500000  0.833333  0.800000  0.666667            -1.0   \n",
       "5246        0.500000  0.833333  0.800000  0.666667            -1.0   \n",
       "\n",
       "      glove_cosine  fasttext_cosine  \n",
       "4923           NaN          0.41177  \n",
       "4935           NaN          0.06732  \n",
       "5138           NaN              NaN  \n",
       "5222           NaN          0.06732  \n",
       "5246           NaN          0.06732  "
      ],
      "text/html": "<div>\n<style scoped>\n    .dataframe tbody tr th:only-of-type {\n        vertical-align: middle;\n    }\n\n    .dataframe tbody tr th {\n        vertical-align: top;\n    }\n\n    .dataframe thead th {\n        text-align: right;\n    }\n</style>\n<table border=\"1\" class=\"dataframe\">\n  <thead>\n    <tr style=\"text-align: right;\">\n      <th></th>\n      <th>bleu</th>\n      <th>bleu1</th>\n      <th>L2_score</th>\n      <th>BertScore</th>\n      <th>chrfScore</th>\n      <th>1-gram_overlap</th>\n      <th>ROUGE-1</th>\n      <th>ROUGE-2</th>\n      <th>ROUGE-l</th>\n      <th>POS Dist score</th>\n      <th>glove_cosine</th>\n      <th>fasttext_cosine</th>\n    </tr>\n  </thead>\n  <tbody>\n    <tr>\n      <th>4923</th>\n      <td>0.000000e+00</td>\n      <td>0.000000</td>\n      <td>15.499923</td>\n      <td>0.891130</td>\n      <td>0.600168</td>\n      <td>0.000000</td>\n      <td>0.000000</td>\n      <td>0.000000</td>\n      <td>0.000000</td>\n      <td>-1.0</td>\n      <td>NaN</td>\n      <td>0.41177</td>\n    </tr>\n    <tr>\n      <th>4935</th>\n      <td>7.598357e-01</td>\n      <td>0.833333</td>\n      <td>5.734538</td>\n      <td>0.979403</td>\n      <td>0.854148</td>\n      <td>0.500000</td>\n      <td>0.833333</td>\n      <td>0.800000</td>\n      <td>0.666667</td>\n      <td>-1.0</td>\n      <td>NaN</td>\n      <td>0.06732</td>\n    </tr>\n    <tr>\n      <th>5138</th>\n      <td>8.388266e-155</td>\n      <td>0.400000</td>\n      <td>13.782555</td>\n      <td>0.933300</td>\n      <td>0.628259</td>\n      <td>0.285714</td>\n      <td>0.444444</td>\n      <td>0.285714</td>\n      <td>0.444444</td>\n      <td>-1.0</td>\n      <td>NaN</td>\n      <td>NaN</td>\n    </tr>\n    <tr>\n      <th>5222</th>\n      <td>7.598357e-01</td>\n      <td>0.833333</td>\n      <td>5.722709</td>\n      <td>0.979403</td>\n      <td>0.854148</td>\n      <td>0.500000</td>\n      <td>0.833333</td>\n      <td>0.800000</td>\n      <td>0.666667</td>\n      <td>-1.0</td>\n      <td>NaN</td>\n      <td>0.06732</td>\n    </tr>\n    <tr>\n      <th>5246</th>\n      <td>7.598357e-01</td>\n      <td>0.833333</td>\n      <td>5.709502</td>\n      <td>0.979403</td>\n      <td>0.809322</td>\n      <td>0.500000</td>\n      <td>0.833333</td>\n      <td>0.800000</td>\n      <td>0.666667</td>\n      <td>-1.0</td>\n      <td>NaN</td>\n      <td>0.06732</td>\n    </tr>\n  </tbody>\n</table>\n</div>"
     },
     "metadata": {},
     "execution_count": 44
    }
   ],
   "source": [
    "X_test[X_test.glove_cosine.isna()].index"
   ]
  }
 ]
}